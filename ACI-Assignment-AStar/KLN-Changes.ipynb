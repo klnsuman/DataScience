{
 "cells": [
  {
   "cell_type": "code",
   "execution_count": 2,
   "metadata": {},
   "outputs": [],
   "source": [
    "import math\n",
    "import numpy as np"
   ]
  },
  {
   "cell_type": "markdown",
   "metadata": {},
   "source": [
    "###    Haversine Distance \n",
    "<br>\n",
    "Get the Distance between the Two points on earths surface.\n",
    "The location of point is given by latitude and longitude points.\n",
    "\n",
    "(1) Haversine formula:\n",
    "    <br>\n",
    "        a = sin²(Δφ/2) + cos φ1 * cos φ2 * sin²(Δλ/2)\n",
    "        <br>\n",
    "        c = 2 * atan2( √a, √(1−a) )\n",
    "        <br>\n",
    "        d = R * c \n",
    "        <br>\n",
    "where φ is latitude, λ is longitude, R is earth’s radius (mean radius = 6,371km);\n",
    "<br>\n",
    "note that angles need to be in radians to pass to trig functions!"
   ]
  },
  {
   "cell_type": "code",
   "execution_count": 3,
   "metadata": {},
   "outputs": [],
   "source": [
    "def haversineFunction(latitude1,longitude1,latitude2,longitude2):\n",
    "    \n",
    "    R = 6371   \n",
    "    \n",
    "    lat1_rad = math.radians(latitude1)\n",
    "    lat2_rad = math.radians(latitude2)\n",
    "    \n",
    "    lon1_rad = math.radians(longitude1)\n",
    "    lon2_rad = math.radians(longitude2)\n",
    "   \n",
    "    deltaLat = (lat2_rad - lat1_rad)\n",
    "    deltaLon = (lon2_rad - lon1_rad)\n",
    "   \n",
    "  \n",
    "    a = math.sin(deltaLat/2) * math.sin(deltaLat/2)+ math.cos(lat1_rad) * math.cos(lat2_rad) * math.sin(deltaLon/2)*math.sin(deltaLon/2)\n",
    "    c = 2 * math.atan2(math.sqrt(a),math.sqrt(1-a))\n",
    "     \n",
    "    d = R * c\n",
    "     \n",
    "    return d\n",
    "    \n",
    "    \n",
    "    "
   ]
  },
  {
   "cell_type": "markdown",
   "metadata": {},
   "source": [
    "#### Latititude and Longitudes\n",
    "<style>\n",
    "table, th, td {\n",
    "  border: 1px solid black;\n",
    "}\n",
    "</style>\n",
    "<br>\n",
    "<table style=\"width:50%\">\n",
    "  <tr>\n",
    "    <th>City</th>\n",
    "    <th>Latitude</th>\n",
    "    <th>Longutude</th>\n",
    "  </tr>\n",
    "  <tr>\n",
    "    <td>Panaji</td>\n",
    "    <td>15.4909N</td>\n",
    "    <td>73.8278E</td>\n",
    "  </tr>\n",
    "  <tr>\n",
    "    <td>Raichur</td>\n",
    "    <td>16.2076N</td>\n",
    "    <td>77.3463E</td>\n",
    "  </tr>\n",
    " <tr>\n",
    "    <td>Mangalore</td>\n",
    "    <td>12.9141N</td>\n",
    "    <td>74.8560E</td>\n",
    "  </tr>\n",
    " <tr>\n",
    "    <td>Bellari</td>\n",
    "    <td>15.1394N</td>\n",
    "    <td>76.9214E</td>\n",
    "  </tr>\n",
    " <tr>\n",
    "    <td>Tirupati</td>\n",
    "    <td>13.6288N</td>\n",
    "    <td>79.4192E</td>\n",
    "  </tr>\n",
    " <tr>\n",
    "    <td>Kurnool</td>\n",
    "    <td>15.8281N</td>\n",
    "    <td>78.0373E</td>\n",
    "  </tr> \n",
    "  <tr>\n",
    "    <td>Kozhikode</td>\n",
    "    <td>11.2588N</td>\n",
    "    <td>75.7804E</td>\n",
    "  </tr>\n",
    " <tr>\n",
    "    <td>Banglore</td>\n",
    "    <td>12.9716N</td>\n",
    "    <td>77.5946E</td>\n",
    "  </tr>\n",
    " <tr>\n",
    "    <td>Nellore</td>\n",
    "    <td>14.4426N</td>\n",
    "    <td>79.9865E</td>\n",
    "  </tr>\n",
    " <tr>\n",
    "    <td>Chennai</td>\n",
    "    <td>13.0827N</td>\n",
    "    <td>82.2707E</td>\n",
    "  </tr>\n",
    "</table> "
   ]
  },
  {
   "cell_type": "code",
   "execution_count": 4,
   "metadata": {},
   "outputs": [
    {
     "data": {
      "text/plain": [
       "744.0351557019156"
      ]
     },
     "execution_count": 4,
     "metadata": {},
     "output_type": "execute_result"
    }
   ],
   "source": [
    "haversineFunction(15.4909,73.8278,13.0827,80.2707)"
   ]
  },
  {
   "cell_type": "code",
   "execution_count": 5,
   "metadata": {},
   "outputs": [],
   "source": [
    "cities = {0 : {'name':'Panaji'      ,'latitude':15.4909,'longitude':73.8278},\n",
    "          1 : {'name':'Raichur'     ,'latitude':16.2076,'longitude':77.3463},\n",
    "          2 : {'name':'Mangalore'   ,'latitude':12.9141,'longitude':74.8560},\n",
    "          3 : {'name':'Bellari'     ,'latitude':15.1394,'longitude':76.9214},\n",
    "          4 : {'name':'Tirupati'    ,'latitude':13.6288,'longitude':79.4192},\n",
    "          5 : {'name':'Kurnool'     ,'latitude':15.8281,'longitude':78.0373},\n",
    "          6 : {'name':'Kozhikode'   ,'latitude':11.2588,'longitude':75.7804},\n",
    "          7 : {'name':'Bangalore'   ,'latitude':12.9716,'longitude':77.5946},\n",
    "          8 : {'name':'Nellore'     ,'latitude':14.4426,'longitude':79.9865},\n",
    "          9 : {'name':'Chennai'     ,'latitude':13.0827,'longitude':80.2707}\n",
    "         }"
   ]
  },
  {
   "cell_type": "code",
   "execution_count": 6,
   "metadata": {},
   "outputs": [
    {
     "name": "stdout",
     "output_type": "stream",
     "text": [
      "{0: {'name': 'Panaji', 'latitude': 15.4909, 'longitude': 73.8278}, 1: {'name': 'Raichur', 'latitude': 16.2076, 'longitude': 77.3463}, 2: {'name': 'Mangalore', 'latitude': 12.9141, 'longitude': 74.856}, 3: {'name': 'Bellari', 'latitude': 15.1394, 'longitude': 76.9214}, 4: {'name': 'Tirupati', 'latitude': 13.6288, 'longitude': 79.4192}, 5: {'name': 'Kurnool', 'latitude': 15.8281, 'longitude': 78.0373}, 6: {'name': 'Kozhikode', 'latitude': 11.2588, 'longitude': 75.7804}, 7: {'name': 'Bangalore', 'latitude': 12.9716, 'longitude': 77.5946}, 8: {'name': 'Nellore', 'latitude': 14.4426, 'longitude': 79.9865}, 9: {'name': 'Chennai', 'latitude': 13.0827, 'longitude': 80.2707}}\n"
     ]
    }
   ],
   "source": [
    "print(cities)"
   ]
  },
  {
   "cell_type": "code",
   "execution_count": 7,
   "metadata": {},
   "outputs": [],
   "source": [
    "dest_lat,dest_lon = cities[9]['latitude'],cities[9]['longitude']\n",
    "\n",
    "for i in range(10):\n",
    "    source_lat,source_lon = cities[i]['latitude'],cities[i]['longitude']\n",
    "    cities[i]['heuristic_cost'] = haversineFunction(source_lat,source_lon,dest_lat,dest_lon)\n",
    "    "
   ]
  },
  {
   "cell_type": "code",
   "execution_count": 8,
   "metadata": {},
   "outputs": [
    {
     "name": "stdout",
     "output_type": "stream",
     "text": [
      "{0: {'name': 'Panaji', 'latitude': 15.4909, 'longitude': 73.8278, 'heuristic_cost': 744.0351557019156}, 1: {'name': 'Raichur', 'latitude': 16.2076, 'longitude': 77.3463, 'heuristic_cost': 468.7090788152219}, 2: {'name': 'Mangalore', 'latitude': 12.9141, 'longitude': 74.856, 'heuristic_cost': 586.9476757845566}, 3: {'name': 'Bellari', 'latitude': 15.1394, 'longitude': 76.9214, 'heuristic_cost': 427.4793247479098}, 4: {'name': 'Tirupati', 'latitude': 13.6288, 'longitude': 79.4192, 'heuristic_cost': 110.33441493944744}, 5: {'name': 'Kurnool', 'latitude': 15.8281, 'longitude': 78.0373, 'heuristic_cost': 388.599828847867}, 6: {'name': 'Kozhikode', 'latitude': 11.2588, 'longitude': 75.7804, 'heuristic_cost': 528.508520052874}, 7: {'name': 'Bangalore', 'latitude': 12.9716, 'longitude': 77.5946, 'heuristic_cost': 290.1720249530604}, 8: {'name': 'Nellore', 'latitude': 14.4426, 'longitude': 79.9865, 'heuristic_cost': 154.2976211368278}, 9: {'name': 'Chennai', 'latitude': 13.0827, 'longitude': 80.2707, 'heuristic_cost': 0.0}}\n"
     ]
    }
   ],
   "source": [
    "print(cities)"
   ]
  },
  {
   "cell_type": "code",
   "execution_count": 9,
   "metadata": {},
   "outputs": [],
   "source": [
    " adjacency_matrix = np.zeros([10, 10],dtype=int)"
   ]
  },
  {
   "cell_type": "code",
   "execution_count": 10,
   "metadata": {},
   "outputs": [
    {
     "name": "stdout",
     "output_type": "stream",
     "text": [
      "[[0 0 0 0 0 0 0 0 0 0]\n",
      " [0 0 0 0 0 0 0 0 0 0]\n",
      " [0 0 0 0 0 0 0 0 0 0]\n",
      " [0 0 0 0 0 0 0 0 0 0]\n",
      " [0 0 0 0 0 0 0 0 0 0]\n",
      " [0 0 0 0 0 0 0 0 0 0]\n",
      " [0 0 0 0 0 0 0 0 0 0]\n",
      " [0 0 0 0 0 0 0 0 0 0]\n",
      " [0 0 0 0 0 0 0 0 0 0]\n",
      " [0 0 0 0 0 0 0 0 0 0]]\n"
     ]
    }
   ],
   "source": [
    "print(adjacency_matrix)"
   ]
  },
  {
   "cell_type": "code",
   "execution_count": 11,
   "metadata": {},
   "outputs": [
    {
     "name": "stdout",
     "output_type": "stream",
     "text": [
      "0\n"
     ]
    }
   ],
   "source": [
    "print(adjacency_matrix[0][0])"
   ]
  },
  {
   "cell_type": "code",
   "execution_count": 12,
   "metadata": {},
   "outputs": [],
   "source": [
    "def create_route_graph(vertex_a,vertex_b,cost,cities):\n",
    "    for city_idx, city_info in cities.items():\n",
    "        if(cities[city_idx]['name'] == vertex_a):\n",
    "            source_idx = city_idx\n",
    "        if(cities[city_idx]['name'] == vertex_b):\n",
    "            dest_idx = city_idx    \n",
    "    \n",
    "    adjacency_matrix[source_idx][dest_idx] = cost\n",
    "    adjacency_matrix[dest_idx][source_idx] = cost\n",
    "    "
   ]
  },
  {
   "cell_type": "markdown",
   "metadata": {},
   "source": [
    "### --------------------------------------------------------------------------\n",
    "    Create Graph using dictionary\n",
    "    <br>\n",
    "    Create Routes with Costs \n",
    "    <br>\n",
    "    Create and Populate the Adjacency Matric with Costs between cities\n",
    "### --------------------------------------------------------------------------"
   ]
  },
  {
   "cell_type": "code",
   "execution_count": 13,
   "metadata": {},
   "outputs": [],
   "source": [
    "create_route_graph('Panaji','Mangalore',365,cities)\n",
    "create_route_graph('Panaji','Raichur',457,cities)\n",
    "create_route_graph('Panaji','Bellari',409,cities)\n",
    "create_route_graph('Raichur','Tirupati',453,cities)\n",
    "create_route_graph('Raichur','Kurnool',100,cities)\n",
    "create_route_graph('Tirupati','Bellari',379,cities)\n",
    "create_route_graph('Tirupati','Kurnool',340,cities)\n",
    "create_route_graph('Tirupati','Nellore',136,cities)\n",
    "create_route_graph('Tirupati','Chennai',153,cities)\n",
    "create_route_graph('Kurnool','Nellore',325,cities)\n",
    "create_route_graph('Bellari','Bangalore',311,cities)\n",
    "create_route_graph('Bangalore','Mangalore',352,cities)\n",
    "create_route_graph('Bangalore','Kozhikode',356,cities)\n",
    "create_route_graph('Chennai','Bangalore',346,cities)\n",
    "create_route_graph('Nellore','Chennai',175,cities)\n",
    "create_route_graph('Mangalore','Kozhikode',233,cities)"
   ]
  },
  {
   "cell_type": "code",
   "execution_count": 14,
   "metadata": {
    "scrolled": true
   },
   "outputs": [
    {
     "name": "stdout",
     "output_type": "stream",
     "text": [
      "[[  0 457 365 409   0   0   0   0   0   0]\n",
      " [457   0   0   0 453 100   0   0   0   0]\n",
      " [365   0   0   0   0   0 233 352   0   0]\n",
      " [409   0   0   0 379   0   0 311   0   0]\n",
      " [  0 453   0 379   0 340   0   0 136 153]\n",
      " [  0 100   0   0 340   0   0   0 325   0]\n",
      " [  0   0 233   0   0   0   0 356   0   0]\n",
      " [  0   0 352 311   0   0 356   0   0 346]\n",
      " [  0   0   0   0 136 325   0   0   0 175]\n",
      " [  0   0   0   0 153   0   0 346 175   0]]\n"
     ]
    }
   ],
   "source": [
    "print(adjacency_matrix)"
   ]
  },
  {
   "cell_type": "markdown",
   "metadata": {},
   "source": [
    "###  ----------------------------------------------------------------------------------------\n",
    "<br>\n",
    "Using Prority Queue to sort the cities based on Evaluation Function.\n",
    "<br>\n",
    "Evaluation_Function = Cost_to_reach_the_node + Heristic_function_cost_Haversine_Cost_function\n",
    "<br>\n",
    "Create class to Hold the PriorityQueue Based on the Evaluation Function\n",
    "<br>\n",
    "__lt__ is a construction which overrides the \"<\". \n",
    "<br>\n",
    "When \"<\" is used to compare , the EvaluationFunction Values are compared.\n",
    "<br>\n",
    "\n",
    "###  ----------------------------------------------------------------------------------------"
   ]
  },
  {
   "cell_type": "code",
   "execution_count": 15,
   "metadata": {},
   "outputs": [],
   "source": [
    "class PriorityQueue:\n",
    "    class _city_eval_item:\n",
    "        def __init__(self,cityName,evalFunctionCost):\n",
    "            self._cityName = cityName\n",
    "            self._evalFunctionCost = evalFunctionCost\n",
    "        def __lt__(self,other):\n",
    "            #print(\"Base self._cityName->\",self._cityName)\n",
    "            #print(\"Base self._evalFunctionCost->\",self._evalFunctionCost)\n",
    "            #print(\"Base other._cityName->\",other._cityName)\n",
    "            #print(\"Base other._evalFunctionCost->\",other._evalFunctionCost)\n",
    "            return self._evalFunctionCost < other._evalFunctionCost\n",
    "    \n",
    "    def add(self,cityName,evalFunctionCost):\n",
    "        return NotImplementedError(\"Must be Implemented by subclass\")\n",
    "    \n",
    "    def isEmpty(self):\n",
    "        return len(self) == 0\n",
    "    \n",
    "    def __len__(self):\n",
    "        return NotImplementedError(\"Must be Implemented by subclass\")\n",
    "    \n",
    "    def min(self):\n",
    "        return NotImplementedError(\"Must be Implemented by subclass\")\n",
    "    \n",
    "    def remove_min(self):\n",
    "        return NotImplementedError(\"Must be Implemented by subclass\")\n",
    "    "
   ]
  },
  {
   "cell_type": "markdown",
   "metadata": {},
   "source": [
    "### -------------------------------------------------------------------\n",
    "\n",
    "Create a HeapSort , which sorts based on the Evaluation Function\n",
    "    \n",
    "### -------------------------------------------------------------------"
   ]
  },
  {
   "cell_type": "code",
   "execution_count": 16,
   "metadata": {},
   "outputs": [],
   "source": [
    "class HeapSort(PriorityQueue):\n",
    " \n",
    "    # ---------------- Private Methods -----------------------\n",
    "    def _parent(self,j):\n",
    "        #print(\"j=>\",j,\"parent=>\",(j-1)//2)\n",
    "        return (j-1)//2\n",
    "    \n",
    "    def _left(self,j):\n",
    "        return 2*j + 1\n",
    "    \n",
    "    def _right(self,j):\n",
    "        return 2*j + 2\n",
    "    \n",
    "    def _hasleft(self,j):\n",
    "        return self._left(j) < len(self._array)\n",
    "    \n",
    "    def _hasright(self,j):\n",
    "        return self._right(j) < len(self._array)\n",
    "    \n",
    "    def _swap(self,i,j):\n",
    "        #print(\"Swap \",i,\" with \",j)\n",
    "        self._array[i], self._array[j] = self._array[j], self._array[i]\n",
    "    \n",
    "    def _upheap(self,j):\n",
    "        \n",
    "        parent = self._parent(j)\n",
    "        if(j>0 and self._array[j] < self._array[parent]):\n",
    "            self._swap(j,parent)\n",
    "            self._upheap(parent)\n",
    "    \n",
    "    def _downheap(self,j):\n",
    "        \n",
    "        if self._hasleft(j):\n",
    "            left = self._left(j)\n",
    "            small = left\n",
    "           \n",
    "            if(self._hasright(j)):\n",
    "                right = self._right(j)\n",
    "                if(self._array[right] < self._array[left]):\n",
    "                    small = right\n",
    "                   \n",
    "            if(self._array[small] < self._array[j]):\n",
    "               \n",
    "                #print(\"j\",j,small) \n",
    "                self._swap(j,small) \n",
    "                self._downheap(small)\n",
    "\n",
    "\n",
    "    \n",
    "    # ---------------- Private Methods -----------------------   \n",
    "    def __init__(self):\n",
    "        self._array = []\n",
    "    \n",
    "    \n",
    "    def __len__(self):\n",
    "        return len(self._array)\n",
    "    \n",
    "    def add(self,key,value):\n",
    "        self._array.append(self._city_eval_item(key,value))\n",
    "        self._upheap(len(self._array)-1)\n",
    "        \n",
    "    def getMin(self):\n",
    "        \n",
    "        if self.isEmpty():\n",
    "            raise NotImplementedError('The Array is Empty ')\n",
    "        item = self._array[0]     \n",
    "        return (item._cityName,item._evalFunctionCost)\n",
    "\n",
    "   \n",
    "    def extractMin(self):\n",
    "        \n",
    "        if(len(self._array) == 0):\n",
    "            return NotImplementedError('The Array is Empty')\n",
    "        \n",
    "        self._swap(0,len(self._array)-1)\n",
    "        item = self._array.pop()\n",
    "        self._downheap(0)\n",
    "        return (item._cityName,item._evalFunctionCost)\n",
    "    \n",
    "    def print(self):\n",
    "        print(\"len(self._array)=>\",len(self._array))\n",
    "        for i in range(len(self._array)):\n",
    "            item = self._array[i]  \n",
    "            print(item._cityName,item._evalFunctionCost)   "
   ]
  },
  {
   "cell_type": "code",
   "execution_count": 17,
   "metadata": {},
   "outputs": [
    {
     "name": "stdout",
     "output_type": "stream",
     "text": [
      "{0: {'name': 'Panaji', 'latitude': 15.4909, 'longitude': 73.8278, 'heuristic_cost': 744.0351557019156}, 1: {'name': 'Raichur', 'latitude': 16.2076, 'longitude': 77.3463, 'heuristic_cost': 468.7090788152219}, 2: {'name': 'Mangalore', 'latitude': 12.9141, 'longitude': 74.856, 'heuristic_cost': 586.9476757845566}, 3: {'name': 'Bellari', 'latitude': 15.1394, 'longitude': 76.9214, 'heuristic_cost': 427.4793247479098}, 4: {'name': 'Tirupati', 'latitude': 13.6288, 'longitude': 79.4192, 'heuristic_cost': 110.33441493944744}, 5: {'name': 'Kurnool', 'latitude': 15.8281, 'longitude': 78.0373, 'heuristic_cost': 388.599828847867}, 6: {'name': 'Kozhikode', 'latitude': 11.2588, 'longitude': 75.7804, 'heuristic_cost': 528.508520052874}, 7: {'name': 'Bangalore', 'latitude': 12.9716, 'longitude': 77.5946, 'heuristic_cost': 290.1720249530604}, 8: {'name': 'Nellore', 'latitude': 14.4426, 'longitude': 79.9865, 'heuristic_cost': 154.2976211368278}, 9: {'name': 'Chennai', 'latitude': 13.0827, 'longitude': 80.2707, 'heuristic_cost': 0.0}}\n"
     ]
    }
   ],
   "source": [
    "print(cities)"
   ]
  },
  {
   "cell_type": "code",
   "execution_count": 19,
   "metadata": {},
   "outputs": [],
   "source": [
    "hs = HeapSort()\n"
   ]
  },
  {
   "cell_type": "code",
   "execution_count": 20,
   "metadata": {},
   "outputs": [
    {
     "name": "stdout",
     "output_type": "stream",
     "text": [
      "[[  0 457 365 409   0   0   0   0   0   0]\n",
      " [457   0   0   0 453 100   0   0   0   0]\n",
      " [365   0   0   0   0   0 233 352   0   0]\n",
      " [409   0   0   0 379   0   0 311   0   0]\n",
      " [  0 453   0 379   0 340   0   0 136 153]\n",
      " [  0 100   0   0 340   0   0   0 325   0]\n",
      " [  0   0 233   0   0   0   0 356   0   0]\n",
      " [  0   0 352 311   0   0 356   0   0 346]\n",
      " [  0   0   0   0 136 325   0   0   0 175]\n",
      " [  0   0   0   0 153   0   0 346 175   0]]\n"
     ]
    }
   ],
   "source": [
    "print(adjacency_matrix)"
   ]
  },
  {
   "cell_type": "code",
   "execution_count": 21,
   "metadata": {},
   "outputs": [
    {
     "name": "stdout",
     "output_type": "stream",
     "text": [
      "len(self._array)=> 0\n",
      "None\n"
     ]
    }
   ],
   "source": [
    "print(hs.print())"
   ]
  },
  {
   "cell_type": "code",
   "execution_count": 31,
   "metadata": {},
   "outputs": [
    {
     "name": "stdout",
     "output_type": "stream",
     "text": [
      "len(self._array)=> 3\n",
      "3 836.4793247479098\n",
      "2 951.9476757845566\n",
      "1 925.7090788152219\n",
      "None\n",
      "Min 3 836.4793247479098\n",
      "len(self._array)=> 4\n",
      "4 489.33441493944747\n",
      "7 601.1720249530604\n",
      "1 925.7090788152219\n",
      "2 951.9476757845566\n",
      "None\n",
      "Min 4 489.33441493944747\n",
      "len(self._array)=> 6\n",
      "9 153.0\n",
      "7 601.1720249530604\n",
      "8 290.2976211368278\n",
      "2 951.9476757845566\n",
      "5 728.599828847867\n",
      "1 925.7090788152219\n",
      "None\n",
      "Min 9 153.0\n",
      "{0: {'name': 'Panaji', 'cost': 744.0351557019156}, 3: {'name': 'Bellari', 'cost': 836.4793247479098}, 4: {'name': 'Tirupati', 'cost': 601.1720249530604}, 9: {'name': 'Chennai', 'cost': 153.0}}\n",
      "op_route [0 3 4 9 0 0 0 0 0 0]  j 4\n",
      "Panaji 744.0351557019156->Bellari 427.4793247479098->Tirupati 110.33441493944744->Chennai 0.0->path: {0: {'city': 'Panaji', 'cost': 744.0351557019156}}\n"
     ]
    }
   ],
   "source": [
    "start_idx = 0\n",
    "op_route = np.zeros([10],dtype=int)\n",
    "i=0\n",
    "j=0\n",
    "path = {0 :{'city':cities[0]['name'],'cost':cities[0]['heuristic_cost']+0}}\n",
    "running_cost = 0\n",
    "frontier = {}\n",
    "frontier[0] = {}\n",
    "frontier[0]['name'] = 'Panaji'\n",
    "frontier[0]['cost'] = 0 + cities[0]['heuristic_cost']\n",
    "CLOSED_LIST = 0\n",
    "op_route[0] = 0\n",
    "j=j+1\n",
    "while (start_idx <=9 ):\n",
    "    i = start_idx\n",
    "    if(start_idx < 9):\n",
    "        while (i<=9):\n",
    "            route_cost = adjacency_matrix[start_idx][i] \n",
    "            if(route_cost>0):\n",
    "                evalCost = route_cost + cities[i]['heuristic_cost']\n",
    "                #print(evalCost)\n",
    "                hs.add(i,evalCost)\n",
    "               \n",
    "                \n",
    "            i = i+1\n",
    "       \n",
    "        print(hs.print())\n",
    "        if(len(hs)<=0):\n",
    "            start_idx = 10\n",
    "        else:\n",
    "            item = hs.extractMin()   \n",
    "            print(\"Min\",item[0] , item[1])\n",
    "            op_route[j]= item[0]\n",
    "            k = item[0]\n",
    "            frontier[k] = {}\n",
    "            frontier[k]['name'] = cities[k]['name']\n",
    "            frontier[k]['cost'] = evalCost\n",
    "            j=j+1\n",
    "            start_idx = item[0]\n",
    "    else:\n",
    "        start_idx = 10\n",
    "print(frontier)\n",
    "print(\"op_route\",op_route,\" j\",j)\n",
    "for i in range(j):\n",
    "    k = op_route[i]\n",
    "    print(cities[k]['name'],cities[k]['heuristic_cost'],end=\"->\")\n",
    "print(\"path:\",path)\n",
    "hs  = HeapSort()"
   ]
  },
  {
   "cell_type": "code",
   "execution_count": null,
   "metadata": {},
   "outputs": [],
   "source": [
    "hs.print()"
   ]
  },
  {
   "cell_type": "code",
   "execution_count": null,
   "metadata": {},
   "outputs": [],
   "source": []
  }
 ],
 "metadata": {
  "kernelspec": {
   "display_name": "Python 3",
   "language": "python",
   "name": "python3"
  },
  "language_info": {
   "codemirror_mode": {
    "name": "ipython",
    "version": 3
   },
   "file_extension": ".py",
   "mimetype": "text/x-python",
   "name": "python",
   "nbconvert_exporter": "python",
   "pygments_lexer": "ipython3",
   "version": "3.7.1"
  }
 },
 "nbformat": 4,
 "nbformat_minor": 2
}
