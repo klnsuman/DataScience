{
 "cells": [
  {
   "cell_type": "code",
   "execution_count": 55,
   "metadata": {},
   "outputs": [],
   "source": [
    "import math\n",
    "import numpy as np"
   ]
  },
  {
   "cell_type": "markdown",
   "metadata": {},
   "source": [
    "###    Haversine Distance \n",
    "<br>\n",
    "Get the Distance between the Two points on earths surface.\n",
    "The location of point is given by latitude and longitude points.\n",
    "\n",
    "(1) Haversine formula:\n",
    "    <br>\n",
    "        a = sin²(Δφ/2) + cos φ1 * cos φ2 * sin²(Δλ/2)\n",
    "        <br>\n",
    "        c = 2 * atan2( √a, √(1−a) )\n",
    "        <br>\n",
    "        d = R * c \n",
    "        <br>\n",
    "where φ is latitude, λ is longitude, R is earth’s radius (mean radius = 6,371km);\n",
    "<br>\n",
    "note that angles need to be in radians to pass to trig functions!"
   ]
  },
  {
   "cell_type": "code",
   "execution_count": 56,
   "metadata": {},
   "outputs": [],
   "source": [
    "def haversineFunction(latitude1,longitude1,latitude2,longitude2):\n",
    "    \n",
    "    R = 6371e3   ## Metres\n",
    "    \n",
    "    lat1_rad = math.radians(latitude1)\n",
    "    lat2_rad = math.radians(latitude2)\n",
    "    \n",
    "    lon1_rad = math.radians(longitude1)\n",
    "    lon2_rad = math.radians(longitude2)\n",
    "    \n",
    "    deltaLat = math.radians(lat2_rad - lat1_rad)\n",
    "    deltaLon = math.radians(lon2_rad - lon2_rad)\n",
    "     \n",
    "    a = math.sin(deltaLat/2) * math.sin(deltaLat/2)+ math.cos(lat1_rad) * math.cos(lat2_rad) * math.sin(deltaLon/2)*math.sin(deltaLon/2)\n",
    "    c = 2 * math.atan2(math.sqrt(a),math.sqrt(1-a))\n",
    "    \n",
    "    d = R * c\n",
    "    \n",
    "    print(d)\n",
    "    \n",
    "    return d\n",
    "    \n",
    "    \n",
    "    "
   ]
  },
  {
   "cell_type": "markdown",
   "metadata": {},
   "source": [
    "#### Latititude and Longitudes\n",
    "<style>\n",
    "table, th, td {\n",
    "  border: 1px solid black;\n",
    "}\n",
    "</style>\n",
    "<br>\n",
    "<table style=\"width:50%\">\n",
    "  <tr>\n",
    "    <th>City</th>\n",
    "    <th>Latitude</th>\n",
    "    <th>Longutude</th>\n",
    "  </tr>\n",
    "  <tr>\n",
    "    <td>Panaji</td>\n",
    "    <td>15.4909N</td>\n",
    "    <td>73.8278E</td>\n",
    "  </tr>\n",
    "  <tr>\n",
    "    <td>Raichur</td>\n",
    "    <td>16.2076N</td>\n",
    "    <td>77.3463E</td>\n",
    "  </tr>\n",
    " <tr>\n",
    "    <td>Mangalore</td>\n",
    "    <td>12.9141N</td>\n",
    "    <td>74.8560E</td>\n",
    "  </tr>\n",
    " <tr>\n",
    "    <td>Bellari</td>\n",
    "    <td>15.1394N</td>\n",
    "    <td>76.9214E</td>\n",
    "  </tr>\n",
    " <tr>\n",
    "    <td>Tirupati</td>\n",
    "    <td>13.6288N</td>\n",
    "    <td>79.4192E</td>\n",
    "  </tr>\n",
    " <tr>\n",
    "    <td>Kurnool</td>\n",
    "    <td>15.8281N</td>\n",
    "    <td>78.0373E</td>\n",
    "  </tr> \n",
    "  <tr>\n",
    "    <td>Kozhikode</td>\n",
    "    <td>11.2588N</td>\n",
    "    <td>75.7804E</td>\n",
    "  </tr>\n",
    " <tr>\n",
    "    <td>Banglore</td>\n",
    "    <td>12.9716N</td>\n",
    "    <td>77.5946E</td>\n",
    "  </tr>\n",
    " <tr>\n",
    "    <td>Nellore</td>\n",
    "    <td>14.4426N</td>\n",
    "    <td>79.9865E</td>\n",
    "  </tr>\n",
    " <tr>\n",
    "    <td>Chennai</td>\n",
    "    <td>13.0827N</td>\n",
    "    <td>82.2707E</td>\n",
    "  </tr>\n",
    "</table> "
   ]
  },
  {
   "cell_type": "code",
   "execution_count": 57,
   "metadata": {},
   "outputs": [
    {
     "name": "stdout",
     "output_type": "stream",
     "text": [
      "4673.636079674668\n"
     ]
    },
    {
     "data": {
      "text/plain": [
       "4673.636079674668"
      ]
     },
     "execution_count": 57,
     "metadata": {},
     "output_type": "execute_result"
    }
   ],
   "source": [
    "haversineFunction(15.4909,73.8278,13.0827,80.2707)"
   ]
  },
  {
   "cell_type": "code",
   "execution_count": 78,
   "metadata": {},
   "outputs": [],
   "source": [
    "cities = {0 : {'name':'Panaji'      ,'latitude':15.4909,'longitude':73.8278},\n",
    "          1 : {'name':'Raichur'     ,'latitude':16.2076,'longitude':77.3463},\n",
    "          2 : {'name':'Mangalore'   ,'latitude':12.9141,'longitude':74.8560},\n",
    "          3 : {'name':'Bellari'     ,'latitude':15.1394,'longitude':76.9214},\n",
    "          4 : {'name':'Tirupati'    ,'latitude':13.6288,'longitude':79.4192},\n",
    "          5 : {'name':'Kurnool'     ,'latitude':15.8281,'longitude':78.0373},\n",
    "          6 : {'name':'Kozhikode'   ,'latitude':11.2588,'longitude':75.7804},\n",
    "          7 : {'name':'Bangalore'   ,'latitude':12.9716,'longitude':77.5946},\n",
    "          8 : {'name':'Nellore'     ,'latitude':14.4426,'longitude':79.9865},\n",
    "          9 : {'name':'Chennai'     ,'latitude':13.0827,'longitude':82.2707}\n",
    "         }"
   ]
  },
  {
   "cell_type": "code",
   "execution_count": 79,
   "metadata": {},
   "outputs": [
    {
     "name": "stdout",
     "output_type": "stream",
     "text": [
      "{0: {'name': 'Panaji', 'latitude': 15.4909, 'longitude': 73.8278}, 1: {'name': 'Raichur', 'latitude': 16.2076, 'longitude': 77.3463}, 2: {'name': 'Mangalore', 'latitude': 12.9141, 'longitude': 74.856}, 3: {'name': 'Bellari', 'latitude': 15.1394, 'longitude': 76.9214}, 4: {'name': 'Tirupati', 'latitude': 13.6288, 'longitude': 79.4192}, 5: {'name': 'Kurnool', 'latitude': 15.8281, 'longitude': 78.0373}, 6: {'name': 'Kozhikode', 'latitude': 11.2588, 'longitude': 75.7804}, 7: {'name': 'Bangalore', 'latitude': 12.9716, 'longitude': 77.5946}, 8: {'name': 'Nellore', 'latitude': 14.4426, 'longitude': 79.9865}, 9: {'name': 'Chennai', 'latitude': 13.0827, 'longitude': 82.2707}}\n"
     ]
    }
   ],
   "source": [
    "print(cities)"
   ]
  },
  {
   "cell_type": "code",
   "execution_count": 84,
   "metadata": {},
   "outputs": [
    {
     "name": "stdout",
     "output_type": "stream",
     "text": [
      "4673.636079674668\n",
      "6064.548370307855\n",
      "327.2049842343463\n",
      "3991.4738497910853\n",
      "1059.825871235917\n",
      "5328.046048143355\n",
      "3539.674796826936\n",
      "215.61372330032958\n",
      "2639.181839028975\n",
      "0.0\n"
     ]
    }
   ],
   "source": [
    "dest_lat,dest_lon = cities[9]['latitude'],cities[9]['longitude']\n",
    "\n",
    "for i in range(10):\n",
    "    source_lat,source_lon = cities[i]['latitude'],cities[i]['longitude']\n",
    "    cities[i]['heuristic_cost'] = haversineFunction(source_lat,source_lon,dest_lat,dest_lon)\n",
    "    "
   ]
  },
  {
   "cell_type": "code",
   "execution_count": 85,
   "metadata": {},
   "outputs": [
    {
     "name": "stdout",
     "output_type": "stream",
     "text": [
      "{0: {'name': 'Panaji', 'latitude': 15.4909, 'longitude': 73.8278, 'heuristic_cost': 4673.636079674668}, 1: {'name': 'Raichur', 'latitude': 16.2076, 'longitude': 77.3463, 'heuristic_cost': 6064.548370307855}, 2: {'name': 'Mangalore', 'latitude': 12.9141, 'longitude': 74.856, 'heuristic_cost': 327.2049842343463}, 3: {'name': 'Bellari', 'latitude': 15.1394, 'longitude': 76.9214, 'heuristic_cost': 3991.4738497910853}, 4: {'name': 'Tirupati', 'latitude': 13.6288, 'longitude': 79.4192, 'heuristic_cost': 1059.825871235917}, 5: {'name': 'Kurnool', 'latitude': 15.8281, 'longitude': 78.0373, 'heuristic_cost': 5328.046048143355}, 6: {'name': 'Kozhikode', 'latitude': 11.2588, 'longitude': 75.7804, 'heuristic_cost': 3539.674796826936}, 7: {'name': 'Bangalore', 'latitude': 12.9716, 'longitude': 77.5946, 'heuristic_cost': 215.61372330032958}, 8: {'name': 'Nellore', 'latitude': 14.4426, 'longitude': 79.9865, 'heuristic_cost': 2639.181839028975}, 9: {'name': 'Chennai', 'latitude': 13.0827, 'longitude': 82.2707, 'heuristic_cost': 0.0}}\n"
     ]
    }
   ],
   "source": [
    "print(cities)"
   ]
  },
  {
   "cell_type": "code",
   "execution_count": 86,
   "metadata": {},
   "outputs": [],
   "source": [
    " adjacency_matrix = np.zeros([10, 10],dtype=int)"
   ]
  },
  {
   "cell_type": "code",
   "execution_count": 87,
   "metadata": {},
   "outputs": [
    {
     "name": "stdout",
     "output_type": "stream",
     "text": [
      "[[0 0 0 0 0 0 0 0 0 0]\n",
      " [0 0 0 0 0 0 0 0 0 0]\n",
      " [0 0 0 0 0 0 0 0 0 0]\n",
      " [0 0 0 0 0 0 0 0 0 0]\n",
      " [0 0 0 0 0 0 0 0 0 0]\n",
      " [0 0 0 0 0 0 0 0 0 0]\n",
      " [0 0 0 0 0 0 0 0 0 0]\n",
      " [0 0 0 0 0 0 0 0 0 0]\n",
      " [0 0 0 0 0 0 0 0 0 0]\n",
      " [0 0 0 0 0 0 0 0 0 0]]\n"
     ]
    }
   ],
   "source": [
    "print(adjacency_matrix)"
   ]
  },
  {
   "cell_type": "code",
   "execution_count": 88,
   "metadata": {},
   "outputs": [
    {
     "name": "stdout",
     "output_type": "stream",
     "text": [
      "0\n"
     ]
    }
   ],
   "source": [
    "print(adjacency_matrix[0][0])"
   ]
  },
  {
   "cell_type": "code",
   "execution_count": 89,
   "metadata": {},
   "outputs": [],
   "source": [
    "def create_route_graph(vertex_a,vertex_b,cost,cities):\n",
    "    for city_idx, city_info in cities.items():\n",
    "        if(cities[city_idx]['name'] == vertex_a):\n",
    "            source_idx = city_idx\n",
    "        if(cities[city_idx]['name'] == vertex_b):\n",
    "            dest_idx = city_idx    \n",
    "    \n",
    "    adjacency_matrix[source_idx][dest_idx] = cost\n",
    "    adjacency_matrix[dest_idx][source_idx] = cost\n",
    "    "
   ]
  },
  {
   "cell_type": "code",
   "execution_count": 92,
   "metadata": {},
   "outputs": [],
   "source": [
    "create_route_graph('Panaji','Mangalore',365,cities)\n",
    "create_route_graph('Panaji','Raichur',457,cities)\n",
    "create_route_graph('Panaji','Bellari',409,cities)\n",
    "create_route_graph('Raichur','Tirupati',453,cities)\n",
    "create_route_graph('Raichur','Kurnool',100,cities)\n",
    "create_route_graph('Tirupati','Bellari',379,cities)\n",
    "create_route_graph('Tirupati','Kurnool',340,cities)\n",
    "create_route_graph('Tirupati','Nellore',136,cities)\n",
    "create_route_graph('Tirupati','Chennai',153,cities)\n",
    "create_route_graph('Kurnool','Nellore',325,cities)\n",
    "create_route_graph('Bellari','Bangalore',311,cities)\n",
    "create_route_graph('Bangalore','Mangalore',352,cities)\n",
    "create_route_graph('Bangalore','Kozhikode',356,cities)\n",
    "create_route_graph('Chennai','Bangalore',346,cities)\n",
    "create_route_graph('Nellore','Chennai',175,cities)\n",
    "create_route_graph('Mangalore','Kozhikode',233,cities)"
   ]
  },
  {
   "cell_type": "code",
   "execution_count": 93,
   "metadata": {},
   "outputs": [
    {
     "name": "stdout",
     "output_type": "stream",
     "text": [
      "[[  0 457 365 409   0   0   0   0   0   0]\n",
      " [457   0   0   0 453 100   0   0   0   0]\n",
      " [365   0   0   0   0   0 233 352   0   0]\n",
      " [409   0   0   0 379   0   0 311   0   0]\n",
      " [  0 453   0 379   0 340   0   0 136 153]\n",
      " [  0 100   0   0 340   0   0   0 325   0]\n",
      " [  0   0 233   0   0   0   0 356   0   0]\n",
      " [  0   0 352 311   0   0 356   0   0 346]\n",
      " [  0   0   0   0 136 325   0   0   0 175]\n",
      " [  0   0   0   0 153   0   0 346 175   0]]\n"
     ]
    }
   ],
   "source": [
    "print(adjacency_matrix)"
   ]
  },
  {
   "cell_type": "code",
   "execution_count": null,
   "metadata": {},
   "outputs": [],
   "source": []
  }
 ],
 "metadata": {
  "kernelspec": {
   "display_name": "Python 3",
   "language": "python",
   "name": "python3"
  },
  "language_info": {
   "codemirror_mode": {
    "name": "ipython",
    "version": 3
   },
   "file_extension": ".py",
   "mimetype": "text/x-python",
   "name": "python",
   "nbconvert_exporter": "python",
   "pygments_lexer": "ipython3",
   "version": "3.7.1"
  }
 },
 "nbformat": 4,
 "nbformat_minor": 2
}
