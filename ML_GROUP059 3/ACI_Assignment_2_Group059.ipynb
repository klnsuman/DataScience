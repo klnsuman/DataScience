{
 "cells": [
  {
   "cell_type": "markdown",
   "metadata": {},
   "source": [
    "<center><h2>Artificial and Computational Intelligence (Assignment - 2)</h2></center>"
   ]
  },
  {
   "cell_type": "markdown",
   "metadata": {},
   "source": [
    "## Problem Statement\n",
    "\n",
    "As part of the 2nd Assignment, we'll implement Bayesian Networks and also learn to use the pomegranate library.\n",
    "\n",
    "You are required to create a bayesian network model which would help you predict the probability. The detailed problem description is attached as a PDF as a part of this assignment along with the marking scheme.  \n",
    "\n",
    "### What is a Bayesian Network ?\n",
    "\n",
    "A Bayesian network, Bayes network, belief network, decision network, Bayes(ian) model or probabilistic directed acyclic graphical model is a probabilistic graphical model (a type of statistical model) that represents a set of variables and their conditional dependencies via a directed acyclic graph (DAG). \n",
    "\n",
    "Bayesian networks are ideal for taking an event that occurred and predicting the likelihood that any one of several possible known causes was the contributing factor. For example, a Bayesian network could represent the probabilistic relationships between diseases and symptoms. Given symptoms, the network can be used to compute the probabilities of the presence of various diseases. \n",
    "\n",
    "### Dataset\n",
    "\n",
    "The dataset can be downloaded from https://drive.google.com/drive/folders/1oMtKmmvPkN4O8DmrHMJe6M8CbB93Z5kw .You can access it only using your BITS IDs. Also, the same dataset is attached along with the assignment. \n",
    "\n",
    "#### Dataset Description\n",
    "##### Sample Tuple\n",
    "\n",
    "Y\twon\t5wickets\tlost\t2nd\tvWest_Indies\tHome\t6-Nov-11\n",
    "\n",
    "##### Explanation\n",
    "- The first column represents if Ashwin was in the playing 11 or not. \n",
    "- The second column represents the Result of the match . win indicates India won the match.\n",
    "- The third column represents the Margin of victory / losss.\n",
    "- The fourth column represents the results of the toss. won indicates India won the toss. \n",
    "- The fifth column represents the batting order. If India batted 1st or 2nd. \n",
    "- The sixth column represents the opponent.\n",
    "- The seventh column represents the location of the match. If the match was held in Home(India) or away. \n",
    "- The last column represents the start date of the match.\n",
    "\n",
    "\n",
    "### Evaluation\n",
    "We wish to evaluate based on \n",
    "- coding practices being followed\n",
    "- commenting to explain the code and logic behind doing something\n",
    "- your understanding and explanation of data\n",
    "- how good the model would perform"
   ]
  },
  {
   "cell_type": "markdown",
   "metadata": {},
   "source": [
    "### BITS RollNumbers , Names. \n",
    "\n",
    "#### 2018AH04612 , Prabhu Koduri\n",
    "#### 2018AH04599 , K L N Rao\n",
    "#### 2018AH04543 , Naveen\n",
    "#### 2018AH04573 , Sagnik"
   ]
  },
  {
   "cell_type": "code",
   "execution_count": 1,
   "metadata": {},
   "outputs": [],
   "source": [
    "#Import libraries\n",
    "from pomegranate import *\n",
    "import pandas as pd"
   ]
  },
  {
   "cell_type": "markdown",
   "metadata": {},
   "source": [
    "#### Bayesian Net Graph:\n",
    "*** Please include the file Test.png in the same directory\n",
    "\n",
    "<img src=\"Test.png\" alt=\"Drawing\" style=\"width: 300px;\"/>"
   ]
  },
  {
   "cell_type": "code",
   "execution_count": 2,
   "metadata": {},
   "outputs": [],
   "source": [
    "#Read data and Create a dataframe out of the imported data\n",
    "\n",
    "df= pd.read_excel('India_Test_Stats.xlsx')"
   ]
  },
  {
   "cell_type": "markdown",
   "metadata": {},
   "source": [
    "#### Data Preprocesing :\n",
    "\n",
    "##### Understanding of the data:\n",
    "<br> a. From the Bayesian Net graph we can figure out the non-relevant columns and drop them\n",
    "<br> b. Choosing to Bat depends only on the Toss on that day\n",
    "<br> c. Ashwin playing depends on the location of the match\n",
    "<br> d. Match result depends on Batting and Ashwing Playing\n",
    "\n",
    "This understanding from data can help us,\n",
    "Indentify the conditional dependence between attributes and\n",
    "Construct the Bayesian Network accordingly\n",
    "\n",
    "Please note, that as per the Bayesian Net definition the probability of an attribute can be calculated\n",
    "given its parent\n"
   ]
  },
  {
   "cell_type": "code",
   "execution_count": 3,
   "metadata": {},
   "outputs": [],
   "source": [
    "# Removing redundant columns\n",
    "\n",
    "df=df.drop([\"Margin\",'Opposition','Start Date'],axis=1)"
   ]
  },
  {
   "cell_type": "code",
   "execution_count": 4,
   "metadata": {},
   "outputs": [],
   "source": [
    "# Streamlining data\n",
    "# Correcting data to follow the same format across nodes\n",
    "\n",
    "df['Toss']   = df['Toss'].replace('won','Win')\n",
    "df['Toss']   = df['Toss'].replace('lost','Loss')\n",
    "\n",
    "df['Result'] = df['Result'].replace('won','Win')\n",
    "df['Result'] = df['Result'].replace('lost','Loss')\n",
    "df['Result'] = df['Result'].replace('draw','Draw')\n",
    "\n",
    "df['Ashwin'] = df['Ashwin'].replace('Y','Yes')\n",
    "df['Ashwin'] = df['Ashwin'].replace('N','No')"
   ]
  },
  {
   "cell_type": "markdown",
   "metadata": {},
   "source": [
    "1) Create a function to calculate prior probability of any given variable. The function should read in an array and output a dictionary of prior probability of each possible outcome.\n",
    "\n",
    "e.g. {'A': 1/4, 'B': 1/2, 'C': 1/4}"
   ]
  },
  {
   "cell_type": "code",
   "execution_count": 5,
   "metadata": {},
   "outputs": [],
   "source": [
    "# Create domain dictionary to hold all possible domain values for each node.\n",
    "\n",
    "domainDict             = {}\n",
    "domainDict[\"Toss\"]     = ['Win','Loss']\n",
    "domainDict[\"Location\"] = ['Home','Away']\n",
    "domainDict[\"Ashwin\"]   = ['Yes','No']\n",
    "domainDict[\"Result\"]   = ['Win','Loss','Draw']\n",
    "domainDict[\"Bat\"]      = ['1st','2nd']"
   ]
  },
  {
   "cell_type": "code",
   "execution_count": 6,
   "metadata": {},
   "outputs": [],
   "source": [
    "# This method generates prior probability for the passed in variable\n",
    "\n",
    "def CalculatePrior(df,var):\n",
    "    tempDict = {}\n",
    "    for i in domainDict[var]:\n",
    "        #print((df[var] == i).sum())\n",
    "        tempDict[i] = (df[var] == i).sum()/df[var].count()\n",
    "    return tempDict"
   ]
  },
  {
   "cell_type": "code",
   "execution_count": 7,
   "metadata": {},
   "outputs": [],
   "source": [
    "# Invoke CalculatePrior to generate prior probabilities for all nodes\n",
    "\n",
    "locationPrior = CalculatePrior(df,'Location')\n",
    "tossPrior = CalculatePrior(df,'Toss')\n",
    "battingPrior = CalculatePrior(df,'Bat')\n",
    "ashwinPrior = CalculatePrior(df,'Ashwin')\n",
    "resultPrior = CalculatePrior(df,'Result')\n",
    "#locationPrior,tossPrior,battingPrior,ashwinPrior,resultPrior"
   ]
  },
  {
   "cell_type": "markdown",
   "metadata": {},
   "source": [
    "2) Create a function to calculate conditional probability. The function should read in multiple arrays and calculate the posterior probability of the last array wrt to previous arrays. For example, if you pass arrays “Location” and “Ashwin Playing” the output should be\n",
    "Eg:\n",
    "\n",
    "\n",
    "[[ 'home', 'Y', 0.xx ],\n",
    " [ 'home', 'N', 0.xx ],\n",
    " [ 'away', 'Y', 0.xx ],\n",
    " [ 'away', 'N', 0.xx ]]"
   ]
  },
  {
   "cell_type": "code",
   "execution_count": 8,
   "metadata": {},
   "outputs": [],
   "source": [
    "# Method to calculate conditional probability of one node\n",
    "# based on either one or two nodes\n",
    "# This method returns the probabilities as a 2-dimensional array enumerated over all possible\n",
    "# values for each of the nodes passed as arguments\n",
    "\n",
    "def CalculateCond(df,var1,var2,target):\n",
    "    tempDict = {}\n",
    "    probTable = []\n",
    "    varList = []\n",
    "    if var1 != 'ZZ':\n",
    "        if target is None or var1 is None or  var2 is None:\n",
    "            return None\n",
    "        else:\n",
    "            varList.append(var1)\n",
    "            varList.append(var2)\n",
    "\n",
    "        for srcValue1 in domainDict[var1]:\n",
    "            for srcValue2 in domainDict[var2]:\n",
    "                for targetValue in domainDict[target]:\n",
    "                    df1 = df[df[var1] == srcValue1]\n",
    "                    df2 = df1[df1[var2] == srcValue2]\n",
    "                    val = ((df2[target] == targetValue).sum())/((df2.shape[0]))\n",
    "                    probTable.append([srcValue1,srcValue2,targetValue,val])\n",
    "        return probTable\n",
    "    elif var2 != 'ZZ':\n",
    "        if target is None or var1 is None:\n",
    "            return None\n",
    "        else:\n",
    "            varList.append(var2)\n",
    "\n",
    "        for var in varList:\n",
    "            for srcValue in domainDict[var]:\n",
    "                for targetValue in domainDict[target]:\n",
    "                    tempList = []\n",
    "                    val = ((df[df[target] == targetValue][var] == srcValue).sum())/((df[var] == srcValue).sum())\n",
    "                    probTable.append([srcValue,targetValue,val])\n",
    "            #print((df[var] == i).sum())\n",
    "            #tempDict[i] = (df[var] == i).sum()/df[var].count()\n",
    "        return probTable        \n",
    "\n",
    "#CalculateCond2(df,'Bat','Ashwin','Result')"
   ]
  },
  {
   "cell_type": "code",
   "execution_count": 9,
   "metadata": {},
   "outputs": [
    {
     "data": {
      "text/plain": [
       "[['1st', 'Yes', 'Win', 0.7027027027027027],\n",
       " ['1st', 'Yes', 'Loss', 0.1891891891891892],\n",
       " ['1st', 'Yes', 'Draw', 0.10810810810810811],\n",
       " ['1st', 'No', 'Win', 0.5555555555555556],\n",
       " ['1st', 'No', 'Loss', 0.2222222222222222],\n",
       " ['1st', 'No', 'Draw', 0.2222222222222222],\n",
       " ['2nd', 'Yes', 'Win', 0.48484848484848486],\n",
       " ['2nd', 'Yes', 'Loss', 0.24242424242424243],\n",
       " ['2nd', 'Yes', 'Draw', 0.2727272727272727],\n",
       " ['2nd', 'No', 'Win', 0.0],\n",
       " ['2nd', 'No', 'Loss', 0.8333333333333334],\n",
       " ['2nd', 'No', 'Draw', 0.16666666666666666]]"
      ]
     },
     "execution_count": 9,
     "metadata": {},
     "output_type": "execute_result"
    }
   ],
   "source": [
    "CalculateCond(df,'Bat','Ashwin','Result')"
   ]
  },
  {
   "cell_type": "markdown",
   "metadata": {},
   "source": [
    "#### Construct Bayesian Network with Pomegranate Model"
   ]
  },
  {
   "cell_type": "code",
   "execution_count": 10,
   "metadata": {},
   "outputs": [],
   "source": [
    "# Creating DiscreteDistribution using prior probabilities \n",
    "\n",
    "Location = DiscreteDistribution(CalculatePrior(df,'Location'))\n",
    "Toss     = DiscreteDistribution(CalculatePrior(df,'Toss'))\n",
    "\n",
    "Ashwin   = DiscreteDistribution(CalculatePrior(df,'Ashwin'))\n",
    "Result   = DiscreteDistribution(CalculatePrior(df,'Result'))\n",
    "Bat      = DiscreteDistribution(CalculatePrior(df,'Bat'))\n"
   ]
  },
  {
   "cell_type": "code",
   "execution_count": 11,
   "metadata": {},
   "outputs": [],
   "source": [
    "# Creating conditional probability table (with reference to the Bayesian Net Graph)for,\n",
    "# i.  level 2 nodes using level 1 node prior probabilities \n",
    "# ii. level 3 node using level 2 node conditional probability\n",
    "\n",
    "AshwinCond = ConditionalProbabilityTable(CalculateCond(df,'ZZ','Location','Ashwin'),[Location])\n",
    "\n",
    "BatCond    = ConditionalProbabilityTable(CalculateCond(df,'ZZ','Toss','Bat'),[Toss])\n",
    "\n",
    "ResultCond = ConditionalProbabilityTable(CalculateCond(df,'Bat','Ashwin','Result'),[ BatCond, AshwinCond])"
   ]
  },
  {
   "cell_type": "code",
   "execution_count": 12,
   "metadata": {},
   "outputs": [],
   "source": [
    "# Create the required states for pomegranate library\n",
    "# Each node in the graph is considered as a state.\n",
    "\n",
    "s1  = State(Toss,       name=\"Toss\")\n",
    "s2  = State(Location,   name=\"Location\")\n",
    "s3  = State(BatCond,    name=\"BatToss\")\n",
    "s4  = State(AshwinCond, name=\"AshwinLocation\")\n",
    "s5  = State(ResultCond, name=\"Result\")"
   ]
  },
  {
   "cell_type": "code",
   "execution_count": 13,
   "metadata": {},
   "outputs": [],
   "source": [
    "# Create the Bayesian network object with a useful name\n",
    "model = BayesianNetwork(\"Spinning the Bayes Net\")\n",
    "\n",
    "# Add the states to the network \n",
    "model.add_states(s1, s2, s3, s4, s5)\n",
    "\n",
    "# Add edges which represent conditional dependencies, where the second node is \n",
    "# conditionally dependent on the first node\n",
    "# This node creation should exactly match the Bayesian Net provide above.\n",
    "\n",
    "model.add_edge(s1, s3)\n",
    "model.add_edge(s2, s4)\n",
    "model.add_edge(s3, s5)\n",
    "model.add_edge(s4, s5)\n",
    "\n",
    "model.bake()"
   ]
  },
  {
   "cell_type": "markdown",
   "metadata": {},
   "source": [
    "### Solution:\n",
    "\n",
    "4) Use the Bayesian Network model created to calculate the probability of:\n",
    "  <br> a. India winning, batting 2nd, Ashwin playing\n",
    "  <br> b. India winning, batting 2nd, Ashwin not playing\n",
    "  <br> c. India losing, batting 2nd, Ashwin playing\n",
    "  <br> d. India losing, batting 2nd, Ashwin not playing"
   ]
  },
  {
   "cell_type": "code",
   "execution_count": 14,
   "metadata": {},
   "outputs": [
    {
     "data": {
      "text/plain": [
       "array([{\n",
       "    \"class\" :\"Distribution\",\n",
       "    \"dtype\" :\"str\",\n",
       "    \"name\" :\"DiscreteDistribution\",\n",
       "    \"parameters\" :[\n",
       "        {\n",
       "            \"Win\" :0.47058823529411764,\n",
       "            \"Loss\" :0.5294117647058824\n",
       "        }\n",
       "    ],\n",
       "    \"frozen\" :false\n",
       "},\n",
       "       {\n",
       "    \"class\" :\"Distribution\",\n",
       "    \"dtype\" :\"str\",\n",
       "    \"name\" :\"DiscreteDistribution\",\n",
       "    \"parameters\" :[\n",
       "        {\n",
       "            \"Home\" :0.5058823529411764,\n",
       "            \"Away\" :0.49411764705882366\n",
       "        }\n",
       "    ],\n",
       "    \"frozen\" :false\n",
       "},\n",
       "       {\n",
       "    \"class\" :\"Distribution\",\n",
       "    \"dtype\" :\"str\",\n",
       "    \"name\" :\"DiscreteDistribution\",\n",
       "    \"parameters\" :[\n",
       "        {\n",
       "            \"1st\" :0.5411764705882353,\n",
       "            \"2nd\" :0.4588235294117648\n",
       "        }\n",
       "    ],\n",
       "    \"frozen\" :false\n",
       "},\n",
       "       {\n",
       "    \"class\" :\"Distribution\",\n",
       "    \"dtype\" :\"str\",\n",
       "    \"name\" :\"DiscreteDistribution\",\n",
       "    \"parameters\" :[\n",
       "        {\n",
       "            \"Yes\" :0.8235294117647056,\n",
       "            \"No\" :0.1764705882352944\n",
       "        }\n",
       "    ],\n",
       "    \"frozen\" :false\n",
       "},\n",
       "       {\n",
       "    \"class\" :\"Distribution\",\n",
       "    \"dtype\" :\"str\",\n",
       "    \"name\" :\"DiscreteDistribution\",\n",
       "    \"parameters\" :[\n",
       "        {\n",
       "            \"Win\" :0.5494356262522351,\n",
       "            \"Draw\" :0.18594974338918982,\n",
       "            \"Loss\" :0.2646146303585751\n",
       "        }\n",
       "    ],\n",
       "    \"frozen\" :false\n",
       "}], dtype=object)"
      ]
     },
     "execution_count": 14,
     "metadata": {},
     "output_type": "execute_result"
    }
   ],
   "source": [
    "# Invoke predict_proba to generate the probabilities of each node\n",
    "\n",
    "model.predict_proba({})"
   ]
  },
  {
   "cell_type": "code",
   "execution_count": 15,
   "metadata": {},
   "outputs": [
    {
     "data": {
      "text/plain": [
       "array([{\n",
       "    \"class\" :\"Distribution\",\n",
       "    \"dtype\" :\"str\",\n",
       "    \"name\" :\"DiscreteDistribution\",\n",
       "    \"parameters\" :[\n",
       "        {\n",
       "            \"Win\" :0.10256410256410274,\n",
       "            \"Loss\" :0.8974358974358972\n",
       "        }\n",
       "    ],\n",
       "    \"frozen\" :false\n",
       "},\n",
       "       {\n",
       "    \"class\" :\"Distribution\",\n",
       "    \"dtype\" :\"str\",\n",
       "    \"name\" :\"DiscreteDistribution\",\n",
       "    \"parameters\" :[\n",
       "        {\n",
       "            \"Home\" :0.6142857142857142,\n",
       "            \"Away\" :0.3857142857142858\n",
       "        }\n",
       "    ],\n",
       "    \"frozen\" :false\n",
       "},\n",
       "       '2nd', 'Yes', 'Win'], dtype=object)"
      ]
     },
     "execution_count": 15,
     "metadata": {},
     "output_type": "execute_result"
    }
   ],
   "source": [
    "# a. India winning, batting 2nd, Ashwin playing\n",
    "# Predicting probabilities where three conditions are specified\n",
    "\n",
    "model.predict_proba([None, None, '2nd', 'Yes', 'Win'])"
   ]
  },
  {
   "cell_type": "code",
   "execution_count": 16,
   "metadata": {},
   "outputs": [
    {
     "data": {
      "text/plain": [
       "array([{\n",
       "    \"class\" :\"Distribution\",\n",
       "    \"dtype\" :\"str\",\n",
       "    \"name\" :\"DiscreteDistribution\",\n",
       "    \"parameters\" :[\n",
       "        {\n",
       "            \"Win\" :0.10256410256410274,\n",
       "            \"Loss\" :0.8974358974358972\n",
       "        }\n",
       "    ],\n",
       "    \"frozen\" :false\n",
       "},\n",
       "       {\n",
       "    \"class\" :\"Distribution\",\n",
       "    \"dtype\" :\"str\",\n",
       "    \"name\" :\"DiscreteDistribution\",\n",
       "    \"parameters\" :[\n",
       "        {\n",
       "            \"Home\" :0.6142857142857142,\n",
       "            \"Away\" :0.3857142857142858\n",
       "        }\n",
       "    ],\n",
       "    \"frozen\" :false\n",
       "},\n",
       "       '2nd', 'Yes', 'Win'], dtype=object)"
      ]
     },
     "execution_count": 16,
     "metadata": {},
     "output_type": "execute_result"
    }
   ],
   "source": [
    "# a. India winning, batting 2nd, Ashwin playing\n",
    "model.predict_proba({'BatToss': '2nd', 'AshwinLocation':'Yes','Result' :'Win'})"
   ]
  },
  {
   "cell_type": "code",
   "execution_count": 17,
   "metadata": {},
   "outputs": [
    {
     "data": {
      "text/plain": [
       "array([{\n",
       "    \"class\" :\"Distribution\",\n",
       "    \"dtype\" :\"str\",\n",
       "    \"name\" :\"DiscreteDistribution\",\n",
       "    \"parameters\" :[\n",
       "        {\n",
       "            \"Win\" :0.47058823529411764,\n",
       "            \"Loss\" :0.5294117647058824\n",
       "        }\n",
       "    ],\n",
       "    \"frozen\" :false\n",
       "},\n",
       "       {\n",
       "    \"class\" :\"Distribution\",\n",
       "    \"dtype\" :\"str\",\n",
       "    \"name\" :\"DiscreteDistribution\",\n",
       "    \"parameters\" :[\n",
       "        {\n",
       "            \"Home\" :0.5058823529411764,\n",
       "            \"Away\" :0.49411764705882366\n",
       "        }\n",
       "    ],\n",
       "    \"frozen\" :false\n",
       "},\n",
       "       '2nd', 'No', 'Win'], dtype=object)"
      ]
     },
     "execution_count": 17,
     "metadata": {},
     "output_type": "execute_result"
    }
   ],
   "source": [
    "#b. India winning, batting 2nd, Ashwin not playing\n",
    "model.predict_proba({'BatToss': '2nd', 'AshwinLocation':'No','Result' :'Win'})"
   ]
  },
  {
   "cell_type": "code",
   "execution_count": 18,
   "metadata": {},
   "outputs": [
    {
     "data": {
      "text/plain": [
       "array([{\n",
       "    \"class\" :\"Distribution\",\n",
       "    \"dtype\" :\"str\",\n",
       "    \"name\" :\"DiscreteDistribution\",\n",
       "    \"parameters\" :[\n",
       "        {\n",
       "            \"Win\" :0.10256410256410274,\n",
       "            \"Loss\" :0.8974358974358972\n",
       "        }\n",
       "    ],\n",
       "    \"frozen\" :false\n",
       "},\n",
       "       {\n",
       "    \"class\" :\"Distribution\",\n",
       "    \"dtype\" :\"str\",\n",
       "    \"name\" :\"DiscreteDistribution\",\n",
       "    \"parameters\" :[\n",
       "        {\n",
       "            \"Home\" :0.6142857142857142,\n",
       "            \"Away\" :0.3857142857142858\n",
       "        }\n",
       "    ],\n",
       "    \"frozen\" :false\n",
       "},\n",
       "       '2nd', 'Yes', 'Loss'], dtype=object)"
      ]
     },
     "execution_count": 18,
     "metadata": {},
     "output_type": "execute_result"
    }
   ],
   "source": [
    "# c. India losing, batting 2nd, Ashwin playing\n",
    "\n",
    "model.predict_proba({'BatToss': '2nd', 'AshwinLocation':'Yes','Result' :'Loss'})"
   ]
  },
  {
   "cell_type": "code",
   "execution_count": 19,
   "metadata": {},
   "outputs": [
    {
     "data": {
      "text/plain": [
       "array([{\n",
       "    \"class\" :\"Distribution\",\n",
       "    \"dtype\" :\"str\",\n",
       "    \"name\" :\"DiscreteDistribution\",\n",
       "    \"parameters\" :[\n",
       "        {\n",
       "            \"Win\" :0.10256410256410274,\n",
       "            \"Loss\" :0.8974358974358972\n",
       "        }\n",
       "    ],\n",
       "    \"frozen\" :false\n",
       "},\n",
       "       {\n",
       "    \"class\" :\"Distribution\",\n",
       "    \"dtype\" :\"str\",\n",
       "    \"name\" :\"DiscreteDistribution\",\n",
       "    \"parameters\" :[\n",
       "        {\n",
       "            \"Home\" :0.0,\n",
       "            \"Away\" :1.0\n",
       "        }\n",
       "    ],\n",
       "    \"frozen\" :false\n",
       "},\n",
       "       '2nd', 'No', 'Loss'], dtype=object)"
      ]
     },
     "execution_count": 19,
     "metadata": {},
     "output_type": "execute_result"
    }
   ],
   "source": [
    "#d. India losing, batting 2nd, Ashwin not playing\n",
    "model.predict_proba({'BatToss': '2nd', 'AshwinLocation':'No','Result' :'Loss'})"
   ]
  },
  {
   "cell_type": "markdown",
   "metadata": {},
   "source": [
    "<h3><center> Happy Coding!</center></h3>"
   ]
  }
 ],
 "metadata": {
  "kernelspec": {
   "display_name": "Python 3",
   "language": "python",
   "name": "python3"
  },
  "language_info": {
   "codemirror_mode": {
    "name": "ipython",
    "version": 3
   },
   "file_extension": ".py",
   "mimetype": "text/x-python",
   "name": "python",
   "nbconvert_exporter": "python",
   "pygments_lexer": "ipython3",
   "version": "3.7.4"
  }
 },
 "nbformat": 4,
 "nbformat_minor": 2
}
