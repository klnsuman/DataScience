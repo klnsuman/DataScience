{
  "nbformat": 4,
  "nbformat_minor": 0,
  "metadata": {
    "colab": {
      "name": "TheGrtIndianHackathon.ipynb",
      "provenance": [],
      "collapsed_sections": [],
      "toc_visible": true,
      "authorship_tag": "ABX9TyO5LbiiWVHRrUri9d5EB/Mv",
      "include_colab_link": true
    },
    "kernelspec": {
      "name": "python3",
      "display_name": "Python 3"
    }
  },
  "cells": [
    {
      "cell_type": "markdown",
      "metadata": {
        "id": "view-in-github",
        "colab_type": "text"
      },
      "source": [
        "<a href=\"https://colab.research.google.com/github/klnsuman/DataScience/blob/master/TheGrtIndianHackathon.ipynb\" target=\"_parent\"><img src=\"https://colab.research.google.com/assets/colab-badge.svg\" alt=\"Open In Colab\"/></a>"
      ]
    },
    {
      "cell_type": "code",
      "metadata": {
        "id": "teGaANLbstzZ",
        "outputId": "46236dfe-1d09-4f60-e498-1e4a0a9885f9",
        "colab": {
          "base_uri": "https://localhost:8080/"
        }
      },
      "source": [
        "!nvidia-smi"
      ],
      "execution_count": 1,
      "outputs": [
        {
          "output_type": "stream",
          "text": [
            "NVIDIA-SMI has failed because it couldn't communicate with the NVIDIA driver. Make sure that the latest NVIDIA driver is installed and running.\n",
            "\n"
          ],
          "name": "stdout"
        }
      ]
    },
    {
      "cell_type": "code",
      "metadata": {
        "id": "xu-Lg1sQtO96"
      },
      "source": [
        "import pandas as pd\n",
        "import os\n",
        "import numpy as np"
      ],
      "execution_count": 2,
      "outputs": []
    },
    {
      "cell_type": "code",
      "metadata": {
        "id": "kMeoRB83ujbI",
        "outputId": "8ebfd0f7-e5d3-4547-b2cb-7f7607c21eba",
        "colab": {
          "base_uri": "https://localhost:8080/"
        }
      },
      "source": [
        "from google.colab import drive\n",
        "drive.mount('/content/drive')"
      ],
      "execution_count": 3,
      "outputs": [
        {
          "output_type": "stream",
          "text": [
            "Mounted at /content/drive\n"
          ],
          "name": "stdout"
        }
      ]
    },
    {
      "cell_type": "code",
      "metadata": {
        "id": "r5tH6c1_u2s2"
      },
      "source": [
        "import os\n",
        "os.chdir('/content/drive/My Drive/Participants_Data_TGIH')"
      ],
      "execution_count": 4,
      "outputs": []
    },
    {
      "cell_type": "code",
      "metadata": {
        "id": "-TpAQA10uqxN",
        "outputId": "6b1edea7-f5c5-4c4a-a365-ba945a05690b",
        "colab": {
          "base_uri": "https://localhost:8080/"
        }
      },
      "source": [
        "os.listdir()"
      ],
      "execution_count": 5,
      "outputs": [
        {
          "output_type": "execute_result",
          "data": {
            "text/plain": [
              "['Test.csv', 'Sample Submission.csv', 'Train.csv']"
            ]
          },
          "metadata": {
            "tags": []
          },
          "execution_count": 5
        }
      ]
    },
    {
      "cell_type": "code",
      "metadata": {
        "id": "hEou7Xo3vJCc"
      },
      "source": [
        "df_train = pd.read_csv(\"Train.csv\")\n",
        "df_test = pd.read_csv(\"Test.csv\")\n",
        "df_sample = pd.read_csv(\"Sample Submission.csv\")"
      ],
      "execution_count": 6,
      "outputs": []
    },
    {
      "cell_type": "code",
      "metadata": {
        "id": "7qjxMidSvclj",
        "outputId": "033825a9-c91f-4f87-e365-41ef651c8c2f",
        "colab": {
          "base_uri": "https://localhost:8080/"
        }
      },
      "source": [
        "df_train.shape,df_test.shape,df_sample.shape"
      ],
      "execution_count": 7,
      "outputs": [
        {
          "output_type": "execute_result",
          "data": {
            "text/plain": [
              "((284780, 8), (122049, 7), (122049, 1))"
            ]
          },
          "metadata": {
            "tags": []
          },
          "execution_count": 7
        }
      ]
    },
    {
      "cell_type": "code",
      "metadata": {
        "id": "pWCiEOh1vkcs",
        "outputId": "2ead567a-8570-4b32-a457-c8b6e109e5c4",
        "colab": {
          "base_uri": "https://localhost:8080/",
          "height": 419
        }
      },
      "source": [
        "df_train"
      ],
      "execution_count": 8,
      "outputs": [
        {
          "output_type": "execute_result",
          "data": {
            "text/html": [
              "<div>\n",
              "<style scoped>\n",
              "    .dataframe tbody tr th:only-of-type {\n",
              "        vertical-align: middle;\n",
              "    }\n",
              "\n",
              "    .dataframe tbody tr th {\n",
              "        vertical-align: top;\n",
              "    }\n",
              "\n",
              "    .dataframe thead th {\n",
              "        text-align: right;\n",
              "    }\n",
              "</style>\n",
              "<table border=\"1\" class=\"dataframe\">\n",
              "  <thead>\n",
              "    <tr style=\"text-align: right;\">\n",
              "      <th></th>\n",
              "      <th>InvoiceNo</th>\n",
              "      <th>StockCode</th>\n",
              "      <th>Description</th>\n",
              "      <th>Quantity</th>\n",
              "      <th>InvoiceDate</th>\n",
              "      <th>UnitPrice</th>\n",
              "      <th>CustomerID</th>\n",
              "      <th>Country</th>\n",
              "    </tr>\n",
              "  </thead>\n",
              "  <tbody>\n",
              "    <tr>\n",
              "      <th>0</th>\n",
              "      <td>6141</td>\n",
              "      <td>1583</td>\n",
              "      <td>144</td>\n",
              "      <td>3</td>\n",
              "      <td>2011-05-06 16:54:00</td>\n",
              "      <td>3.75</td>\n",
              "      <td>14056.0</td>\n",
              "      <td>35</td>\n",
              "    </tr>\n",
              "    <tr>\n",
              "      <th>1</th>\n",
              "      <td>6349</td>\n",
              "      <td>1300</td>\n",
              "      <td>3682</td>\n",
              "      <td>6</td>\n",
              "      <td>2011-05-11 07:35:00</td>\n",
              "      <td>1.95</td>\n",
              "      <td>13098.0</td>\n",
              "      <td>35</td>\n",
              "    </tr>\n",
              "    <tr>\n",
              "      <th>2</th>\n",
              "      <td>16783</td>\n",
              "      <td>2178</td>\n",
              "      <td>1939</td>\n",
              "      <td>4</td>\n",
              "      <td>2011-11-20 13:20:00</td>\n",
              "      <td>5.95</td>\n",
              "      <td>15044.0</td>\n",
              "      <td>35</td>\n",
              "    </tr>\n",
              "    <tr>\n",
              "      <th>3</th>\n",
              "      <td>16971</td>\n",
              "      <td>2115</td>\n",
              "      <td>2983</td>\n",
              "      <td>1</td>\n",
              "      <td>2011-11-22 12:07:00</td>\n",
              "      <td>0.83</td>\n",
              "      <td>15525.0</td>\n",
              "      <td>35</td>\n",
              "    </tr>\n",
              "    <tr>\n",
              "      <th>4</th>\n",
              "      <td>6080</td>\n",
              "      <td>1210</td>\n",
              "      <td>2886</td>\n",
              "      <td>12</td>\n",
              "      <td>2011-05-06 09:00:00</td>\n",
              "      <td>1.65</td>\n",
              "      <td>13952.0</td>\n",
              "      <td>35</td>\n",
              "    </tr>\n",
              "    <tr>\n",
              "      <th>...</th>\n",
              "      <td>...</td>\n",
              "      <td>...</td>\n",
              "      <td>...</td>\n",
              "      <td>...</td>\n",
              "      <td>...</td>\n",
              "      <td>...</td>\n",
              "      <td>...</td>\n",
              "      <td>...</td>\n",
              "    </tr>\n",
              "    <tr>\n",
              "      <th>284775</th>\n",
              "      <td>3408</td>\n",
              "      <td>1706</td>\n",
              "      <td>1081</td>\n",
              "      <td>6</td>\n",
              "      <td>2011-03-01 12:07:00</td>\n",
              "      <td>1.65</td>\n",
              "      <td>17965.0</td>\n",
              "      <td>35</td>\n",
              "    </tr>\n",
              "    <tr>\n",
              "      <th>284776</th>\n",
              "      <td>13982</td>\n",
              "      <td>2184</td>\n",
              "      <td>2947</td>\n",
              "      <td>16</td>\n",
              "      <td>2011-10-13 15:08:00</td>\n",
              "      <td>0.65</td>\n",
              "      <td>16793.0</td>\n",
              "      <td>35</td>\n",
              "    </tr>\n",
              "    <tr>\n",
              "      <th>284777</th>\n",
              "      <td>6641</td>\n",
              "      <td>667</td>\n",
              "      <td>3632</td>\n",
              "      <td>4</td>\n",
              "      <td>2011-05-16 12:59:00</td>\n",
              "      <td>8.50</td>\n",
              "      <td>14755.0</td>\n",
              "      <td>35</td>\n",
              "    </tr>\n",
              "    <tr>\n",
              "      <th>284778</th>\n",
              "      <td>13820</td>\n",
              "      <td>1576</td>\n",
              "      <td>3089</td>\n",
              "      <td>48</td>\n",
              "      <td>2011-10-11 14:18:00</td>\n",
              "      <td>3.45</td>\n",
              "      <td>14866.0</td>\n",
              "      <td>35</td>\n",
              "    </tr>\n",
              "    <tr>\n",
              "      <th>284779</th>\n",
              "      <td>11042</td>\n",
              "      <td>2603</td>\n",
              "      <td>1156</td>\n",
              "      <td>2</td>\n",
              "      <td>2011-08-22 13:30:00</td>\n",
              "      <td>0.75</td>\n",
              "      <td>17585.0</td>\n",
              "      <td>35</td>\n",
              "    </tr>\n",
              "  </tbody>\n",
              "</table>\n",
              "<p>284780 rows × 8 columns</p>\n",
              "</div>"
            ],
            "text/plain": [
              "        InvoiceNo  StockCode  Description  ...  UnitPrice CustomerID  Country\n",
              "0            6141       1583          144  ...       3.75    14056.0       35\n",
              "1            6349       1300         3682  ...       1.95    13098.0       35\n",
              "2           16783       2178         1939  ...       5.95    15044.0       35\n",
              "3           16971       2115         2983  ...       0.83    15525.0       35\n",
              "4            6080       1210         2886  ...       1.65    13952.0       35\n",
              "...           ...        ...          ...  ...        ...        ...      ...\n",
              "284775       3408       1706         1081  ...       1.65    17965.0       35\n",
              "284776      13982       2184         2947  ...       0.65    16793.0       35\n",
              "284777       6641        667         3632  ...       8.50    14755.0       35\n",
              "284778      13820       1576         3089  ...       3.45    14866.0       35\n",
              "284779      11042       2603         1156  ...       0.75    17585.0       35\n",
              "\n",
              "[284780 rows x 8 columns]"
            ]
          },
          "metadata": {
            "tags": []
          },
          "execution_count": 8
        }
      ]
    },
    {
      "cell_type": "code",
      "metadata": {
        "id": "T6LWS5IexDL3",
        "outputId": "a8e09948-a6a9-48c0-eaae-ea424b96b4a3",
        "colab": {
          "base_uri": "https://localhost:8080/",
          "height": 419
        }
      },
      "source": [
        "df_train[['Quantity','UnitPrice']]"
      ],
      "execution_count": 9,
      "outputs": [
        {
          "output_type": "execute_result",
          "data": {
            "text/html": [
              "<div>\n",
              "<style scoped>\n",
              "    .dataframe tbody tr th:only-of-type {\n",
              "        vertical-align: middle;\n",
              "    }\n",
              "\n",
              "    .dataframe tbody tr th {\n",
              "        vertical-align: top;\n",
              "    }\n",
              "\n",
              "    .dataframe thead th {\n",
              "        text-align: right;\n",
              "    }\n",
              "</style>\n",
              "<table border=\"1\" class=\"dataframe\">\n",
              "  <thead>\n",
              "    <tr style=\"text-align: right;\">\n",
              "      <th></th>\n",
              "      <th>Quantity</th>\n",
              "      <th>UnitPrice</th>\n",
              "    </tr>\n",
              "  </thead>\n",
              "  <tbody>\n",
              "    <tr>\n",
              "      <th>0</th>\n",
              "      <td>3</td>\n",
              "      <td>3.75</td>\n",
              "    </tr>\n",
              "    <tr>\n",
              "      <th>1</th>\n",
              "      <td>6</td>\n",
              "      <td>1.95</td>\n",
              "    </tr>\n",
              "    <tr>\n",
              "      <th>2</th>\n",
              "      <td>4</td>\n",
              "      <td>5.95</td>\n",
              "    </tr>\n",
              "    <tr>\n",
              "      <th>3</th>\n",
              "      <td>1</td>\n",
              "      <td>0.83</td>\n",
              "    </tr>\n",
              "    <tr>\n",
              "      <th>4</th>\n",
              "      <td>12</td>\n",
              "      <td>1.65</td>\n",
              "    </tr>\n",
              "    <tr>\n",
              "      <th>...</th>\n",
              "      <td>...</td>\n",
              "      <td>...</td>\n",
              "    </tr>\n",
              "    <tr>\n",
              "      <th>284775</th>\n",
              "      <td>6</td>\n",
              "      <td>1.65</td>\n",
              "    </tr>\n",
              "    <tr>\n",
              "      <th>284776</th>\n",
              "      <td>16</td>\n",
              "      <td>0.65</td>\n",
              "    </tr>\n",
              "    <tr>\n",
              "      <th>284777</th>\n",
              "      <td>4</td>\n",
              "      <td>8.50</td>\n",
              "    </tr>\n",
              "    <tr>\n",
              "      <th>284778</th>\n",
              "      <td>48</td>\n",
              "      <td>3.45</td>\n",
              "    </tr>\n",
              "    <tr>\n",
              "      <th>284779</th>\n",
              "      <td>2</td>\n",
              "      <td>0.75</td>\n",
              "    </tr>\n",
              "  </tbody>\n",
              "</table>\n",
              "<p>284780 rows × 2 columns</p>\n",
              "</div>"
            ],
            "text/plain": [
              "        Quantity  UnitPrice\n",
              "0              3       3.75\n",
              "1              6       1.95\n",
              "2              4       5.95\n",
              "3              1       0.83\n",
              "4             12       1.65\n",
              "...          ...        ...\n",
              "284775         6       1.65\n",
              "284776        16       0.65\n",
              "284777         4       8.50\n",
              "284778        48       3.45\n",
              "284779         2       0.75\n",
              "\n",
              "[284780 rows x 2 columns]"
            ]
          },
          "metadata": {
            "tags": []
          },
          "execution_count": 9
        }
      ]
    },
    {
      "cell_type": "markdown",
      "metadata": {
        "id": "vcOx9RMS97I0"
      },
      "source": [
        "### 1. **Single Variate**"
      ]
    },
    {
      "cell_type": "code",
      "metadata": {
        "id": "JpGBJLbyxfAi"
      },
      "source": [
        "from sklearn.model_selection import train_test_split\n",
        "\n",
        "X = df_train.iloc[:,3:4].values\n",
        "Y = df_train.iloc[:,5:6].values\n",
        "\n",
        "## Split into Test and Training Set\n",
        "\n",
        "X_train,X_test,Y_train,Y_test = train_test_split(X,Y,test_size=1/3,random_state=0)\n"
      ],
      "execution_count": 10,
      "outputs": []
    },
    {
      "cell_type": "code",
      "metadata": {
        "id": "dzNlt4EC0fJO",
        "outputId": "50b67b0b-fe07-40ba-e944-8b2c867dff06",
        "colab": {
          "base_uri": "https://localhost:8080/"
        }
      },
      "source": [
        "X.shape,Y.shape,X_train.shape,Y_train.shape"
      ],
      "execution_count": 11,
      "outputs": [
        {
          "output_type": "execute_result",
          "data": {
            "text/plain": [
              "((284780, 1), (284780, 1), (189853, 1), (189853, 1))"
            ]
          },
          "metadata": {
            "tags": []
          },
          "execution_count": 11
        }
      ]
    },
    {
      "cell_type": "markdown",
      "metadata": {
        "id": "RMF79kIS0e1p"
      },
      "source": [
        ""
      ]
    },
    {
      "cell_type": "code",
      "metadata": {
        "id": "SiXj-RPhy3Sq",
        "outputId": "b4512e33-16f9-4fe6-a8dd-1e175a80a0b9",
        "colab": {
          "base_uri": "https://localhost:8080/"
        }
      },
      "source": [
        "from sklearn.linear_model import LinearRegression\n",
        "\n",
        "model = LinearRegression()\n",
        "model.fit(X_train,Y_train)"
      ],
      "execution_count": 12,
      "outputs": [
        {
          "output_type": "execute_result",
          "data": {
            "text/plain": [
              "LinearRegression(copy_X=True, fit_intercept=True, n_jobs=None, normalize=False)"
            ]
          },
          "metadata": {
            "tags": []
          },
          "execution_count": 12
        }
      ]
    },
    {
      "cell_type": "code",
      "metadata": {
        "id": "I9p1KGgi1d-O",
        "outputId": "256739d7-ef95-45af-e41b-51c2f20dd278",
        "colab": {
          "base_uri": "https://localhost:8080/"
        }
      },
      "source": [
        "print(\"Mode Coeff or Slope \",model.coef_)\n",
        "print(\"Mode Coeff or Slope \",model.intercept_)"
      ],
      "execution_count": 13,
      "outputs": [
        {
          "output_type": "stream",
          "text": [
            "Mode Coeff or Slope  [[-0.00031093]]\n",
            "Mode Coeff or Slope  [3.49470048]\n"
          ],
          "name": "stdout"
        }
      ]
    },
    {
      "cell_type": "code",
      "metadata": {
        "id": "5kS9ihPT2_jn"
      },
      "source": [
        "Y_predict = model.predict(X_test)"
      ],
      "execution_count": 14,
      "outputs": []
    },
    {
      "cell_type": "code",
      "metadata": {
        "id": "UcGCO7CK3B_f",
        "outputId": "697b3608-1903-4e7a-f480-16fc32d01710",
        "colab": {
          "base_uri": "https://localhost:8080/"
        }
      },
      "source": [
        "from sklearn.metrics import mean_squared_error,r2_score\n",
        "print(\"mean squared error \",mean_squared_error(Y_test,Y_predict))"
      ],
      "execution_count": 15,
      "outputs": [
        {
          "output_type": "stream",
          "text": [
            "mean squared error  852.6480200241125\n"
          ],
          "name": "stdout"
        }
      ]
    },
    {
      "cell_type": "code",
      "metadata": {
        "id": "dDART1dX3PYz",
        "outputId": "545bab9a-954a-43d6-af2d-5b6d482055ac",
        "colab": {
          "base_uri": "https://localhost:8080/"
        }
      },
      "source": [
        "print('Variance score = %.2f' % r2_score(Y_test, Y_predict))"
      ],
      "execution_count": 16,
      "outputs": [
        {
          "output_type": "stream",
          "text": [
            "Variance score = -0.00\n"
          ],
          "name": "stdout"
        }
      ]
    },
    {
      "cell_type": "code",
      "metadata": {
        "id": "A8tb0Ux-36-z",
        "outputId": "04205d44-62c4-4ebe-ce0e-8e3f01762627",
        "colab": {
          "base_uri": "https://localhost:8080/"
        }
      },
      "source": [
        "np.hstack((Y_test, Y_predict))"
      ],
      "execution_count": 17,
      "outputs": [
        {
          "output_type": "execute_result",
          "data": {
            "text/plain": [
              "array([[2.08      , 3.48226321],\n",
              "       [0.42      , 3.48692719],\n",
              "       [1.25      , 3.49345676],\n",
              "       ...,\n",
              "       [1.65      , 3.49407862],\n",
              "       [9.95      , 3.49438955],\n",
              "       [2.95      , 3.49407862]])"
            ]
          },
          "metadata": {
            "tags": []
          },
          "execution_count": 17
        }
      ]
    },
    {
      "cell_type": "markdown",
      "metadata": {
        "id": "m2IF2f-H9p6n"
      },
      "source": [
        "### 2. **Multi Variate**"
      ]
    },
    {
      "cell_type": "code",
      "metadata": {
        "id": "Dj3yOAS99o5a",
        "outputId": "cad887e4-daa6-4119-c615-cc6b21417beb",
        "colab": {
          "base_uri": "https://localhost:8080/"
        }
      },
      "source": [
        "df_train.columns"
      ],
      "execution_count": 18,
      "outputs": [
        {
          "output_type": "execute_result",
          "data": {
            "text/plain": [
              "Index(['InvoiceNo', 'StockCode', 'Description', 'Quantity', 'InvoiceDate',\n",
              "       'UnitPrice', 'CustomerID', 'Country'],\n",
              "      dtype='object')"
            ]
          },
          "metadata": {
            "tags": []
          },
          "execution_count": 18
        }
      ]
    },
    {
      "cell_type": "code",
      "metadata": {
        "id": "LBIVm_gZ_qCx",
        "outputId": "7bb0dad4-e8d7-421d-99a0-9035a20e8e27",
        "colab": {
          "base_uri": "https://localhost:8080/"
        }
      },
      "source": [
        "df_train.Country.value_counts(sort=False)"
      ],
      "execution_count": 19,
      "outputs": [
        {
          "output_type": "execute_result",
          "data": {
            "text/plain": [
              "0        883\n",
              "1        303\n",
              "2         10\n",
              "3       1435\n",
              "4         20\n",
              "5        106\n",
              "6        537\n",
              "7        424\n",
              "8         26\n",
              "9        273\n",
              "10      5244\n",
              "11        40\n",
              "12       489\n",
              "13      5946\n",
              "14      6653\n",
              "15       101\n",
              "16       132\n",
              "17       185\n",
              "18       561\n",
              "19       238\n",
              "20        34\n",
              "21        25\n",
              "22        89\n",
              "23      1680\n",
              "24       766\n",
              "25       244\n",
              "26      1049\n",
              "27        47\n",
              "28         8\n",
              "29       152\n",
              "30      1776\n",
              "31       325\n",
              "32      1293\n",
              "33       210\n",
              "34        52\n",
              "35    253253\n",
              "36       171\n",
              "Name: Country, dtype: int64"
            ]
          },
          "metadata": {
            "tags": []
          },
          "execution_count": 19
        }
      ]
    },
    {
      "cell_type": "code",
      "metadata": {
        "id": "EeO3w97OAhUt",
        "outputId": "cba583ff-75ee-4759-aa29-f6f72d81f558",
        "colab": {
          "base_uri": "https://localhost:8080/"
        }
      },
      "source": [
        "df_train.info()"
      ],
      "execution_count": 20,
      "outputs": [
        {
          "output_type": "stream",
          "text": [
            "<class 'pandas.core.frame.DataFrame'>\n",
            "RangeIndex: 284780 entries, 0 to 284779\n",
            "Data columns (total 8 columns):\n",
            " #   Column       Non-Null Count   Dtype  \n",
            "---  ------       --------------   -----  \n",
            " 0   InvoiceNo    284780 non-null  int64  \n",
            " 1   StockCode    284780 non-null  int64  \n",
            " 2   Description  284780 non-null  int64  \n",
            " 3   Quantity     284780 non-null  int64  \n",
            " 4   InvoiceDate  284780 non-null  object \n",
            " 5   UnitPrice    284780 non-null  float64\n",
            " 6   CustomerID   284780 non-null  float64\n",
            " 7   Country      284780 non-null  int64  \n",
            "dtypes: float64(2), int64(5), object(1)\n",
            "memory usage: 17.4+ MB\n"
          ],
          "name": "stdout"
        }
      ]
    },
    {
      "cell_type": "code",
      "metadata": {
        "id": "Ib6w59sdKfyl"
      },
      "source": [
        "df_m_train = pd.read_csv(\"Train.csv\")\n",
        "df_m_test = pd.read_csv(\"Test.csv\")\n",
        "df_m_sample = pd.read_csv(\"Sample Submission.csv\")\n"
      ],
      "execution_count": 21,
      "outputs": []
    },
    {
      "cell_type": "code",
      "metadata": {
        "id": "tx9N5dy4LvgC"
      },
      "source": [
        "\n",
        "features = ['InvoiceNo','Description','CustomerID']\n",
        "df_m = df_m_train.drop(features, axis=1, inplace=False)"
      ],
      "execution_count": 22,
      "outputs": []
    },
    {
      "cell_type": "code",
      "metadata": {
        "id": "c2zOg3nCMUON"
      },
      "source": [
        "t = df_m[['StockCode','Quantity','Country']]\n",
        "t1 = df_m[['UnitPrice']]"
      ],
      "execution_count": 23,
      "outputs": []
    },
    {
      "cell_type": "code",
      "metadata": {
        "id": "wBzbFv-AMmBY",
        "outputId": "722d050b-ae88-43fc-edd3-3335bccbc822",
        "colab": {
          "base_uri": "https://localhost:8080/",
          "height": 419
        }
      },
      "source": [
        "t1"
      ],
      "execution_count": 24,
      "outputs": [
        {
          "output_type": "execute_result",
          "data": {
            "text/html": [
              "<div>\n",
              "<style scoped>\n",
              "    .dataframe tbody tr th:only-of-type {\n",
              "        vertical-align: middle;\n",
              "    }\n",
              "\n",
              "    .dataframe tbody tr th {\n",
              "        vertical-align: top;\n",
              "    }\n",
              "\n",
              "    .dataframe thead th {\n",
              "        text-align: right;\n",
              "    }\n",
              "</style>\n",
              "<table border=\"1\" class=\"dataframe\">\n",
              "  <thead>\n",
              "    <tr style=\"text-align: right;\">\n",
              "      <th></th>\n",
              "      <th>UnitPrice</th>\n",
              "    </tr>\n",
              "  </thead>\n",
              "  <tbody>\n",
              "    <tr>\n",
              "      <th>0</th>\n",
              "      <td>3.75</td>\n",
              "    </tr>\n",
              "    <tr>\n",
              "      <th>1</th>\n",
              "      <td>1.95</td>\n",
              "    </tr>\n",
              "    <tr>\n",
              "      <th>2</th>\n",
              "      <td>5.95</td>\n",
              "    </tr>\n",
              "    <tr>\n",
              "      <th>3</th>\n",
              "      <td>0.83</td>\n",
              "    </tr>\n",
              "    <tr>\n",
              "      <th>4</th>\n",
              "      <td>1.65</td>\n",
              "    </tr>\n",
              "    <tr>\n",
              "      <th>...</th>\n",
              "      <td>...</td>\n",
              "    </tr>\n",
              "    <tr>\n",
              "      <th>284775</th>\n",
              "      <td>1.65</td>\n",
              "    </tr>\n",
              "    <tr>\n",
              "      <th>284776</th>\n",
              "      <td>0.65</td>\n",
              "    </tr>\n",
              "    <tr>\n",
              "      <th>284777</th>\n",
              "      <td>8.50</td>\n",
              "    </tr>\n",
              "    <tr>\n",
              "      <th>284778</th>\n",
              "      <td>3.45</td>\n",
              "    </tr>\n",
              "    <tr>\n",
              "      <th>284779</th>\n",
              "      <td>0.75</td>\n",
              "    </tr>\n",
              "  </tbody>\n",
              "</table>\n",
              "<p>284780 rows × 1 columns</p>\n",
              "</div>"
            ],
            "text/plain": [
              "        UnitPrice\n",
              "0            3.75\n",
              "1            1.95\n",
              "2            5.95\n",
              "3            0.83\n",
              "4            1.65\n",
              "...           ...\n",
              "284775       1.65\n",
              "284776       0.65\n",
              "284777       8.50\n",
              "284778       3.45\n",
              "284779       0.75\n",
              "\n",
              "[284780 rows x 1 columns]"
            ]
          },
          "metadata": {
            "tags": []
          },
          "execution_count": 24
        }
      ]
    },
    {
      "cell_type": "code",
      "metadata": {
        "id": "ixr1x2j4MHoK"
      },
      "source": [
        "X = t.iloc[:,:].values\n",
        "Y = df_m.iloc[:,3:4].values"
      ],
      "execution_count": 25,
      "outputs": []
    },
    {
      "cell_type": "code",
      "metadata": {
        "id": "AAnRXCMfLZSb"
      },
      "source": [
        "X_train,X_test,Y_train,Y_test = train_test_split(X,Y,test_size=1/3,random_state=0)"
      ],
      "execution_count": 26,
      "outputs": []
    },
    {
      "cell_type": "code",
      "metadata": {
        "id": "jnVE3c6ufuJF",
        "outputId": "5415bbac-c547-4b54-b23f-13a94f0c3174",
        "colab": {
          "base_uri": "https://localhost:8080/"
        }
      },
      "source": [
        "X_train"
      ],
      "execution_count": 27,
      "outputs": [
        {
          "output_type": "execute_result",
          "data": {
            "text/plain": [
              "array([[ 617,   12,   35],\n",
              "       [3388,    2,    3],\n",
              "       [2785,    4,   35],\n",
              "       ...,\n",
              "       [1047,    2,   35],\n",
              "       [1660,    6,   35],\n",
              "       [ 878,    4,   35]])"
            ]
          },
          "metadata": {
            "tags": []
          },
          "execution_count": 27
        }
      ]
    },
    {
      "cell_type": "code",
      "metadata": {
        "id": "_vwozK6INJtj",
        "outputId": "c9655a0f-9dd8-4364-aa4d-82a8da0f31b7",
        "colab": {
          "base_uri": "https://localhost:8080/"
        }
      },
      "source": [
        "from sklearn.linear_model import LinearRegression\n",
        "\n",
        "model = LinearRegression(normalize=True)\n",
        "model.fit(X_train,Y_train)"
      ],
      "execution_count": 28,
      "outputs": [
        {
          "output_type": "execute_result",
          "data": {
            "text/plain": [
              "LinearRegression(copy_X=True, fit_intercept=True, n_jobs=None, normalize=True)"
            ]
          },
          "metadata": {
            "tags": []
          },
          "execution_count": 28
        }
      ]
    },
    {
      "cell_type": "code",
      "metadata": {
        "id": "umCvQoijNSUz",
        "outputId": "695aaf41-b053-4b86-93a5-debb2d475a86",
        "colab": {
          "base_uri": "https://localhost:8080/"
        }
      },
      "source": [
        "print(\"Mode Coeff or Slope \",model.coef_)\n",
        "print(\"Mode Coeff or Slope \",model.intercept_)"
      ],
      "execution_count": 29,
      "outputs": [
        {
          "output_type": "stream",
          "text": [
            "Mode Coeff or Slope  [[ 0.00201133 -0.00031669 -0.05585275]]\n",
            "Mode Coeff or Slope  [2.16258926]\n"
          ],
          "name": "stdout"
        }
      ]
    },
    {
      "cell_type": "code",
      "metadata": {
        "id": "6Np-42o2NUn9",
        "outputId": "2689cd30-046c-45c3-b43a-68c63426264c",
        "colab": {
          "base_uri": "https://localhost:8080/"
        }
      },
      "source": [
        "from sklearn.metrics import mean_squared_error,r2_score\n",
        "print(\"mean squared error \",mean_squared_error(Y_test,Y_predict))"
      ],
      "execution_count": 30,
      "outputs": [
        {
          "output_type": "stream",
          "text": [
            "mean squared error  852.6480200241125\n"
          ],
          "name": "stdout"
        }
      ]
    },
    {
      "cell_type": "code",
      "metadata": {
        "id": "ooGz3nWuNhkJ",
        "outputId": "ae52f34a-e363-4681-ca45-68678ed44a4b",
        "colab": {
          "base_uri": "https://localhost:8080/"
        }
      },
      "source": [
        "print('Variance score = %.2f' % r2_score(Y_test, Y_predict))"
      ],
      "execution_count": 31,
      "outputs": [
        {
          "output_type": "stream",
          "text": [
            "Variance score = -0.00\n"
          ],
          "name": "stdout"
        }
      ]
    },
    {
      "cell_type": "code",
      "metadata": {
        "id": "PqgNWK0IfWqv",
        "outputId": "0b6706a8-ed76-49d4-8d75-7cf72f3a7dcb",
        "colab": {
          "base_uri": "https://localhost:8080/"
        }
      },
      "source": [
        "Y_test , Y_predict"
      ],
      "execution_count": 32,
      "outputs": [
        {
          "output_type": "execute_result",
          "data": {
            "text/plain": [
              "(array([[2.08],\n",
              "        [0.42],\n",
              "        [1.25],\n",
              "        ...,\n",
              "        [1.65],\n",
              "        [9.95],\n",
              "        [2.95]]), array([[3.48226321],\n",
              "        [3.48692719],\n",
              "        [3.49345676],\n",
              "        ...,\n",
              "        [3.49407862],\n",
              "        [3.49438955],\n",
              "        [3.49407862]]))"
            ]
          },
          "metadata": {
            "tags": []
          },
          "execution_count": 32
        }
      ]
    },
    {
      "cell_type": "code",
      "metadata": {
        "id": "OjBnfvqAx6bh",
        "outputId": "9679a5fb-9893-411a-9344-749bc1484e56",
        "colab": {
          "base_uri": "https://localhost:8080/"
        }
      },
      "source": [
        "np.hstack((Y_test, Y_predict))"
      ],
      "execution_count": 33,
      "outputs": [
        {
          "output_type": "execute_result",
          "data": {
            "text/plain": [
              "array([[2.08      , 3.48226321],\n",
              "       [0.42      , 3.48692719],\n",
              "       [1.25      , 3.49345676],\n",
              "       ...,\n",
              "       [1.65      , 3.49407862],\n",
              "       [9.95      , 3.49438955],\n",
              "       [2.95      , 3.49407862]])"
            ]
          },
          "metadata": {
            "tags": []
          },
          "execution_count": 33
        }
      ]
    },
    {
      "cell_type": "code",
      "metadata": {
        "id": "fZ9qh1HfqiAY",
        "outputId": "cd8743b4-cd19-4809-c7cf-bce3c16f4283",
        "colab": {
          "base_uri": "https://localhost:8080/"
        }
      },
      "source": [
        "print(df_train.apply(lambda x : sum(x.isnull())))"
      ],
      "execution_count": 34,
      "outputs": [
        {
          "output_type": "stream",
          "text": [
            "InvoiceNo      0\n",
            "StockCode      0\n",
            "Description    0\n",
            "Quantity       0\n",
            "InvoiceDate    0\n",
            "UnitPrice      0\n",
            "CustomerID     0\n",
            "Country        0\n",
            "dtype: int64\n"
          ],
          "name": "stdout"
        }
      ]
    },
    {
      "cell_type": "code",
      "metadata": {
        "id": "UuEXlJfewV-0",
        "outputId": "471db60d-e2a7-4086-b631-c9e37f6b682c",
        "colab": {
          "base_uri": "https://localhost:8080/",
          "height": 450
        }
      },
      "source": [
        "#(df_train.groupby('StockCode')['UnitPrice'].min(),df_train.groupby('StockCode')['UnitPrice'].count())\n",
        "\n",
        "functions = ['count','min','max','sum','mean','std']\n",
        "df_train.groupby(df_train['StockCode'])['UnitPrice'].agg(functions)\n"
      ],
      "execution_count": 35,
      "outputs": [
        {
          "output_type": "execute_result",
          "data": {
            "text/html": [
              "<div>\n",
              "<style scoped>\n",
              "    .dataframe tbody tr th:only-of-type {\n",
              "        vertical-align: middle;\n",
              "    }\n",
              "\n",
              "    .dataframe tbody tr th {\n",
              "        vertical-align: top;\n",
              "    }\n",
              "\n",
              "    .dataframe thead th {\n",
              "        text-align: right;\n",
              "    }\n",
              "</style>\n",
              "<table border=\"1\" class=\"dataframe\">\n",
              "  <thead>\n",
              "    <tr style=\"text-align: right;\">\n",
              "      <th></th>\n",
              "      <th>count</th>\n",
              "      <th>min</th>\n",
              "      <th>max</th>\n",
              "      <th>sum</th>\n",
              "      <th>mean</th>\n",
              "      <th>std</th>\n",
              "    </tr>\n",
              "    <tr>\n",
              "      <th>StockCode</th>\n",
              "      <th></th>\n",
              "      <th></th>\n",
              "      <th></th>\n",
              "      <th></th>\n",
              "      <th></th>\n",
              "      <th></th>\n",
              "    </tr>\n",
              "  </thead>\n",
              "  <tbody>\n",
              "    <tr>\n",
              "      <th>0</th>\n",
              "      <td>32</td>\n",
              "      <td>0.85</td>\n",
              "      <td>0.850</td>\n",
              "      <td>27.200</td>\n",
              "      <td>0.850000</td>\n",
              "      <td>0.000000</td>\n",
              "    </tr>\n",
              "    <tr>\n",
              "      <th>1</th>\n",
              "      <td>14</td>\n",
              "      <td>0.39</td>\n",
              "      <td>0.850</td>\n",
              "      <td>5.920</td>\n",
              "      <td>0.422857</td>\n",
              "      <td>0.122940</td>\n",
              "    </tr>\n",
              "    <tr>\n",
              "      <th>2</th>\n",
              "      <td>23</td>\n",
              "      <td>0.21</td>\n",
              "      <td>0.210</td>\n",
              "      <td>4.830</td>\n",
              "      <td>0.210000</td>\n",
              "      <td>0.000000</td>\n",
              "    </tr>\n",
              "    <tr>\n",
              "      <th>3</th>\n",
              "      <td>3</td>\n",
              "      <td>0.65</td>\n",
              "      <td>0.650</td>\n",
              "      <td>1.950</td>\n",
              "      <td>0.650000</td>\n",
              "      <td>0.000000</td>\n",
              "    </tr>\n",
              "    <tr>\n",
              "      <th>4</th>\n",
              "      <td>4</td>\n",
              "      <td>0.42</td>\n",
              "      <td>0.420</td>\n",
              "      <td>1.680</td>\n",
              "      <td>0.420000</td>\n",
              "      <td>0.000000</td>\n",
              "    </tr>\n",
              "    <tr>\n",
              "      <th>...</th>\n",
              "      <td>...</td>\n",
              "      <td>...</td>\n",
              "      <td>...</td>\n",
              "      <td>...</td>\n",
              "      <td>...</td>\n",
              "      <td>...</td>\n",
              "    </tr>\n",
              "    <tr>\n",
              "      <th>3679</th>\n",
              "      <td>49</td>\n",
              "      <td>0.01</td>\n",
              "      <td>1867.860</td>\n",
              "      <td>4292.730</td>\n",
              "      <td>87.606735</td>\n",
              "      <td>268.936159</td>\n",
              "    </tr>\n",
              "    <tr>\n",
              "      <th>3680</th>\n",
              "      <td>14</td>\n",
              "      <td>11.17</td>\n",
              "      <td>1599.260</td>\n",
              "      <td>10942.230</td>\n",
              "      <td>781.587857</td>\n",
              "      <td>548.848549</td>\n",
              "    </tr>\n",
              "    <tr>\n",
              "      <th>3681</th>\n",
              "      <td>320</td>\n",
              "      <td>0.00</td>\n",
              "      <td>38970.000</td>\n",
              "      <td>107096.470</td>\n",
              "      <td>334.676469</td>\n",
              "      <td>2254.157390</td>\n",
              "    </tr>\n",
              "    <tr>\n",
              "      <th>3682</th>\n",
              "      <td>4</td>\n",
              "      <td>0.00</td>\n",
              "      <td>0.001</td>\n",
              "      <td>0.003</td>\n",
              "      <td>0.000750</td>\n",
              "      <td>0.000500</td>\n",
              "    </tr>\n",
              "    <tr>\n",
              "      <th>3683</th>\n",
              "      <td>840</td>\n",
              "      <td>1.00</td>\n",
              "      <td>8142.750</td>\n",
              "      <td>27902.050</td>\n",
              "      <td>33.216726</td>\n",
              "      <td>282.305604</td>\n",
              "    </tr>\n",
              "  </tbody>\n",
              "</table>\n",
              "<p>3619 rows × 6 columns</p>\n",
              "</div>"
            ],
            "text/plain": [
              "           count    min        max         sum        mean          std\n",
              "StockCode                                                              \n",
              "0             32   0.85      0.850      27.200    0.850000     0.000000\n",
              "1             14   0.39      0.850       5.920    0.422857     0.122940\n",
              "2             23   0.21      0.210       4.830    0.210000     0.000000\n",
              "3              3   0.65      0.650       1.950    0.650000     0.000000\n",
              "4              4   0.42      0.420       1.680    0.420000     0.000000\n",
              "...          ...    ...        ...         ...         ...          ...\n",
              "3679          49   0.01   1867.860    4292.730   87.606735   268.936159\n",
              "3680          14  11.17   1599.260   10942.230  781.587857   548.848549\n",
              "3681         320   0.00  38970.000  107096.470  334.676469  2254.157390\n",
              "3682           4   0.00      0.001       0.003    0.000750     0.000500\n",
              "3683         840   1.00   8142.750   27902.050   33.216726   282.305604\n",
              "\n",
              "[3619 rows x 6 columns]"
            ]
          },
          "metadata": {
            "tags": []
          },
          "execution_count": 35
        }
      ]
    },
    {
      "cell_type": "code",
      "metadata": {
        "id": "Ax7pphkaq_QL",
        "outputId": "d414305e-d428-422e-bd19-24f5432626d2",
        "colab": {
          "base_uri": "https://localhost:8080/",
          "height": 450
        }
      },
      "source": [
        "df_train[\"Date\"]= pd.to_datetime(df_train[\"InvoiceDate\"]) \n",
        "functions = ['count','min','max']\n",
        "df_train.groupby(df_train['StockCode'])['Date'].agg(functions)"
      ],
      "execution_count": 36,
      "outputs": [
        {
          "output_type": "execute_result",
          "data": {
            "text/html": [
              "<div>\n",
              "<style scoped>\n",
              "    .dataframe tbody tr th:only-of-type {\n",
              "        vertical-align: middle;\n",
              "    }\n",
              "\n",
              "    .dataframe tbody tr th {\n",
              "        vertical-align: top;\n",
              "    }\n",
              "\n",
              "    .dataframe thead th {\n",
              "        text-align: right;\n",
              "    }\n",
              "</style>\n",
              "<table border=\"1\" class=\"dataframe\">\n",
              "  <thead>\n",
              "    <tr style=\"text-align: right;\">\n",
              "      <th></th>\n",
              "      <th>count</th>\n",
              "      <th>min</th>\n",
              "      <th>max</th>\n",
              "    </tr>\n",
              "    <tr>\n",
              "      <th>StockCode</th>\n",
              "      <th></th>\n",
              "      <th></th>\n",
              "      <th></th>\n",
              "    </tr>\n",
              "  </thead>\n",
              "  <tbody>\n",
              "    <tr>\n",
              "      <th>0</th>\n",
              "      <td>32</td>\n",
              "      <td>2010-12-01 08:45:00</td>\n",
              "      <td>2011-04-18 12:56:00</td>\n",
              "    </tr>\n",
              "    <tr>\n",
              "      <th>1</th>\n",
              "      <td>14</td>\n",
              "      <td>2011-02-27 13:47:00</td>\n",
              "      <td>2011-11-21 17:04:00</td>\n",
              "    </tr>\n",
              "    <tr>\n",
              "      <th>2</th>\n",
              "      <td>23</td>\n",
              "      <td>2010-12-03 14:54:00</td>\n",
              "      <td>2011-12-04 13:15:00</td>\n",
              "    </tr>\n",
              "    <tr>\n",
              "      <th>3</th>\n",
              "      <td>3</td>\n",
              "      <td>2010-12-03 11:19:00</td>\n",
              "      <td>2011-03-31 13:14:00</td>\n",
              "    </tr>\n",
              "    <tr>\n",
              "      <th>4</th>\n",
              "      <td>4</td>\n",
              "      <td>2010-12-06 13:13:00</td>\n",
              "      <td>2011-11-06 13:00:00</td>\n",
              "    </tr>\n",
              "    <tr>\n",
              "      <th>...</th>\n",
              "      <td>...</td>\n",
              "      <td>...</td>\n",
              "      <td>...</td>\n",
              "    </tr>\n",
              "    <tr>\n",
              "      <th>3679</th>\n",
              "      <td>49</td>\n",
              "      <td>2010-12-01 09:41:00</td>\n",
              "      <td>2011-12-01 08:49:00</td>\n",
              "    </tr>\n",
              "    <tr>\n",
              "      <th>3680</th>\n",
              "      <td>14</td>\n",
              "      <td>2011-08-30 10:49:00</td>\n",
              "      <td>2011-12-05 17:17:00</td>\n",
              "    </tr>\n",
              "    <tr>\n",
              "      <th>3681</th>\n",
              "      <td>320</td>\n",
              "      <td>2010-12-01 15:35:00</td>\n",
              "      <td>2011-12-09 10:28:00</td>\n",
              "    </tr>\n",
              "    <tr>\n",
              "      <th>3682</th>\n",
              "      <td>4</td>\n",
              "      <td>2011-04-15 09:27:00</td>\n",
              "      <td>2011-09-25 14:58:00</td>\n",
              "    </tr>\n",
              "    <tr>\n",
              "      <th>3683</th>\n",
              "      <td>840</td>\n",
              "      <td>2010-12-01 08:45:00</td>\n",
              "      <td>2011-12-09 12:16:00</td>\n",
              "    </tr>\n",
              "  </tbody>\n",
              "</table>\n",
              "<p>3619 rows × 3 columns</p>\n",
              "</div>"
            ],
            "text/plain": [
              "           count                 min                 max\n",
              "StockCode                                               \n",
              "0             32 2010-12-01 08:45:00 2011-04-18 12:56:00\n",
              "1             14 2011-02-27 13:47:00 2011-11-21 17:04:00\n",
              "2             23 2010-12-03 14:54:00 2011-12-04 13:15:00\n",
              "3              3 2010-12-03 11:19:00 2011-03-31 13:14:00\n",
              "4              4 2010-12-06 13:13:00 2011-11-06 13:00:00\n",
              "...          ...                 ...                 ...\n",
              "3679          49 2010-12-01 09:41:00 2011-12-01 08:49:00\n",
              "3680          14 2011-08-30 10:49:00 2011-12-05 17:17:00\n",
              "3681         320 2010-12-01 15:35:00 2011-12-09 10:28:00\n",
              "3682           4 2011-04-15 09:27:00 2011-09-25 14:58:00\n",
              "3683         840 2010-12-01 08:45:00 2011-12-09 12:16:00\n",
              "\n",
              "[3619 rows x 3 columns]"
            ]
          },
          "metadata": {
            "tags": []
          },
          "execution_count": 36
        }
      ]
    },
    {
      "cell_type": "code",
      "metadata": {
        "id": "XTwlgElnrViD",
        "outputId": "98303e70-f88c-4206-8295-c1fbdd43bfcc",
        "colab": {
          "base_uri": "https://localhost:8080/",
          "height": 419
        }
      },
      "source": [
        "df_train"
      ],
      "execution_count": 37,
      "outputs": [
        {
          "output_type": "execute_result",
          "data": {
            "text/html": [
              "<div>\n",
              "<style scoped>\n",
              "    .dataframe tbody tr th:only-of-type {\n",
              "        vertical-align: middle;\n",
              "    }\n",
              "\n",
              "    .dataframe tbody tr th {\n",
              "        vertical-align: top;\n",
              "    }\n",
              "\n",
              "    .dataframe thead th {\n",
              "        text-align: right;\n",
              "    }\n",
              "</style>\n",
              "<table border=\"1\" class=\"dataframe\">\n",
              "  <thead>\n",
              "    <tr style=\"text-align: right;\">\n",
              "      <th></th>\n",
              "      <th>InvoiceNo</th>\n",
              "      <th>StockCode</th>\n",
              "      <th>Description</th>\n",
              "      <th>Quantity</th>\n",
              "      <th>InvoiceDate</th>\n",
              "      <th>UnitPrice</th>\n",
              "      <th>CustomerID</th>\n",
              "      <th>Country</th>\n",
              "      <th>Date</th>\n",
              "    </tr>\n",
              "  </thead>\n",
              "  <tbody>\n",
              "    <tr>\n",
              "      <th>0</th>\n",
              "      <td>6141</td>\n",
              "      <td>1583</td>\n",
              "      <td>144</td>\n",
              "      <td>3</td>\n",
              "      <td>2011-05-06 16:54:00</td>\n",
              "      <td>3.75</td>\n",
              "      <td>14056.0</td>\n",
              "      <td>35</td>\n",
              "      <td>2011-05-06 16:54:00</td>\n",
              "    </tr>\n",
              "    <tr>\n",
              "      <th>1</th>\n",
              "      <td>6349</td>\n",
              "      <td>1300</td>\n",
              "      <td>3682</td>\n",
              "      <td>6</td>\n",
              "      <td>2011-05-11 07:35:00</td>\n",
              "      <td>1.95</td>\n",
              "      <td>13098.0</td>\n",
              "      <td>35</td>\n",
              "      <td>2011-05-11 07:35:00</td>\n",
              "    </tr>\n",
              "    <tr>\n",
              "      <th>2</th>\n",
              "      <td>16783</td>\n",
              "      <td>2178</td>\n",
              "      <td>1939</td>\n",
              "      <td>4</td>\n",
              "      <td>2011-11-20 13:20:00</td>\n",
              "      <td>5.95</td>\n",
              "      <td>15044.0</td>\n",
              "      <td>35</td>\n",
              "      <td>2011-11-20 13:20:00</td>\n",
              "    </tr>\n",
              "    <tr>\n",
              "      <th>3</th>\n",
              "      <td>16971</td>\n",
              "      <td>2115</td>\n",
              "      <td>2983</td>\n",
              "      <td>1</td>\n",
              "      <td>2011-11-22 12:07:00</td>\n",
              "      <td>0.83</td>\n",
              "      <td>15525.0</td>\n",
              "      <td>35</td>\n",
              "      <td>2011-11-22 12:07:00</td>\n",
              "    </tr>\n",
              "    <tr>\n",
              "      <th>4</th>\n",
              "      <td>6080</td>\n",
              "      <td>1210</td>\n",
              "      <td>2886</td>\n",
              "      <td>12</td>\n",
              "      <td>2011-05-06 09:00:00</td>\n",
              "      <td>1.65</td>\n",
              "      <td>13952.0</td>\n",
              "      <td>35</td>\n",
              "      <td>2011-05-06 09:00:00</td>\n",
              "    </tr>\n",
              "    <tr>\n",
              "      <th>...</th>\n",
              "      <td>...</td>\n",
              "      <td>...</td>\n",
              "      <td>...</td>\n",
              "      <td>...</td>\n",
              "      <td>...</td>\n",
              "      <td>...</td>\n",
              "      <td>...</td>\n",
              "      <td>...</td>\n",
              "      <td>...</td>\n",
              "    </tr>\n",
              "    <tr>\n",
              "      <th>284775</th>\n",
              "      <td>3408</td>\n",
              "      <td>1706</td>\n",
              "      <td>1081</td>\n",
              "      <td>6</td>\n",
              "      <td>2011-03-01 12:07:00</td>\n",
              "      <td>1.65</td>\n",
              "      <td>17965.0</td>\n",
              "      <td>35</td>\n",
              "      <td>2011-03-01 12:07:00</td>\n",
              "    </tr>\n",
              "    <tr>\n",
              "      <th>284776</th>\n",
              "      <td>13982</td>\n",
              "      <td>2184</td>\n",
              "      <td>2947</td>\n",
              "      <td>16</td>\n",
              "      <td>2011-10-13 15:08:00</td>\n",
              "      <td>0.65</td>\n",
              "      <td>16793.0</td>\n",
              "      <td>35</td>\n",
              "      <td>2011-10-13 15:08:00</td>\n",
              "    </tr>\n",
              "    <tr>\n",
              "      <th>284777</th>\n",
              "      <td>6641</td>\n",
              "      <td>667</td>\n",
              "      <td>3632</td>\n",
              "      <td>4</td>\n",
              "      <td>2011-05-16 12:59:00</td>\n",
              "      <td>8.50</td>\n",
              "      <td>14755.0</td>\n",
              "      <td>35</td>\n",
              "      <td>2011-05-16 12:59:00</td>\n",
              "    </tr>\n",
              "    <tr>\n",
              "      <th>284778</th>\n",
              "      <td>13820</td>\n",
              "      <td>1576</td>\n",
              "      <td>3089</td>\n",
              "      <td>48</td>\n",
              "      <td>2011-10-11 14:18:00</td>\n",
              "      <td>3.45</td>\n",
              "      <td>14866.0</td>\n",
              "      <td>35</td>\n",
              "      <td>2011-10-11 14:18:00</td>\n",
              "    </tr>\n",
              "    <tr>\n",
              "      <th>284779</th>\n",
              "      <td>11042</td>\n",
              "      <td>2603</td>\n",
              "      <td>1156</td>\n",
              "      <td>2</td>\n",
              "      <td>2011-08-22 13:30:00</td>\n",
              "      <td>0.75</td>\n",
              "      <td>17585.0</td>\n",
              "      <td>35</td>\n",
              "      <td>2011-08-22 13:30:00</td>\n",
              "    </tr>\n",
              "  </tbody>\n",
              "</table>\n",
              "<p>284780 rows × 9 columns</p>\n",
              "</div>"
            ],
            "text/plain": [
              "        InvoiceNo  StockCode  ...  Country                Date\n",
              "0            6141       1583  ...       35 2011-05-06 16:54:00\n",
              "1            6349       1300  ...       35 2011-05-11 07:35:00\n",
              "2           16783       2178  ...       35 2011-11-20 13:20:00\n",
              "3           16971       2115  ...       35 2011-11-22 12:07:00\n",
              "4            6080       1210  ...       35 2011-05-06 09:00:00\n",
              "...           ...        ...  ...      ...                 ...\n",
              "284775       3408       1706  ...       35 2011-03-01 12:07:00\n",
              "284776      13982       2184  ...       35 2011-10-13 15:08:00\n",
              "284777       6641        667  ...       35 2011-05-16 12:59:00\n",
              "284778      13820       1576  ...       35 2011-10-11 14:18:00\n",
              "284779      11042       2603  ...       35 2011-08-22 13:30:00\n",
              "\n",
              "[284780 rows x 9 columns]"
            ]
          },
          "metadata": {
            "tags": []
          },
          "execution_count": 37
        }
      ]
    },
    {
      "cell_type": "markdown",
      "metadata": {
        "id": "0JeF0scZNUW-"
      },
      "source": [
        ""
      ]
    },
    {
      "cell_type": "code",
      "metadata": {
        "id": "YeYhfEKzAAPb",
        "outputId": "4cb57c36-adb2-4b29-c39c-fc256b19466f",
        "colab": {
          "base_uri": "https://localhost:8080/"
        }
      },
      "source": [
        "df_train.groupby('StockCode')['UnitPrice'].describe().unstack()"
      ],
      "execution_count": 38,
      "outputs": [
        {
          "output_type": "execute_result",
          "data": {
            "text/plain": [
              "       StockCode\n",
              "count  0               32.000\n",
              "       1               14.000\n",
              "       2               23.000\n",
              "       3                3.000\n",
              "       4                4.000\n",
              "                      ...    \n",
              "max    3679          1867.860\n",
              "       3680          1599.260\n",
              "       3681         38970.000\n",
              "       3682             0.001\n",
              "       3683          8142.750\n",
              "Length: 28952, dtype: float64"
            ]
          },
          "metadata": {
            "tags": []
          },
          "execution_count": 38
        }
      ]
    },
    {
      "cell_type": "code",
      "metadata": {
        "id": "SiCyf3mCAq3C",
        "outputId": "286d2600-538d-4566-8acb-c634c6cc4bb8",
        "colab": {
          "base_uri": "https://localhost:8080/"
        }
      },
      "source": [
        "df_train.StockCode.nunique()"
      ],
      "execution_count": 39,
      "outputs": [
        {
          "output_type": "execute_result",
          "data": {
            "text/plain": [
              "3619"
            ]
          },
          "metadata": {
            "tags": []
          },
          "execution_count": 39
        }
      ]
    },
    {
      "cell_type": "code",
      "metadata": {
        "id": "sU83N41fx39z",
        "outputId": "ff8bcb15-797a-456b-fc96-d70429fe5029",
        "colab": {
          "base_uri": "https://localhost:8080/"
        }
      },
      "source": [
        "np.hstack((Y_test, Y_predict))"
      ],
      "execution_count": 40,
      "outputs": [
        {
          "output_type": "execute_result",
          "data": {
            "text/plain": [
              "array([[2.08      , 3.48226321],\n",
              "       [0.42      , 3.48692719],\n",
              "       [1.25      , 3.49345676],\n",
              "       ...,\n",
              "       [1.65      , 3.49407862],\n",
              "       [9.95      , 3.49438955],\n",
              "       [2.95      , 3.49407862]])"
            ]
          },
          "metadata": {
            "tags": []
          },
          "execution_count": 40
        }
      ]
    },
    {
      "cell_type": "code",
      "metadata": {
        "id": "2S6sxi7VoVpt",
        "outputId": "00b3c738-d110-49ae-dda8-945537abd1c2",
        "colab": {
          "base_uri": "https://localhost:8080/"
        }
      },
      "source": [
        "df_train[\"Date\"].head()"
      ],
      "execution_count": 41,
      "outputs": [
        {
          "output_type": "execute_result",
          "data": {
            "text/plain": [
              "0   2011-05-06 16:54:00\n",
              "1   2011-05-11 07:35:00\n",
              "2   2011-11-20 13:20:00\n",
              "3   2011-11-22 12:07:00\n",
              "4   2011-05-06 09:00:00\n",
              "Name: Date, dtype: datetime64[ns]"
            ]
          },
          "metadata": {
            "tags": []
          },
          "execution_count": 41
        }
      ]
    },
    {
      "cell_type": "code",
      "metadata": {
        "id": "wnZhuv5GuBHg",
        "outputId": "a98ea9cc-9d38-4426-ba69-b977271f2600",
        "colab": {
          "base_uri": "https://localhost:8080/"
        }
      },
      "source": [
        "df_train[df_train[\"StockCode\"] == 3679]['UnitPrice'].describe()[2]"
      ],
      "execution_count": 42,
      "outputs": [
        {
          "output_type": "execute_result",
          "data": {
            "text/plain": [
              "268.9361587609885"
            ]
          },
          "metadata": {
            "tags": []
          },
          "execution_count": 42
        }
      ]
    },
    {
      "cell_type": "code",
      "metadata": {
        "id": "CrMpn33qq-au",
        "outputId": "9f64325f-2559-4b91-c336-4be65e1bf535",
        "colab": {
          "base_uri": "https://localhost:8080/",
          "height": 1000
        }
      },
      "source": [
        "df_train[df_train[\"StockCode\"] == 3679].sort_values(by=\"Date\")"
      ],
      "execution_count": 43,
      "outputs": [
        {
          "output_type": "execute_result",
          "data": {
            "text/html": [
              "<div>\n",
              "<style scoped>\n",
              "    .dataframe tbody tr th:only-of-type {\n",
              "        vertical-align: middle;\n",
              "    }\n",
              "\n",
              "    .dataframe tbody tr th {\n",
              "        vertical-align: top;\n",
              "    }\n",
              "\n",
              "    .dataframe thead th {\n",
              "        text-align: right;\n",
              "    }\n",
              "</style>\n",
              "<table border=\"1\" class=\"dataframe\">\n",
              "  <thead>\n",
              "    <tr style=\"text-align: right;\">\n",
              "      <th></th>\n",
              "      <th>InvoiceNo</th>\n",
              "      <th>StockCode</th>\n",
              "      <th>Description</th>\n",
              "      <th>Quantity</th>\n",
              "      <th>InvoiceDate</th>\n",
              "      <th>UnitPrice</th>\n",
              "      <th>CustomerID</th>\n",
              "      <th>Country</th>\n",
              "      <th>Date</th>\n",
              "    </tr>\n",
              "  </thead>\n",
              "  <tbody>\n",
              "    <tr>\n",
              "      <th>277448</th>\n",
              "      <td>18536</td>\n",
              "      <td>3679</td>\n",
              "      <td>1066</td>\n",
              "      <td>-1</td>\n",
              "      <td>2010-12-01 09:41:00</td>\n",
              "      <td>27.50</td>\n",
              "      <td>14527.0</td>\n",
              "      <td>35</td>\n",
              "      <td>2010-12-01 09:41:00</td>\n",
              "    </tr>\n",
              "    <tr>\n",
              "      <th>222039</th>\n",
              "      <td>18735</td>\n",
              "      <td>3679</td>\n",
              "      <td>1066</td>\n",
              "      <td>-1</td>\n",
              "      <td>2010-12-15 09:14:00</td>\n",
              "      <td>42.50</td>\n",
              "      <td>16422.0</td>\n",
              "      <td>35</td>\n",
              "      <td>2010-12-15 09:14:00</td>\n",
              "    </tr>\n",
              "    <tr>\n",
              "      <th>39161</th>\n",
              "      <td>18740</td>\n",
              "      <td>3679</td>\n",
              "      <td>1066</td>\n",
              "      <td>-1</td>\n",
              "      <td>2010-12-15 12:35:00</td>\n",
              "      <td>26.93</td>\n",
              "      <td>14527.0</td>\n",
              "      <td>35</td>\n",
              "      <td>2010-12-15 12:35:00</td>\n",
              "    </tr>\n",
              "    <tr>\n",
              "      <th>138744</th>\n",
              "      <td>18859</td>\n",
              "      <td>3679</td>\n",
              "      <td>1066</td>\n",
              "      <td>-1</td>\n",
              "      <td>2011-01-05 12:26:00</td>\n",
              "      <td>22.97</td>\n",
              "      <td>14527.0</td>\n",
              "      <td>35</td>\n",
              "      <td>2011-01-05 12:26:00</td>\n",
              "    </tr>\n",
              "    <tr>\n",
              "      <th>178214</th>\n",
              "      <td>19175</td>\n",
              "      <td>3679</td>\n",
              "      <td>1066</td>\n",
              "      <td>-1</td>\n",
              "      <td>2011-02-11 14:12:00</td>\n",
              "      <td>64.27</td>\n",
              "      <td>14031.0</td>\n",
              "      <td>35</td>\n",
              "      <td>2011-02-11 14:12:00</td>\n",
              "    </tr>\n",
              "    <tr>\n",
              "      <th>272363</th>\n",
              "      <td>19179</td>\n",
              "      <td>3679</td>\n",
              "      <td>1066</td>\n",
              "      <td>-1</td>\n",
              "      <td>2011-02-11 15:07:00</td>\n",
              "      <td>65.91</td>\n",
              "      <td>15299.0</td>\n",
              "      <td>35</td>\n",
              "      <td>2011-02-11 15:07:00</td>\n",
              "    </tr>\n",
              "    <tr>\n",
              "      <th>30399</th>\n",
              "      <td>19201</td>\n",
              "      <td>3679</td>\n",
              "      <td>1066</td>\n",
              "      <td>-1</td>\n",
              "      <td>2011-02-11 17:10:00</td>\n",
              "      <td>84.80</td>\n",
              "      <td>17450.0</td>\n",
              "      <td>35</td>\n",
              "      <td>2011-02-11 17:10:00</td>\n",
              "    </tr>\n",
              "    <tr>\n",
              "      <th>133258</th>\n",
              "      <td>19214</td>\n",
              "      <td>3679</td>\n",
              "      <td>1066</td>\n",
              "      <td>-1</td>\n",
              "      <td>2011-02-14 11:19:00</td>\n",
              "      <td>70.01</td>\n",
              "      <td>14527.0</td>\n",
              "      <td>35</td>\n",
              "      <td>2011-02-14 11:19:00</td>\n",
              "    </tr>\n",
              "    <tr>\n",
              "      <th>238886</th>\n",
              "      <td>19323</td>\n",
              "      <td>3679</td>\n",
              "      <td>1066</td>\n",
              "      <td>-1</td>\n",
              "      <td>2011-03-03 11:05:00</td>\n",
              "      <td>30.38</td>\n",
              "      <td>14527.0</td>\n",
              "      <td>35</td>\n",
              "      <td>2011-03-03 11:05:00</td>\n",
              "    </tr>\n",
              "    <tr>\n",
              "      <th>249645</th>\n",
              "      <td>19324</td>\n",
              "      <td>3679</td>\n",
              "      <td>1066</td>\n",
              "      <td>-720</td>\n",
              "      <td>2011-03-03 11:08:00</td>\n",
              "      <td>0.01</td>\n",
              "      <td>16422.0</td>\n",
              "      <td>35</td>\n",
              "      <td>2011-03-03 11:08:00</td>\n",
              "    </tr>\n",
              "    <tr>\n",
              "      <th>44967</th>\n",
              "      <td>19391</td>\n",
              "      <td>3679</td>\n",
              "      <td>1066</td>\n",
              "      <td>-1</td>\n",
              "      <td>2011-03-09 12:21:00</td>\n",
              "      <td>9.87</td>\n",
              "      <td>14527.0</td>\n",
              "      <td>35</td>\n",
              "      <td>2011-03-09 12:21:00</td>\n",
              "    </tr>\n",
              "    <tr>\n",
              "      <th>79965</th>\n",
              "      <td>19574</td>\n",
              "      <td>3679</td>\n",
              "      <td>1066</td>\n",
              "      <td>-1</td>\n",
              "      <td>2011-03-31 10:36:00</td>\n",
              "      <td>162.24</td>\n",
              "      <td>13316.0</td>\n",
              "      <td>35</td>\n",
              "      <td>2011-03-31 10:36:00</td>\n",
              "    </tr>\n",
              "    <tr>\n",
              "      <th>111768</th>\n",
              "      <td>19579</td>\n",
              "      <td>3679</td>\n",
              "      <td>1066</td>\n",
              "      <td>-1</td>\n",
              "      <td>2011-03-31 12:11:00</td>\n",
              "      <td>14.52</td>\n",
              "      <td>14527.0</td>\n",
              "      <td>35</td>\n",
              "      <td>2011-03-31 12:11:00</td>\n",
              "    </tr>\n",
              "    <tr>\n",
              "      <th>65239</th>\n",
              "      <td>19659</td>\n",
              "      <td>3679</td>\n",
              "      <td>1066</td>\n",
              "      <td>-1</td>\n",
              "      <td>2011-04-08 14:17:00</td>\n",
              "      <td>1867.86</td>\n",
              "      <td>17940.0</td>\n",
              "      <td>35</td>\n",
              "      <td>2011-04-08 14:17:00</td>\n",
              "    </tr>\n",
              "    <tr>\n",
              "      <th>90323</th>\n",
              "      <td>19805</td>\n",
              "      <td>3679</td>\n",
              "      <td>1066</td>\n",
              "      <td>-1</td>\n",
              "      <td>2011-04-27 10:22:00</td>\n",
              "      <td>120.00</td>\n",
              "      <td>17940.0</td>\n",
              "      <td>35</td>\n",
              "      <td>2011-04-27 10:22:00</td>\n",
              "    </tr>\n",
              "    <tr>\n",
              "      <th>175352</th>\n",
              "      <td>19908</td>\n",
              "      <td>3679</td>\n",
              "      <td>1066</td>\n",
              "      <td>-18</td>\n",
              "      <td>2011-05-10 14:03:00</td>\n",
              "      <td>1.45</td>\n",
              "      <td>16672.0</td>\n",
              "      <td>35</td>\n",
              "      <td>2011-05-10 14:03:00</td>\n",
              "    </tr>\n",
              "    <tr>\n",
              "      <th>243757</th>\n",
              "      <td>19986</td>\n",
              "      <td>3679</td>\n",
              "      <td>1066</td>\n",
              "      <td>-1</td>\n",
              "      <td>2011-05-18 12:16:00</td>\n",
              "      <td>15.96</td>\n",
              "      <td>14527.0</td>\n",
              "      <td>35</td>\n",
              "      <td>2011-05-18 12:16:00</td>\n",
              "    </tr>\n",
              "    <tr>\n",
              "      <th>163673</th>\n",
              "      <td>19995</td>\n",
              "      <td>3679</td>\n",
              "      <td>1066</td>\n",
              "      <td>-48</td>\n",
              "      <td>2011-05-19 12:19:00</td>\n",
              "      <td>0.20</td>\n",
              "      <td>16029.0</td>\n",
              "      <td>35</td>\n",
              "      <td>2011-05-19 12:19:00</td>\n",
              "    </tr>\n",
              "    <tr>\n",
              "      <th>161800</th>\n",
              "      <td>20059</td>\n",
              "      <td>3679</td>\n",
              "      <td>1066</td>\n",
              "      <td>-1</td>\n",
              "      <td>2011-05-24 16:50:00</td>\n",
              "      <td>13.88</td>\n",
              "      <td>14527.0</td>\n",
              "      <td>35</td>\n",
              "      <td>2011-05-24 16:50:00</td>\n",
              "    </tr>\n",
              "    <tr>\n",
              "      <th>178648</th>\n",
              "      <td>20181</td>\n",
              "      <td>3679</td>\n",
              "      <td>1066</td>\n",
              "      <td>-1</td>\n",
              "      <td>2011-06-06 10:19:00</td>\n",
              "      <td>42.00</td>\n",
              "      <td>15796.0</td>\n",
              "      <td>35</td>\n",
              "      <td>2011-06-06 10:19:00</td>\n",
              "    </tr>\n",
              "    <tr>\n",
              "      <th>54876</th>\n",
              "      <td>20217</td>\n",
              "      <td>3679</td>\n",
              "      <td>1066</td>\n",
              "      <td>-1</td>\n",
              "      <td>2011-06-09 19:24:00</td>\n",
              "      <td>28.04</td>\n",
              "      <td>16684.0</td>\n",
              "      <td>35</td>\n",
              "      <td>2011-06-09 19:24:00</td>\n",
              "    </tr>\n",
              "    <tr>\n",
              "      <th>70451</th>\n",
              "      <td>20275</td>\n",
              "      <td>3679</td>\n",
              "      <td>1066</td>\n",
              "      <td>-96</td>\n",
              "      <td>2011-06-14 14:40:00</td>\n",
              "      <td>0.70</td>\n",
              "      <td>16013.0</td>\n",
              "      <td>35</td>\n",
              "      <td>2011-06-14 14:40:00</td>\n",
              "    </tr>\n",
              "    <tr>\n",
              "      <th>250361</th>\n",
              "      <td>20278</td>\n",
              "      <td>3679</td>\n",
              "      <td>1066</td>\n",
              "      <td>-1</td>\n",
              "      <td>2011-06-15 12:00:00</td>\n",
              "      <td>129.90</td>\n",
              "      <td>15498.0</td>\n",
              "      <td>35</td>\n",
              "      <td>2011-06-15 12:00:00</td>\n",
              "    </tr>\n",
              "    <tr>\n",
              "      <th>168785</th>\n",
              "      <td>20543</td>\n",
              "      <td>3679</td>\n",
              "      <td>1066</td>\n",
              "      <td>-1</td>\n",
              "      <td>2011-07-14 12:30:00</td>\n",
              "      <td>13.99</td>\n",
              "      <td>14527.0</td>\n",
              "      <td>35</td>\n",
              "      <td>2011-07-14 12:30:00</td>\n",
              "    </tr>\n",
              "    <tr>\n",
              "      <th>283799</th>\n",
              "      <td>20612</td>\n",
              "      <td>3679</td>\n",
              "      <td>1066</td>\n",
              "      <td>-1</td>\n",
              "      <td>2011-07-21 12:25:00</td>\n",
              "      <td>12.15</td>\n",
              "      <td>14527.0</td>\n",
              "      <td>35</td>\n",
              "      <td>2011-07-21 12:25:00</td>\n",
              "    </tr>\n",
              "    <tr>\n",
              "      <th>113016</th>\n",
              "      <td>20616</td>\n",
              "      <td>3679</td>\n",
              "      <td>1066</td>\n",
              "      <td>-1</td>\n",
              "      <td>2011-07-21 14:32:00</td>\n",
              "      <td>66.24</td>\n",
              "      <td>12830.0</td>\n",
              "      <td>35</td>\n",
              "      <td>2011-07-21 14:32:00</td>\n",
              "    </tr>\n",
              "    <tr>\n",
              "      <th>237291</th>\n",
              "      <td>20651</td>\n",
              "      <td>3679</td>\n",
              "      <td>1066</td>\n",
              "      <td>-1</td>\n",
              "      <td>2011-07-26 10:06:00</td>\n",
              "      <td>45.60</td>\n",
              "      <td>16029.0</td>\n",
              "      <td>35</td>\n",
              "      <td>2011-07-26 10:06:00</td>\n",
              "    </tr>\n",
              "    <tr>\n",
              "      <th>191803</th>\n",
              "      <td>20668</td>\n",
              "      <td>3679</td>\n",
              "      <td>1066</td>\n",
              "      <td>-1</td>\n",
              "      <td>2011-07-27 12:40:00</td>\n",
              "      <td>26.05</td>\n",
              "      <td>14527.0</td>\n",
              "      <td>35</td>\n",
              "      <td>2011-07-27 12:40:00</td>\n",
              "    </tr>\n",
              "    <tr>\n",
              "      <th>32504</th>\n",
              "      <td>20816</td>\n",
              "      <td>3679</td>\n",
              "      <td>1066</td>\n",
              "      <td>-1</td>\n",
              "      <td>2011-08-14 14:35:00</td>\n",
              "      <td>434.51</td>\n",
              "      <td>14911.0</td>\n",
              "      <td>10</td>\n",
              "      <td>2011-08-14 14:35:00</td>\n",
              "    </tr>\n",
              "    <tr>\n",
              "      <th>155357</th>\n",
              "      <td>20905</td>\n",
              "      <td>3679</td>\n",
              "      <td>1066</td>\n",
              "      <td>-1</td>\n",
              "      <td>2011-08-25 14:07:00</td>\n",
              "      <td>11.52</td>\n",
              "      <td>15838.0</td>\n",
              "      <td>35</td>\n",
              "      <td>2011-08-25 14:07:00</td>\n",
              "    </tr>\n",
              "    <tr>\n",
              "      <th>109457</th>\n",
              "      <td>20922</td>\n",
              "      <td>3679</td>\n",
              "      <td>1066</td>\n",
              "      <td>-1</td>\n",
              "      <td>2011-08-30 11:45:00</td>\n",
              "      <td>13.00</td>\n",
              "      <td>14527.0</td>\n",
              "      <td>35</td>\n",
              "      <td>2011-08-30 11:45:00</td>\n",
              "    </tr>\n",
              "    <tr>\n",
              "      <th>46801</th>\n",
              "      <td>20922</td>\n",
              "      <td>3679</td>\n",
              "      <td>1066</td>\n",
              "      <td>-1</td>\n",
              "      <td>2011-08-30 11:45:00</td>\n",
              "      <td>16.67</td>\n",
              "      <td>14527.0</td>\n",
              "      <td>35</td>\n",
              "      <td>2011-08-30 11:45:00</td>\n",
              "    </tr>\n",
              "    <tr>\n",
              "      <th>5962</th>\n",
              "      <td>20932</td>\n",
              "      <td>3679</td>\n",
              "      <td>1066</td>\n",
              "      <td>-1</td>\n",
              "      <td>2011-08-31 12:29:00</td>\n",
              "      <td>33.75</td>\n",
              "      <td>15498.0</td>\n",
              "      <td>35</td>\n",
              "      <td>2011-08-31 12:29:00</td>\n",
              "    </tr>\n",
              "    <tr>\n",
              "      <th>248034</th>\n",
              "      <td>20960</td>\n",
              "      <td>3679</td>\n",
              "      <td>1066</td>\n",
              "      <td>-1</td>\n",
              "      <td>2011-08-31 17:25:00</td>\n",
              "      <td>36.30</td>\n",
              "      <td>13408.0</td>\n",
              "      <td>35</td>\n",
              "      <td>2011-08-31 17:25:00</td>\n",
              "    </tr>\n",
              "    <tr>\n",
              "      <th>87552</th>\n",
              "      <td>20962</td>\n",
              "      <td>3679</td>\n",
              "      <td>1066</td>\n",
              "      <td>-1</td>\n",
              "      <td>2011-08-31 17:45:00</td>\n",
              "      <td>57.60</td>\n",
              "      <td>16422.0</td>\n",
              "      <td>35</td>\n",
              "      <td>2011-08-31 17:45:00</td>\n",
              "    </tr>\n",
              "    <tr>\n",
              "      <th>39597</th>\n",
              "      <td>20974</td>\n",
              "      <td>3679</td>\n",
              "      <td>1066</td>\n",
              "      <td>-1</td>\n",
              "      <td>2011-09-02 12:41:00</td>\n",
              "      <td>14.50</td>\n",
              "      <td>14527.0</td>\n",
              "      <td>35</td>\n",
              "      <td>2011-09-02 12:41:00</td>\n",
              "    </tr>\n",
              "    <tr>\n",
              "      <th>109323</th>\n",
              "      <td>20978</td>\n",
              "      <td>3679</td>\n",
              "      <td>1066</td>\n",
              "      <td>-1</td>\n",
              "      <td>2011-09-02 16:23:00</td>\n",
              "      <td>110.43</td>\n",
              "      <td>13408.0</td>\n",
              "      <td>35</td>\n",
              "      <td>2011-09-02 16:23:00</td>\n",
              "    </tr>\n",
              "    <tr>\n",
              "      <th>6028</th>\n",
              "      <td>21062</td>\n",
              "      <td>3679</td>\n",
              "      <td>1066</td>\n",
              "      <td>-1</td>\n",
              "      <td>2011-09-13 17:28:00</td>\n",
              "      <td>102.24</td>\n",
              "      <td>16029.0</td>\n",
              "      <td>35</td>\n",
              "      <td>2011-09-13 17:28:00</td>\n",
              "    </tr>\n",
              "    <tr>\n",
              "      <th>139369</th>\n",
              "      <td>21179</td>\n",
              "      <td>3679</td>\n",
              "      <td>1066</td>\n",
              "      <td>-1</td>\n",
              "      <td>2011-09-22 15:59:00</td>\n",
              "      <td>18.62</td>\n",
              "      <td>14527.0</td>\n",
              "      <td>35</td>\n",
              "      <td>2011-09-22 15:59:00</td>\n",
              "    </tr>\n",
              "    <tr>\n",
              "      <th>153199</th>\n",
              "      <td>21316</td>\n",
              "      <td>3679</td>\n",
              "      <td>1066</td>\n",
              "      <td>-1</td>\n",
              "      <td>2011-10-06 12:37:00</td>\n",
              "      <td>16.07</td>\n",
              "      <td>14527.0</td>\n",
              "      <td>35</td>\n",
              "      <td>2011-10-06 12:37:00</td>\n",
              "    </tr>\n",
              "    <tr>\n",
              "      <th>47649</th>\n",
              "      <td>21653</td>\n",
              "      <td>3679</td>\n",
              "      <td>1066</td>\n",
              "      <td>-1</td>\n",
              "      <td>2011-11-03 12:39:00</td>\n",
              "      <td>39.70</td>\n",
              "      <td>13408.0</td>\n",
              "      <td>35</td>\n",
              "      <td>2011-11-03 12:39:00</td>\n",
              "    </tr>\n",
              "    <tr>\n",
              "      <th>47528</th>\n",
              "      <td>21653</td>\n",
              "      <td>3679</td>\n",
              "      <td>1066</td>\n",
              "      <td>-1</td>\n",
              "      <td>2011-11-03 12:39:00</td>\n",
              "      <td>11.84</td>\n",
              "      <td>13408.0</td>\n",
              "      <td>35</td>\n",
              "      <td>2011-11-03 12:39:00</td>\n",
              "    </tr>\n",
              "    <tr>\n",
              "      <th>213050</th>\n",
              "      <td>21798</td>\n",
              "      <td>3679</td>\n",
              "      <td>1066</td>\n",
              "      <td>-1</td>\n",
              "      <td>2011-11-11 12:52:00</td>\n",
              "      <td>97.14</td>\n",
              "      <td>13408.0</td>\n",
              "      <td>35</td>\n",
              "      <td>2011-11-11 12:52:00</td>\n",
              "    </tr>\n",
              "    <tr>\n",
              "      <th>49217</th>\n",
              "      <td>21814</td>\n",
              "      <td>3679</td>\n",
              "      <td>1066</td>\n",
              "      <td>-1</td>\n",
              "      <td>2011-11-14 12:57:00</td>\n",
              "      <td>183.00</td>\n",
              "      <td>13694.0</td>\n",
              "      <td>35</td>\n",
              "      <td>2011-11-14 12:57:00</td>\n",
              "    </tr>\n",
              "    <tr>\n",
              "      <th>236542</th>\n",
              "      <td>21827</td>\n",
              "      <td>3679</td>\n",
              "      <td>1066</td>\n",
              "      <td>-1</td>\n",
              "      <td>2011-11-14 13:40:00</td>\n",
              "      <td>6.00</td>\n",
              "      <td>18167.0</td>\n",
              "      <td>35</td>\n",
              "      <td>2011-11-14 13:40:00</td>\n",
              "    </tr>\n",
              "    <tr>\n",
              "      <th>28547</th>\n",
              "      <td>21887</td>\n",
              "      <td>3679</td>\n",
              "      <td>1066</td>\n",
              "      <td>-1</td>\n",
              "      <td>2011-11-18 12:06:00</td>\n",
              "      <td>14.88</td>\n",
              "      <td>14527.0</td>\n",
              "      <td>35</td>\n",
              "      <td>2011-11-18 12:06:00</td>\n",
              "    </tr>\n",
              "    <tr>\n",
              "      <th>134392</th>\n",
              "      <td>21887</td>\n",
              "      <td>3679</td>\n",
              "      <td>1066</td>\n",
              "      <td>-1</td>\n",
              "      <td>2011-11-18 12:06:00</td>\n",
              "      <td>19.82</td>\n",
              "      <td>14527.0</td>\n",
              "      <td>35</td>\n",
              "      <td>2011-11-18 12:06:00</td>\n",
              "    </tr>\n",
              "    <tr>\n",
              "      <th>236650</th>\n",
              "      <td>22044</td>\n",
              "      <td>3679</td>\n",
              "      <td>1066</td>\n",
              "      <td>-1</td>\n",
              "      <td>2011-11-30 17:34:00</td>\n",
              "      <td>20.53</td>\n",
              "      <td>14527.0</td>\n",
              "      <td>35</td>\n",
              "      <td>2011-11-30 17:34:00</td>\n",
              "    </tr>\n",
              "    <tr>\n",
              "      <th>41125</th>\n",
              "      <td>22062</td>\n",
              "      <td>3679</td>\n",
              "      <td>1066</td>\n",
              "      <td>-1</td>\n",
              "      <td>2011-12-01 08:49:00</td>\n",
              "      <td>28.68</td>\n",
              "      <td>14527.0</td>\n",
              "      <td>35</td>\n",
              "      <td>2011-12-01 08:49:00</td>\n",
              "    </tr>\n",
              "  </tbody>\n",
              "</table>\n",
              "</div>"
            ],
            "text/plain": [
              "        InvoiceNo  StockCode  ...  Country                Date\n",
              "277448      18536       3679  ...       35 2010-12-01 09:41:00\n",
              "222039      18735       3679  ...       35 2010-12-15 09:14:00\n",
              "39161       18740       3679  ...       35 2010-12-15 12:35:00\n",
              "138744      18859       3679  ...       35 2011-01-05 12:26:00\n",
              "178214      19175       3679  ...       35 2011-02-11 14:12:00\n",
              "272363      19179       3679  ...       35 2011-02-11 15:07:00\n",
              "30399       19201       3679  ...       35 2011-02-11 17:10:00\n",
              "133258      19214       3679  ...       35 2011-02-14 11:19:00\n",
              "238886      19323       3679  ...       35 2011-03-03 11:05:00\n",
              "249645      19324       3679  ...       35 2011-03-03 11:08:00\n",
              "44967       19391       3679  ...       35 2011-03-09 12:21:00\n",
              "79965       19574       3679  ...       35 2011-03-31 10:36:00\n",
              "111768      19579       3679  ...       35 2011-03-31 12:11:00\n",
              "65239       19659       3679  ...       35 2011-04-08 14:17:00\n",
              "90323       19805       3679  ...       35 2011-04-27 10:22:00\n",
              "175352      19908       3679  ...       35 2011-05-10 14:03:00\n",
              "243757      19986       3679  ...       35 2011-05-18 12:16:00\n",
              "163673      19995       3679  ...       35 2011-05-19 12:19:00\n",
              "161800      20059       3679  ...       35 2011-05-24 16:50:00\n",
              "178648      20181       3679  ...       35 2011-06-06 10:19:00\n",
              "54876       20217       3679  ...       35 2011-06-09 19:24:00\n",
              "70451       20275       3679  ...       35 2011-06-14 14:40:00\n",
              "250361      20278       3679  ...       35 2011-06-15 12:00:00\n",
              "168785      20543       3679  ...       35 2011-07-14 12:30:00\n",
              "283799      20612       3679  ...       35 2011-07-21 12:25:00\n",
              "113016      20616       3679  ...       35 2011-07-21 14:32:00\n",
              "237291      20651       3679  ...       35 2011-07-26 10:06:00\n",
              "191803      20668       3679  ...       35 2011-07-27 12:40:00\n",
              "32504       20816       3679  ...       10 2011-08-14 14:35:00\n",
              "155357      20905       3679  ...       35 2011-08-25 14:07:00\n",
              "109457      20922       3679  ...       35 2011-08-30 11:45:00\n",
              "46801       20922       3679  ...       35 2011-08-30 11:45:00\n",
              "5962        20932       3679  ...       35 2011-08-31 12:29:00\n",
              "248034      20960       3679  ...       35 2011-08-31 17:25:00\n",
              "87552       20962       3679  ...       35 2011-08-31 17:45:00\n",
              "39597       20974       3679  ...       35 2011-09-02 12:41:00\n",
              "109323      20978       3679  ...       35 2011-09-02 16:23:00\n",
              "6028        21062       3679  ...       35 2011-09-13 17:28:00\n",
              "139369      21179       3679  ...       35 2011-09-22 15:59:00\n",
              "153199      21316       3679  ...       35 2011-10-06 12:37:00\n",
              "47649       21653       3679  ...       35 2011-11-03 12:39:00\n",
              "47528       21653       3679  ...       35 2011-11-03 12:39:00\n",
              "213050      21798       3679  ...       35 2011-11-11 12:52:00\n",
              "49217       21814       3679  ...       35 2011-11-14 12:57:00\n",
              "236542      21827       3679  ...       35 2011-11-14 13:40:00\n",
              "28547       21887       3679  ...       35 2011-11-18 12:06:00\n",
              "134392      21887       3679  ...       35 2011-11-18 12:06:00\n",
              "236650      22044       3679  ...       35 2011-11-30 17:34:00\n",
              "41125       22062       3679  ...       35 2011-12-01 08:49:00\n",
              "\n",
              "[49 rows x 9 columns]"
            ]
          },
          "metadata": {
            "tags": []
          },
          "execution_count": 43
        }
      ]
    },
    {
      "cell_type": "code",
      "metadata": {
        "id": "EdZVRAER8WJA",
        "outputId": "018901bc-e839-4af0-d0b6-5bdb950a4fd8",
        "colab": {
          "base_uri": "https://localhost:8080/"
        }
      },
      "source": [
        "df_train[\"DateDiff\"] = df_train[df_train[\"StockCode\"] == 3679][\"Date\"].min()"
      ],
      "execution_count": 44,
      "outputs": [
        {
          "output_type": "execute_result",
          "data": {
            "text/plain": [
              "Timestamp('2010-12-01 09:41:00')"
            ]
          },
          "metadata": {
            "tags": []
          },
          "execution_count": 44
        }
      ]
    },
    {
      "cell_type": "markdown",
      "metadata": {
        "id": "_iqpiziI__e9"
      },
      "source": [
        ""
      ]
    }
  ]
}