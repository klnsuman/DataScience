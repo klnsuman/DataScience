{
 "cells": [
  {
   "cell_type": "markdown",
   "metadata": {},
   "source": [
    "<center><h2>Artificial and Computational Intelligence (Assignment - 2)</h2></center>"
   ]
  },
  {
   "cell_type": "markdown",
   "metadata": {},
   "source": [
    "## Problem Statement\n",
    "\n",
    "As part of the 2nd Assignment, we'll implement Bayesian Networks and also learn to use the pomegranate library.\n",
    "\n",
    "You are required to create a bayesian network model which would help you predict the probability. The detailed problem description is attached as a PDF as a part of this assignment along with the marking scheme.  \n",
    "\n",
    "### What is a Bayesian Network ?\n",
    "\n",
    "A Bayesian network, Bayes network, belief network, decision network, Bayes(ian) model or probabilistic directed acyclic graphical model is a probabilistic graphical model (a type of statistical model) that represents a set of variables and their conditional dependencies via a directed acyclic graph (DAG). \n",
    "\n",
    "Bayesian networks are ideal for taking an event that occurred and predicting the likelihood that any one of several possible known causes was the contributing factor. For example, a Bayesian network could represent the probabilistic relationships between diseases and symptoms. Given symptoms, the network can be used to compute the probabilities of the presence of various diseases. \n",
    "\n",
    "### Dataset\n",
    "\n",
    "The dataset can be downloaded from https://drive.google.com/drive/folders/1oMtKmmvPkN4O8DmrHMJe6M8CbB93Z5kw .You can access it only using your BITS IDs. Also, the same dataset is attached along with the assignment. \n",
    "\n",
    "#### Dataset Description\n",
    "##### Sample Tuple\n",
    "\n",
    "Y\twon\t5wickets\tlost\t2nd\tvWest_Indies\tHome\t6-Nov-11\n",
    "\n",
    "##### Explanation\n",
    "- The first column represents if Ashwin was in the playing 11 or not. \n",
    "- The second column represents the Result of the match . win indicates India won the match.\n",
    "- The third column represents the Margin of victory / losss.\n",
    "- The fourth column represents the results of the toss. won indicates India won the toss. \n",
    "- The fifth column represents the batting order. If India batted 1st or 2nd. \n",
    "- The sixth column represents the opponent.\n",
    "- The seventh column represents the location of the match. If the match was held in Home(India) or away. \n",
    "- The last column represents the start date of the match.\n",
    "\n",
    "\n",
    "### Evaluation\n",
    "We wish to evaluate based on \n",
    "- coding practices being followed\n",
    "- commenting to explain the code and logic behind doing something\n",
    "- your understanding and explanation of data\n",
    "- how good the model would perform"
   ]
  },
  {
   "cell_type": "markdown",
   "metadata": {},
   "source": [
    "# BITS RollNumbers , Names. \n",
    "### 2018AH04543 , Naveen\n",
    "### 2018AH04599 , K L N Rao\n",
    "### 2018AH04612 , Prabhu\n",
    "### 2018AH04573 , Sagnik"
   ]
  },
  {
   "cell_type": "code",
   "execution_count": 32,
   "metadata": {},
   "outputs": [
    {
     "name": "stdout",
     "output_type": "stream",
     "text": [
      "The watermark extension is already loaded. To reload it, use:\n",
      "  %reload_ext watermark\n",
      "Sat Mar 14 2020 \n",
      "\n",
      "numpy 1.17.2\n",
      "scipy 1.4.1\n",
      "pomegranate 0.12.0\n",
      "\n",
      "compiler   : Clang 4.0.1 (tags/RELEASE_401/final)\n",
      "system     : Darwin\n",
      "release    : 17.7.0\n",
      "machine    : x86_64\n",
      "processor  : i386\n",
      "CPU cores  : 8\n",
      "interpreter: 64bit\n"
     ]
    }
   ],
   "source": [
    "#Import libraries\n",
    "%matplotlib inline\n",
    "import matplotlib.pyplot as plt\n",
    "import seaborn; seaborn.set_style('whitegrid')\n",
    "import numpy\n",
    "import pandas as pd\n",
    "from pandas import read_excel\n",
    "\n",
    "%load_ext watermark\n",
    "%watermark -m -n -p numpy,scipy,pomegranate"
   ]
  },
  {
   "cell_type": "code",
   "execution_count": 33,
   "metadata": {},
   "outputs": [
    {
     "name": "stdout",
     "output_type": "stream",
     "text": [
      "   Ashwin Result           Margin  Toss  Bat      Opposition Location  \\\n",
      "0       Y    won        5 wickets  lost  2nd   v West Indies     Home   \n",
      "1       Y    won   inns & 15 runs   won  1st   v West Indies     Home   \n",
      "2       Y   draw                -  lost  2nd   v West Indies     Home   \n",
      "3       Y   lost         122 runs  lost  2nd     v Australia     Away   \n",
      "4       Y   lost   inns & 68 runs   won  1st     v Australia     Away   \n",
      "..    ...    ...              ...   ...  ...             ...      ...   \n",
      "80      Y    won         203 runs   won  1st  v South Africa     Home   \n",
      "81      Y    won  inns & 137 runs   won  1st  v South Africa     Home   \n",
      "82      Y    won  inns & 202 runs   won  1st  v South Africa     Home   \n",
      "83      Y    won  inns & 130 runs  lost  2nd    v Bangladesh     Home   \n",
      "84      Y    won   inns & 46 runs  lost  2nd    v Bangladesh     Home   \n",
      "\n",
      "   Start Date  \n",
      "0  2011-11-06  \n",
      "1  2011-11-14  \n",
      "2  2011-11-22  \n",
      "3  2011-12-26  \n",
      "4  2012-01-03  \n",
      "..        ...  \n",
      "80 2019-10-02  \n",
      "81 2019-10-10  \n",
      "82 2019-10-19  \n",
      "83 2019-11-14  \n",
      "84 2019-11-22  \n",
      "\n",
      "[85 rows x 8 columns]\n"
     ]
    }
   ],
   "source": [
    "#Read data\n",
    "#df = pd.read_csv('India_Test_Stats.xlsx', keep_default_na=False, na_values=['-'])\n",
    "\n",
    "df = read_excel('India_Test_Stats.xlsx')\n",
    "print(df)"
   ]
  },
  {
   "cell_type": "code",
   "execution_count": 34,
   "metadata": {},
   "outputs": [],
   "source": [
    "#Pre-process data (Whatever you feel might be required)\n",
    "def preprocess_data(self,df):\n",
    "    df['Ashwin']\n",
    "    \n",
    "class PriorProb:\n",
    "    def __init__(self,variable,domains):\n",
    "        self.prob = {} \n",
    "        self.variable =  variable\n",
    "        self.values = [] \n",
    "        if domains:\n",
    "            for (v,p) in domains.items():\n",
    "                self[v] = p\n",
    "    \n",
    "    def __getitem__(self,val):\n",
    "        try:\n",
    "           return self.prob[val]\n",
    "    \n",
    "        except KeyError:\n",
    "            return 0\n",
    "        \n",
    "    \n",
    "    def __setitem__(self,val,p):\n",
    "        if val not in self.values:\n",
    "            self.values.append(val)\n",
    "        self.prob[val] = p\n",
    "    \n",
    "\n",
    "    "
   ]
  },
  {
   "cell_type": "code",
   "execution_count": 49,
   "metadata": {},
   "outputs": [
    {
     "name": "stdout",
     "output_type": "stream",
     "text": [
      "==================================================================================\n",
      "Prior Probabilities For Ashwin\t\t\t=> [{'Y': 0.8235, 'N': 0.1765}]\n",
      "Prior Probabilty Value of AshwinPlays=Y\t\t=> 0.8235\n",
      "Prior Probabilty Value of AshwinPlays=N\t\t=> 0.1765\n",
      "Prior Values of AshwinPlays ('Y', 'N') \t\t=> [70, 15]\n",
      "==================================================================================\n",
      "Prior Probabilities For Location\t\t=> [{'Home': 0.5059, 'Away': 0.4941}]\n",
      "Prior Probabilty Value of Location=Home\t\t=> 0.5059\n",
      "Prior Probabilty Value of Location=Away\t\t=> 0.4941\n",
      "Prior Values of Location ('Home', 'Away') \t=> [43, 42]\n",
      "===================================================================================\n",
      "Prior Probabilities For Toss\t\t\t=> [{'lost': 0.5294, 'won': 0.4706}]\n",
      "Prior Probabilty Value of Toss=lost\t\t=> 0.5294\n",
      "Prior Probabilty Value of Toss=won\t\t=> 0.4706\n",
      "Prior Values of Toss ('lost', 'won') \t\t=> [45, 40]\n",
      "==================================================================================\n",
      "Prior Probabilities For Result\t\t\t=> [{'won': 0.5529, 'lost': 0.2588, 'draw': 0.1882}]\n",
      "Prior Probabilty Value of Result=won\t\t=> 0.5529\n",
      "Prior Probabilty Value of Result=lost\t\t=> 0.2588\n",
      "Prior Values of Toss ('won', 'lost', 'draw') \t\t=> [47, 22, 16]\n",
      "==================================================================================\n",
      "Prior Probabilities For Bat\t\t\t=> [{'1st': 0.5412, '2nd': 0.4588}]\n",
      "Prior Probabilty Value of Result=won\t\t=> 0.5412\n",
      "Prior Probabilty Value of Result=lost\t\t=> 0.4588\n",
      "Prior Values of Result ('1st', '2nd') \t\t=> [46, 39]\n",
      "==================================================================================\n",
      "cond {'Home': 0.5059, 'Away': 0.4941} {'Y': 0.8235, 'N': 0.1765}\n",
      "Ty X <class 'dict'>\n",
      "Ty Y <class 'dict'>\n"
     ]
    },
    {
     "ename": "KeyError",
     "evalue": "\"None of [Index(['Y', 'N'], dtype='object')] are in the [columns]\"",
     "output_type": "error",
     "traceback": [
      "\u001b[0;31m---------------------------------------------------------------------------\u001b[0m",
      "\u001b[0;31mKeyError\u001b[0m                                  Traceback (most recent call last)",
      "\u001b[0;32m<ipython-input-49-569638b206b5>\u001b[0m in \u001b[0;36m<module>\u001b[0;34m\u001b[0m\n\u001b[1;32m    121\u001b[0m \u001b[0;31m# CPT for Ashwin Plays =Y , Given : Location\u001b[0m\u001b[0;34m\u001b[0m\u001b[0;34m\u001b[0m\u001b[0;34m\u001b[0m\u001b[0m\n\u001b[1;32m    122\u001b[0m \u001b[0;31m#----------------------------------------------\u001b[0m\u001b[0;34m\u001b[0m\u001b[0;34m\u001b[0m\u001b[0;34m\u001b[0m\u001b[0m\n\u001b[0;32m--> 123\u001b[0;31m \u001b[0mcalc_conditional_prob\u001b[0m\u001b[0;34m(\u001b[0m\u001b[0mlocation\u001b[0m\u001b[0;34m,\u001b[0m\u001b[0mashwin_plays\u001b[0m\u001b[0;34m)\u001b[0m\u001b[0;34m\u001b[0m\u001b[0;34m\u001b[0m\u001b[0m\n\u001b[0m\u001b[1;32m    124\u001b[0m \u001b[0;34m\u001b[0m\u001b[0m\n\u001b[1;32m    125\u001b[0m \u001b[0;31m#----------------------------------------------\u001b[0m\u001b[0;34m\u001b[0m\u001b[0;34m\u001b[0m\u001b[0;34m\u001b[0m\u001b[0m\n",
      "\u001b[0;32m<ipython-input-49-569638b206b5>\u001b[0m in \u001b[0;36mcalc_conditional_prob\u001b[0;34m(X, Y)\u001b[0m\n\u001b[1;32m    111\u001b[0m         \u001b[0;32mfor\u001b[0m \u001b[0mj\u001b[0m \u001b[0;32min\u001b[0m \u001b[0mX\u001b[0m\u001b[0;34m.\u001b[0m\u001b[0mkeys\u001b[0m\u001b[0;34m(\u001b[0m\u001b[0;34m)\u001b[0m\u001b[0;34m:\u001b[0m\u001b[0;34m\u001b[0m\u001b[0;34m\u001b[0m\u001b[0m\n\u001b[1;32m    112\u001b[0m \u001b[0;34m\u001b[0m\u001b[0m\n\u001b[0;32m--> 113\u001b[0;31m             \u001b[0mprint\u001b[0m\u001b[0;34m(\u001b[0m\u001b[0mdf\u001b[0m\u001b[0;34m.\u001b[0m\u001b[0mloc\u001b[0m\u001b[0;34m[\u001b[0m\u001b[0;34m(\u001b[0m\u001b[0mdf\u001b[0m\u001b[0;34m[\u001b[0m\u001b[0mvariable\u001b[0m\u001b[0;34m]\u001b[0m \u001b[0;34m==\u001b[0m \u001b[0mk\u001b[0m\u001b[0;34m)\u001b[0m\u001b[0;34m]\u001b[0m\u001b[0;34m)\u001b[0m\u001b[0;34m\u001b[0m\u001b[0;34m\u001b[0m\u001b[0m\n\u001b[0m\u001b[1;32m    114\u001b[0m             \u001b[0;31m#a = df.loc[(df[variable] == k) & (df[given] == j)][variable].count()\u001b[0m\u001b[0;34m\u001b[0m\u001b[0;34m\u001b[0m\u001b[0;34m\u001b[0m\u001b[0m\n\u001b[1;32m    115\u001b[0m             \u001b[0;31m#b = df.loc[df[given] == j][given].count()\u001b[0m\u001b[0;34m\u001b[0m\u001b[0;34m\u001b[0m\u001b[0;34m\u001b[0m\u001b[0m\n",
      "\u001b[0;32m~/opt/anaconda3/lib/python3.7/site-packages/pandas/core/frame.py\u001b[0m in \u001b[0;36m__getitem__\u001b[0;34m(self, key)\u001b[0m\n\u001b[1;32m   2984\u001b[0m             \u001b[0;32mif\u001b[0m \u001b[0mis_iterator\u001b[0m\u001b[0;34m(\u001b[0m\u001b[0mkey\u001b[0m\u001b[0;34m)\u001b[0m\u001b[0;34m:\u001b[0m\u001b[0;34m\u001b[0m\u001b[0;34m\u001b[0m\u001b[0m\n\u001b[1;32m   2985\u001b[0m                 \u001b[0mkey\u001b[0m \u001b[0;34m=\u001b[0m \u001b[0mlist\u001b[0m\u001b[0;34m(\u001b[0m\u001b[0mkey\u001b[0m\u001b[0;34m)\u001b[0m\u001b[0;34m\u001b[0m\u001b[0;34m\u001b[0m\u001b[0m\n\u001b[0;32m-> 2986\u001b[0;31m             \u001b[0mindexer\u001b[0m \u001b[0;34m=\u001b[0m \u001b[0mself\u001b[0m\u001b[0;34m.\u001b[0m\u001b[0mloc\u001b[0m\u001b[0;34m.\u001b[0m\u001b[0m_convert_to_indexer\u001b[0m\u001b[0;34m(\u001b[0m\u001b[0mkey\u001b[0m\u001b[0;34m,\u001b[0m \u001b[0maxis\u001b[0m\u001b[0;34m=\u001b[0m\u001b[0;36m1\u001b[0m\u001b[0;34m,\u001b[0m \u001b[0mraise_missing\u001b[0m\u001b[0;34m=\u001b[0m\u001b[0;32mTrue\u001b[0m\u001b[0;34m)\u001b[0m\u001b[0;34m\u001b[0m\u001b[0;34m\u001b[0m\u001b[0m\n\u001b[0m\u001b[1;32m   2987\u001b[0m \u001b[0;34m\u001b[0m\u001b[0m\n\u001b[1;32m   2988\u001b[0m         \u001b[0;31m# take() does not accept boolean indexers\u001b[0m\u001b[0;34m\u001b[0m\u001b[0;34m\u001b[0m\u001b[0;34m\u001b[0m\u001b[0m\n",
      "\u001b[0;32m~/opt/anaconda3/lib/python3.7/site-packages/pandas/core/indexing.py\u001b[0m in \u001b[0;36m_convert_to_indexer\u001b[0;34m(self, obj, axis, is_setter, raise_missing)\u001b[0m\n\u001b[1;32m   1283\u001b[0m                 \u001b[0;31m# When setting, missing keys are not allowed, even with .loc:\u001b[0m\u001b[0;34m\u001b[0m\u001b[0;34m\u001b[0m\u001b[0;34m\u001b[0m\u001b[0m\n\u001b[1;32m   1284\u001b[0m                 \u001b[0mkwargs\u001b[0m \u001b[0;34m=\u001b[0m \u001b[0;34m{\u001b[0m\u001b[0;34m\"raise_missing\"\u001b[0m\u001b[0;34m:\u001b[0m \u001b[0;32mTrue\u001b[0m \u001b[0;32mif\u001b[0m \u001b[0mis_setter\u001b[0m \u001b[0;32melse\u001b[0m \u001b[0mraise_missing\u001b[0m\u001b[0;34m}\u001b[0m\u001b[0;34m\u001b[0m\u001b[0;34m\u001b[0m\u001b[0m\n\u001b[0;32m-> 1285\u001b[0;31m                 \u001b[0;32mreturn\u001b[0m \u001b[0mself\u001b[0m\u001b[0;34m.\u001b[0m\u001b[0m_get_listlike_indexer\u001b[0m\u001b[0;34m(\u001b[0m\u001b[0mobj\u001b[0m\u001b[0;34m,\u001b[0m \u001b[0maxis\u001b[0m\u001b[0;34m,\u001b[0m \u001b[0;34m**\u001b[0m\u001b[0mkwargs\u001b[0m\u001b[0;34m)\u001b[0m\u001b[0;34m[\u001b[0m\u001b[0;36m1\u001b[0m\u001b[0;34m]\u001b[0m\u001b[0;34m\u001b[0m\u001b[0;34m\u001b[0m\u001b[0m\n\u001b[0m\u001b[1;32m   1286\u001b[0m         \u001b[0;32melse\u001b[0m\u001b[0;34m:\u001b[0m\u001b[0;34m\u001b[0m\u001b[0;34m\u001b[0m\u001b[0m\n\u001b[1;32m   1287\u001b[0m             \u001b[0;32mtry\u001b[0m\u001b[0;34m:\u001b[0m\u001b[0;34m\u001b[0m\u001b[0;34m\u001b[0m\u001b[0m\n",
      "\u001b[0;32m~/opt/anaconda3/lib/python3.7/site-packages/pandas/core/indexing.py\u001b[0m in \u001b[0;36m_get_listlike_indexer\u001b[0;34m(self, key, axis, raise_missing)\u001b[0m\n\u001b[1;32m   1090\u001b[0m \u001b[0;34m\u001b[0m\u001b[0m\n\u001b[1;32m   1091\u001b[0m         self._validate_read_indexer(\n\u001b[0;32m-> 1092\u001b[0;31m             \u001b[0mkeyarr\u001b[0m\u001b[0;34m,\u001b[0m \u001b[0mindexer\u001b[0m\u001b[0;34m,\u001b[0m \u001b[0mo\u001b[0m\u001b[0;34m.\u001b[0m\u001b[0m_get_axis_number\u001b[0m\u001b[0;34m(\u001b[0m\u001b[0maxis\u001b[0m\u001b[0;34m)\u001b[0m\u001b[0;34m,\u001b[0m \u001b[0mraise_missing\u001b[0m\u001b[0;34m=\u001b[0m\u001b[0mraise_missing\u001b[0m\u001b[0;34m\u001b[0m\u001b[0;34m\u001b[0m\u001b[0m\n\u001b[0m\u001b[1;32m   1093\u001b[0m         )\n\u001b[1;32m   1094\u001b[0m         \u001b[0;32mreturn\u001b[0m \u001b[0mkeyarr\u001b[0m\u001b[0;34m,\u001b[0m \u001b[0mindexer\u001b[0m\u001b[0;34m\u001b[0m\u001b[0;34m\u001b[0m\u001b[0m\n",
      "\u001b[0;32m~/opt/anaconda3/lib/python3.7/site-packages/pandas/core/indexing.py\u001b[0m in \u001b[0;36m_validate_read_indexer\u001b[0;34m(self, key, indexer, axis, raise_missing)\u001b[0m\n\u001b[1;32m   1175\u001b[0m                 raise KeyError(\n\u001b[1;32m   1176\u001b[0m                     \"None of [{key}] are in the [{axis}]\".format(\n\u001b[0;32m-> 1177\u001b[0;31m                         \u001b[0mkey\u001b[0m\u001b[0;34m=\u001b[0m\u001b[0mkey\u001b[0m\u001b[0;34m,\u001b[0m \u001b[0maxis\u001b[0m\u001b[0;34m=\u001b[0m\u001b[0mself\u001b[0m\u001b[0;34m.\u001b[0m\u001b[0mobj\u001b[0m\u001b[0;34m.\u001b[0m\u001b[0m_get_axis_name\u001b[0m\u001b[0;34m(\u001b[0m\u001b[0maxis\u001b[0m\u001b[0;34m)\u001b[0m\u001b[0;34m\u001b[0m\u001b[0;34m\u001b[0m\u001b[0m\n\u001b[0m\u001b[1;32m   1178\u001b[0m                     )\n\u001b[1;32m   1179\u001b[0m                 )\n",
      "\u001b[0;31mKeyError\u001b[0m: \"None of [Index(['Y', 'N'], dtype='object')] are in the [columns]\""
     ]
    }
   ],
   "source": [
    "from collections import defaultdict\n",
    "\n",
    "class PriorProbs:\n",
    "    def __init__(self,variable,domains):\n",
    "        self.variable = variable\n",
    "        self.values = []\n",
    "        self.probs = {}\n",
    "        self.domains = domains\n",
    "        self.vars = defaultdict(list)\n",
    "        \n",
    "    def calc_prior_prob(self):\n",
    "        for v in self.variable:\n",
    "            self.probs = (round(df[v].value_counts()/df[v].count(),4).to_dict())\n",
    "            self.vars[v].append(self.probs)\n",
    "            self.values = (df[v].value_counts()).to_list()\n",
    "            #self.probs['variable'] = v \n",
    "        return self.vars[v]\n",
    "    \n",
    "    def __getitem__(self,val):\n",
    "        return self.probs[val]\n",
    "    \n",
    "    def getPriorProbs(self,variable):\n",
    "        return self.probs[vaiable]\n",
    "\"\"\" Start - Code Commented \n",
    "def calc_prior_prob(vars):\n",
    "    \n",
    "    matchdetails = defaultdict(list)\n",
    "    for v in vars:\n",
    "        matchdetails[v].append((df[v].value_counts()/df[v].count()).to_dict())\n",
    "    \n",
    "    return matchdetails\n",
    "    Start - Code Commented \"\"\"\n",
    "\n",
    "variables = ['Ashwin','Location','Toss','Result','Bat']\n",
    "domains = {('Y','N'),\n",
    "           ('Home','Away'),\n",
    "           ('lost','won'),\n",
    "           ('won','lost','draw'),\n",
    "           ('1st','2nd')}  \n",
    "\n",
    "#calc_prior_prob(variables)\n",
    "\n",
    "#ashwin_plays = calc_prior_prob(['Ashwin'])\n",
    "\n",
    "#location = calc_prior_prob(['Location'])\n",
    "\n",
    "#print(ashwin_plays)\n",
    "#print(location)\n",
    "\n",
    "\"\"\"print(\n",
    "       list(\n",
    "        zip(df['Ashwin'].unique(),\n",
    "            df['Ashwin'].value_counts().to_list())\n",
    "       )\n",
    ")\"\"\"\n",
    "\n",
    "p = PriorProbs(['Ashwin'],('Y','N'))\n",
    "p1 = PriorProbs(['Location'],('Home','Away'))\n",
    "p2 = PriorProbs(['Toss'],('lost','won'))\n",
    "p3 = PriorProbs(['Result'],('won','lost','draw'))\n",
    "p4 = PriorProbs(['Bat'],('1st','2nd'))\n",
    "\n",
    "\n",
    "print(\"==================================================================================\")\n",
    "print(\"Prior Probabilities For Ashwin\\t\\t\\t=>\",p.calc_prior_prob())\n",
    "print(\"Prior Probabilty Value of AshwinPlays=Y\\t\\t=>\",p['Y'])\n",
    "print(\"Prior Probabilty Value of AshwinPlays=N\\t\\t=>\",p['N'])\n",
    "print(\"Prior Values of AshwinPlays\",p.domains,\"\\t\\t=>\",p.values)\n",
    "print(\"==================================================================================\")\n",
    "print(\"Prior Probabilities For Location\\t\\t=>\",p1.calc_prior_prob())\n",
    "print(\"Prior Probabilty Value of Location=Home\\t\\t=>\",p1['Home'])\n",
    "print(\"Prior Probabilty Value of Location=Away\\t\\t=>\",p1['Away'])\n",
    "print(\"Prior Values of Location\",p1.domains,\"\\t=>\",p1.values)\n",
    "print(\"===================================================================================\")\n",
    "print(\"Prior Probabilities For Toss\\t\\t\\t=>\",p2.calc_prior_prob())\n",
    "print(\"Prior Probabilty Value of Toss=lost\\t\\t=>\",p2['lost'])\n",
    "print(\"Prior Probabilty Value of Toss=won\\t\\t=>\",p2['won'])\n",
    "print(\"Prior Values of Toss\",p2.domains,\"\\t\\t=>\",p2.values)\n",
    "print(\"==================================================================================\")\n",
    "print(\"Prior Probabilities For Result\\t\\t\\t=>\",p3.calc_prior_prob())\n",
    "print(\"Prior Probabilty Value of Result=won\\t\\t=>\",p3['won'])\n",
    "print(\"Prior Probabilty Value of Result=lost\\t\\t=>\",p3['lost'])\n",
    "print(\"Prior Values of Toss\",p3.domains,\"\\t\\t=>\",p3.values)\n",
    "print(\"==================================================================================\")\n",
    "print(\"Prior Probabilities For Bat\\t\\t\\t=>\",p4.calc_prior_prob())\n",
    "print(\"Prior Probabilty Value of Result=won\\t\\t=>\",p4['1st'])\n",
    "print(\"Prior Probabilty Value of Result=lost\\t\\t=>\",p4['2nd'])\n",
    "print(\"Prior Values of Result\",p4.domains,\"\\t\\t=>\",p4.values)\n",
    "print(\"==================================================================================\")\n",
    "\n",
    "ashwin_plays = p.probs\n",
    "location = p1.probs\n",
    "toss = p2.probs\n",
    "result = p3.probs\n",
    "bat = p4.probs\n",
    "\n",
    "\n",
    "\n",
    "\n",
    "\n",
    "def calc_conditional_prob(X,Y):\n",
    "    print(\"cond\",X,Y)\n",
    "    print(\"Ty X\",type(X))\n",
    "    print(\"Ty Y\",type(Y))\n",
    "    \n",
    "    variable = Y\n",
    "    given = X\n",
    "    \n",
    "    posterior = []\n",
    "    for k in Y.keys():\n",
    "        for j in X.keys():\n",
    "            \n",
    "            print(df.loc[(df[variable] == k)])\n",
    "            #a = df.loc[(df[variable] == k) & (df[given] == j)][variable].count()\n",
    "            #b = df.loc[df[given] == j][given].count()\n",
    "            #c = a/b\n",
    "            #posterior.append([j,k,c])\n",
    "    #print(posterior,end=\"\")\n",
    "    \n",
    "#----------------------------------------------\n",
    "# CPT for Ashwin Plays =Y , Given : Location\n",
    "#----------------------------------------------\n",
    "calc_conditional_prob(location,ashwin_plays)\n",
    "\n",
    "#----------------------------------------------\n",
    "# CPT for Result , Given : toss\n",
    "#----------------------------------------------\n",
    "calc_conditional_prob(toss,result)\n",
    "#----------------------------------------------\n",
    "# CPT for Result , Given : bat\n",
    "#----------------------------------------------\n",
    "calc_conditional_prob(bat,result)\n",
    "#----------------------------------------------\n",
    "# CPT for Result , Given : ashwin plays\n",
    "#----------------------------------------------\n",
    "calc_conditional_prob(ashwin_plays,result)\n",
    "#----------------------------------------------\n",
    "# CPT for Result , Given : location\n",
    "#----------------------------------------------\n",
    "calc_conditional_prob(location,result)\n",
    "    \n",
    "    \n",
    "df['Ashwin']\n",
    "    \n",
    "    \n"
   ]
  },
  {
   "cell_type": "markdown",
   "metadata": {},
   "source": [
    "<table span=100% align=\"left\"  border=\"1\">\n",
    "  <caption><h1>Conditional Probabilities</h1></caption>\n",
    "  <tr>\n",
    "    <td></td>\n",
    "    <th scope=\"col\">Ashwin Plays =\"Y\"</th>\n",
    "    <th scope=\"col\">Ashwin Plays =\"N\"</th>\n",
    "  </tr>\n",
    "  <tr>\n",
    "    <th scope=\"row\">Location=\"Home\"</th>\n",
    "    <td>P(Y|H)</td>\n",
    "    <td>P(N|H)</td>\n",
    "  </tr>\n",
    "  <tr>\n",
    "    <th scope=\"row\">Location=\"Away\"</th>\n",
    "    <td>P(Y|A)</td>\n",
    "    <td>P(N|A)</td>\n",
    "  </tr>\n",
    "</table>\n",
    "\n",
    "<table>\n",
    "<tr>\n",
    "<td>\n",
    "    P(AshwinPlays = Y|Location=Home) = P(Y,H)/P(H)\n",
    "</td>\n",
    "</tr>\n",
    "<tr>\n",
    "<td>\n",
    "    P(AshwinPlays = Y|Location=Away) = P(Y,A)/P(A)\n",
    "</td>\n",
    "</tr>\n",
    "<tr>\n",
    "<td>\n",
    "    P(AshwinPlays = N|Location=Home) = P(N,H)/P(H)\n",
    "</td>\n",
    "</tr>\n",
    "<tr>\n",
    "<td>\n",
    "    P(AshwinPlays = N|Location=Away) = P(N,A)/P(A)\n",
    "</td>\n",
    "</tr>\n",
    "</table>"
   ]
  },
  {
   "cell_type": "code",
   "execution_count": null,
   "metadata": {},
   "outputs": [],
   "source": [
    "class ConditionalProb:\n",
    "    \"\"\"\n",
    "    Calculate the Condistional Probability \n",
    "    \"\"\"\n",
    "    def __init__(self,X,Y):\n",
    "        self.P = X\n",
    "        self.Q = Y\n",
    "    \n",
    "    def calc_prior_prob(self,):\n",
    "       "
   ]
  },
  {
   "cell_type": "code",
   "execution_count": null,
   "metadata": {},
   "outputs": [],
   "source": []
  },
  {
   "cell_type": "code",
   "execution_count": null,
   "metadata": {},
   "outputs": [],
   "source": [
    "#Data Description\n",
    "# Nodes in Bayesian Network\n",
    "# ------------------------------------\n",
    "# Node 1 : <Ashwin Playing> :: \n",
    "# ------------------------------------\n",
    "#      Column Position : 1\n",
    "#      Column Name     : Ashwin\n",
    "#      Domain Values   : Yes , No\n",
    "# ------------------------------------\n",
    "# Node 2 : <Test Location> :: \n",
    "# ------------------------------------\n",
    "#      Column Position : 7\n",
    "#      Column Name     : Location\n",
    "#      Domain Values   : Home , Away\n",
    "# ------------------------------------\n",
    "# Node 3 : <Toss> :: \n",
    "# ------------------------------------\n",
    "#      Column Position : 4\n",
    "#      Column Name     : Toss\n",
    "#      Domain Values   : Win , Loss \n",
    "# -------------------------------------------\n",
    "# Node 4 : <Result> :: \n",
    "# -------------------------------------------\n",
    "#      Column Position : 2\n",
    "#      Column Name     : Result\n",
    "#      Domain Values   : Win , Loss , Draw\n",
    "# -------------------------------------------\n",
    "# Node 5 : <Batting> :: \n",
    "# ------------------------------------\n",
    "#      Column Position : 7\n",
    "#      Column Name     : Location\n",
    "#      Domain Values   : 1st , 2nd"
   ]
  },
  {
   "cell_type": "code",
   "execution_count": null,
   "metadata": {},
   "outputs": [],
   "source": [
    "#Construction of Bayesian Network goes here "
   ]
  },
  {
   "cell_type": "code",
   "execution_count": null,
   "metadata": {},
   "outputs": [],
   "source": [
    "#Solution for part 1 "
   ]
  },
  {
   "cell_type": "code",
   "execution_count": null,
   "metadata": {},
   "outputs": [],
   "source": [
    "#Solution for part 2 "
   ]
  },
  {
   "cell_type": "code",
   "execution_count": null,
   "metadata": {},
   "outputs": [],
   "source": [
    "#Solution for part 3 "
   ]
  },
  {
   "cell_type": "code",
   "execution_count": null,
   "metadata": {},
   "outputs": [],
   "source": [
    "#Solution for part 4\n",
    "# a)\n",
    "# b) \n",
    "# c)\n",
    "# d) "
   ]
  },
  {
   "cell_type": "code",
   "execution_count": null,
   "metadata": {},
   "outputs": [],
   "source": [
    "#Feel free to add cells where necessary. "
   ]
  },
  {
   "cell_type": "code",
   "execution_count": 14,
   "metadata": {},
   "outputs": [],
   "source": [
    "from pomegranate import *\n",
    "a = NormalDistribution(1, 1)"
   ]
  },
  {
   "cell_type": "code",
   "execution_count": 15,
   "metadata": {},
   "outputs": [],
   "source": [
    "b = NormalDistribution(1, 1)"
   ]
  },
  {
   "cell_type": "code",
   "execution_count": 17,
   "metadata": {},
   "outputs": [
    {
     "name": "stdout",
     "output_type": "stream",
     "text": [
      "{\n",
      "    \"class\" :\"Distribution\",\n",
      "    \"name\" :\"NormalDistribution\",\n",
      "    \"parameters\" :[\n",
      "        1.0,\n",
      "        1.0\n",
      "    ],\n",
      "    \"frozen\" :false\n",
      "}\n"
     ]
    }
   ],
   "source": [
    "print(b)"
   ]
  },
  {
   "cell_type": "code",
   "execution_count": 18,
   "metadata": {},
   "outputs": [],
   "source": [
    "X = numpy.random.normal(3, 5, size=(5000,))"
   ]
  },
  {
   "cell_type": "code",
   "execution_count": 19,
   "metadata": {},
   "outputs": [
    {
     "name": "stdout",
     "output_type": "stream",
     "text": [
      "[-0.28664087  3.18638661 -7.29813938 ... 12.50845935  5.28717536\n",
      "  4.53972269]\n"
     ]
    }
   ],
   "source": [
    "print(X)"
   ]
  },
  {
   "cell_type": "code",
   "execution_count": 20,
   "metadata": {},
   "outputs": [],
   "source": [
    "a.fit(X)"
   ]
  },
  {
   "cell_type": "code",
   "execution_count": 21,
   "metadata": {},
   "outputs": [
    {
     "name": "stdout",
     "output_type": "stream",
     "text": [
      "{\n",
      "    \"class\" :\"Distribution\",\n",
      "    \"name\" :\"NormalDistribution\",\n",
      "    \"parameters\" :[\n",
      "        2.995055469706019,\n",
      "        5.0380890303800525\n",
      "    ],\n",
      "    \"frozen\" :false\n",
      "}\n"
     ]
    }
   ],
   "source": [
    "print(a)"
   ]
  },
  {
   "cell_type": "code",
   "execution_count": 22,
   "metadata": {},
   "outputs": [],
   "source": [
    "for i in range(5):\n",
    "    b.summarize(X[i*1000:(i+1)*1000])\n",
    "b.from_summaries()"
   ]
  },
  {
   "cell_type": "code",
   "execution_count": 23,
   "metadata": {},
   "outputs": [
    {
     "name": "stdout",
     "output_type": "stream",
     "text": [
      "{\n",
      "    \"class\" :\"Distribution\",\n",
      "    \"name\" :\"NormalDistribution\",\n",
      "    \"parameters\" :[\n",
      "        2.9950554697060245,\n",
      "        5.038089030380038\n",
      "    ],\n",
      "    \"frozen\" :false\n",
      "}\n"
     ]
    }
   ],
   "source": [
    "print(b)"
   ]
  },
  {
   "cell_type": "code",
   "execution_count": 28,
   "metadata": {},
   "outputs": [],
   "source": [
    "guest = DiscreteDistribution({'A': 1./3, 'B': 1./3, 'C': 1./3})\n",
    "prize = DiscreteDistribution({'A': 1./3, 'B': 1./3, 'C': 1./3})"
   ]
  },
  {
   "cell_type": "code",
   "execution_count": 29,
   "metadata": {},
   "outputs": [],
   "source": [
    "monty = ConditionalProbabilityTable(\n",
    "        [['A', 'A', 'A', 0.0],\n",
    "         ['A', 'A', 'B', 0.5],\n",
    "         ['A', 'A', 'C', 0.5],\n",
    "         ['A', 'B', 'A', 0.0],\n",
    "         ['A', 'B', 'B', 0.0],\n",
    "         ['A', 'B', 'C', 1.0],\n",
    "         ['A', 'C', 'A', 0.0],\n",
    "         ['A', 'C', 'B', 1.0],\n",
    "         ['A', 'C', 'C', 0.0],\n",
    "         ['B', 'A', 'A', 0.0],\n",
    "         ['B', 'A', 'B', 0.0],\n",
    "         ['B', 'A', 'C', 1.0],\n",
    "         ['B', 'B', 'A', 0.5],\n",
    "         ['B', 'B', 'B', 0.0],\n",
    "         ['B', 'B', 'C', 0.5],\n",
    "         ['B', 'C', 'A', 1.0],\n",
    "         ['B', 'C', 'B', 0.0],\n",
    "         ['B', 'C', 'C', 0.0]e4,\n",
    "         ['C', 'A', 'A', 0.0],\n",
    "         ['C', 'A', 'B', 1.0],\n",
    "         ['C', 'A', 'C', 0.0],\n",
    "         ['C', 'B', 'A', 1.0],\n",
    "         ['C', 'B', 'B', 0.0],\n",
    "         ['C', 'B', 'C', 0.0],\n",
    "         ['C', 'C', 'A', 0.5],\n",
    "         ['C', 'C', 'B', 0.5],\n",
    "         ['C', 'C', 'C', 0.0]], [guest, prize])"
   ]
  },
  {
   "cell_type": "markdown",
   "metadata": {},
   "source": [
    "<h3><center> Happy Coding!</center></h3>"
   ]
  },
  {
   "cell_type": "code",
   "execution_count": 30,
   "metadata": {},
   "outputs": [],
   "source": [
    "s1 = Node(guest, name=\"guest\")\n",
    "s2 = Node(prize, name=\"prize\")\n",
    "s3 = Node(monty, name=\"monty\")\n",
    "\n",
    "model = BayesianNetwork(\"Monty Hall Problem\")\n",
    "model.add_states(s1, s2, s3)\n",
    "model.add_edge(s1, s3)\n",
    "model.add_edge(s2, s3)\n",
    "model.bake()"
   ]
  },
  {
   "cell_type": "code",
   "execution_count": 31,
   "metadata": {},
   "outputs": [
    {
     "ename": "TypeError",
     "evalue": "list indices must be integers or slices, not tuple",
     "output_type": "error",
     "traceback": [
      "\u001b[0;31m---------------------------------------------------------------------------\u001b[0m",
      "\u001b[0;31mTypeError\u001b[0m                                 Traceback (most recent call last)",
      "\u001b[0;32m<ipython-input-31-c1e53d06d14d>\u001b[0m in \u001b[0;36m<module>\u001b[0;34m\u001b[0m\n\u001b[0;32m----> 1\u001b[0;31m \u001b[0mmodel\u001b[0m\u001b[0;34m.\u001b[0m\u001b[0mprobability\u001b[0m\u001b[0;34m(\u001b[0m\u001b[0;34m[\u001b[0m\u001b[0;34m'A'\u001b[0m\u001b[0;34m,\u001b[0m \u001b[0;34m'B'\u001b[0m\u001b[0;34m,\u001b[0m \u001b[0;34m'C'\u001b[0m\u001b[0;34m]\u001b[0m\u001b[0;34m)\u001b[0m\u001b[0;34m\u001b[0m\u001b[0;34m\u001b[0m\u001b[0m\n\u001b[0m",
      "\u001b[0;32m~/opt/anaconda3/lib/python3.7/site-packages/pomegranate/base.pyx\u001b[0m in \u001b[0;36mpomegranate.base.Model.probability\u001b[0;34m()\u001b[0m\n",
      "\u001b[0;32m~/opt/anaconda3/lib/python3.7/site-packages/pomegranate/BayesianNetwork.pyx\u001b[0m in \u001b[0;36mpomegranate.BayesianNetwork.BayesianNetwork.log_probability\u001b[0;34m()\u001b[0m\n",
      "\u001b[0;31mTypeError\u001b[0m: list indices must be integers or slices, not tuple"
     ]
    }
   ],
   "source": [
    "model.probability(['A', 'B', 'C'])"
   ]
  },
  {
   "cell_type": "code",
   "execution_count": null,
   "metadata": {},
   "outputs": [],
   "source": []
  }
 ],
 "metadata": {
  "kernelspec": {
   "display_name": "Python 3",
   "language": "python",
   "name": "python3"
  },
  "language_info": {
   "codemirror_mode": {
    "name": "ipython",
    "version": 3
   },
   "file_extension": ".py",
   "mimetype": "text/x-python",
   "name": "python",
   "nbconvert_exporter": "python",
   "pygments_lexer": "ipython3",
   "version": "3.7.4"
  }
 },
 "nbformat": 4,
 "nbformat_minor": 2
}
