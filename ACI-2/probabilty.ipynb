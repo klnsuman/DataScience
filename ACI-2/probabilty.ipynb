{
 "cells": [
  {
   "cell_type": "code",
   "execution_count": 6,
   "metadata": {},
   "outputs": [],
   "source": [
    "import pandas as pd\n",
    "X={'lo': 125, 'med': 375, 'hi': 500}"
   ]
  },
  {
   "cell_type": "code",
   "execution_count": 7,
   "metadata": {},
   "outputs": [
    {
     "name": "stdout",
     "output_type": "stream",
     "text": [
      "hi\n"
     ]
    }
   ],
   "source": [
    "print(\"hi\")"
   ]
  },
  {
   "cell_type": "code",
   "execution_count": 8,
   "metadata": {},
   "outputs": [
    {
     "name": "stdout",
     "output_type": "stream",
     "text": [
      "{'lo': 125, 'med': 375, 'hi': 500}\n"
     ]
    }
   ],
   "source": [
    "print(X)"
   ]
  },
  {
   "cell_type": "code",
   "execution_count": 37,
   "metadata": {},
   "outputs": [],
   "source": [
    "from collections import defaultdict\n",
    "import numpy as np"
   ]
  },
  {
   "cell_type": "code",
   "execution_count": 177,
   "metadata": {},
   "outputs": [],
   "source": [
    "class ProbDist:\n",
    "    def __init__(self,varname='?',freqs=None):\n",
    "        self.prob = {}\n",
    "        self.varname = varname\n",
    "        self.values = []\n",
    "        i=0\n",
    "        if freqs:\n",
    "            for (v,p) in freqs.items():\n",
    "                self[v] = p\n",
    "                print(\"i\",i,\" v\",v,\" p\",p)\n",
    "                print(\"i\",i,\" prob\",self.prob)\n",
    "                print(\"i\",i,\" varname\",self.varname)\n",
    "                print(\"i\",i,\" values\",self.values)\n",
    "                i+=1\n",
    "            self.normalize()\n",
    "            \n",
    "    def __getitem__(self,val):\n",
    "        print(\"getItem\")\n",
    "        try:\n",
    "            return self.prob[val]\n",
    "        except KeyError:\n",
    "            return 0\n",
    "        \n",
    "    def __setitem__(self,val,p):\n",
    "        print(\"setItem\")\n",
    "        if val not in self.values:\n",
    "            self.values.append(val)\n",
    "            print(\"val:\",val,\",prob:\",p)\n",
    "        self.prob[val] = p\n",
    "        \n",
    "    def getV(self,val):\n",
    "        return self.prob.__getitem__(val)\n",
    "        \n",
    "    def normalize(self):\n",
    "        total = sum(self.prob.values())\n",
    "        if not np.isclose(total,1.0):\n",
    "            for val in self.prob:\n",
    "                self.prob[val] /= total\n",
    "        return self\n",
    "    \n",
    "    def show_approx(self,numfmt='{:.3g}'):\n",
    "        return ', '.join([('{}: '+numfmt).format(v,p)\n",
    "                                                for(v,p) in sorted(self.prob.items())])\n",
    "    \n",
    "    def __repr__(self):\n",
    "        return \"P({})\".format(self.varname)"
   ]
  },
  {
   "cell_type": "code",
   "execution_count": 178,
   "metadata": {},
   "outputs": [
    {
     "name": "stdout",
     "output_type": "stream",
     "text": [
      "setItem\n",
      "val: H ,prob: 0.25\n",
      "setItem\n",
      "val: T ,prob: 0.75\n",
      "getItem\n"
     ]
    },
    {
     "data": {
      "text/plain": [
       "0.75"
      ]
     },
     "execution_count": 178,
     "metadata": {},
     "output_type": "execute_result"
    }
   ],
   "source": [
    "\n",
    "p = ProbDist('Flip')\n",
    "p['H'], p['T'] = 0.25, 0.75\n",
    "p['T']"
   ]
  },
  {
   "cell_type": "code",
   "execution_count": 179,
   "metadata": {},
   "outputs": [
    {
     "name": "stdout",
     "output_type": "stream",
     "text": [
      "setItem\n",
      "val: lo ,prob: 125\n",
      "i 0  v lo  p 125\n",
      "i 0  prob {'lo': 125}\n",
      "i 0  varname X\n",
      "i 0  values ['lo']\n",
      "setItem\n",
      "val: med ,prob: 375\n",
      "i 1  v med  p 375\n",
      "i 1  prob {'lo': 125, 'med': 375}\n",
      "i 1  varname X\n",
      "i 1  values ['lo', 'med']\n",
      "setItem\n",
      "val: hi ,prob: 500\n",
      "i 2  v hi  p 500\n",
      "i 2  prob {'lo': 125, 'med': 375, 'hi': 500}\n",
      "i 2  varname X\n",
      "i 2  values ['lo', 'med', 'hi']\n"
     ]
    }
   ],
   "source": [
    "P = ProbDist('X', {'lo': 125, 'med': 375, 'hi': 500})"
   ]
  },
  {
   "cell_type": "code",
   "execution_count": 163,
   "metadata": {},
   "outputs": [
    {
     "data": {
      "text/plain": [
       "(P(X), 0.125, 0)"
      ]
     },
     "execution_count": 163,
     "metadata": {},
     "output_type": "execute_result"
    }
   ],
   "source": [
    "P , P['lo'],p['med']"
   ]
  },
  {
   "cell_type": "code",
   "execution_count": 167,
   "metadata": {},
   "outputs": [
    {
     "ename": "SyntaxError",
     "evalue": "invalid syntax (<ipython-input-167-6eb1f68ff2db>, line 1)",
     "output_type": "error",
     "traceback": [
      "\u001b[0;36m  File \u001b[0;32m\"<ipython-input-167-6eb1f68ff2db>\"\u001b[0;36m, line \u001b[0;32m1\u001b[0m\n\u001b[0;31m    P1 = ProbDist( freqs:{'lo': 125, 'med': 375, 'hi': 500})\u001b[0m\n\u001b[0m                        ^\u001b[0m\n\u001b[0;31mSyntaxError\u001b[0m\u001b[0;31m:\u001b[0m invalid syntax\n"
     ]
    }
   ],
   "source": [
    "P1 = ProbDist( {'lo': 125, 'med': 375, 'hi': 500})"
   ]
  },
  {
   "cell_type": "code",
   "execution_count": 165,
   "metadata": {},
   "outputs": [
    {
     "data": {
      "text/plain": [
       "0"
      ]
     },
     "execution_count": 165,
     "metadata": {},
     "output_type": "execute_result"
    }
   ],
   "source": [
    "P1['lo']"
   ]
  },
  {
   "cell_type": "code",
   "execution_count": 160,
   "metadata": {},
   "outputs": [
    {
     "data": {
      "text/plain": [
       "0.5"
      ]
     },
     "execution_count": 160,
     "metadata": {},
     "output_type": "execute_result"
    }
   ],
   "source": []
  },
  {
   "cell_type": "code",
   "execution_count": null,
   "metadata": {},
   "outputs": [],
   "source": []
  }
 ],
 "metadata": {
  "kernelspec": {
   "display_name": "Python 3",
   "language": "python",
   "name": "python3"
  },
  "language_info": {
   "codemirror_mode": {
    "name": "ipython",
    "version": 3
   },
   "file_extension": ".py",
   "mimetype": "text/x-python",
   "name": "python",
   "nbconvert_exporter": "python",
   "pygments_lexer": "ipython3",
   "version": "3.7.4"
  }
 },
 "nbformat": 4,
 "nbformat_minor": 2
}
