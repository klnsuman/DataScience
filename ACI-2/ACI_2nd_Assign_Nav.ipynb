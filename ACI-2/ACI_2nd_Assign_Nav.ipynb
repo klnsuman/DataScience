{
 "cells": [
  {
   "cell_type": "code",
   "execution_count": 33,
   "metadata": {},
   "outputs": [],
   "source": [
    "#Import libraries\n",
    "import pandas as pd\n",
    "from pomegranate import *"
   ]
  },
  {
   "cell_type": "code",
   "execution_count": 40,
   "metadata": {},
   "outputs": [],
   "source": [
    "#Read data\n",
    "df = pd.read_excel('India_Test_Stats.xlsx', sheet_name='Sheet1')\n",
    "#Dropping not required columns\n",
    "df.drop(['Margin','Opposition','Start Date'],axis=1, inplace = True)"
   ]
  },
  {
   "cell_type": "code",
   "execution_count": 41,
   "metadata": {},
   "outputs": [
    {
     "data": {
      "text/html": [
       "<div>\n",
       "<style scoped>\n",
       "    .dataframe tbody tr th:only-of-type {\n",
       "        vertical-align: middle;\n",
       "    }\n",
       "\n",
       "    .dataframe tbody tr th {\n",
       "        vertical-align: top;\n",
       "    }\n",
       "\n",
       "    .dataframe thead th {\n",
       "        text-align: right;\n",
       "    }\n",
       "</style>\n",
       "<table border=\"1\" class=\"dataframe\">\n",
       "  <thead>\n",
       "    <tr style=\"text-align: right;\">\n",
       "      <th></th>\n",
       "      <th>Ashwin</th>\n",
       "      <th>Result</th>\n",
       "      <th>Toss</th>\n",
       "      <th>Bat</th>\n",
       "      <th>Location</th>\n",
       "    </tr>\n",
       "  </thead>\n",
       "  <tbody>\n",
       "    <tr>\n",
       "      <td>0</td>\n",
       "      <td>Y</td>\n",
       "      <td>won</td>\n",
       "      <td>lost</td>\n",
       "      <td>2nd</td>\n",
       "      <td>Home</td>\n",
       "    </tr>\n",
       "    <tr>\n",
       "      <td>1</td>\n",
       "      <td>Y</td>\n",
       "      <td>won</td>\n",
       "      <td>won</td>\n",
       "      <td>1st</td>\n",
       "      <td>Home</td>\n",
       "    </tr>\n",
       "    <tr>\n",
       "      <td>2</td>\n",
       "      <td>Y</td>\n",
       "      <td>draw</td>\n",
       "      <td>lost</td>\n",
       "      <td>2nd</td>\n",
       "      <td>Home</td>\n",
       "    </tr>\n",
       "    <tr>\n",
       "      <td>3</td>\n",
       "      <td>Y</td>\n",
       "      <td>lost</td>\n",
       "      <td>lost</td>\n",
       "      <td>2nd</td>\n",
       "      <td>Away</td>\n",
       "    </tr>\n",
       "    <tr>\n",
       "      <td>4</td>\n",
       "      <td>Y</td>\n",
       "      <td>lost</td>\n",
       "      <td>won</td>\n",
       "      <td>1st</td>\n",
       "      <td>Away</td>\n",
       "    </tr>\n",
       "  </tbody>\n",
       "</table>\n",
       "</div>"
      ],
      "text/plain": [
       "  Ashwin Result  Toss  Bat Location\n",
       "0      Y    won  lost  2nd     Home\n",
       "1      Y    won   won  1st     Home\n",
       "2      Y   draw  lost  2nd     Home\n",
       "3      Y   lost  lost  2nd     Away\n",
       "4      Y   lost   won  1st     Away"
      ]
     },
     "execution_count": 41,
     "metadata": {},
     "output_type": "execute_result"
    }
   ],
   "source": [
    "df.head()"
   ]
  },
  {
   "cell_type": "code",
   "execution_count": 42,
   "metadata": {},
   "outputs": [],
   "source": [
    "def CalculatePriorProbability(df, column):\n",
    "    priorProbDict = {}\n",
    "    type(priorProbDict)\n",
    "    columns = list(df)\n",
    "    \n",
    "    for j in df[column].unique():\n",
    "        priorProbDict[j] = df[df[column] == j].count().iloc[0] / df[[column]].count().iloc[0]\n",
    "        priorProbDict[j] = df[df[column] == j].count().iloc[0] / df[[column]].count().iloc[0]\n",
    "    return priorProbDict"
   ]
  },
  {
   "cell_type": "code",
   "execution_count": 43,
   "metadata": {},
   "outputs": [
    {
     "data": {
      "text/plain": [
       "{'Y': 0.8235294117647058, 'N': 0.17647058823529413}"
      ]
     },
     "execution_count": 43,
     "metadata": {},
     "output_type": "execute_result"
    }
   ],
   "source": [
    "dict = CalculatePriorProbability(df, 'Ashwin')\n",
    "dict"
   ]
  },
  {
   "cell_type": "code",
   "execution_count": 44,
   "metadata": {},
   "outputs": [],
   "source": [
    "def CalculateConditionalProbability(df, Location, AshwinPlaying):\n",
    "    condProbDict = []\n",
    "   \n",
    "    columns = list(df)\n",
    "    \n",
    "    priorProb = CalculatePriorProbability(df, Location)\n",
    "    for j in df[Location].unique():\n",
    "        for k in df[AshwinPlaying].unique():\n",
    "            val = df[(df[Location] == j) & (df[AshwinPlaying]  == k)].count().iloc[0] / df[[Location]].count().iloc[0]/priorProb[j]\n",
    "            \n",
    "            condProbDict.append([j,k,val])\n",
    "    return condProbDict\n"
   ]
  },
  {
   "cell_type": "code",
   "execution_count": 45,
   "metadata": {},
   "outputs": [
    {
     "data": {
      "text/plain": [
       "[['Home', 'Y', 1.0],\n",
       " ['Home', 'N', 0.0],\n",
       " ['Away', 'Y', 0.6428571428571428],\n",
       " ['Away', 'N', 0.35714285714285715]]"
      ]
     },
     "execution_count": 45,
     "metadata": {},
     "output_type": "execute_result"
    }
   ],
   "source": [
    "#Data Description\n",
    "arr = CalculateConditionalProbability(df, 'Location', 'Ashwin')\n",
    "arr"
   ]
  },
  {
   "cell_type": "code",
   "execution_count": 22,
   "metadata": {},
   "outputs": [
    {
     "data": {
      "text/plain": [
       "[['lost', '2nd', 0.7777777777777777],\n",
       " ['lost', '1st', 0.2222222222222222],\n",
       " ['won', '2nd', 0.1],\n",
       " ['won', '1st', 0.9]]"
      ]
     },
     "execution_count": 22,
     "metadata": {},
     "output_type": "execute_result"
    }
   ],
   "source": [
    "arr = CalculateConditionalProbability(df, 'Toss', 'Bat')\n",
    "arr"
   ]
  },
  {
   "cell_type": "code",
   "execution_count": 46,
   "metadata": {},
   "outputs": [
    {
     "data": {
      "text/plain": [
       "[['2nd', 'won', 0.41025641025641024],\n",
       " ['2nd', 'draw', 0.25641025641025644],\n",
       " ['2nd', 'lost', 0.33333333333333337],\n",
       " ['1st', 'won', 0.6739130434782609],\n",
       " ['1st', 'draw', 0.13043478260869565],\n",
       " ['1st', 'lost', 0.1956521739130435]]"
      ]
     },
     "execution_count": 46,
     "metadata": {},
     "output_type": "execute_result"
    }
   ],
   "source": [
    "arr = CalculateConditionalProbability(df, 'Bat', 'Result')\n",
    "arr"
   ]
  },
  {
   "cell_type": "code",
   "execution_count": 47,
   "metadata": {},
   "outputs": [],
   "source": [
    "#Construction of Bayesian Network goes here \n",
    "location = DiscreteDistribution(CalculatePriorProbability(df, 'Location'))\n",
    "toss = DiscreteDistribution(CalculatePriorProbability(df, 'Toss'))\n",
    "\n",
    "ashwin = ConditionalProbabilityTable(CalculateConditionalProbability(df, 'Location', 'Ashwin'),[location])\n",
    "batting = ConditionalProbabilityTable(CalculateConditionalProbability(df, 'Toss', 'Bat'), [toss])\n",
    "result = ConditionalProbabilityTable(CalculateConditionalProbability(df, 'Bat', 'Result'), [batting])"
   ]
  },
  {
   "cell_type": "code",
   "execution_count": 48,
   "metadata": {},
   "outputs": [],
   "source": [
    "# State objects hold both the distribution, and a high level name.\n",
    "sLocation = State(location, name=\"Location\")\n",
    "sToss = State(toss, name=\"Toss\")\n",
    "sBatting = State(batting, name=\"Batting\")\n",
    "sAshwin = State(ashwin, name=\"Ashwin\")\n",
    "sResult = State(result, name=\"Result\")"
   ]
  },
  {
   "cell_type": "code",
   "execution_count": 49,
   "metadata": {},
   "outputs": [],
   "source": [
    "\n",
    "# Create the Bayesian network object with a useful name\n",
    "model = BayesianNetwork(\"Ashwin Playing Problem\")\n",
    "\n",
    "# Add the three states to the network \n",
    "model.add_states(sLocation, sToss, sBatting, sAshwin, sResult)"
   ]
  },
  {
   "cell_type": "code",
   "execution_count": 50,
   "metadata": {},
   "outputs": [],
   "source": [
    "model.add_edge(sLocation, sAshwin)\n",
    "model.add_edge(sToss, sBatting)\n",
    "model.add_edge(sBatting, sResult)"
   ]
  },
  {
   "cell_type": "code",
   "execution_count": 51,
   "metadata": {},
   "outputs": [],
   "source": [
    "model.bake()"
   ]
  },
  {
   "cell_type": "code",
   "execution_count": 54,
   "metadata": {},
   "outputs": [
    {
     "data": {
      "text/plain": [
       "1.0"
      ]
     },
     "execution_count": 54,
     "metadata": {},
     "output_type": "execute_result"
    }
   ],
   "source": [
    "#Solution for part 4\n",
    "# a) #India winning, batting 2nd, Ashwin playing\n",
    "model.probability([None, None, None,'2nd', 'Y', 'won'])"
   ]
  },
  {
   "cell_type": "code",
   "execution_count": 55,
   "metadata": {},
   "outputs": [
    {
     "data": {
      "text/plain": [
       "1.0"
      ]
     },
     "execution_count": 55,
     "metadata": {},
     "output_type": "execute_result"
    }
   ],
   "source": [
    "# b) India winning, batting 2nd, Ashwin not playing\n",
    "model.probability([None, None, None,'2nd', 'N', 'won'])"
   ]
  },
  {
   "cell_type": "code",
   "execution_count": 56,
   "metadata": {},
   "outputs": [
    {
     "data": {
      "text/plain": [
       "1.0"
      ]
     },
     "execution_count": 56,
     "metadata": {},
     "output_type": "execute_result"
    }
   ],
   "source": [
    "# c) India losing, batting 2nd, Ashwin playing\n",
    "model.probability([None, None, None,'2nd', 'Y', 'lost'])"
   ]
  },
  {
   "cell_type": "code",
   "execution_count": 57,
   "metadata": {},
   "outputs": [
    {
     "data": {
      "text/plain": [
       "1.0"
      ]
     },
     "execution_count": 57,
     "metadata": {},
     "output_type": "execute_result"
    }
   ],
   "source": [
    "# d) India losing, batting 2nd, Ashwin not playing\n",
    "model.probability([None, None, None,'2nd', 'N', 'lost'])"
   ]
  }
 ],
 "metadata": {
  "kernelspec": {
   "display_name": "Python 3",
   "language": "python",
   "name": "python3"
  },
  "language_info": {
   "codemirror_mode": {
    "name": "ipython",
    "version": 3
   },
   "file_extension": ".py",
   "mimetype": "text/x-python",
   "name": "python",
   "nbconvert_exporter": "python",
   "pygments_lexer": "ipython3",
   "version": "3.7.4"
  }
 },
 "nbformat": 4,
 "nbformat_minor": 2
}
