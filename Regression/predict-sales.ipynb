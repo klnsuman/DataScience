{
 "cells": [
  {
   "cell_type": "markdown",
   "metadata": {},
   "source": [
    "# Import the required Libraries"
   ]
  },
  {
   "cell_type": "code",
   "execution_count": 1,
   "metadata": {},
   "outputs": [],
   "source": [
    "import os\n",
    "import sys\n",
    "import pandas as pd\n",
    "from sklearn import preprocessing,tree,neighbors,metrics,linear_model\n",
    "from sklearn_pandas import DataFrameMapper,CategoricalImputer\n",
    "import numpy as np\n",
    "from sklearn import model_selection,ensemble\n",
    "import seaborn as sns\n",
    "from sklearn import feature_selection\n",
    "import math\n",
    "import matplotlib.pyplot as plt"
   ]
  },
  {
   "cell_type": "code",
   "execution_count": 2,
   "metadata": {},
   "outputs": [
    {
     "name": "stdout",
     "output_type": "stream",
     "text": [
      "Am here\n"
     ]
    }
   ],
   "source": [
    "print(\"Am here\")"
   ]
  },
  {
   "cell_type": "markdown",
   "metadata": {},
   "source": [
    "sales_train = pd.read_csv(\"sales_train.csv\")\n",
    "sales_train.shape"
   ]
  },
  {
   "cell_type": "markdown",
   "metadata": {},
   "source": [
    "## METHOD 1 - Get Null Value Counts in All the fields in the file."
   ]
  },
  {
   "cell_type": "code",
   "execution_count": 13,
   "metadata": {},
   "outputs": [
    {
     "data": {
      "text/plain": [
       "date              0\n",
       "date_block_num    0\n",
       "shop_id           0\n",
       "item_id           0\n",
       "item_price        0\n",
       "item_cnt_day      0\n",
       "dtype: int64"
      ]
     },
     "execution_count": 13,
     "metadata": {},
     "output_type": "execute_result"
    }
   ],
   "source": [
    "sales_train.isna().sum()"
   ]
  },
  {
   "cell_type": "markdown",
   "metadata": {},
   "source": [
    "## METHOD 2 - Get Null Value Counts in All the fields in the file."
   ]
  },
  {
   "cell_type": "code",
   "execution_count": 6,
   "metadata": {
    "scrolled": true
   },
   "outputs": [
    {
     "name": "stdout",
     "output_type": "stream",
     "text": [
      "date              0\n",
      "date_block_num    0\n",
      "shop_id           0\n",
      "item_id           0\n",
      "item_price        0\n",
      "item_cnt_day      0\n",
      "dtype: int64\n"
     ]
    }
   ],
   "source": [
    "print(sales_train.apply(lambda x : sum(x.isnull())))"
   ]
  },
  {
   "cell_type": "markdown",
   "metadata": {},
   "source": [
    "## Method 1 - Group by : Get the counts of Shop Id Values --> Group by Shop_id"
   ]
  },
  {
   "cell_type": "code",
   "execution_count": 10,
   "metadata": {},
   "outputs": [
    {
     "name": "stdout",
     "output_type": "stream",
     "text": [
      "Value_counts\n",
      " 31    235636\n",
      "25    186104\n",
      "54    143480\n",
      "28    142234\n",
      "57    117428\n",
      "42    109253\n",
      "27    105366\n",
      "6      82663\n",
      "58     71441\n",
      "56     69573\n",
      "46     66321\n",
      "50     65173\n",
      "19     63911\n",
      "15     59511\n",
      "35     58445\n",
      "21     58133\n",
      "7      58076\n",
      "47     56695\n",
      "26     53910\n",
      "18     53227\n",
      "24     53032\n",
      "53     52921\n",
      "16     52734\n",
      "30     50860\n",
      "29     49225\n",
      "38     46013\n",
      "22     45434\n",
      "51     44433\n",
      "52     43502\n",
      "59     42108\n",
      "41     41967\n",
      "37     39638\n",
      "44     39530\n",
      "43     39282\n",
      "4      38242\n",
      "5      38179\n",
      "14     36979\n",
      "45     35891\n",
      "55     34769\n",
      "12     34694\n",
      "2      25991\n",
      "3      25532\n",
      "17     22950\n",
      "48     21612\n",
      "10     21397\n",
      "13     17824\n",
      "49     15849\n",
      "39     13440\n",
      "0       9857\n",
      "32      7947\n",
      "23      6963\n",
      "34      5752\n",
      "1       5678\n",
      "33      5027\n",
      "40      4257\n",
      "9       3751\n",
      "8       3412\n",
      "20      1792\n",
      "11       499\n",
      "36       306\n",
      "Name: shop_id, dtype: int64\n"
     ]
    }
   ],
   "source": [
    "print(\"Value_counts\\n\",pd.value_counts(sales_train[\"shop_id\"]))    "
   ]
  },
  {
   "cell_type": "code",
   "execution_count": null,
   "metadata": {},
   "outputs": [],
   "source": [
    "sales_train.info()"
   ]
  },
  {
   "cell_type": "code",
   "execution_count": 15,
   "metadata": {
    "scrolled": true
   },
   "outputs": [
    {
     "name": "stdout",
     "output_type": "stream",
     "text": [
      "Value_counts\n",
      " 20949    31340\n",
      "5822      9408\n",
      "17717     9067\n",
      "2808      7479\n",
      "4181      6853\n",
      "7856      6602\n",
      "3732      6475\n",
      "2308      6320\n",
      "4870      5811\n",
      "3734      5805\n",
      "1855      5681\n",
      "5821      5389\n",
      "16787     5283\n",
      "6675      5122\n",
      "7894      5107\n",
      "2445      5056\n",
      "1830      4976\n",
      "5823      4974\n",
      "6497      4904\n",
      "5272      4853\n",
      "13071     4804\n",
      "6740      4675\n",
      "3183      4615\n",
      "4178      4527\n",
      "2416      4487\n",
      "7893      4380\n",
      "6466      4324\n",
      "6498      4278\n",
      "6503      4274\n",
      "6457      4269\n",
      "         ...  \n",
      "181          1\n",
      "2647         1\n",
      "599          1\n",
      "21074        1\n",
      "20670        1\n",
      "601          1\n",
      "14942        1\n",
      "4278         1\n",
      "596          1\n",
      "595          1\n",
      "19010        1\n",
      "594          1\n",
      "16255        1\n",
      "7731         1\n",
      "588          1\n",
      "2636         1\n",
      "184          1\n",
      "21060        1\n",
      "18290        1\n",
      "4684         1\n",
      "590          1\n",
      "21061        1\n",
      "183          1\n",
      "15913        1\n",
      "3628         1\n",
      "593          1\n",
      "13866        1\n",
      "16574        1\n",
      "20668        1\n",
      "0            1\n",
      "Name: item_id, Length: 21807, dtype: int64\n"
     ]
    }
   ],
   "source": [
    "print(\"Value_counts\\n\",pd.value_counts(sales_train[\"item_id\"]))    "
   ]
  },
  {
   "cell_type": "markdown",
   "metadata": {},
   "source": [
    "## Method 2 - Group by : Get the counts of Shop Id Values --> Group by Shop_id"
   ]
  },
  {
   "cell_type": "code",
   "execution_count": 14,
   "metadata": {},
   "outputs": [
    {
     "name": "stdout",
     "output_type": "stream",
     "text": [
      "        item_id\n",
      "          count\n",
      "item_id        \n",
      "0             1\n",
      "1             6\n",
      "2             2\n",
      "3             2\n",
      "4             1\n",
      "5             1\n",
      "6             1\n",
      "7             1\n",
      "8             2\n",
      "9             1\n",
      "10            1\n",
      "11            1\n",
      "12            1\n",
      "13            1\n",
      "14            1\n",
      "15            1\n",
      "16            1\n",
      "17            1\n",
      "18            1\n",
      "19            1\n",
      "20            1\n",
      "21            1\n",
      "22            1\n",
      "23            1\n",
      "24            1\n",
      "25            1\n",
      "26            1\n",
      "27           42\n",
      "28           86\n",
      "29           14\n",
      "...         ...\n",
      "22140       290\n",
      "22141        48\n",
      "22142        10\n",
      "22143       647\n",
      "22144       112\n",
      "22145       286\n",
      "22146        29\n",
      "22147        63\n",
      "22148         2\n",
      "22149        35\n",
      "22150        58\n",
      "22151       283\n",
      "22152        84\n",
      "22153         9\n",
      "22154        59\n",
      "22155        75\n",
      "22156         4\n",
      "22157         4\n",
      "22158         1\n",
      "22159        14\n",
      "22160        49\n",
      "22161         1\n",
      "22162       560\n",
      "22163        71\n",
      "22164       408\n",
      "22165         2\n",
      "22166       270\n",
      "22167      1114\n",
      "22168         6\n",
      "22169         1\n",
      "\n",
      "[21807 rows x 1 columns]\n"
     ]
    }
   ],
   "source": [
    "group = sales_train.groupby(['item_id']).agg({'item_id': ['count']})\n",
    "print(group)"
   ]
  },
  {
   "cell_type": "code",
   "execution_count": null,
   "metadata": {},
   "outputs": [],
   "source": []
  },
  {
   "cell_type": "code",
   "execution_count": null,
   "metadata": {},
   "outputs": [],
   "source": [
    "sales_test = pd.read_csv(\"test.csv\")\n",
    "sales_test.shape"
   ]
  },
  {
   "cell_type": "code",
   "execution_count": null,
   "metadata": {},
   "outputs": [],
   "source": []
  },
  {
   "cell_type": "code",
   "execution_count": null,
   "metadata": {},
   "outputs": [],
   "source": [
    "sales_train.info()"
   ]
  },
  {
   "cell_type": "code",
   "execution_count": null,
   "metadata": {},
   "outputs": [],
   "source": [
    "sales_train.shop_id.unique()"
   ]
  },
  {
   "cell_type": "code",
   "execution_count": null,
   "metadata": {},
   "outputs": [],
   "source": [
    "test_shops = sales_test.shop_id.unique()\n",
    "sales_train = sales_train[sales_train.shop_id.isin(test_shops)]\n",
    "test_items = sales_test.item_id.unique()\n",
    "sales_train = sales_train[sales_train.item_id.isin(test_items)]"
   ]
  },
  {
   "cell_type": "code",
   "execution_count": null,
   "metadata": {},
   "outputs": [],
   "source": [
    "print(sales_train)"
   ]
  },
  {
   "cell_type": "code",
   "execution_count": null,
   "metadata": {},
   "outputs": [],
   "source": [
    "sales_train.date.max()"
   ]
  },
  {
   "cell_type": "code",
   "execution_count": null,
   "metadata": {},
   "outputs": [],
   "source": [
    "sales_train.date_block_num.min()"
   ]
  },
  {
   "cell_type": "code",
   "execution_count": null,
   "metadata": {},
   "outputs": [],
   "source": [
    "dates   = pd.to_datetime(sales_train['date'], format='%d.%m.%Y')"
   ]
  },
  {
   "cell_type": "code",
   "execution_count": null,
   "metadata": {},
   "outputs": [],
   "source": [
    "print(dates.max())"
   ]
  },
  {
   "cell_type": "code",
   "execution_count": null,
   "metadata": {},
   "outputs": [],
   "source": [
    "print(dates.min())"
   ]
  },
  {
   "cell_type": "code",
   "execution_count": null,
   "metadata": {},
   "outputs": [],
   "source": [
    "sales_train.head()"
   ]
  },
  {
   "cell_type": "code",
   "execution_count": null,
   "metadata": {},
   "outputs": [],
   "source": [
    "sales_train.tail()"
   ]
  },
  {
   "cell_type": "code",
   "execution_count": null,
   "metadata": {},
   "outputs": [],
   "source": [
    "print(\"train:\",sales_train.shape,\"test:\",sales_test.shape,)"
   ]
  },
  {
   "cell_type": "code",
   "execution_count": null,
   "metadata": {},
   "outputs": [],
   "source": [
    "print(\"================================\")\n",
    "print(sales_train.info())\n",
    "print(\"================================\")\n",
    "print(sales_test.info())\n",
    "print(\"================================\")"
   ]
  },
  {
   "cell_type": "code",
   "execution_count": null,
   "metadata": {},
   "outputs": [],
   "source": [
    "sample_submission = pd.read_csv(\"sample_submission.csv\")\n",
    "sample_submission.shape"
   ]
  },
  {
   "cell_type": "code",
   "execution_count": null,
   "metadata": {},
   "outputs": [],
   "source": [
    "print(sample_submission)"
   ]
  },
  {
   "cell_type": "code",
   "execution_count": null,
   "metadata": {},
   "outputs": [],
   "source": []
  }
 ],
 "metadata": {
  "kernelspec": {
   "display_name": "Python 3",
   "language": "python",
   "name": "python3"
  },
  "language_info": {
   "codemirror_mode": {
    "name": "ipython",
    "version": 3
   },
   "file_extension": ".py",
   "mimetype": "text/x-python",
   "name": "python",
   "nbconvert_exporter": "python",
   "pygments_lexer": "ipython3",
   "version": "3.7.1"
  }
 },
 "nbformat": 4,
 "nbformat_minor": 2
}
