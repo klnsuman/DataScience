{
 "cells": [
  {
   "cell_type": "markdown",
   "metadata": {},
   "source": [
    "<b>Problem Statement:</b>\n",
    "    \n",
    "India Housing Finance offers home loans for low-income housing. They have presence across all urban, semi urban and rural areas. When customer applies for home loan, the company validates the customer eligibility for loan. They want to automate the loan eligibility process based on customer details provided while filling online application form. These details are Gender, Marital Status, Education, Number of Dependents, Income, Loan Amount, Credit History etc."
   ]
  },
  {
   "cell_type": "markdown",
   "metadata": {},
   "source": [
    "Feature\t\t\t\t\tDescription\n",
    "\n",
    "<br>Loan_ID           &nbsp;&nbsp;&nbsp; Unique Loan ID\n",
    "<br>Gender \t\t\t  &nbsp;&nbsp;&nbsp;\t Male/ Female \n",
    "<br>Married \t\t\t&nbsp;&nbsp;&nbsp;\t Applicant married (Y/N) \n",
    "<br>Dependents \t\t\t&nbsp;&nbsp;&nbsp;\t Number of dependents \n",
    "<br>Education \t\t\t&nbsp;&nbsp;&nbsp;\t Applicant Education (Graduate/Under Graduate) \n",
    "<br>Self_Employed \t\t&nbsp;&nbsp;&nbsp;\t Self-employed (Y/N) \n",
    "<br>ApplicantIncome \t&nbsp;&nbsp;&nbsp;\t Applicant income \n",
    "<br>CoapplicantIncome &nbsp;&nbsp;&nbsp;\t Applicant income \n",
    "<br>LoanAmount \t\t\t&nbsp;&nbsp;&nbsp;\t Loan amount in thousands \n",
    "<br>Loan_Amount_Term \t&nbsp;&nbsp;&nbsp;\t Term of loan in months \n",
    "<br>Credit_History \t\t&nbsp;&nbsp;&nbsp;\t Credit history meets guidelines \n",
    "<br>Property_Area\t\t&nbsp;&nbsp;&nbsp;\t Urban/ Semi Urban/ Rural\n",
    "<br>Loan_Status\t\t\t&nbsp;&nbsp;&nbsp;\t Loan approved (Y/N) - Target (Class) Variable"
   ]
  },
  {
   "cell_type": "code",
   "execution_count": 180,
   "metadata": {},
   "outputs": [],
   "source": [
    "import pandas as pd\n",
    "import matplotlib as mpl\n",
    "import os\n",
    "import numpy as np\n",
    "from sklearn.model_selection import train_test_split\n",
    "from sklearn.preprocessing import LabelEncoder\n",
    "from sklearn import metrics \n",
    "from sklearn import preprocessing\n",
    "from matplotlib import pyplot as plt\n",
    "import seaborn as sb\n",
    "import pydot \n",
    "import io\n",
    "from sklearn import tree\n",
    "from sklearn.tree import export_graphviz"
   ]
  },
  {
   "cell_type": "markdown",
   "metadata": {},
   "source": [
    "<B>Importing Data</B>"
   ]
  },
  {
   "cell_type": "code",
   "execution_count": 181,
   "metadata": {},
   "outputs": [],
   "source": [
    "data = pd.read_csv(\"LoanApplicantData.csv\")\n",
    "testSize= 0.33"
   ]
  },
  {
   "cell_type": "markdown",
   "metadata": {},
   "source": [
    "<b>Data Analytics and Analysis:</b>"
   ]
  },
  {
   "cell_type": "code",
   "execution_count": 182,
   "metadata": {},
   "outputs": [
    {
     "name": "stdout",
     "output_type": "stream",
     "text": [
      "Reviewing data......     Loan_ID Gender Married Dependents     Education Self_Employed  \\\n",
      "0  LP001002   Male      No          0      Graduate            No   \n",
      "1  LP001003   Male     Yes          1      Graduate            No   \n",
      "2  LP001005   Male     Yes          0      Graduate           Yes   \n",
      "3  LP001006   Male     Yes          0  Not Graduate            No   \n",
      "4  LP001008   Male      No          0      Graduate            No   \n",
      "\n",
      "   ApplicantIncome  CoapplicantIncome  LoanAmount  Loan_Amount_Term  \\\n",
      "0             5849                0.0         NaN             360.0   \n",
      "1             4583             1508.0       128.0             360.0   \n",
      "2             3000                0.0        66.0             360.0   \n",
      "3             2583             2358.0       120.0             360.0   \n",
      "4             6000                0.0       141.0             360.0   \n",
      "\n",
      "   Credit_History Property_Area Loan_Status  \n",
      "0             1.0         Urban           Y  \n",
      "1             1.0         Rural           N  \n",
      "2             1.0         Urban           Y  \n",
      "3             1.0         Urban           Y  \n",
      "4             1.0         Urban           Y  \n",
      "\n",
      "\n",
      "\n",
      "Shape of data... (614, 13)\n",
      "\n",
      "\n",
      "\n",
      "Describing different numeric attributes...                    count         mean          std    min     25%     50%  \\\n",
      "ApplicantIncome    614.0  5403.459283  6109.041673  150.0  2877.5  3812.5   \n",
      "CoapplicantIncome  614.0  1621.245798  2926.248369    0.0     0.0  1188.5   \n",
      "LoanAmount         592.0   146.412162    85.587325    9.0   100.0   128.0   \n",
      "Loan_Amount_Term   600.0   342.000000    65.120410   12.0   360.0   360.0   \n",
      "Credit_History     564.0     0.842199     0.364878    0.0     1.0     1.0   \n",
      "\n",
      "                       75%      max  \n",
      "ApplicantIncome    5795.00  81000.0  \n",
      "CoapplicantIncome  2297.25  41667.0  \n",
      "LoanAmount          168.00    700.0  \n",
      "Loan_Amount_Term    360.00    480.0  \n",
      "Credit_History        1.00      1.0  \n",
      "\n",
      "\n",
      "\n",
      "Understanding different attributes types...\n",
      "\n",
      "\n",
      "<class 'pandas.core.frame.DataFrame'>\n",
      "RangeIndex: 614 entries, 0 to 613\n",
      "Data columns (total 13 columns):\n",
      "Loan_ID              614 non-null object\n",
      "Gender               601 non-null object\n",
      "Married              611 non-null object\n",
      "Dependents           599 non-null object\n",
      "Education            614 non-null object\n",
      "Self_Employed        582 non-null object\n",
      "ApplicantIncome      614 non-null int64\n",
      "CoapplicantIncome    614 non-null float64\n",
      "LoanAmount           592 non-null float64\n",
      "Loan_Amount_Term     600 non-null float64\n",
      "Credit_History       564 non-null float64\n",
      "Property_Area        614 non-null object\n",
      "Loan_Status          614 non-null object\n",
      "dtypes: float64(4), int64(1), object(8)\n",
      "memory usage: 62.4+ KB\n",
      "None\n"
     ]
    }
   ],
   "source": [
    "\n",
    "print(\"Reviewing data......\",data.head())\n",
    "\n",
    "print(\"\\n\\n\\nShape of data...\",data.shape)\n",
    "\n",
    "print(\"\\n\\n\\nDescribing different numeric attributes...\",data.describe().T)\n",
    "\n",
    "print(\"\\n\\n\\nUnderstanding different attributes types...\\n\\n\")\n",
    "print(data.info())"
   ]
  },
  {
   "cell_type": "markdown",
   "metadata": {},
   "source": [
    "########################################################################\n",
    "\n",
    "Understandings from data:\n",
    "\n",
    "Classifying train data columns to different types of attributes\n",
    "\n",
    "Categorical / Nominal:\n",
    "Gender, \n",
    "Married,\n",
    "Self_Employed, \n",
    "Credit_history\n",
    "\n",
    "Ordinal:\n",
    "Dependents, Education, Property_Area\n",
    "\n",
    "Numeric:\n",
    "ApplicantIncome, CoapplicantIncome, LoanAmount, Loan_Amount_Term\n",
    "########################################################################"
   ]
  },
  {
   "cell_type": "code",
   "execution_count": 183,
   "metadata": {},
   "outputs": [
    {
     "data": {
      "image/png": "[encoded data removed]",
      "text/plain": [
       "<Figure size 1440x1800 with 12 Axes>"
      ]
     },
     "metadata": {
      "needs_background": "light"
     },
     "output_type": "display_data"
    }
   ],
   "source": [
    "\"\"\"Plotting all the attributes to get a visualization of the \n",
    "   intra-column data  split\n",
    "\"\"\"\n",
    "\n",
    "graphRow, graphCol = 0, 0\n",
    "catch,dims = plt.subplots(3, 4, figsize = (20, 25))\n",
    "plt.subplots_adjust(hspace = .23)\n",
    "\n",
    "for att in data.columns[1:]:\n",
    "    if att in ['Loan_Amount_Term','ApplicantIncome', 'CoapplicantIncome', 'LoanAmount']:\n",
    "       dims[graphRow,graphCol].hist(data[att].dropna())\n",
    "                \n",
    "    else:\n",
    "        bar_data = data[att].value_counts()\n",
    "        sb.barplot(bar_data.index, bar_data.values, ax = dims[graphRow,graphCol])\n",
    "    dims[graphRow, graphCol].set_title(att)\n",
    "    graphCol += 1 \n",
    "    if graphCol ==4:\n",
    "        graphRow += 1\n",
    "        graphCol = 0"
   ]
  },
  {
   "cell_type": "markdown",
   "metadata": {},
   "source": [
    "########################################################################\n",
    "\n",
    "Column wise interpretation of data from above graph:\n",
    "***********************************\n",
    "Gender  :   Male      489,  Female    112\n",
    "            80% of the applicants are male.\n",
    "\n",
    "Married :   Yes       398,   No     213\n",
    "            Around 65% of applicants are married\n",
    "\n",
    "Dependents: 0     345, 1     102, 2     101, 3+     51\n",
    "            Majority of the applicants have no dependents\n",
    "\n",
    "Education: Graduate       480, Not Graduate    134\n",
    "            80% of the applicants are Graduates.\n",
    "            \n",
    "Self_Employed:  No     500,Yes     82\n",
    "                Majority are employed\n",
    "\n",
    "Applicant Income:\n",
    "    From the graph we see that majority of them fall in between 150-23,000  with a mean of 5403.0\n",
    "    while some records (pobably outliers)  extend towards 80,000\n",
    "\n",
    "CoapplicantIncome: Varies from 0 to 41667.0 with a mean value of 1621.2\n",
    "\n",
    "LoanAmount: Varies from 9 to 700 with a mean of 146.4 with a third quartile value of 168.00\n",
    "\n",
    "CreditHistory: 1.0  475 and 0.0   89\n",
    "                Around 85% of applicants hace good credit history\n",
    "\n",
    "Property_Area: Semiurban    233, Urban        202, Rural        179\n",
    "                Distribution is uniform with semi urban having little more applicants\n",
    "\n",
    "Loan Status: Y    422, N    192\n",
    "            Loan approval seems to be good for the given data with an approval% of around 70%\n",
    "            \n",
    "########################################################################"
   ]
  },
  {
   "cell_type": "code",
   "execution_count": 184,
   "metadata": {},
   "outputs": [
    {
     "data": {
      "image/png": "[encoded data removed]",
      "text/plain": [
       "<Figure size 576x432 with 1 Axes>"
      ]
     },
     "metadata": {
      "needs_background": "light"
     },
     "output_type": "display_data"
    },
    {
     "data": {
      "image/png": "[encoded data removed]",
      "text/plain": [
       "<Figure size 576x432 with 1 Axes>"
      ]
     },
     "metadata": {
      "needs_background": "light"
     },
     "output_type": "display_data"
    },
    {
     "data": {
      "image/png": "[encoded data removed]",
      "text/plain": [
       "<Figure size 576x432 with 1 Axes>"
      ]
     },
     "metadata": {
      "needs_background": "light"
     },
     "output_type": "display_data"
    }
   ],
   "source": [
    "\"\"\" Boxplot to visualize the distribution of numeri data\n",
    "    This should help us understand the outliers\"\"\"\n",
    "\n",
    "fig = plt.figure(figsize=(8,6))\n",
    "plt.boxplot([x for x in data['ApplicantIncome']])\n",
    "plt.show()\n",
    "\n",
    "fig = plt.figure(figsize=(8,6))\n",
    "plt.boxplot([x for x in data['CoapplicantIncome'].dropna()])\n",
    "plt.show()\n",
    "\n",
    "fig = plt.figure(figsize=(8,6))\n",
    "plt.boxplot([x for x in data['LoanAmount'].dropna()])\n",
    "plt.show()"
   ]
  },
  {
   "cell_type": "markdown",
   "metadata": {},
   "source": [
    "########################################################################\n",
    "<br> Understandings from Boxplot:\n",
    "\n",
    "This give a more detailed view of the outliers.    \n",
    "Outlier by book is : anything beyond 1.5 times the IQR which is Q3-Q1\n",
    "    \n",
    "Applicant Income:\n",
    "    IQR = 1.5(5795-2877.5) = 4377 => normal data distribution range is [ -1490 to 10,172]\n",
    "    So all incomes greater than 10,172 are potential outliers.\n",
    "\n",
    "CoapplicantIncome: \n",
    "    IQR = 1.5(2297.25-0) = 3445.87 => normal data distribution range is [ -3445.87 to 5743.12]\n",
    "    So all co-applicant incomes greater than 5743.12 are potential outliers.\n",
    "\n",
    "LoanAmount: \n",
    "    1.5(168-100) = 102 => normal data distribution range is [ -2 to 270]\n",
    "    So all loan amounts greater than 270 are potential outliers.\n",
    "\n",
    "########################################################################"
   ]
  },
  {
   "cell_type": "markdown",
   "metadata": {},
   "source": [
    "########################################################################\n",
    "Let's understand how much LoanApproval status is dependent on different \n",
    "categories of each attribute\n",
    "For this we try to plot a graph for each attribute showing this dependency\n",
    "X-axis shows the different categories of each attribute while on Y-axis \n",
    "we show the loan approval count\n",
    "########################################################################"
   ]
  },
  {
   "cell_type": "code",
   "execution_count": 185,
   "metadata": {},
   "outputs": [
    {
     "data": {
      "text/plain": [
       "<matplotlib.axes._subplots.AxesSubplot at 0x1a1ec987f0>"
      ]
     },
     "execution_count": 185,
     "metadata": {},
     "output_type": "execute_result"
    },
    {
     "data": {
      "image/png": "[encoded data removed]",
      "text/plain": [
       "<Figure size 432x288 with 2 Axes>"
      ]
     },
     "metadata": {
      "needs_background": "light"
     },
     "output_type": "display_data"
    },
    {
     "data": {
      "image/png": "[encoded data removed]",
      "text/plain": [
       "<Figure size 432x288 with 2 Axes>"
      ]
     },
     "metadata": {
      "needs_background": "light"
     },
     "output_type": "display_data"
    },
    {
     "data": {
      "image/png": "[encoded data removed]",
      "text/plain": [
       "<Figure size 432x288 with 2 Axes>"
      ]
     },
     "metadata": {
      "needs_background": "light"
     },
     "output_type": "display_data"
    },
    {
     "data": {
      "image/png": "[encoded data removed]",
      "text/plain": [
       "<Figure size 432x288 with 2 Axes>"
      ]
     },
     "metadata": {
      "needs_background": "light"
     },
     "output_type": "display_data"
    }
   ],
   "source": [
    "f, axes = plt.subplots(1, 2)\n",
    "plt.subplots_adjust(wspace = .50)\n",
    "\n",
    "sb.countplot(x='Married',hue=\"Loan_Status\",data=data,orient='v' , ax=axes[0])\n",
    "sb.countplot(x='Gender',hue=\"Loan_Status\",data=data,orient='v' , ax=axes[1])\n",
    "\n",
    "\n",
    "f, axes = plt.subplots(1, 2)\n",
    "plt.subplots_adjust(wspace = .50)\n",
    "sb.countplot(x='Dependents',hue=\"Loan_Status\",data=data,orient='v' , ax=axes[0])\n",
    "sb.countplot(x='Self_Employed',hue=\"Loan_Status\",data=data,orient='v' , ax=axes[1])\n",
    "\n",
    "\n",
    "f, axes = plt.subplots(1, 2)\n",
    "plt.subplots_adjust(wspace = .50)\n",
    "sb.countplot(x='Education',hue=\"Loan_Status\",data=data,orient='v' , ax=axes[0])\n",
    "sb.countplot(x='Credit_History',hue=\"Loan_Status\",data=data,orient='v' , ax=axes[1])\n",
    "\n",
    "f, axes = plt.subplots(1, 2)\n",
    "plt.subplots_adjust(wspace = .50)\n",
    "sb.countplot(x='Property_Area',hue=\"Loan_Status\",data=data,orient='v' , ax=axes[0])\n"
   ]
  },
  {
   "cell_type": "markdown",
   "metadata": {},
   "source": [
    "########################################################################<br>\n",
    "Understanding from the graph analysis above\n",
    "\n",
    "1. Married       : Applicant who are married have better chances of gettting loan approved\n",
    "2. Gender         : Male applicants have better chances of loan approval - note the male population is more\n",
    "3. Dependents     : Applicants with no dependents have more chance of loan approval\n",
    "4. Self-Employed  : Not self-employed have got better chances \n",
    "5. Education      : Gradutes have higher chances of getting loan approved compared to non-gradutes\n",
    "6. Credit History : Good credit history is a very good indicator of loan approval\n",
    "7. Property Area  : Semi urban applicants have relatively better chance for loan approval\n",
    "########################################################################"
   ]
  },
  {
   "cell_type": "code",
   "execution_count": 186,
   "metadata": {},
   "outputs": [
    {
     "data": {
      "text/plain": [
       "<matplotlib.axes._subplots.AxesSubplot at 0x1a1d5f0048>"
      ]
     },
     "execution_count": 186,
     "metadata": {},
     "output_type": "execute_result"
    },
    {
     "data": {
      "image/png": "[encoded data removed]",
      "text/plain": [
       "<Figure size 432x288 with 1 Axes>"
      ]
     },
     "metadata": {
      "needs_background": "light"
     },
     "output_type": "display_data"
    }
   ],
   "source": [
    "#For Numerical data lets bin the data and analyze the dependencies \n",
    "#creating bins using min,25%,50%,75% and max values of the applicant income distrubution\n",
    "bins = [0, 2877, 3812, 5795, 81000]\n",
    "group = ['Low','Average','High', 'Very_High']\n",
    "\n",
    "data['bin_group']=pd.cut(data['ApplicantIncome'],bins,labels=group)\n",
    "plt.subplots_adjust(wspace = .50)\n",
    "sb.countplot(x='bin_group',hue=\"Loan_Status\",data=data,orient='v' )"
   ]
  },
  {
   "cell_type": "markdown",
   "metadata": {},
   "source": [
    "Nothing much to infer from applicant income as all groups have same proportion of approved and rejected \n",
    "applicants"
   ]
  },
  {
   "cell_type": "code",
   "execution_count": 187,
   "metadata": {},
   "outputs": [
    {
     "data": {
      "text/plain": [
       "<matplotlib.axes._subplots.AxesSubplot at 0x1a22688390>"
      ]
     },
     "execution_count": 187,
     "metadata": {},
     "output_type": "execute_result"
    },
    {
     "data": {
      "image/png": "[encoded data removed]",
      "text/plain": [
       "<Figure size 432x288 with 1 Axes>"
      ]
     },
     "metadata": {
      "needs_background": "light"
     },
     "output_type": "display_data"
    }
   ],
   "source": [
    "#creating bins using min,25%,50%,75% and max values of the Coapplicant income distrubution\n",
    "bins = [0, 1188, 2297, 41667]\n",
    "group = ['Low','Average','High']\n",
    "\n",
    "data['bin_group']=pd.cut(data['CoapplicantIncome'],bins,labels=group)\n",
    "plt.subplots_adjust(wspace = .50)\n",
    "sb.countplot(x='bin_group',hue=\"Loan_Status\",data=data,orient='v' )"
   ]
  },
  {
   "cell_type": "markdown",
   "metadata": {},
   "source": [
    "Low Coapplicant income is indiacator for higher chances of approval - but note that the count of records in this group is very less comparitively- thus not much inference from this attribute"
   ]
  },
  {
   "cell_type": "code",
   "execution_count": 188,
   "metadata": {},
   "outputs": [
    {
     "data": {
      "text/plain": [
       "<matplotlib.axes._subplots.AxesSubplot at 0x1a1e8e26d8>"
      ]
     },
     "execution_count": 188,
     "metadata": {},
     "output_type": "execute_result"
    },
    {
     "data": {
      "image/png": "[encoded data removed]",
      "text/plain": [
       "<Figure size 432x288 with 1 Axes>"
      ]
     },
     "metadata": {
      "needs_background": "light"
     },
     "output_type": "display_data"
    }
   ],
   "source": [
    "#creating bins using min,25%,50%,75% and max values of the Loan Amount distrubution\n",
    "bins = [9, 100, 128, 168, 700]\n",
    "group = ['Low','Average','High', 'Very_High']\n",
    "\n",
    "data['bin_group']=pd.cut(data['LoanAmount'],bins,labels=group)\n",
    "plt.subplots_adjust(wspace = .50)\n",
    "sb.countplot(x='bin_group',hue=\"Loan_Status\",data=data,orient='v' )"
   ]
  },
  {
   "cell_type": "markdown",
   "metadata": {},
   "source": [
    "Nothing much to infer from applicant income as all groups have same proportion of approved and rejected \n",
    "applicants"
   ]
  },
  {
   "cell_type": "markdown",
   "metadata": {},
   "source": [
    "Usually high income should improve chances of getting loan but ApplicantIncome and Coapplicant income \n",
    "individually are not indicating much.\n",
    "So lets try combining them to create a totalincome field for each applicant and see how that is impacting\n",
    "the chances of loan."
   ]
  },
  {
   "cell_type": "code",
   "execution_count": 189,
   "metadata": {},
   "outputs": [
    {
     "data": {
      "text/html": [
       "<div>\n",
       "<style scoped>\n",
       "    .dataframe tbody tr th:only-of-type {\n",
       "        vertical-align: middle;\n",
       "    }\n",
       "\n",
       "    .dataframe tbody tr th {\n",
       "        vertical-align: top;\n",
       "    }\n",
       "\n",
       "    .dataframe thead th {\n",
       "        text-align: right;\n",
       "    }\n",
       "</style>\n",
       "<table border=\"1\" class=\"dataframe\">\n",
       "  <thead>\n",
       "    <tr style=\"text-align: right;\">\n",
       "      <th></th>\n",
       "      <th>count</th>\n",
       "      <th>mean</th>\n",
       "      <th>std</th>\n",
       "      <th>min</th>\n",
       "      <th>25%</th>\n",
       "      <th>50%</th>\n",
       "      <th>75%</th>\n",
       "      <th>max</th>\n",
       "    </tr>\n",
       "  </thead>\n",
       "  <tbody>\n",
       "    <tr>\n",
       "      <th>ApplicantIncome</th>\n",
       "      <td>614.0</td>\n",
       "      <td>5403.459283</td>\n",
       "      <td>6109.041673</td>\n",
       "      <td>150.0</td>\n",
       "      <td>2877.5</td>\n",
       "      <td>3812.5</td>\n",
       "      <td>5795.00</td>\n",
       "      <td>81000.0</td>\n",
       "    </tr>\n",
       "    <tr>\n",
       "      <th>CoapplicantIncome</th>\n",
       "      <td>614.0</td>\n",
       "      <td>1621.245798</td>\n",
       "      <td>2926.248369</td>\n",
       "      <td>0.0</td>\n",
       "      <td>0.0</td>\n",
       "      <td>1188.5</td>\n",
       "      <td>2297.25</td>\n",
       "      <td>41667.0</td>\n",
       "    </tr>\n",
       "    <tr>\n",
       "      <th>LoanAmount</th>\n",
       "      <td>592.0</td>\n",
       "      <td>146.412162</td>\n",
       "      <td>85.587325</td>\n",
       "      <td>9.0</td>\n",
       "      <td>100.0</td>\n",
       "      <td>128.0</td>\n",
       "      <td>168.00</td>\n",
       "      <td>700.0</td>\n",
       "    </tr>\n",
       "    <tr>\n",
       "      <th>Loan_Amount_Term</th>\n",
       "      <td>600.0</td>\n",
       "      <td>342.000000</td>\n",
       "      <td>65.120410</td>\n",
       "      <td>12.0</td>\n",
       "      <td>360.0</td>\n",
       "      <td>360.0</td>\n",
       "      <td>360.00</td>\n",
       "      <td>480.0</td>\n",
       "    </tr>\n",
       "    <tr>\n",
       "      <th>Credit_History</th>\n",
       "      <td>564.0</td>\n",
       "      <td>0.842199</td>\n",
       "      <td>0.364878</td>\n",
       "      <td>0.0</td>\n",
       "      <td>1.0</td>\n",
       "      <td>1.0</td>\n",
       "      <td>1.00</td>\n",
       "      <td>1.0</td>\n",
       "    </tr>\n",
       "    <tr>\n",
       "      <th>Total_income</th>\n",
       "      <td>614.0</td>\n",
       "      <td>7024.705081</td>\n",
       "      <td>6458.663872</td>\n",
       "      <td>1442.0</td>\n",
       "      <td>4166.0</td>\n",
       "      <td>5416.5</td>\n",
       "      <td>7521.75</td>\n",
       "      <td>81000.0</td>\n",
       "    </tr>\n",
       "  </tbody>\n",
       "</table>\n",
       "</div>"
      ],
      "text/plain": [
       "                   count         mean          std     min     25%     50%  \\\n",
       "ApplicantIncome    614.0  5403.459283  6109.041673   150.0  2877.5  3812.5   \n",
       "CoapplicantIncome  614.0  1621.245798  2926.248369     0.0     0.0  1188.5   \n",
       "LoanAmount         592.0   146.412162    85.587325     9.0   100.0   128.0   \n",
       "Loan_Amount_Term   600.0   342.000000    65.120410    12.0   360.0   360.0   \n",
       "Credit_History     564.0     0.842199     0.364878     0.0     1.0     1.0   \n",
       "Total_income       614.0  7024.705081  6458.663872  1442.0  4166.0  5416.5   \n",
       "\n",
       "                       75%      max  \n",
       "ApplicantIncome    5795.00  81000.0  \n",
       "CoapplicantIncome  2297.25  41667.0  \n",
       "LoanAmount          168.00    700.0  \n",
       "Loan_Amount_Term    360.00    480.0  \n",
       "Credit_History        1.00      1.0  \n",
       "Total_income       7521.75  81000.0  "
      ]
     },
     "execution_count": 189,
     "metadata": {},
     "output_type": "execute_result"
    }
   ],
   "source": [
    "data['Total_income'] = data['ApplicantIncome'] + data['CoapplicantIncome']\n",
    "data.describe().T"
   ]
  },
  {
   "cell_type": "code",
   "execution_count": 190,
   "metadata": {},
   "outputs": [
    {
     "data": {
      "text/plain": [
       "<matplotlib.axes._subplots.AxesSubplot at 0x1a22586be0>"
      ]
     },
     "execution_count": 190,
     "metadata": {},
     "output_type": "execute_result"
    },
    {
     "data": {
      "image/png": "[encoded data removed]",
      "text/plain": [
       "<Figure size 432x288 with 1 Axes>"
      ]
     },
     "metadata": {
      "needs_background": "light"
     },
     "output_type": "display_data"
    }
   ],
   "source": [
    "#creating bins using min,25%,50%,75% and max values of the Total_income distrubution\n",
    "bins = [0, 2877, 3812, 5795, 81000]\n",
    "group = ['Low','Average','High', 'Very_High']\n",
    "\n",
    "data['bin_group']=pd.cut(data['Total_income'],bins,labels=group)\n",
    "plt.subplots_adjust(wspace = .50)\n",
    "sb.countplot(x='bin_group',hue=\"Loan_Status\",data=data,orient='v' )"
   ]
  },
  {
   "cell_type": "markdown",
   "metadata": {},
   "source": [
    "This clearly shows that if total income is high or very high then the chances of getting loan approved improved \n",
    "significantly"
   ]
  },
  {
   "cell_type": "markdown",
   "metadata": {},
   "source": [
    "<b>Data Pre-Processing</b>"
   ]
  },
  {
   "cell_type": "markdown",
   "metadata": {},
   "source": [
    "#Missing value analysis"
   ]
  },
  {
   "cell_type": "code",
   "execution_count": 191,
   "metadata": {},
   "outputs": [
    {
     "name": "stdout",
     "output_type": "stream",
     "text": [
      "Total blank values--> 149\n",
      "Loan_ID               0\n",
      "Gender               13\n",
      "Married               3\n",
      "Dependents           15\n",
      "Education             0\n",
      "Self_Employed        32\n",
      "ApplicantIncome       0\n",
      "CoapplicantIncome     0\n",
      "LoanAmount           22\n",
      "Loan_Amount_Term     14\n",
      "Credit_History       50\n",
      "Property_Area         0\n",
      "Loan_Status           0\n",
      "bin_group             0\n",
      "Total_income          0\n",
      "dtype: int64\n"
     ]
    }
   ],
   "source": [
    "print('Total blank values-->',data.isnull().values.sum())\n",
    "print(data.isnull().sum())"
   ]
  },
  {
   "cell_type": "markdown",
   "metadata": {},
   "source": [
    "This shows that there are many missing values for each attribute.\n",
    "We need to fill those values selecting the best measure as per the attribute type\n",
    "\n",
    "i. Missing values for Categorical values will be replace with mode of the attribute distribution\n",
    "    Ex: Gender,married, Self-Employed<br>\n",
    "ii. For Attributes like Dependents and Education also missing values are replaced with mode <br>\n",
    "iii. For Numeric attribute like LoanAmount we go with median to reduce effect of outliers"
   ]
  },
  {
   "cell_type": "code",
   "execution_count": 192,
   "metadata": {},
   "outputs": [],
   "source": [
    "\n",
    "#Gender processing\n",
    "data['Gender'].fillna(data['Gender'].mode()[0], inplace=True)\n",
    "data['Gender']= data['Gender'].astype('category')\n",
    "data['Gender'] = data['Gender'].cat.codes\n",
    "\n",
    "#Married Processsing\n",
    "data['Married'].fillna(data['Married'].mode()[0], inplace=True)\n",
    "data['Married']= data['Married'].astype('category')\n",
    "data['Married'] = data['Married'].cat.codes\n",
    "\n",
    "#Dependents Processsing\n",
    "data['Dependents'].fillna(data['Dependents'].mode()[0], inplace=True)\n",
    "data['Dependents']= data['Dependents'].astype('category')\n",
    "data['Dependents'] = data['Dependents'].cat.codes\n",
    "\n",
    "#Education Processsing\n",
    "data['Education'].fillna(data['Education'].mode()[0], inplace=True)\n",
    "data['Education']= data['Education'].astype('category')\n",
    "data['Education'] = data['Education'].cat.codes\n",
    "\n",
    "#Self_Employed Processsing\n",
    "data['Self_Employed'].fillna(data['Self_Employed'].mode()[0], inplace=True)\n",
    "data['Self_Employed']= data['Self_Employed'].astype('category')\n",
    "data['Self_Employed'] = data['Self_Employed'].cat.codes\n",
    "\n",
    "#LoanAmount Processsing\n",
    "data['LoanAmount'].fillna(data['LoanAmount'].median(), inplace=True)\n",
    "#Loan_Amount_Term Processsing\n",
    "data['Loan_Amount_Term'].fillna(data['Loan_Amount_Term'].mode()[0], inplace=True)\n",
    "\n",
    "#Credit_History Processsing\n",
    "def loanStatus(s):\n",
    "    if np.isnan(s['Credit_History']):\n",
    "        #return data['Self_Employed'].mode()[0]\n",
    "        if s['Loan_Status'] is 'Y' :\n",
    "            return 1\n",
    "        else:\n",
    "            return 0\n",
    "    else:\n",
    "       return s['Credit_History']\n",
    "data['Credit_History'] = data.apply(loanStatus,axis=1)\n",
    "\n",
    "#Property_Area Processsing\n",
    "data['Property_Area']= data['Property_Area'].astype('category')\n",
    "data['Property_Area'] = data['Property_Area'].cat.codes\n",
    "\n",
    "#Loan_Status Processsing\n",
    "data['Loan_Status']= data['Loan_Status'].astype('category')\n",
    "data['Loan_Status'] = data['Loan_Status'].cat.codes"
   ]
  },
  {
   "cell_type": "markdown",
   "metadata": {},
   "source": [
    "<b>Correaltion Analysis<b>"
   ]
  },
  {
   "cell_type": "code",
   "execution_count": 193,
   "metadata": {},
   "outputs": [
    {
     "data": {
      "text/html": [
       "<div>\n",
       "<style scoped>\n",
       "    .dataframe tbody tr th:only-of-type {\n",
       "        vertical-align: middle;\n",
       "    }\n",
       "\n",
       "    .dataframe tbody tr th {\n",
       "        vertical-align: top;\n",
       "    }\n",
       "\n",
       "    .dataframe thead th {\n",
       "        text-align: right;\n",
       "    }\n",
       "</style>\n",
       "<table border=\"1\" class=\"dataframe\">\n",
       "  <thead>\n",
       "    <tr style=\"text-align: right;\">\n",
       "      <th></th>\n",
       "      <th>Gender</th>\n",
       "      <th>Married</th>\n",
       "      <th>Dependents</th>\n",
       "      <th>Education</th>\n",
       "      <th>Self_Employed</th>\n",
       "      <th>ApplicantIncome</th>\n",
       "      <th>CoapplicantIncome</th>\n",
       "      <th>LoanAmount</th>\n",
       "      <th>Loan_Amount_Term</th>\n",
       "      <th>Credit_History</th>\n",
       "      <th>Property_Area</th>\n",
       "      <th>Loan_Status</th>\n",
       "      <th>Total_income</th>\n",
       "    </tr>\n",
       "  </thead>\n",
       "  <tbody>\n",
       "    <tr>\n",
       "      <th>Gender</th>\n",
       "      <td>1.000000</td>\n",
       "      <td>0.364569</td>\n",
       "      <td>0.172914</td>\n",
       "      <td>0.045364</td>\n",
       "      <td>-0.000525</td>\n",
       "      <td>0.058809</td>\n",
       "      <td>0.082912</td>\n",
       "      <td>0.106904</td>\n",
       "      <td>-0.074030</td>\n",
       "      <td>-0.006865</td>\n",
       "      <td>-0.025752</td>\n",
       "      <td>0.017987</td>\n",
       "      <td>0.093191</td>\n",
       "    </tr>\n",
       "    <tr>\n",
       "      <th>Married</th>\n",
       "      <td>0.364569</td>\n",
       "      <td>1.000000</td>\n",
       "      <td>0.334216</td>\n",
       "      <td>0.012304</td>\n",
       "      <td>0.004489</td>\n",
       "      <td>0.051708</td>\n",
       "      <td>0.075948</td>\n",
       "      <td>0.146546</td>\n",
       "      <td>-0.100912</td>\n",
       "      <td>0.014853</td>\n",
       "      <td>0.004257</td>\n",
       "      <td>0.091478</td>\n",
       "      <td>0.083319</td>\n",
       "    </tr>\n",
       "    <tr>\n",
       "      <th>Dependents</th>\n",
       "      <td>0.172914</td>\n",
       "      <td>0.334216</td>\n",
       "      <td>1.000000</td>\n",
       "      <td>0.055752</td>\n",
       "      <td>0.056798</td>\n",
       "      <td>0.118202</td>\n",
       "      <td>0.030430</td>\n",
       "      <td>0.163103</td>\n",
       "      <td>-0.103864</td>\n",
       "      <td>-0.048068</td>\n",
       "      <td>-0.000244</td>\n",
       "      <td>0.010118</td>\n",
       "      <td>0.125590</td>\n",
       "    </tr>\n",
       "    <tr>\n",
       "      <th>Education</th>\n",
       "      <td>0.045364</td>\n",
       "      <td>0.012304</td>\n",
       "      <td>0.055752</td>\n",
       "      <td>1.000000</td>\n",
       "      <td>-0.010383</td>\n",
       "      <td>-0.140760</td>\n",
       "      <td>-0.062290</td>\n",
       "      <td>-0.168759</td>\n",
       "      <td>-0.073928</td>\n",
       "      <td>-0.071397</td>\n",
       "      <td>-0.065243</td>\n",
       "      <td>-0.085884</td>\n",
       "      <td>-0.161362</td>\n",
       "    </tr>\n",
       "    <tr>\n",
       "      <th>Self_Employed</th>\n",
       "      <td>-0.000525</td>\n",
       "      <td>0.004489</td>\n",
       "      <td>0.056798</td>\n",
       "      <td>-0.010383</td>\n",
       "      <td>1.000000</td>\n",
       "      <td>0.127180</td>\n",
       "      <td>-0.016100</td>\n",
       "      <td>0.115100</td>\n",
       "      <td>-0.033739</td>\n",
       "      <td>0.008003</td>\n",
       "      <td>-0.030860</td>\n",
       "      <td>-0.003700</td>\n",
       "      <td>0.113000</td>\n",
       "    </tr>\n",
       "    <tr>\n",
       "      <th>ApplicantIncome</th>\n",
       "      <td>0.058809</td>\n",
       "      <td>0.051708</td>\n",
       "      <td>0.118202</td>\n",
       "      <td>-0.140760</td>\n",
       "      <td>0.127180</td>\n",
       "      <td>1.000000</td>\n",
       "      <td>-0.116605</td>\n",
       "      <td>0.565181</td>\n",
       "      <td>-0.046531</td>\n",
       "      <td>-0.010051</td>\n",
       "      <td>-0.009500</td>\n",
       "      <td>-0.004710</td>\n",
       "      <td>0.893037</td>\n",
       "    </tr>\n",
       "    <tr>\n",
       "      <th>CoapplicantIncome</th>\n",
       "      <td>0.082912</td>\n",
       "      <td>0.075948</td>\n",
       "      <td>0.030430</td>\n",
       "      <td>-0.062290</td>\n",
       "      <td>-0.016100</td>\n",
       "      <td>-0.116605</td>\n",
       "      <td>1.000000</td>\n",
       "      <td>0.189218</td>\n",
       "      <td>-0.059383</td>\n",
       "      <td>-0.054737</td>\n",
       "      <td>0.010522</td>\n",
       "      <td>-0.059187</td>\n",
       "      <td>0.342781</td>\n",
       "    </tr>\n",
       "    <tr>\n",
       "      <th>LoanAmount</th>\n",
       "      <td>0.106904</td>\n",
       "      <td>0.146546</td>\n",
       "      <td>0.163103</td>\n",
       "      <td>-0.168759</td>\n",
       "      <td>0.115100</td>\n",
       "      <td>0.565181</td>\n",
       "      <td>0.189218</td>\n",
       "      <td>1.000000</td>\n",
       "      <td>0.036960</td>\n",
       "      <td>-0.022299</td>\n",
       "      <td>-0.046632</td>\n",
       "      <td>-0.033214</td>\n",
       "      <td>0.620316</td>\n",
       "    </tr>\n",
       "    <tr>\n",
       "      <th>Loan_Amount_Term</th>\n",
       "      <td>-0.074030</td>\n",
       "      <td>-0.100912</td>\n",
       "      <td>-0.103864</td>\n",
       "      <td>-0.073928</td>\n",
       "      <td>-0.033739</td>\n",
       "      <td>-0.046531</td>\n",
       "      <td>-0.059383</td>\n",
       "      <td>0.036960</td>\n",
       "      <td>1.000000</td>\n",
       "      <td>-0.007758</td>\n",
       "      <td>-0.076120</td>\n",
       "      <td>-0.022549</td>\n",
       "      <td>-0.070917</td>\n",
       "    </tr>\n",
       "    <tr>\n",
       "      <th>Credit_History</th>\n",
       "      <td>-0.006865</td>\n",
       "      <td>0.014853</td>\n",
       "      <td>-0.048068</td>\n",
       "      <td>-0.071397</td>\n",
       "      <td>0.008003</td>\n",
       "      <td>-0.010051</td>\n",
       "      <td>-0.054737</td>\n",
       "      <td>-0.022299</td>\n",
       "      <td>-0.007758</td>\n",
       "      <td>1.000000</td>\n",
       "      <td>0.004565</td>\n",
       "      <td>0.595642</td>\n",
       "      <td>-0.034306</td>\n",
       "    </tr>\n",
       "    <tr>\n",
       "      <th>Property_Area</th>\n",
       "      <td>-0.025752</td>\n",
       "      <td>0.004257</td>\n",
       "      <td>-0.000244</td>\n",
       "      <td>-0.065243</td>\n",
       "      <td>-0.030860</td>\n",
       "      <td>-0.009500</td>\n",
       "      <td>0.010522</td>\n",
       "      <td>-0.046632</td>\n",
       "      <td>-0.076120</td>\n",
       "      <td>0.004565</td>\n",
       "      <td>1.000000</td>\n",
       "      <td>0.032112</td>\n",
       "      <td>-0.004218</td>\n",
       "    </tr>\n",
       "    <tr>\n",
       "      <th>Loan_Status</th>\n",
       "      <td>0.017987</td>\n",
       "      <td>0.091478</td>\n",
       "      <td>0.010118</td>\n",
       "      <td>-0.085884</td>\n",
       "      <td>-0.003700</td>\n",
       "      <td>-0.004710</td>\n",
       "      <td>-0.059187</td>\n",
       "      <td>-0.033214</td>\n",
       "      <td>-0.022549</td>\n",
       "      <td>0.595642</td>\n",
       "      <td>0.032112</td>\n",
       "      <td>1.000000</td>\n",
       "      <td>-0.031271</td>\n",
       "    </tr>\n",
       "    <tr>\n",
       "      <th>Total_income</th>\n",
       "      <td>0.093191</td>\n",
       "      <td>0.083319</td>\n",
       "      <td>0.125590</td>\n",
       "      <td>-0.161362</td>\n",
       "      <td>0.113000</td>\n",
       "      <td>0.893037</td>\n",
       "      <td>0.342781</td>\n",
       "      <td>0.620316</td>\n",
       "      <td>-0.070917</td>\n",
       "      <td>-0.034306</td>\n",
       "      <td>-0.004218</td>\n",
       "      <td>-0.031271</td>\n",
       "      <td>1.000000</td>\n",
       "    </tr>\n",
       "  </tbody>\n",
       "</table>\n",
       "</div>"
      ],
      "text/plain": [
       "                     Gender   Married  Dependents  Education  Self_Employed  \\\n",
       "Gender             1.000000  0.364569    0.172914   0.045364      -0.000525   \n",
       "Married            0.364569  1.000000    0.334216   0.012304       0.004489   \n",
       "Dependents         0.172914  0.334216    1.000000   0.055752       0.056798   \n",
       "Education          0.045364  0.012304    0.055752   1.000000      -0.010383   \n",
       "Self_Employed     -0.000525  0.004489    0.056798  -0.010383       1.000000   \n",
       "ApplicantIncome    0.058809  0.051708    0.118202  -0.140760       0.127180   \n",
       "CoapplicantIncome  0.082912  0.075948    0.030430  -0.062290      -0.016100   \n",
       "LoanAmount         0.106904  0.146546    0.163103  -0.168759       0.115100   \n",
       "Loan_Amount_Term  -0.074030 -0.100912   -0.103864  -0.073928      -0.033739   \n",
       "Credit_History    -0.006865  0.014853   -0.048068  -0.071397       0.008003   \n",
       "Property_Area     -0.025752  0.004257   -0.000244  -0.065243      -0.030860   \n",
       "Loan_Status        0.017987  0.091478    0.010118  -0.085884      -0.003700   \n",
       "Total_income       0.093191  0.083319    0.125590  -0.161362       0.113000   \n",
       "\n",
       "                   ApplicantIncome  CoapplicantIncome  LoanAmount  \\\n",
       "Gender                    0.058809           0.082912    0.106904   \n",
       "Married                   0.051708           0.075948    0.146546   \n",
       "Dependents                0.118202           0.030430    0.163103   \n",
       "Education                -0.140760          -0.062290   -0.168759   \n",
       "Self_Employed             0.127180          -0.016100    0.115100   \n",
       "ApplicantIncome           1.000000          -0.116605    0.565181   \n",
       "CoapplicantIncome        -0.116605           1.000000    0.189218   \n",
       "LoanAmount                0.565181           0.189218    1.000000   \n",
       "Loan_Amount_Term         -0.046531          -0.059383    0.036960   \n",
       "Credit_History           -0.010051          -0.054737   -0.022299   \n",
       "Property_Area            -0.009500           0.010522   -0.046632   \n",
       "Loan_Status              -0.004710          -0.059187   -0.033214   \n",
       "Total_income              0.893037           0.342781    0.620316   \n",
       "\n",
       "                   Loan_Amount_Term  Credit_History  Property_Area  \\\n",
       "Gender                    -0.074030       -0.006865      -0.025752   \n",
       "Married                   -0.100912        0.014853       0.004257   \n",
       "Dependents                -0.103864       -0.048068      -0.000244   \n",
       "Education                 -0.073928       -0.071397      -0.065243   \n",
       "Self_Employed             -0.033739        0.008003      -0.030860   \n",
       "ApplicantIncome           -0.046531       -0.010051      -0.009500   \n",
       "CoapplicantIncome         -0.059383       -0.054737       0.010522   \n",
       "LoanAmount                 0.036960       -0.022299      -0.046632   \n",
       "Loan_Amount_Term           1.000000       -0.007758      -0.076120   \n",
       "Credit_History            -0.007758        1.000000       0.004565   \n",
       "Property_Area             -0.076120        0.004565       1.000000   \n",
       "Loan_Status               -0.022549        0.595642       0.032112   \n",
       "Total_income              -0.070917       -0.034306      -0.004218   \n",
       "\n",
       "                   Loan_Status  Total_income  \n",
       "Gender                0.017987      0.093191  \n",
       "Married               0.091478      0.083319  \n",
       "Dependents            0.010118      0.125590  \n",
       "Education            -0.085884     -0.161362  \n",
       "Self_Employed        -0.003700      0.113000  \n",
       "ApplicantIncome      -0.004710      0.893037  \n",
       "CoapplicantIncome    -0.059187      0.342781  \n",
       "LoanAmount           -0.033214      0.620316  \n",
       "Loan_Amount_Term     -0.022549     -0.070917  \n",
       "Credit_History        0.595642     -0.034306  \n",
       "Property_Area         0.032112     -0.004218  \n",
       "Loan_Status           1.000000     -0.031271  \n",
       "Total_income         -0.031271      1.000000  "
      ]
     },
     "execution_count": 193,
     "metadata": {},
     "output_type": "execute_result"
    }
   ],
   "source": [
    "data.corr(method='pearson')"
   ]
  },
  {
   "cell_type": "code",
   "execution_count": 194,
   "metadata": {},
   "outputs": [
    {
     "name": "stdout",
     "output_type": "stream",
     "text": [
      "Corr PropArea LoanStatus               0.03211198462880024\n",
      "Corr Married Loan_Status               0.09147782473606036\n",
      "Corr ApplicantIncome Loan_Status       -0.004709522659351541\n",
      "Corr ApplicantIncome LoanAmount        0.5651805176233123\n",
      "Corr Loan_Amount_Term ApplicantIncome  -0.046531121839299014\n",
      "Corr Credit_History Loan_Status        0.5956415264564683\n",
      "Corr Credit_History Self_Employed      0.008003234721340041\n",
      "Corr Credit_History LoanAmount         -0.022298914989495683\n",
      "Corr Education Loan_Status             -0.0858839146753654\n",
      "Corr Total Income Loan_Status          -0.0312707788726747\n",
      "Corr Credit_History Total_income       -0.03430646078011501\n",
      "Corr Credit_History Total_income       -0.03430646078011501\n",
      "Corr Self_Employed Loan_Status       -0.0037004377149821317\n"
     ]
    }
   ],
   "source": [
    "print(\"Corr PropArea LoanStatus              \",data['Property_Area'].corr(data['Loan_Status']))\n",
    "print(\"Corr Married Loan_Status              \",data['Married'].corr(data['Loan_Status']))\n",
    "print(\"Corr ApplicantIncome Loan_Status      \",data['ApplicantIncome'].corr(data['Loan_Status']))\n",
    "print(\"Corr ApplicantIncome LoanAmount       \",data['ApplicantIncome'].corr(data['LoanAmount']))\n",
    "print(\"Corr Loan_Amount_Term ApplicantIncome \",data['Loan_Amount_Term'].corr(data['ApplicantIncome']))\n",
    "print(\"Corr Credit_History Loan_Status       \",data['Credit_History'].corr(data['Loan_Status']))\n",
    "print(\"Corr Credit_History Self_Employed     \",data['Credit_History'].corr(data['Self_Employed']))\n",
    "print(\"Corr Credit_History LoanAmount        \",data['Credit_History'].corr(data['LoanAmount']))\n",
    "print(\"Corr Education Loan_Status            \",data['Education'].corr(data['Loan_Status']))\n",
    "print(\"Corr Total Income Loan_Status         \",data['Total_income'].corr(data['Loan_Status']))\n",
    "print(\"Corr Credit_History Total_income      \",data['Credit_History'].corr(data['Total_income']))\n",
    "print(\"Corr Credit_History Total_income      \",data['Credit_History'].corr(data['Total_income']))\n",
    "print(\"Corr Self_Employed Loan_Status      \",data['Self_Employed'].corr(data['Loan_Status']))"
   ]
  },
  {
   "cell_type": "markdown",
   "metadata": {},
   "source": [
    "Points to note from correlation analysis:<br>\n",
    "\n",
    "i. Credit history positively correlated to loan status <br>\n",
    "ii.Applicant income and Loan status are almost not correlated <br>\n",
    "   Also we see that ApplicantIncome and LoanAmount are better \n",
    "   correlated hence we can drop ApplicantIncome.<br>\n",
    "   Coapplicant income is highly correlated to total income<br>\n",
    "   Thus we canuse  Total_income(Applicant income+Coapplicant income)<br> \n",
    "   in place of Applicant income and  Coapplicant income<br>\n",
    "iii. Self_Employed and Loan_Status are not correlate hence we can drop that column"
   ]
  },
  {
   "cell_type": "markdown",
   "metadata": {},
   "source": [
    "Since credit history is highly correlated to loan status we derived above in the \n",
    "preprocessing step missing values of this field based on the corresponding loan status value"
   ]
  },
  {
   "cell_type": "markdown",
   "metadata": {},
   "source": [
    "Now that we are using Totalincome inplace of applicantincome we \n",
    "normalize the total income values"
   ]
  },
  {
   "cell_type": "code",
   "execution_count": 195,
   "metadata": {},
   "outputs": [],
   "source": [
    "inc_array = np.array(data['Total_income'])\n",
    "normalized_inc = preprocessing.normalize([inc_array])\n",
    "data.insert(loc=4,column='TotalIInc_Normal',value=normalized_inc.T)\n",
    "data['TotalIInc_Normal']= data['TotalIInc_Normal'].astype('float')"
   ]
  },
  {
   "cell_type": "code",
   "execution_count": 196,
   "metadata": {},
   "outputs": [],
   "source": [
    "removeCols =['Loan_ID','Self_Employed','ApplicantIncome','bin_group','Total_income']\n",
    "data=data.drop(columns=removeCols)"
   ]
  },
  {
   "cell_type": "code",
   "execution_count": 197,
   "metadata": {},
   "outputs": [
    {
     "data": {
      "text/html": [
       "<div>\n",
       "<style scoped>\n",
       "    .dataframe tbody tr th:only-of-type {\n",
       "        vertical-align: middle;\n",
       "    }\n",
       "\n",
       "    .dataframe tbody tr th {\n",
       "        vertical-align: top;\n",
       "    }\n",
       "\n",
       "    .dataframe thead th {\n",
       "        text-align: right;\n",
       "    }\n",
       "</style>\n",
       "<table border=\"1\" class=\"dataframe\">\n",
       "  <thead>\n",
       "    <tr style=\"text-align: right;\">\n",
       "      <th></th>\n",
       "      <th>Gender</th>\n",
       "      <th>Married</th>\n",
       "      <th>Dependents</th>\n",
       "      <th>TotalIInc_Normal</th>\n",
       "      <th>Education</th>\n",
       "      <th>CoapplicantIncome</th>\n",
       "      <th>LoanAmount</th>\n",
       "      <th>Loan_Amount_Term</th>\n",
       "      <th>Credit_History</th>\n",
       "      <th>Property_Area</th>\n",
       "      <th>Loan_Status</th>\n",
       "    </tr>\n",
       "  </thead>\n",
       "  <tbody>\n",
       "    <tr>\n",
       "      <th>0</th>\n",
       "      <td>1</td>\n",
       "      <td>0</td>\n",
       "      <td>0</td>\n",
       "      <td>0.024745</td>\n",
       "      <td>0</td>\n",
       "      <td>0.0</td>\n",
       "      <td>128.0</td>\n",
       "      <td>360.0</td>\n",
       "      <td>1.0</td>\n",
       "      <td>2</td>\n",
       "      <td>1</td>\n",
       "    </tr>\n",
       "    <tr>\n",
       "      <th>1</th>\n",
       "      <td>1</td>\n",
       "      <td>1</td>\n",
       "      <td>1</td>\n",
       "      <td>0.025769</td>\n",
       "      <td>0</td>\n",
       "      <td>1508.0</td>\n",
       "      <td>128.0</td>\n",
       "      <td>360.0</td>\n",
       "      <td>1.0</td>\n",
       "      <td>0</td>\n",
       "      <td>0</td>\n",
       "    </tr>\n",
       "    <tr>\n",
       "      <th>2</th>\n",
       "      <td>1</td>\n",
       "      <td>1</td>\n",
       "      <td>0</td>\n",
       "      <td>0.012692</td>\n",
       "      <td>0</td>\n",
       "      <td>0.0</td>\n",
       "      <td>66.0</td>\n",
       "      <td>360.0</td>\n",
       "      <td>1.0</td>\n",
       "      <td>2</td>\n",
       "      <td>1</td>\n",
       "    </tr>\n",
       "    <tr>\n",
       "      <th>3</th>\n",
       "      <td>1</td>\n",
       "      <td>1</td>\n",
       "      <td>0</td>\n",
       "      <td>0.020904</td>\n",
       "      <td>1</td>\n",
       "      <td>2358.0</td>\n",
       "      <td>120.0</td>\n",
       "      <td>360.0</td>\n",
       "      <td>1.0</td>\n",
       "      <td>2</td>\n",
       "      <td>1</td>\n",
       "    </tr>\n",
       "    <tr>\n",
       "      <th>4</th>\n",
       "      <td>1</td>\n",
       "      <td>0</td>\n",
       "      <td>0</td>\n",
       "      <td>0.025384</td>\n",
       "      <td>0</td>\n",
       "      <td>0.0</td>\n",
       "      <td>141.0</td>\n",
       "      <td>360.0</td>\n",
       "      <td>1.0</td>\n",
       "      <td>2</td>\n",
       "      <td>1</td>\n",
       "    </tr>\n",
       "  </tbody>\n",
       "</table>\n",
       "</div>"
      ],
      "text/plain": [
       "   Gender  Married  Dependents  TotalIInc_Normal  Education  \\\n",
       "0       1        0           0          0.024745          0   \n",
       "1       1        1           1          0.025769          0   \n",
       "2       1        1           0          0.012692          0   \n",
       "3       1        1           0          0.020904          1   \n",
       "4       1        0           0          0.025384          0   \n",
       "\n",
       "   CoapplicantIncome  LoanAmount  Loan_Amount_Term  Credit_History  \\\n",
       "0                0.0       128.0             360.0             1.0   \n",
       "1             1508.0       128.0             360.0             1.0   \n",
       "2                0.0        66.0             360.0             1.0   \n",
       "3             2358.0       120.0             360.0             1.0   \n",
       "4                0.0       141.0             360.0             1.0   \n",
       "\n",
       "   Property_Area  Loan_Status  \n",
       "0              2            1  \n",
       "1              0            0  \n",
       "2              2            1  \n",
       "3              2            1  \n",
       "4              2            1  "
      ]
     },
     "execution_count": 197,
     "metadata": {},
     "output_type": "execute_result"
    }
   ],
   "source": [
    "data.head()"
   ]
  },
  {
   "cell_type": "code",
   "execution_count": 198,
   "metadata": {},
   "outputs": [],
   "source": [
    "train, test = train_test_split(data, test_size=testSize)"
   ]
  },
  {
   "cell_type": "code",
   "execution_count": 199,
   "metadata": {},
   "outputs": [],
   "source": [
    "X_train,y_train = train[train.columns[:-1]], train[train.columns[-1:]]\n",
    "X_test,y_test = test[test.columns[:-1]], test[test.columns[-1:]]\n",
    "y_train = y_train.astype('int')\n",
    "y_test = y_test.astype('int')"
   ]
  },
  {
   "cell_type": "code",
   "execution_count": 200,
   "metadata": {},
   "outputs": [
    {
     "data": {
      "text/html": [
       "<div>\n",
       "<style scoped>\n",
       "    .dataframe tbody tr th:only-of-type {\n",
       "        vertical-align: middle;\n",
       "    }\n",
       "\n",
       "    .dataframe tbody tr th {\n",
       "        vertical-align: top;\n",
       "    }\n",
       "\n",
       "    .dataframe thead th {\n",
       "        text-align: right;\n",
       "    }\n",
       "</style>\n",
       "<table border=\"1\" class=\"dataframe\">\n",
       "  <thead>\n",
       "    <tr style=\"text-align: right;\">\n",
       "      <th></th>\n",
       "      <th>Gender</th>\n",
       "      <th>Married</th>\n",
       "      <th>Dependents</th>\n",
       "      <th>TotalIInc_Normal</th>\n",
       "      <th>Education</th>\n",
       "      <th>CoapplicantIncome</th>\n",
       "      <th>LoanAmount</th>\n",
       "      <th>Loan_Amount_Term</th>\n",
       "      <th>Credit_History</th>\n",
       "      <th>Property_Area</th>\n",
       "    </tr>\n",
       "  </thead>\n",
       "  <tbody>\n",
       "    <tr>\n",
       "      <th>552</th>\n",
       "      <td>1</td>\n",
       "      <td>1</td>\n",
       "      <td>1</td>\n",
       "      <td>0.027851</td>\n",
       "      <td>0</td>\n",
       "      <td>3250.0</td>\n",
       "      <td>158.0</td>\n",
       "      <td>360.0</td>\n",
       "      <td>1.0</td>\n",
       "      <td>2</td>\n",
       "    </tr>\n",
       "    <tr>\n",
       "      <th>253</th>\n",
       "      <td>1</td>\n",
       "      <td>1</td>\n",
       "      <td>1</td>\n",
       "      <td>0.041300</td>\n",
       "      <td>1</td>\n",
       "      <td>7101.0</td>\n",
       "      <td>279.0</td>\n",
       "      <td>180.0</td>\n",
       "      <td>1.0</td>\n",
       "      <td>1</td>\n",
       "    </tr>\n",
       "    <tr>\n",
       "      <th>1</th>\n",
       "      <td>1</td>\n",
       "      <td>1</td>\n",
       "      <td>1</td>\n",
       "      <td>0.025769</td>\n",
       "      <td>0</td>\n",
       "      <td>1508.0</td>\n",
       "      <td>128.0</td>\n",
       "      <td>360.0</td>\n",
       "      <td>1.0</td>\n",
       "      <td>0</td>\n",
       "    </tr>\n",
       "    <tr>\n",
       "      <th>172</th>\n",
       "      <td>1</td>\n",
       "      <td>1</td>\n",
       "      <td>3</td>\n",
       "      <td>0.014901</td>\n",
       "      <td>1</td>\n",
       "      <td>0.0</td>\n",
       "      <td>81.0</td>\n",
       "      <td>180.0</td>\n",
       "      <td>1.0</td>\n",
       "      <td>0</td>\n",
       "    </tr>\n",
       "    <tr>\n",
       "      <th>22</th>\n",
       "      <td>1</td>\n",
       "      <td>1</td>\n",
       "      <td>0</td>\n",
       "      <td>0.019085</td>\n",
       "      <td>1</td>\n",
       "      <td>1911.0</td>\n",
       "      <td>116.0</td>\n",
       "      <td>360.0</td>\n",
       "      <td>0.0</td>\n",
       "      <td>1</td>\n",
       "    </tr>\n",
       "  </tbody>\n",
       "</table>\n",
       "</div>"
      ],
      "text/plain": [
       "     Gender  Married  Dependents  TotalIInc_Normal  Education  \\\n",
       "552       1        1           1          0.027851          0   \n",
       "253       1        1           1          0.041300          1   \n",
       "1         1        1           1          0.025769          0   \n",
       "172       1        1           3          0.014901          1   \n",
       "22        1        1           0          0.019085          1   \n",
       "\n",
       "     CoapplicantIncome  LoanAmount  Loan_Amount_Term  Credit_History  \\\n",
       "552             3250.0       158.0             360.0             1.0   \n",
       "253             7101.0       279.0             180.0             1.0   \n",
       "1               1508.0       128.0             360.0             1.0   \n",
       "172                0.0        81.0             180.0             1.0   \n",
       "22              1911.0       116.0             360.0             0.0   \n",
       "\n",
       "     Property_Area  \n",
       "552              2  \n",
       "253              1  \n",
       "1                0  \n",
       "172              0  \n",
       "22               1  "
      ]
     },
     "execution_count": 200,
     "metadata": {},
     "output_type": "execute_result"
    }
   ],
   "source": [
    "X_train.head()"
   ]
  },
  {
   "cell_type": "code",
   "execution_count": 201,
   "metadata": {},
   "outputs": [
    {
     "name": "stdout",
     "output_type": "stream",
     "text": [
      "Accuracy with Naive Bayes classifier:--> 0.84\n"
     ]
    }
   ],
   "source": [
    "#Naive Bayes\n",
    "from sklearn.naive_bayes import GaussianNB\n",
    "naiveB = GaussianNB()\n",
    "naiveB.fit(X_train,y_train.values.ravel())\n",
    "\n",
    "y_pred_naiveB = naiveB.predict(X_test)\n",
    "\n",
    "accuracy_naiveB = round(metrics.accuracy_score(y_test, y_pred_naiveB),2)\n",
    "print(\"Accuracy with Naive Bayes classifier:-->\",accuracy_naiveB)"
   ]
  },
  {
   "cell_type": "code",
   "execution_count": 202,
   "metadata": {},
   "outputs": [
    {
     "name": "stdout",
     "output_type": "stream",
     "text": [
      "Accuracy with DecisionTree(Gini) classifier:--> 0.84\n"
     ]
    }
   ],
   "source": [
    "#Decision Tree - Gini\n",
    "from sklearn.tree import DecisionTreeClassifier\n",
    "clf_gini = DecisionTreeClassifier(criterion = \"gini\", random_state = 100,\n",
    "                               max_depth=3, min_samples_leaf=5)\n",
    "clf_gini.fit(X_train, y_train)\n",
    "\n",
    "y_pred_gini = clf_gini.predict(X_test)\n",
    "\n",
    "accuracy_gini = round(metrics.accuracy_score(y_test, y_pred_gini),2)\n",
    "print(\"Accuracy with DecisionTree(Gini) classifier:-->\",accuracy_gini)"
   ]
  },
  {
   "cell_type": "code",
   "execution_count": 203,
   "metadata": {},
   "outputs": [
    {
     "name": "stdout",
     "output_type": "stream",
     "text": [
      "Accuracy with DecisionTree(Entropy) classifier:--> 0.84\n"
     ]
    }
   ],
   "source": [
    "#Decision Tree - Entropy\n",
    "clf_entropy = DecisionTreeClassifier(criterion = \"entropy\", random_state = 100,\n",
    "               max_depth=3, min_samples_leaf=5)\n",
    "clf_entropy.fit(X_train, y_train)\n",
    "\n",
    "y_pred_entropy = clf_entropy.predict(X_test)\n",
    "accuracy_entropy = round(metrics.accuracy_score(y_test, y_pred_entropy),2)\n",
    "\n",
    "\n",
    "print(\"Accuracy with DecisionTree(Entropy) classifier:-->\",accuracy_entropy)\n"
   ]
  },
  {
   "cell_type": "markdown",
   "metadata": {},
   "source": [
    "<b>Visualizing Decision Tree created:<b>"
   ]
  },
  {
   "cell_type": "markdown",
   "metadata": {},
   "source": [
    "Decision tree created out of this modeling can be seen in the same folder with names,\n",
    "1. graph_entropy.pdf - Tree created using entropy\n",
    "2. graph_gini.pdf - Tree created using gini index"
   ]
  },
  {
   "cell_type": "code",
   "execution_count": 204,
   "metadata": {},
   "outputs": [],
   "source": [
    "# Visualize Entropy decison tree\n",
    "dot_data = io.StringIO() \n",
    "tree.export_graphviz(clf_entropy, out_file = dot_data, feature_names = X_train.columns)\n",
    "graph = pydot.graph_from_dot_data(dot_data.getvalue())[0] \n",
    "graph.write_pdf(\"graph_entropy.pdf\")"
   ]
  },
  {
   "cell_type": "code",
   "execution_count": 205,
   "metadata": {},
   "outputs": [],
   "source": [
    "# Visualize Gini decison tree\n",
    "dot_data = io.StringIO() \n",
    "tree.export_graphviz(clf_gini, out_file = dot_data, feature_names = X_train.columns)\n",
    "graph = pydot.graph_from_dot_data(dot_data.getvalue())[0] \n",
    "graph.write_pdf(\"graph_gini.pdf\")"
   ]
  },
  {
   "cell_type": "code",
   "execution_count": 206,
   "metadata": {},
   "outputs": [
    {
     "name": "stdout",
     "output_type": "stream",
     "text": [
      "Accuracy with RandomForest classifier:--> 0.83\n"
     ]
    }
   ],
   "source": [
    "#Import Random Forest Model\n",
    "from sklearn.ensemble import RandomForestClassifier\n",
    "\n",
    "#Create a Gaussian Classifier\n",
    "randomForest=RandomForestClassifier(n_estimators=100)\n",
    "\n",
    "#Train the model using the training sets y_pred=clf.predict(X_test)\n",
    "randomForest.fit(X_train,y_train.values.ravel())\n",
    "y_pred_randomForest=randomForest.predict(X_test)\n",
    "\n",
    "accuracy_randomForest = round(metrics.accuracy_score(y_test, y_pred_randomForest),2)\n",
    "print(\"Accuracy with RandomForest classifier:-->\",accuracy_randomForest)\n"
   ]
  },
  {
   "cell_type": "code",
   "execution_count": 207,
   "metadata": {},
   "outputs": [
    {
     "name": "stdout",
     "output_type": "stream",
     "text": [
      "Accuracy with Logistic Regression classifier:--> 0.85\n"
     ]
    }
   ],
   "source": [
    "#Logistic Regression\n",
    "from sklearn.linear_model import LogisticRegression\n",
    "\n",
    "logreg = LogisticRegression(solver='lbfgs',max_iter=500)\n",
    "logreg.fit(X_train, y_train.values.ravel())\n",
    "y_pred_logreg = logreg.predict(X_test)\n",
    "y_pred_proba = logreg.predict_proba(X_test)[:, 1]\n",
    "\n",
    "accuracy_logreg = round(metrics.accuracy_score(y_test, y_pred_logreg),2)\n",
    "print(\"Accuracy with Logistic Regression classifier:-->\",accuracy_logreg)\n"
   ]
  },
  {
   "cell_type": "code",
   "execution_count": 208,
   "metadata": {},
   "outputs": [
    {
     "name": "stdout",
     "output_type": "stream",
     "text": [
      "Accuracy with SVM classifier:--> 0.73\n"
     ]
    }
   ],
   "source": [
    "from sklearn.svm import SVC\n",
    "\n",
    "svc = SVC(gamma='scale')\n",
    "svc.fit(X_train, y_train.values.ravel())\n",
    "y_pred_svc = svc.predict(X_test)\n",
    "\n",
    "accuracy_svc = round(metrics.accuracy_score(y_test, y_pred_svc),2)\n",
    "print(\"Accuracy with SVM classifier:-->\",accuracy_svc)"
   ]
  },
  {
   "cell_type": "code",
   "execution_count": 209,
   "metadata": {},
   "outputs": [
    {
     "name": "stdout",
     "output_type": "stream",
     "text": [
      "Feature Importance with RandomForest classifier:\n"
     ]
    },
    {
     "data": {
      "text/plain": [
       "Credit_History       0.325161\n",
       "TotalIInc_Normal     0.204029\n",
       "LoanAmount           0.175311\n",
       "CoapplicantIncome    0.096809\n",
       "Property_Area        0.051288\n",
       "Dependents           0.042869\n",
       "Loan_Amount_Term     0.039557\n",
       "Married              0.023576\n",
       "Gender               0.020832\n",
       "Education            0.020566\n",
       "dtype: float64"
      ]
     },
     "execution_count": 209,
     "metadata": {},
     "output_type": "execute_result"
    }
   ],
   "source": [
    "len(train),len(test)\n",
    "import pandas as pd\n",
    "feature_imp = pd.Series(randomForest.feature_importances_,index=X_train.columns).sort_values(ascending=False)\n",
    "print(\"Feature Importance with RandomForest classifier:\")\n",
    "feature_imp"
   ]
  },
  {
   "cell_type": "code",
   "execution_count": 210,
   "metadata": {},
   "outputs": [
    {
     "name": "stderr",
     "output_type": "stream",
     "text": [
      "No handles with labels found to put in legend.\n"
     ]
    },
    {
     "data": {
      "image/png": "[encoded data removed]",
      "text/plain": [
       "<Figure size 432x288 with 1 Axes>"
      ]
     },
     "metadata": {
      "needs_background": "light"
     },
     "output_type": "display_data"
    }
   ],
   "source": [
    "import matplotlib.pyplot as plt\n",
    "import seaborn as sns\n",
    "%matplotlib inline\n",
    "# Creating a bar plot\n",
    "sns.barplot(x=feature_imp, y=feature_imp.index)\n",
    "# Add labels to your graph\n",
    "plt.xlabel('Feature Importance Score')\n",
    "plt.ylabel('Features')\n",
    "plt.title(\"Visualizing Important Features\")\n",
    "plt.legend()\n",
    "plt.show()"
   ]
  },
  {
   "cell_type": "code",
   "execution_count": 211,
   "metadata": {},
   "outputs": [
    {
     "name": "stdout",
     "output_type": "stream",
     "text": [
      "Accuracy with SVM classifier:-->                   73.0 %\n",
      "Accuracy with DecisionTree(Gini) classifier:-->    84.0 %\n",
      "Accuracy with DecisionTree(Entropy) classifier:--> 84.0 %\n",
      "Accuracy with RandomForest classifier:-->          83.0 %\n",
      "Accuracy with Naive Bayes classifier:-->           84.0 %\n",
      "Accuracy with Logistic Regression classifier:-->   85.0 %\n"
     ]
    }
   ],
   "source": [
    "print(\"Accuracy with SVM classifier:-->                  \",round(accuracy_svc*100,2),'%')\n",
    "print(\"Accuracy with DecisionTree(Gini) classifier:-->   \",round(accuracy_gini*100,2),'%')\n",
    "print(\"Accuracy with DecisionTree(Entropy) classifier:-->\",round(accuracy_entropy*100,2),'%')\n",
    "print(\"Accuracy with RandomForest classifier:-->         \",round(accuracy_randomForest*100,2),'%')\n",
    "print(\"Accuracy with Naive Bayes classifier:-->          \",round(accuracy_naiveB*100,2),'%')\n",
    "print(\"Accuracy with Logistic Regression classifier:-->  \",round(accuracy_logreg*100,2),'%')\n"
   ]
  },
  {
   "cell_type": "markdown",
   "metadata": {},
   "source": [
    "<b>Note</b>"
   ]
  },
  {
   "cell_type": "markdown",
   "metadata": {},
   "source": [
    "In our initial run we have observed that the accuracy percentage is coming up to 75% <br>\n",
    "Then from the \"Visualizing Important Features\" out of RandomForest model we understood that<br>\n",
    "Credit History and Total_Income are palying very important role in deciding the loan approval status.<br>\n",
    "\n",
    "Hence derived their missing values accordingly and for Total income we have normalized the data<br>\n",
    "\n",
    "Post this data pre-procesing we have seen accuracies reaching 85%<br>\n",
    "This is a significant improvement.\n"
   ]
  },
  {
   "cell_type": "code",
   "execution_count": null,
   "metadata": {},
   "outputs": [],
   "source": []
  }
 ],
 "metadata": {
  "kernelspec": {
   "display_name": "Python 3",
   "language": "python",
   "name": "python3"
  },
  "language_info": {
   "codemirror_mode": {
    "name": "ipython",
    "version": 3
   },
   "file_extension": ".py",
   "mimetype": "text/x-python",
   "name": "python",
   "nbconvert_exporter": "python",
   "pygments_lexer": "ipython3",
   "version": "3.6.7"
  }
 },
 "nbformat": 4,
 "nbformat_minor": 2
}
