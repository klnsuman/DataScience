{
 "cells": [
  {
   "cell_type": "markdown",
   "metadata": {},
   "source": [
    "<b>ML_GROUP059 | Assignment 9 | ML_GROUP059_A1_Asg9_Q1 </b>\n",
    "----------------------------------------\n",
    "<br>The following dataset is used to classify the whether a patient is prone to a chronic kidney disease or not basing on the data provided"
   ]
  },
  {
   "cell_type": "markdown",
   "metadata": {},
   "source": [
    "<b>Feature Description</b><br>\n",
    "\n",
    "Independent Features:\n",
    "\n",
    "Age\t\t-  Numeric         -\tage\t<br>\n",
    "Bp\t\t-  Numeric         -\tblood pressure<br>\n",
    "Sg\t\t-  Numeric         -\tspecific gravity<br>\n",
    "Al\t\t-  Numeric         -  albumin<br>\n",
    "Su\t\t-  Numeric         -\tsugar<br>\n",
    "Rbc\t\t-  Categorical     -\tred blood cells<br>\n",
    "Pc\t\t-  Categorical     -\tpus cell<br>\n",
    "Pcc\t\t-  Categorical     -\tpus cell clumps<br>\n",
    "Ba\t\t-  Categorical     -\tbacteria<br>\n",
    "Bgr\t\t-  Numeric         -\tblood glucose random<br>\n",
    "Bu\t\t-  Numeric         -\tblood urea<br>\n",
    "Sc\t\t-  Numeric         -\tserum creatinine<br>\n",
    "Sod\t\t-  Numeric         -\tsodium<br>\n",
    "Pot\t\t-  Numeric         -\tpotassium<br>\n",
    "Hemo\t-  Numeric         -\themoglobin<br>\n",
    "Pcv\t\t-  Numeric         -\tpacked cell volume<br>\n",
    "Wc\t\t-  Numeric         -\twhite blood cell count<br>\n",
    "Rc\t\t-  Numeric         -\tred blood cell count<br>\n",
    "Htn\t\t-  Categorical     -\thypertension<br>\n",
    "Dm\t\t-  Categorical     -\tdiabetes mellitus<br>\n",
    "Cad\t\t-  Categorical     -\tcoronary artery disease<br>\n",
    "Appet\t-  Categorical     -\tappetite<br>\n",
    "Pe\t\t-  Categorical     -\tpedal edema<br>\n",
    "Ane\t\t-  Categorical     -\tanemia<br>\n",
    "    \n",
    "Target Variable:\n",
    "\n",
    "Class   -  Categorical     -\tClassification<br>"
   ]
  },
  {
   "cell_type": "code",
   "execution_count": 251,
   "metadata": {},
   "outputs": [],
   "source": [
    "# Importing the libraries\n",
    "import numpy as np\n",
    "import matplotlib.pyplot as plt\n",
    "import pandas as pd\n",
    "import seaborn as sns\n",
    "import os\n",
    "%matplotlib inline\n",
    "from sklearn.model_selection import cross_val_score, cross_val_predict\n",
    "from sklearn.model_selection import train_test_split\n",
    "from sklearn.metrics import classification_report\n",
    "import seaborn as sb\n",
    "import warnings\n",
    "warnings.filterwarnings('ignore')"
   ]
  },
  {
   "cell_type": "code",
   "execution_count": 252,
   "metadata": {},
   "outputs": [
    {
     "data": {
      "text/plain": [
       "'/Users/pkoduri/PK_Data/Trainings/BITS_Mtech/Sem2/Assignments/ML_Asg/A1/1'"
      ]
     },
     "execution_count": 252,
     "metadata": {},
     "output_type": "execute_result"
    }
   ],
   "source": [
    "#lets check the current working directory\n",
    "from os import chdir, getcwd\n",
    "wd=getcwd()\n",
    "wd\n",
    "chdir(wd)\n",
    "wd"
   ]
  },
  {
   "cell_type": "code",
   "execution_count": 253,
   "metadata": {},
   "outputs": [],
   "source": [
    "file = open('chronic_kidney_disease.arff', 'r')\n",
    "cpfile = open('ckddata.csv', 'w')  \n",
    "header = \"\"\n",
    "lines=[]\n",
    "i = 0\n",
    "j = 0 \n",
    "for line in file:\n",
    "    Identifier = line.split(' ')\n",
    "   \n",
    "    if(Identifier[0]=='@attribute') :\n",
    "        if(len(header)>=1):\n",
    "            header = header + \",\" + str(Identifier[1]) \n",
    "        else:\n",
    "            header = str(Identifier[1])\n",
    "           \n",
    "    elif(line.strip()=='@data'):\n",
    "        j = i\n",
    "        header = header.replace(\"'\",\"\")\n",
    "        cpfile.write(header+\"\\n\")\n",
    "        lines.append(header+\"\\n\")\n",
    "        number = len(header.split(','))\n",
    "        #print(number)\n",
    "    else:\n",
    "       \n",
    "        if(i>j and len(line)>1):\n",
    "            tempStr=line\n",
    "            #tempStr=tempStr.strip().rstrip(',')\n",
    "            lines.append(line)\n",
    "            number = len(tempStr.split(','))\n",
    "            \n",
    "            if(number>25):\n",
    "                i=1\n",
    "                #print(\"diff-\",Identifier[0],\" i\",i,\" number\",number)\n",
    "            else:\n",
    "                cpfile.write(line)        \n",
    "    i+=1    \n",
    "file.close()\n",
    "cpfile.close()"
   ]
  },
  {
   "cell_type": "markdown",
   "metadata": {},
   "source": [
    "<b>Importing</b> data from the provided csv file.<br>"
   ]
  },
  {
   "cell_type": "code",
   "execution_count": 254,
   "metadata": {},
   "outputs": [],
   "source": [
    "#data = pd.read_csv('Kidney_Disease_Full.csv')\n",
    "df = pd.read_csv(\"ckddata.csv\",na_values=' ')\n",
    "df.head()\n",
    "data=df"
   ]
  },
  {
   "cell_type": "code",
   "execution_count": 255,
   "metadata": {},
   "outputs": [
    {
     "data": {
      "text/plain": [
       "age      0\n",
       "bp       0\n",
       "sg       0\n",
       "al       0\n",
       "su       0\n",
       "rbc      0\n",
       "pc       0\n",
       "pcc      0\n",
       "ba       0\n",
       "bgr      0\n",
       "bu       0\n",
       "sc       0\n",
       "sod      0\n",
       "pot      0\n",
       "hemo     0\n",
       "pcv      0\n",
       "wbcc     0\n",
       "rbcc     0\n",
       "htn      0\n",
       "dm       0\n",
       "cad      0\n",
       "appet    0\n",
       "pe       0\n",
       "ane      0\n",
       "class    0\n",
       "dtype: int64"
      ]
     },
     "execution_count": 255,
     "metadata": {},
     "output_type": "execute_result"
    }
   ],
   "source": [
    "# Check data for any null values - Description file claims there are no null values - confirming\n",
    "data.isnull().sum() "
   ]
  },
  {
   "cell_type": "code",
   "execution_count": 256,
   "metadata": {},
   "outputs": [
    {
     "name": "stdout",
     "output_type": "stream",
     "text": [
      "Reviewing data......   age  bp     sg al su     rbc        pc         pcc          ba  bgr  ...  \\\n",
      "0  48  80  1.020  1  0       ?    normal  notpresent  notpresent  121  ...   \n",
      "1   7  50  1.020  4  0       ?    normal  notpresent  notpresent    ?  ...   \n",
      "2  62  80  1.010  2  3  normal    normal  notpresent  notpresent  423  ...   \n",
      "3  48  70  1.005  4  0  normal  abnormal     present  notpresent  117  ...   \n",
      "4  51  80  1.010  2  0  normal    normal  notpresent  notpresent  106  ...   \n",
      "\n",
      "  pcv  wbcc rbcc  htn   dm cad appet   pe  ane class  \n",
      "0  44  7800  5.2  yes  yes  no  good   no   no   ckd  \n",
      "1  38  6000    ?   no   no  no  good   no   no   ckd  \n",
      "2  31  7500    ?   no  yes  no  poor   no  yes   ckd  \n",
      "3  32  6700  3.9  yes   no  no  poor  yes  yes   ckd  \n",
      "4  35  7300  4.6   no   no  no  good   no   no   ckd  \n",
      "\n",
      "[5 rows x 25 columns]\n",
      "\n",
      "\n",
      "\n",
      "Shape of data... (344, 25)\n",
      "\n",
      "\n",
      "\n",
      "Describing different numeric attributes...       count unique         top freq\n",
      "age     344     75          60   18\n",
      "bp      344     11          80   96\n",
      "sg      344      6       1.020   93\n",
      "al      344      7           0  166\n",
      "su      344      7           0  246\n",
      "rbc     344      3      normal  168\n",
      "pc      344      3      normal  217\n",
      "pcc     344      3  notpresent  302\n",
      "ba      344      3  notpresent  321\n",
      "bgr     344    140           ?   40\n",
      "bu      344    115           ?   18\n",
      "sc      344     83         1.2   35\n",
      "sod     344     35           ?   79\n",
      "pot     344     42           ?   80\n",
      "hemo    344    115           ?   46\n",
      "pcv     344     44           ?   61\n",
      "wbcc    344     87           ?   95\n",
      "rbcc    344     50           ?  119\n",
      "htn     344      3          no  214\n",
      "dm      344      6          no  220\n",
      "cad     344      4          no  310\n",
      "appet   344      3        good  269\n",
      "pe      344      3          no  277\n",
      "ane     344      3          no  287\n",
      "class   344      3         ckd  220\n",
      "\n",
      "\n",
      "\n",
      "Understanding different attributes types...\n",
      "\n",
      "\n",
      "<class 'pandas.core.frame.DataFrame'>\n",
      "RangeIndex: 344 entries, 0 to 343\n",
      "Data columns (total 25 columns):\n",
      "age      344 non-null object\n",
      "bp       344 non-null object\n",
      "sg       344 non-null object\n",
      "al       344 non-null object\n",
      "su       344 non-null object\n",
      "rbc      344 non-null object\n",
      "pc       344 non-null object\n",
      "pcc      344 non-null object\n",
      "ba       344 non-null object\n",
      "bgr      344 non-null object\n",
      "bu       344 non-null object\n",
      "sc       344 non-null object\n",
      "sod      344 non-null object\n",
      "pot      344 non-null object\n",
      "hemo     344 non-null object\n",
      "pcv      344 non-null object\n",
      "wbcc     344 non-null object\n",
      "rbcc     344 non-null object\n",
      "htn      344 non-null object\n",
      "dm       344 non-null object\n",
      "cad      344 non-null object\n",
      "appet    344 non-null object\n",
      "pe       344 non-null object\n",
      "ane      344 non-null object\n",
      "class    344 non-null object\n",
      "dtypes: object(25)\n",
      "memory usage: 67.3+ KB\n",
      "None\n"
     ]
    }
   ],
   "source": [
    "# Trying to describe the data and see various attributes\n",
    "\n",
    "\n",
    "print(\"Reviewing data......\",data.head())\n",
    "\n",
    "print(\"\\n\\n\\nShape of data...\",data.shape)\n",
    "\n",
    "print(\"\\n\\n\\nDescribing different numeric attributes...\",data.describe().T)\n",
    "\n",
    "print(\"\\n\\n\\nUnderstanding different attributes types...\\n\\n\")\n",
    "print(data.info())"
   ]
  },
  {
   "cell_type": "markdown",
   "metadata": {},
   "source": [
    "#### Null Handling \n",
    "This shows that many attributes have few missing values stamped with a ?   \n",
    "\n",
    "Lets find the appropriate measure for each of the attribute type and fill them <br>\n",
    "So that we don't loose valuable informaiton from other features in that tuple"
   ]
  },
  {
   "cell_type": "code",
   "execution_count": 257,
   "metadata": {},
   "outputs": [],
   "source": [
    "#Replace any '?' in data with NAN values\n",
    "data = data.apply(lambda x: x.str.strip()).replace('?', np.nan)"
   ]
  },
  {
   "cell_type": "code",
   "execution_count": 258,
   "metadata": {},
   "outputs": [
    {
     "data": {
      "text/plain": [
       "age        8\n",
       "bp        11\n",
       "sg        43\n",
       "al        42\n",
       "su        44\n",
       "rbc      134\n",
       "pc        59\n",
       "pcc        4\n",
       "ba         4\n",
       "bgr       40\n",
       "bu        18\n",
       "sc        17\n",
       "sod       79\n",
       "pot       80\n",
       "hemo      46\n",
       "pcv       62\n",
       "wbcc      96\n",
       "rbcc     120\n",
       "htn        2\n",
       "dm         2\n",
       "cad        2\n",
       "appet      1\n",
       "pe         1\n",
       "ane        1\n",
       "class      0\n",
       "dtype: int64"
      ]
     },
     "execution_count": 258,
     "metadata": {},
     "output_type": "execute_result"
    }
   ],
   "source": [
    "data.isnull().sum() "
   ]
  },
  {
   "cell_type": "code",
   "execution_count": 259,
   "metadata": {},
   "outputs": [
    {
     "data": {
      "text/html": [
       "<div>\n",
       "<style scoped>\n",
       "    .dataframe tbody tr th:only-of-type {\n",
       "        vertical-align: middle;\n",
       "    }\n",
       "\n",
       "    .dataframe tbody tr th {\n",
       "        vertical-align: top;\n",
       "    }\n",
       "\n",
       "    .dataframe thead th {\n",
       "        text-align: right;\n",
       "    }\n",
       "</style>\n",
       "<table border=\"1\" class=\"dataframe\">\n",
       "  <thead>\n",
       "    <tr style=\"text-align: right;\">\n",
       "      <th></th>\n",
       "      <th>age</th>\n",
       "      <th>bp</th>\n",
       "      <th>sg</th>\n",
       "      <th>al</th>\n",
       "      <th>su</th>\n",
       "      <th>rbc</th>\n",
       "      <th>pc</th>\n",
       "      <th>pcc</th>\n",
       "      <th>ba</th>\n",
       "      <th>bgr</th>\n",
       "      <th>...</th>\n",
       "      <th>pcv</th>\n",
       "      <th>wbcc</th>\n",
       "      <th>rbcc</th>\n",
       "      <th>htn</th>\n",
       "      <th>dm</th>\n",
       "      <th>cad</th>\n",
       "      <th>appet</th>\n",
       "      <th>pe</th>\n",
       "      <th>ane</th>\n",
       "      <th>class</th>\n",
       "    </tr>\n",
       "  </thead>\n",
       "  <tbody>\n",
       "    <tr>\n",
       "      <th>count</th>\n",
       "      <td>336</td>\n",
       "      <td>333</td>\n",
       "      <td>301</td>\n",
       "      <td>302</td>\n",
       "      <td>300</td>\n",
       "      <td>210</td>\n",
       "      <td>285</td>\n",
       "      <td>340</td>\n",
       "      <td>340</td>\n",
       "      <td>304</td>\n",
       "      <td>...</td>\n",
       "      <td>282</td>\n",
       "      <td>248</td>\n",
       "      <td>224</td>\n",
       "      <td>342</td>\n",
       "      <td>342</td>\n",
       "      <td>342</td>\n",
       "      <td>343</td>\n",
       "      <td>343</td>\n",
       "      <td>343</td>\n",
       "      <td>344</td>\n",
       "    </tr>\n",
       "    <tr>\n",
       "      <th>unique</th>\n",
       "      <td>74</td>\n",
       "      <td>10</td>\n",
       "      <td>5</td>\n",
       "      <td>6</td>\n",
       "      <td>6</td>\n",
       "      <td>2</td>\n",
       "      <td>2</td>\n",
       "      <td>2</td>\n",
       "      <td>2</td>\n",
       "      <td>139</td>\n",
       "      <td>...</td>\n",
       "      <td>41</td>\n",
       "      <td>84</td>\n",
       "      <td>48</td>\n",
       "      <td>2</td>\n",
       "      <td>2</td>\n",
       "      <td>2</td>\n",
       "      <td>2</td>\n",
       "      <td>2</td>\n",
       "      <td>2</td>\n",
       "      <td>2</td>\n",
       "    </tr>\n",
       "    <tr>\n",
       "      <th>top</th>\n",
       "      <td>60</td>\n",
       "      <td>80</td>\n",
       "      <td>1.020</td>\n",
       "      <td>0</td>\n",
       "      <td>0</td>\n",
       "      <td>normal</td>\n",
       "      <td>normal</td>\n",
       "      <td>notpresent</td>\n",
       "      <td>notpresent</td>\n",
       "      <td>99</td>\n",
       "      <td>...</td>\n",
       "      <td>41</td>\n",
       "      <td>9800</td>\n",
       "      <td>4.5</td>\n",
       "      <td>no</td>\n",
       "      <td>no</td>\n",
       "      <td>no</td>\n",
       "      <td>good</td>\n",
       "      <td>no</td>\n",
       "      <td>no</td>\n",
       "      <td>ckd</td>\n",
       "    </tr>\n",
       "    <tr>\n",
       "      <th>freq</th>\n",
       "      <td>18</td>\n",
       "      <td>96</td>\n",
       "      <td>93</td>\n",
       "      <td>166</td>\n",
       "      <td>246</td>\n",
       "      <td>168</td>\n",
       "      <td>217</td>\n",
       "      <td>302</td>\n",
       "      <td>321</td>\n",
       "      <td>9</td>\n",
       "      <td>...</td>\n",
       "      <td>21</td>\n",
       "      <td>10</td>\n",
       "      <td>15</td>\n",
       "      <td>214</td>\n",
       "      <td>223</td>\n",
       "      <td>312</td>\n",
       "      <td>269</td>\n",
       "      <td>277</td>\n",
       "      <td>287</td>\n",
       "      <td>222</td>\n",
       "    </tr>\n",
       "  </tbody>\n",
       "</table>\n",
       "<p>4 rows × 25 columns</p>\n",
       "</div>"
      ],
      "text/plain": [
       "        age   bp     sg   al   su     rbc      pc         pcc          ba  \\\n",
       "count   336  333    301  302  300     210     285         340         340   \n",
       "unique   74   10      5    6    6       2       2           2           2   \n",
       "top      60   80  1.020    0    0  normal  normal  notpresent  notpresent   \n",
       "freq     18   96     93  166  246     168     217         302         321   \n",
       "\n",
       "        bgr  ...  pcv  wbcc rbcc  htn   dm  cad appet   pe  ane class  \n",
       "count   304  ...  282   248  224  342  342  342   343  343  343   344  \n",
       "unique  139  ...   41    84   48    2    2    2     2    2    2     2  \n",
       "top      99  ...   41  9800  4.5   no   no   no  good   no   no   ckd  \n",
       "freq      9  ...   21    10   15  214  223  312   269  277  287   222  \n",
       "\n",
       "[4 rows x 25 columns]"
      ]
     },
     "execution_count": 259,
     "metadata": {},
     "output_type": "execute_result"
    }
   ],
   "source": [
    "data.describe()"
   ]
  },
  {
   "cell_type": "markdown",
   "metadata": {},
   "source": [
    "#### EDA - Data Visualization \n",
    "Data Distrubution (Feature wise spread) to get an insight about different features and find any Outlier \n"
   ]
  },
  {
   "cell_type": "code",
   "execution_count": 209,
   "metadata": {},
   "outputs": [
    {
     "data": {
      "image/png": "[encoded data removed]",
      "text/plain": [
       "<Figure size 1440x1800 with 24 Axes>"
      ]
     },
     "metadata": {
      "needs_background": "light"
     },
     "output_type": "display_data"
    }
   ],
   "source": [
    "\"\"\"Plotting all the attributes to get a visualization of the \n",
    "   intra-column data  split\n",
    "\"\"\"\n",
    "#data.columns[1:]\n",
    "graphRow, graphCol = 0, 0\n",
    "catch,dims = plt.subplots(6, 4, figsize = (20, 25))\n",
    "plt.subplots_adjust(hspace = .23)\n",
    "\n",
    "for att in data.columns[1:]:\n",
    "    if att in ['rbc','pc', 'pcc', 'ba','htn','dm','cad','appet','pe','ane']:\n",
    "       dims[graphRow,graphCol].hist(data[att].dropna())\n",
    "                \n",
    "    else:\n",
    "        bar_data = data[att].value_counts()\n",
    "        sb.barplot(bar_data.index, bar_data.values, ax = dims[graphRow,graphCol])\n",
    "    dims[graphRow, graphCol].set_title(att)\n",
    "    graphCol += 1 \n",
    "    if graphCol ==4:\n",
    "        graphRow += 1\n",
    "        graphCol = 0"
   ]
  },
  {
   "cell_type": "markdown",
   "metadata": {},
   "source": [
    "#### Lets understand the impact of each variable on the Target variable"
   ]
  },
  {
   "cell_type": "code",
   "execution_count": 260,
   "metadata": {},
   "outputs": [
    {
     "data": {
      "image/png": "[encoded data removed]",
      "text/plain": [
       "<Figure size 288x216 with 1 Axes>"
      ]
     },
     "metadata": {
      "needs_background": "light"
     },
     "output_type": "display_data"
    }
   ],
   "source": [
    "#how rbc measure impacts the classification\n",
    "var = pd.crosstab(data['rbc'], data['class'])\n",
    "var.div(var.sum(1).astype(float), axis = 0).plot(kind = 'bar', stacked = True, figsize = (4, 3))\n",
    "\n",
    "plt.title('how rbc measure impacts the classification ?', fontsize = 12)\n",
    "plt.xlabel('Price Range', fontsize = 8)\n",
    "plt.ylabel('Count', fontsize = 8)\n",
    "plt.legend()\n",
    "plt.show()"
   ]
  },
  {
   "cell_type": "code",
   "execution_count": 261,
   "metadata": {},
   "outputs": [
    {
     "data": {
      "image/png": "[encoded data removed]",
      "text/plain": [
       "<Figure size 288x216 with 1 Axes>"
      ]
     },
     "metadata": {
      "needs_background": "light"
     },
     "output_type": "display_data"
    }
   ],
   "source": [
    "#how puss cells measure impacts the classification\n",
    "var = pd.crosstab(data['pc'], data['class'])\n",
    "var.div(var.sum(1).astype(float), axis = 0).plot(kind = 'bar', stacked = True, figsize = (4, 3))\n",
    "\n",
    "plt.title('how puss cells measure impacts the classification ?', fontsize = 12)\n",
    "plt.xlabel('Price Range', fontsize = 8)\n",
    "plt.ylabel('Count', fontsize = 8)\n",
    "plt.legend()\n",
    "plt.show()"
   ]
  },
  {
   "cell_type": "code",
   "execution_count": 262,
   "metadata": {},
   "outputs": [
    {
     "data": {
      "image/png": "[encoded data removed]",
      "text/plain": [
       "<Figure size 288x216 with 1 Axes>"
      ]
     },
     "metadata": {
      "needs_background": "light"
     },
     "output_type": "display_data"
    }
   ],
   "source": [
    "#how puss cells clumps measure impacts the classification\n",
    "var = pd.crosstab(data['pcc'], data['class'])\n",
    "var.div(var.sum(1).astype(float), axis = 0).plot(kind = 'bar', stacked = True, figsize = (4, 3))\n",
    "\n",
    "plt.title('how puss cells clumps measure impacts the classification ?', fontsize = 12)\n",
    "plt.xlabel('Price Range', fontsize = 8)\n",
    "plt.ylabel('Count', fontsize = 8)\n",
    "plt.legend()\n",
    "plt.show()"
   ]
  },
  {
   "cell_type": "code",
   "execution_count": 263,
   "metadata": {},
   "outputs": [
    {
     "data": {
      "image/png": "[encoded data removed]",
      "text/plain": [
       "<Figure size 288x216 with 1 Axes>"
      ]
     },
     "metadata": {
      "needs_background": "light"
     },
     "output_type": "display_data"
    }
   ],
   "source": [
    "#how bacteria measure impacts the classification\n",
    "var = pd.crosstab(data['ba'], data['class'])\n",
    "var.div(var.sum(1).astype(float), axis = 0).plot(kind = 'bar', stacked = True, figsize = (4, 3))\n",
    "\n",
    "plt.title('how bacteria measure impacts the classification ?', fontsize = 12)\n",
    "plt.xlabel('Price Range', fontsize = 8)\n",
    "plt.ylabel('Count', fontsize = 8)\n",
    "plt.legend()\n",
    "plt.show()"
   ]
  },
  {
   "cell_type": "code",
   "execution_count": 264,
   "metadata": {},
   "outputs": [
    {
     "data": {
      "image/png": "[encoded data removed]",
      "text/plain": [
       "<Figure size 288x216 with 1 Axes>"
      ]
     },
     "metadata": {
      "needs_background": "light"
     },
     "output_type": "display_data"
    }
   ],
   "source": [
    "#how Hypertension measure impacts the classification\n",
    "var = pd.crosstab(data['htn'], data['class'])\n",
    "var.div(var.sum(1).astype(float), axis = 0).plot(kind = 'bar', stacked = True, figsize = (4, 3))\n",
    "\n",
    "plt.title('how Hypertension measure impacts the classification ?', fontsize = 12)\n",
    "plt.xlabel('Price Range', fontsize = 8)\n",
    "plt.ylabel('Count', fontsize = 8)\n",
    "plt.legend()\n",
    "plt.show()"
   ]
  },
  {
   "cell_type": "code",
   "execution_count": 265,
   "metadata": {},
   "outputs": [
    {
     "data": {
      "image/png": "[encoded data removed]",
      "text/plain": [
       "<Figure size 288x216 with 1 Axes>"
      ]
     },
     "metadata": {
      "needs_background": "light"
     },
     "output_type": "display_data"
    }
   ],
   "source": [
    "#how diabetes measure impacts the classification\n",
    "var = pd.crosstab(data['dm'], data['class'])\n",
    "var.div(var.sum(1).astype(float), axis = 0).plot(kind = 'bar', stacked = True, figsize = (4, 3))\n",
    "\n",
    "plt.title('how diabetes measure impacts the classification ?', fontsize = 12)\n",
    "plt.xlabel('Price Range', fontsize = 8)\n",
    "plt.ylabel('Count', fontsize = 8)\n",
    "plt.legend()\n",
    "plt.show()"
   ]
  },
  {
   "cell_type": "code",
   "execution_count": 266,
   "metadata": {},
   "outputs": [
    {
     "data": {
      "image/png": "[encoded data removed]",
      "text/plain": [
       "<Figure size 288x216 with 1 Axes>"
      ]
     },
     "metadata": {
      "needs_background": "light"
     },
     "output_type": "display_data"
    }
   ],
   "source": [
    "#how Coronary Artery measure impacts the classification\n",
    "var = pd.crosstab(data['cad'], data['class'])\n",
    "var.div(var.sum(1).astype(float), axis = 0).plot(kind = 'bar', stacked = True, figsize = (4, 3))\n",
    "\n",
    "plt.title('how Coronary Artery Disease measure impacts the classification ?', fontsize = 12)\n",
    "plt.xlabel('Price Range', fontsize = 8)\n",
    "plt.ylabel('Count', fontsize = 8)\n",
    "plt.legend()\n",
    "plt.show()"
   ]
  },
  {
   "cell_type": "code",
   "execution_count": 267,
   "metadata": {},
   "outputs": [
    {
     "data": {
      "image/png": "[encoded data removed]",
      "text/plain": [
       "<Figure size 288x216 with 1 Axes>"
      ]
     },
     "metadata": {
      "needs_background": "light"
     },
     "output_type": "display_data"
    }
   ],
   "source": [
    "#how appetite  measure impacts the classification\n",
    "var = pd.crosstab(data['appet'], data['class'])\n",
    "var.div(var.sum(1).astype(float), axis = 0).plot(kind = 'bar', stacked = True, figsize = (4, 3))\n",
    "\n",
    "plt.title('how appetite measure impacts the classification ?', fontsize = 12)\n",
    "plt.xlabel('Price Range', fontsize = 8)\n",
    "plt.ylabel('Count', fontsize = 8)\n",
    "plt.legend()\n",
    "plt.show()"
   ]
  },
  {
   "cell_type": "code",
   "execution_count": 268,
   "metadata": {},
   "outputs": [
    {
     "data": {
      "text/plain": [
       "Index(['age', 'bp', 'sg', 'al', 'su', 'rbc', 'pc', 'pcc', 'ba', 'bgr', 'bu',\n",
       "       'sc', 'sod', 'pot', 'hemo', 'pcv', 'wbcc', 'rbcc', 'htn', 'dm', 'cad',\n",
       "       'appet', 'pe', 'ane', 'class'],\n",
       "      dtype='object')"
      ]
     },
     "execution_count": 268,
     "metadata": {},
     "output_type": "execute_result"
    }
   ],
   "source": [
    "data.columns"
   ]
  },
  {
   "cell_type": "markdown",
   "metadata": {},
   "source": [
    "<B>Feature Processing / Cleaning - Based on EDA above </B>"
   ]
  },
  {
   "cell_type": "code",
   "execution_count": 269,
   "metadata": {},
   "outputs": [],
   "source": [
    "#Numeric attributes  - Handling missing values\n",
    "\n",
    "data['age'] = pd.to_numeric(data['age'])\n",
    "data['age'].fillna(data['age'].mean(), inplace=True)\n",
    "\n",
    "data['bp'] = pd.to_numeric(data['bp'])\n",
    "data['bp'].fillna(data['bp'].mean(), inplace=True)\n",
    "\n",
    "data['sg'] = pd.to_numeric(data['sg'])\n",
    "data['sg'].fillna(data['sg'].mean(), inplace=True)\n",
    "\n",
    "data['al'] = pd.to_numeric(data['al'])\n",
    "data['al'].fillna(data['al'].mean(), inplace=True)\n",
    "\n",
    "data['su'] = pd.to_numeric(data['su'])\n",
    "data['su'].fillna(data['su'].mean(), inplace=True)\n",
    "\n",
    "data['bgr'] = pd.to_numeric(data['bgr'])\n",
    "data['bgr'].fillna(data['bgr'].mean(), inplace=True)\n",
    "\n",
    "data['bu'] = pd.to_numeric(data['bu'])\n",
    "data['bu'].fillna(data['bu'].mean(), inplace=True)\n",
    "\n",
    "data['sc'] = pd.to_numeric(data['sc'])\n",
    "data['sc'].fillna(data['sc'].mean(), inplace=True)\n",
    "\n",
    "data['sod'] = pd.to_numeric(data['sod'])\n",
    "data['sod'].fillna(data['sod'].mean(), inplace=True)\n",
    "\n",
    "data['pot'] = pd.to_numeric(data['pot'])\n",
    "data['pot'].fillna(data['pot'].mean(), inplace=True)\n",
    "\n",
    "data['hemo'] = pd.to_numeric(data['hemo'])\n",
    "data['hemo'].fillna(data['hemo'].mean(), inplace=True)\n",
    "\n",
    "data['pcv'] = pd.to_numeric(data['pcv'])\n",
    "data['pcv'].fillna(data['pcv'].mean(), inplace=True)\n",
    "\n",
    "data['wbcc'] = pd.to_numeric(data['wbcc'])\n",
    "data['wbcc'].fillna(data['wbcc'].mean(), inplace=True)\n",
    "\n",
    "data['rbcc'] = pd.to_numeric(data['rbcc'])\n",
    "data['rbcc'].fillna(data['rbcc'].mean(), inplace=True)"
   ]
  },
  {
   "cell_type": "code",
   "execution_count": 270,
   "metadata": {},
   "outputs": [],
   "source": [
    "#Categorical variables\n",
    "\n",
    "data['rbc'].fillna(data['rbc'].mode()[0], inplace=True)\n",
    "data['rbc']= data['rbc'].astype('category')\n",
    "data['rbc'] = data['rbc'].cat.codes\n",
    "\n",
    "data['pc'].fillna(data['pc'].mode()[0], inplace=True)\n",
    "data['pc']= data['pc'].astype('category')\n",
    "data['pc'] = data['pc'].cat.codes\n",
    "\n",
    "\n",
    "data['pcc'].fillna(data['pcc'].mode()[0], inplace=True)\n",
    "data['pcc']= data['pcc'].astype('category')\n",
    "data['pcc'] = data['pcc'].cat.codes\n",
    "\n",
    "data['ba'].fillna(data['ba'].mode()[0], inplace=True)\n",
    "data['ba']= data['ba'].astype('category')\n",
    "data['ba'] = data['ba'].cat.codes\n",
    "\n",
    "data['htn'].fillna(data['htn'].mode()[0], inplace=True)\n",
    "data['htn']= data['htn'].astype('category')\n",
    "data['htn'] = data['htn'].cat.codes\n",
    "\n",
    "data['dm'].fillna(data['dm'].mode()[0], inplace=True)\n",
    "data['dm']= data['dm'].astype('category')\n",
    "data['dm'] = data['dm'].cat.codes\n",
    "\n",
    "data['cad'].fillna(data['cad'].mode()[0], inplace=True)\n",
    "data['cad']= data['cad'].astype('category')\n",
    "data['cad'] = data['cad'].cat.codes\n",
    "\n",
    "data['appet'].fillna(data['appet'].mode()[0], inplace=True)\n",
    "data['appet']= data['appet'].astype('category')\n",
    "data['appet'] = data['appet'].cat.codes\n",
    "\n",
    "data['pe'].fillna(data['pe'].mode()[0], inplace=True)\n",
    "data['pe']= data['pe'].astype('category')\n",
    "data['pe'] = data['pe'].cat.codes\n",
    "\n",
    "data['ane'].fillna(data['ane'].mode()[0], inplace=True)\n",
    "data['ane']= data['ane'].astype('category')\n",
    "data['ane'] = data['ane'].cat.codes"
   ]
  },
  {
   "cell_type": "code",
   "execution_count": 271,
   "metadata": {},
   "outputs": [
    {
     "data": {
      "text/html": [
       "<div>\n",
       "<style scoped>\n",
       "    .dataframe tbody tr th:only-of-type {\n",
       "        vertical-align: middle;\n",
       "    }\n",
       "\n",
       "    .dataframe tbody tr th {\n",
       "        vertical-align: top;\n",
       "    }\n",
       "\n",
       "    .dataframe thead th {\n",
       "        text-align: right;\n",
       "    }\n",
       "</style>\n",
       "<table border=\"1\" class=\"dataframe\">\n",
       "  <thead>\n",
       "    <tr style=\"text-align: right;\">\n",
       "      <th></th>\n",
       "      <th>age</th>\n",
       "      <th>bp</th>\n",
       "      <th>sg</th>\n",
       "      <th>al</th>\n",
       "      <th>su</th>\n",
       "      <th>rbc</th>\n",
       "      <th>pc</th>\n",
       "      <th>pcc</th>\n",
       "      <th>ba</th>\n",
       "      <th>bgr</th>\n",
       "      <th>...</th>\n",
       "      <th>pcv</th>\n",
       "      <th>wbcc</th>\n",
       "      <th>rbcc</th>\n",
       "      <th>htn</th>\n",
       "      <th>dm</th>\n",
       "      <th>cad</th>\n",
       "      <th>appet</th>\n",
       "      <th>pe</th>\n",
       "      <th>ane</th>\n",
       "      <th>class</th>\n",
       "    </tr>\n",
       "  </thead>\n",
       "  <tbody>\n",
       "    <tr>\n",
       "      <th>0</th>\n",
       "      <td>48.0</td>\n",
       "      <td>80.0</td>\n",
       "      <td>1.020</td>\n",
       "      <td>1.0</td>\n",
       "      <td>0.0</td>\n",
       "      <td>1</td>\n",
       "      <td>1</td>\n",
       "      <td>0</td>\n",
       "      <td>0</td>\n",
       "      <td>121.000000</td>\n",
       "      <td>...</td>\n",
       "      <td>44.0</td>\n",
       "      <td>7800.0</td>\n",
       "      <td>5.200000</td>\n",
       "      <td>1</td>\n",
       "      <td>1</td>\n",
       "      <td>0</td>\n",
       "      <td>0</td>\n",
       "      <td>0</td>\n",
       "      <td>0</td>\n",
       "      <td>ckd</td>\n",
       "    </tr>\n",
       "    <tr>\n",
       "      <th>1</th>\n",
       "      <td>7.0</td>\n",
       "      <td>50.0</td>\n",
       "      <td>1.020</td>\n",
       "      <td>4.0</td>\n",
       "      <td>0.0</td>\n",
       "      <td>1</td>\n",
       "      <td>1</td>\n",
       "      <td>0</td>\n",
       "      <td>0</td>\n",
       "      <td>148.786184</td>\n",
       "      <td>...</td>\n",
       "      <td>38.0</td>\n",
       "      <td>6000.0</td>\n",
       "      <td>4.657143</td>\n",
       "      <td>0</td>\n",
       "      <td>0</td>\n",
       "      <td>0</td>\n",
       "      <td>0</td>\n",
       "      <td>0</td>\n",
       "      <td>0</td>\n",
       "      <td>ckd</td>\n",
       "    </tr>\n",
       "    <tr>\n",
       "      <th>2</th>\n",
       "      <td>62.0</td>\n",
       "      <td>80.0</td>\n",
       "      <td>1.010</td>\n",
       "      <td>2.0</td>\n",
       "      <td>3.0</td>\n",
       "      <td>1</td>\n",
       "      <td>1</td>\n",
       "      <td>0</td>\n",
       "      <td>0</td>\n",
       "      <td>423.000000</td>\n",
       "      <td>...</td>\n",
       "      <td>31.0</td>\n",
       "      <td>7500.0</td>\n",
       "      <td>4.657143</td>\n",
       "      <td>0</td>\n",
       "      <td>1</td>\n",
       "      <td>0</td>\n",
       "      <td>1</td>\n",
       "      <td>0</td>\n",
       "      <td>1</td>\n",
       "      <td>ckd</td>\n",
       "    </tr>\n",
       "    <tr>\n",
       "      <th>3</th>\n",
       "      <td>48.0</td>\n",
       "      <td>70.0</td>\n",
       "      <td>1.005</td>\n",
       "      <td>4.0</td>\n",
       "      <td>0.0</td>\n",
       "      <td>1</td>\n",
       "      <td>0</td>\n",
       "      <td>1</td>\n",
       "      <td>0</td>\n",
       "      <td>117.000000</td>\n",
       "      <td>...</td>\n",
       "      <td>32.0</td>\n",
       "      <td>6700.0</td>\n",
       "      <td>3.900000</td>\n",
       "      <td>1</td>\n",
       "      <td>0</td>\n",
       "      <td>0</td>\n",
       "      <td>1</td>\n",
       "      <td>1</td>\n",
       "      <td>1</td>\n",
       "      <td>ckd</td>\n",
       "    </tr>\n",
       "    <tr>\n",
       "      <th>4</th>\n",
       "      <td>51.0</td>\n",
       "      <td>80.0</td>\n",
       "      <td>1.010</td>\n",
       "      <td>2.0</td>\n",
       "      <td>0.0</td>\n",
       "      <td>1</td>\n",
       "      <td>1</td>\n",
       "      <td>0</td>\n",
       "      <td>0</td>\n",
       "      <td>106.000000</td>\n",
       "      <td>...</td>\n",
       "      <td>35.0</td>\n",
       "      <td>7300.0</td>\n",
       "      <td>4.600000</td>\n",
       "      <td>0</td>\n",
       "      <td>0</td>\n",
       "      <td>0</td>\n",
       "      <td>0</td>\n",
       "      <td>0</td>\n",
       "      <td>0</td>\n",
       "      <td>ckd</td>\n",
       "    </tr>\n",
       "  </tbody>\n",
       "</table>\n",
       "<p>5 rows × 25 columns</p>\n",
       "</div>"
      ],
      "text/plain": [
       "    age    bp     sg   al   su  rbc  pc  pcc  ba         bgr  ...   pcv  \\\n",
       "0  48.0  80.0  1.020  1.0  0.0    1   1    0   0  121.000000  ...  44.0   \n",
       "1   7.0  50.0  1.020  4.0  0.0    1   1    0   0  148.786184  ...  38.0   \n",
       "2  62.0  80.0  1.010  2.0  3.0    1   1    0   0  423.000000  ...  31.0   \n",
       "3  48.0  70.0  1.005  4.0  0.0    1   0    1   0  117.000000  ...  32.0   \n",
       "4  51.0  80.0  1.010  2.0  0.0    1   1    0   0  106.000000  ...  35.0   \n",
       "\n",
       "     wbcc      rbcc  htn  dm  cad  appet  pe  ane  class  \n",
       "0  7800.0  5.200000    1   1    0      0   0    0    ckd  \n",
       "1  6000.0  4.657143    0   0    0      0   0    0    ckd  \n",
       "2  7500.0  4.657143    0   1    0      1   0    1    ckd  \n",
       "3  6700.0  3.900000    1   0    0      1   1    1    ckd  \n",
       "4  7300.0  4.600000    0   0    0      0   0    0    ckd  \n",
       "\n",
       "[5 rows x 25 columns]"
      ]
     },
     "execution_count": 271,
     "metadata": {},
     "output_type": "execute_result"
    }
   ],
   "source": [
    "data.head()"
   ]
  },
  {
   "cell_type": "code",
   "execution_count": 272,
   "metadata": {},
   "outputs": [
    {
     "data": {
      "text/plain": [
       "age      0\n",
       "bp       0\n",
       "sg       0\n",
       "al       0\n",
       "su       0\n",
       "rbc      0\n",
       "pc       0\n",
       "pcc      0\n",
       "ba       0\n",
       "bgr      0\n",
       "bu       0\n",
       "sc       0\n",
       "sod      0\n",
       "pot      0\n",
       "hemo     0\n",
       "pcv      0\n",
       "wbcc     0\n",
       "rbcc     0\n",
       "htn      0\n",
       "dm       0\n",
       "cad      0\n",
       "appet    0\n",
       "pe       0\n",
       "ane      0\n",
       "class    0\n",
       "dtype: int64"
      ]
     },
     "execution_count": 272,
     "metadata": {},
     "output_type": "execute_result"
    }
   ],
   "source": [
    "data.isnull().sum() "
   ]
  },
  {
   "cell_type": "code",
   "execution_count": 273,
   "metadata": {},
   "outputs": [
    {
     "data": {
      "text/plain": [
       "array(['ckd', 'notckd'], dtype=object)"
      ]
     },
     "execution_count": 273,
     "metadata": {},
     "output_type": "execute_result"
    }
   ],
   "source": [
    "data['class'].unique()"
   ]
  },
  {
   "cell_type": "code",
   "execution_count": 274,
   "metadata": {},
   "outputs": [
    {
     "name": "stdout",
     "output_type": "stream",
     "text": [
      "['ckd' 'notckd']\n",
      "['ckd' 'notckd']\n"
     ]
    }
   ],
   "source": [
    "#standardizing the target variable\n",
    "print(data['class'].unique())\n",
    "data['class']=data['class'].replace(\"ckd\\t\",\"ckd\") \n",
    "print(data['class'].unique())\n",
    "data['class']=[1 if each==\"ckd\" else 0 for each in data['class']]"
   ]
  },
  {
   "cell_type": "code",
   "execution_count": 275,
   "metadata": {},
   "outputs": [],
   "source": [
    "#df=data.dropna(axis=0)\n",
    "#print(data.shape)\n",
    "#print(df.shape) \n",
    "#df.head()"
   ]
  },
  {
   "cell_type": "code",
   "execution_count": 276,
   "metadata": {},
   "outputs": [
    {
     "data": {
      "text/html": [
       "<div>\n",
       "<style scoped>\n",
       "    .dataframe tbody tr th:only-of-type {\n",
       "        vertical-align: middle;\n",
       "    }\n",
       "\n",
       "    .dataframe tbody tr th {\n",
       "        vertical-align: top;\n",
       "    }\n",
       "\n",
       "    .dataframe thead th {\n",
       "        text-align: right;\n",
       "    }\n",
       "</style>\n",
       "<table border=\"1\" class=\"dataframe\">\n",
       "  <thead>\n",
       "    <tr style=\"text-align: right;\">\n",
       "      <th></th>\n",
       "      <th>age</th>\n",
       "      <th>bp</th>\n",
       "      <th>sg</th>\n",
       "      <th>al</th>\n",
       "      <th>su</th>\n",
       "      <th>rbc</th>\n",
       "      <th>pc</th>\n",
       "      <th>pcc</th>\n",
       "      <th>ba</th>\n",
       "      <th>bgr</th>\n",
       "      <th>...</th>\n",
       "      <th>pcv</th>\n",
       "      <th>wbcc</th>\n",
       "      <th>rbcc</th>\n",
       "      <th>htn</th>\n",
       "      <th>dm</th>\n",
       "      <th>cad</th>\n",
       "      <th>appet</th>\n",
       "      <th>pe</th>\n",
       "      <th>ane</th>\n",
       "      <th>class</th>\n",
       "    </tr>\n",
       "  </thead>\n",
       "  <tbody>\n",
       "    <tr>\n",
       "      <th>0</th>\n",
       "      <td>48.0</td>\n",
       "      <td>80.0</td>\n",
       "      <td>1.020</td>\n",
       "      <td>1.0</td>\n",
       "      <td>0.0</td>\n",
       "      <td>1</td>\n",
       "      <td>1</td>\n",
       "      <td>0</td>\n",
       "      <td>0</td>\n",
       "      <td>121.000000</td>\n",
       "      <td>...</td>\n",
       "      <td>44.0</td>\n",
       "      <td>7800.0</td>\n",
       "      <td>5.200000</td>\n",
       "      <td>1</td>\n",
       "      <td>1</td>\n",
       "      <td>0</td>\n",
       "      <td>0</td>\n",
       "      <td>0</td>\n",
       "      <td>0</td>\n",
       "      <td>1</td>\n",
       "    </tr>\n",
       "    <tr>\n",
       "      <th>1</th>\n",
       "      <td>7.0</td>\n",
       "      <td>50.0</td>\n",
       "      <td>1.020</td>\n",
       "      <td>4.0</td>\n",
       "      <td>0.0</td>\n",
       "      <td>1</td>\n",
       "      <td>1</td>\n",
       "      <td>0</td>\n",
       "      <td>0</td>\n",
       "      <td>148.786184</td>\n",
       "      <td>...</td>\n",
       "      <td>38.0</td>\n",
       "      <td>6000.0</td>\n",
       "      <td>4.657143</td>\n",
       "      <td>0</td>\n",
       "      <td>0</td>\n",
       "      <td>0</td>\n",
       "      <td>0</td>\n",
       "      <td>0</td>\n",
       "      <td>0</td>\n",
       "      <td>1</td>\n",
       "    </tr>\n",
       "    <tr>\n",
       "      <th>2</th>\n",
       "      <td>62.0</td>\n",
       "      <td>80.0</td>\n",
       "      <td>1.010</td>\n",
       "      <td>2.0</td>\n",
       "      <td>3.0</td>\n",
       "      <td>1</td>\n",
       "      <td>1</td>\n",
       "      <td>0</td>\n",
       "      <td>0</td>\n",
       "      <td>423.000000</td>\n",
       "      <td>...</td>\n",
       "      <td>31.0</td>\n",
       "      <td>7500.0</td>\n",
       "      <td>4.657143</td>\n",
       "      <td>0</td>\n",
       "      <td>1</td>\n",
       "      <td>0</td>\n",
       "      <td>1</td>\n",
       "      <td>0</td>\n",
       "      <td>1</td>\n",
       "      <td>1</td>\n",
       "    </tr>\n",
       "    <tr>\n",
       "      <th>3</th>\n",
       "      <td>48.0</td>\n",
       "      <td>70.0</td>\n",
       "      <td>1.005</td>\n",
       "      <td>4.0</td>\n",
       "      <td>0.0</td>\n",
       "      <td>1</td>\n",
       "      <td>0</td>\n",
       "      <td>1</td>\n",
       "      <td>0</td>\n",
       "      <td>117.000000</td>\n",
       "      <td>...</td>\n",
       "      <td>32.0</td>\n",
       "      <td>6700.0</td>\n",
       "      <td>3.900000</td>\n",
       "      <td>1</td>\n",
       "      <td>0</td>\n",
       "      <td>0</td>\n",
       "      <td>1</td>\n",
       "      <td>1</td>\n",
       "      <td>1</td>\n",
       "      <td>1</td>\n",
       "    </tr>\n",
       "    <tr>\n",
       "      <th>4</th>\n",
       "      <td>51.0</td>\n",
       "      <td>80.0</td>\n",
       "      <td>1.010</td>\n",
       "      <td>2.0</td>\n",
       "      <td>0.0</td>\n",
       "      <td>1</td>\n",
       "      <td>1</td>\n",
       "      <td>0</td>\n",
       "      <td>0</td>\n",
       "      <td>106.000000</td>\n",
       "      <td>...</td>\n",
       "      <td>35.0</td>\n",
       "      <td>7300.0</td>\n",
       "      <td>4.600000</td>\n",
       "      <td>0</td>\n",
       "      <td>0</td>\n",
       "      <td>0</td>\n",
       "      <td>0</td>\n",
       "      <td>0</td>\n",
       "      <td>0</td>\n",
       "      <td>1</td>\n",
       "    </tr>\n",
       "  </tbody>\n",
       "</table>\n",
       "<p>5 rows × 25 columns</p>\n",
       "</div>"
      ],
      "text/plain": [
       "    age    bp     sg   al   su  rbc  pc  pcc  ba         bgr  ...   pcv  \\\n",
       "0  48.0  80.0  1.020  1.0  0.0    1   1    0   0  121.000000  ...  44.0   \n",
       "1   7.0  50.0  1.020  4.0  0.0    1   1    0   0  148.786184  ...  38.0   \n",
       "2  62.0  80.0  1.010  2.0  3.0    1   1    0   0  423.000000  ...  31.0   \n",
       "3  48.0  70.0  1.005  4.0  0.0    1   0    1   0  117.000000  ...  32.0   \n",
       "4  51.0  80.0  1.010  2.0  0.0    1   1    0   0  106.000000  ...  35.0   \n",
       "\n",
       "     wbcc      rbcc  htn  dm  cad  appet  pe  ane  class  \n",
       "0  7800.0  5.200000    1   1    0      0   0    0      1  \n",
       "1  6000.0  4.657143    0   0    0      0   0    0      1  \n",
       "2  7500.0  4.657143    0   1    0      1   0    1      1  \n",
       "3  6700.0  3.900000    1   0    0      1   1    1      1  \n",
       "4  7300.0  4.600000    0   0    0      0   0    0      1  \n",
       "\n",
       "[5 rows x 25 columns]"
      ]
     },
     "execution_count": 276,
     "metadata": {},
     "output_type": "execute_result"
    }
   ],
   "source": [
    "data.head()"
   ]
  },
  {
   "cell_type": "code",
   "execution_count": 277,
   "metadata": {},
   "outputs": [
    {
     "name": "stdout",
     "output_type": "stream",
     "text": [
      "<class 'pandas.core.frame.DataFrame'>\n",
      "RangeIndex: 344 entries, 0 to 343\n",
      "Data columns (total 25 columns):\n",
      "age      344 non-null float64\n",
      "bp       344 non-null float64\n",
      "sg       344 non-null float64\n",
      "al       344 non-null float64\n",
      "su       344 non-null float64\n",
      "rbc      344 non-null int8\n",
      "pc       344 non-null int8\n",
      "pcc      344 non-null int8\n",
      "ba       344 non-null int8\n",
      "bgr      344 non-null float64\n",
      "bu       344 non-null float64\n",
      "sc       344 non-null float64\n",
      "sod      344 non-null float64\n",
      "pot      344 non-null float64\n",
      "hemo     344 non-null float64\n",
      "pcv      344 non-null float64\n",
      "wbcc     344 non-null float64\n",
      "rbcc     344 non-null float64\n",
      "htn      344 non-null int8\n",
      "dm       344 non-null int8\n",
      "cad      344 non-null int8\n",
      "appet    344 non-null int8\n",
      "pe       344 non-null int8\n",
      "ane      344 non-null int8\n",
      "class    344 non-null int64\n",
      "dtypes: float64(14), int64(1), int8(10)\n",
      "memory usage: 43.8 KB\n"
     ]
    }
   ],
   "source": [
    "data.info()"
   ]
  },
  {
   "cell_type": "markdown",
   "metadata": {},
   "source": [
    "<b>Correlation</b>: Understanding the correlation between different attibutes"
   ]
  },
  {
   "cell_type": "code",
   "execution_count": 278,
   "metadata": {},
   "outputs": [
    {
     "data": {
      "text/html": [
       "<div>\n",
       "<style scoped>\n",
       "    .dataframe tbody tr th:only-of-type {\n",
       "        vertical-align: middle;\n",
       "    }\n",
       "\n",
       "    .dataframe tbody tr th {\n",
       "        vertical-align: top;\n",
       "    }\n",
       "\n",
       "    .dataframe thead th {\n",
       "        text-align: right;\n",
       "    }\n",
       "</style>\n",
       "<table border=\"1\" class=\"dataframe\">\n",
       "  <thead>\n",
       "    <tr style=\"text-align: right;\">\n",
       "      <th></th>\n",
       "      <th>age</th>\n",
       "      <th>bp</th>\n",
       "      <th>sg</th>\n",
       "      <th>al</th>\n",
       "      <th>su</th>\n",
       "      <th>rbc</th>\n",
       "      <th>pc</th>\n",
       "      <th>pcc</th>\n",
       "      <th>ba</th>\n",
       "      <th>bgr</th>\n",
       "      <th>...</th>\n",
       "      <th>pcv</th>\n",
       "      <th>wbcc</th>\n",
       "      <th>rbcc</th>\n",
       "      <th>htn</th>\n",
       "      <th>dm</th>\n",
       "      <th>cad</th>\n",
       "      <th>appet</th>\n",
       "      <th>pe</th>\n",
       "      <th>ane</th>\n",
       "      <th>class</th>\n",
       "    </tr>\n",
       "  </thead>\n",
       "  <tbody>\n",
       "    <tr>\n",
       "      <th>age</th>\n",
       "      <td>1.000000</td>\n",
       "      <td>0.154086</td>\n",
       "      <td>-0.188531</td>\n",
       "      <td>0.130136</td>\n",
       "      <td>0.245465</td>\n",
       "      <td>-0.015367</td>\n",
       "      <td>-0.103284</td>\n",
       "      <td>0.155855</td>\n",
       "      <td>0.040492</td>\n",
       "      <td>0.244380</td>\n",
       "      <td>...</td>\n",
       "      <td>-0.245030</td>\n",
       "      <td>0.109773</td>\n",
       "      <td>-0.223513</td>\n",
       "      <td>0.430905</td>\n",
       "      <td>0.401998</td>\n",
       "      <td>0.242084</td>\n",
       "      <td>0.175115</td>\n",
       "      <td>0.099471</td>\n",
       "      <td>0.088544</td>\n",
       "      <td>0.276396</td>\n",
       "    </tr>\n",
       "    <tr>\n",
       "      <th>bp</th>\n",
       "      <td>0.154086</td>\n",
       "      <td>1.000000</td>\n",
       "      <td>-0.154239</td>\n",
       "      <td>0.113630</td>\n",
       "      <td>0.200710</td>\n",
       "      <td>-0.132941</td>\n",
       "      <td>-0.130108</td>\n",
       "      <td>0.030790</td>\n",
       "      <td>0.108773</td>\n",
       "      <td>0.119091</td>\n",
       "      <td>...</td>\n",
       "      <td>-0.284122</td>\n",
       "      <td>0.039519</td>\n",
       "      <td>-0.237115</td>\n",
       "      <td>0.244286</td>\n",
       "      <td>0.227973</td>\n",
       "      <td>0.065142</td>\n",
       "      <td>0.185092</td>\n",
       "      <td>0.043654</td>\n",
       "      <td>0.197835</td>\n",
       "      <td>0.282456</td>\n",
       "    </tr>\n",
       "    <tr>\n",
       "      <th>sg</th>\n",
       "      <td>-0.188531</td>\n",
       "      <td>-0.154239</td>\n",
       "      <td>1.000000</td>\n",
       "      <td>-0.430138</td>\n",
       "      <td>-0.288222</td>\n",
       "      <td>0.225660</td>\n",
       "      <td>0.315642</td>\n",
       "      <td>-0.272142</td>\n",
       "      <td>-0.192786</td>\n",
       "      <td>-0.312566</td>\n",
       "      <td>...</td>\n",
       "      <td>0.509102</td>\n",
       "      <td>-0.195014</td>\n",
       "      <td>0.434025</td>\n",
       "      <td>-0.314618</td>\n",
       "      <td>-0.332822</td>\n",
       "      <td>-0.120800</td>\n",
       "      <td>-0.226310</td>\n",
       "      <td>-0.248265</td>\n",
       "      <td>-0.219114</td>\n",
       "      <td>-0.672683</td>\n",
       "    </tr>\n",
       "    <tr>\n",
       "      <th>al</th>\n",
       "      <td>0.130136</td>\n",
       "      <td>0.113630</td>\n",
       "      <td>-0.430138</td>\n",
       "      <td>1.000000</td>\n",
       "      <td>0.275183</td>\n",
       "      <td>-0.342950</td>\n",
       "      <td>-0.518039</td>\n",
       "      <td>0.396092</td>\n",
       "      <td>0.356177</td>\n",
       "      <td>0.319902</td>\n",
       "      <td>...</td>\n",
       "      <td>-0.529549</td>\n",
       "      <td>0.209972</td>\n",
       "      <td>-0.447408</td>\n",
       "      <td>0.479153</td>\n",
       "      <td>0.374722</td>\n",
       "      <td>0.222618</td>\n",
       "      <td>0.338438</td>\n",
       "      <td>0.441642</td>\n",
       "      <td>0.286069</td>\n",
       "      <td>0.587835</td>\n",
       "    </tr>\n",
       "    <tr>\n",
       "      <th>su</th>\n",
       "      <td>0.245465</td>\n",
       "      <td>0.200710</td>\n",
       "      <td>-0.288222</td>\n",
       "      <td>0.275183</td>\n",
       "      <td>1.000000</td>\n",
       "      <td>-0.070084</td>\n",
       "      <td>-0.170962</td>\n",
       "      <td>0.134164</td>\n",
       "      <td>0.110294</td>\n",
       "      <td>0.648651</td>\n",
       "      <td>...</td>\n",
       "      <td>-0.232605</td>\n",
       "      <td>0.165462</td>\n",
       "      <td>-0.208533</td>\n",
       "      <td>0.301194</td>\n",
       "      <td>0.485698</td>\n",
       "      <td>0.242791</td>\n",
       "      <td>0.080177</td>\n",
       "      <td>0.142149</td>\n",
       "      <td>0.080737</td>\n",
       "      <td>0.319294</td>\n",
       "    </tr>\n",
       "    <tr>\n",
       "      <th>rbc</th>\n",
       "      <td>-0.015367</td>\n",
       "      <td>-0.132941</td>\n",
       "      <td>0.225660</td>\n",
       "      <td>-0.342950</td>\n",
       "      <td>-0.070084</td>\n",
       "      <td>1.000000</td>\n",
       "      <td>0.349991</td>\n",
       "      <td>-0.095187</td>\n",
       "      <td>-0.181920</td>\n",
       "      <td>-0.153875</td>\n",
       "      <td>...</td>\n",
       "      <td>0.270734</td>\n",
       "      <td>-0.007571</td>\n",
       "      <td>0.195832</td>\n",
       "      <td>-0.135422</td>\n",
       "      <td>-0.158124</td>\n",
       "      <td>-0.105024</td>\n",
       "      <td>-0.172117</td>\n",
       "      <td>-0.201634</td>\n",
       "      <td>-0.100121</td>\n",
       "      <td>-0.276455</td>\n",
       "    </tr>\n",
       "    <tr>\n",
       "      <th>pc</th>\n",
       "      <td>-0.103284</td>\n",
       "      <td>-0.130108</td>\n",
       "      <td>0.315642</td>\n",
       "      <td>-0.518039</td>\n",
       "      <td>-0.170962</td>\n",
       "      <td>0.349991</td>\n",
       "      <td>1.000000</td>\n",
       "      <td>-0.500381</td>\n",
       "      <td>-0.327347</td>\n",
       "      <td>-0.285588</td>\n",
       "      <td>...</td>\n",
       "      <td>0.391802</td>\n",
       "      <td>-0.159808</td>\n",
       "      <td>0.365453</td>\n",
       "      <td>-0.267260</td>\n",
       "      <td>-0.191463</td>\n",
       "      <td>-0.157035</td>\n",
       "      <td>-0.273077</td>\n",
       "      <td>-0.351353</td>\n",
       "      <td>-0.255662</td>\n",
       "      <td>-0.367962</td>\n",
       "    </tr>\n",
       "    <tr>\n",
       "      <th>pcc</th>\n",
       "      <td>0.155855</td>\n",
       "      <td>0.030790</td>\n",
       "      <td>-0.272142</td>\n",
       "      <td>0.396092</td>\n",
       "      <td>0.134164</td>\n",
       "      <td>-0.095187</td>\n",
       "      <td>-0.500381</td>\n",
       "      <td>1.000000</td>\n",
       "      <td>0.280162</td>\n",
       "      <td>0.192089</td>\n",
       "      <td>...</td>\n",
       "      <td>-0.294808</td>\n",
       "      <td>0.198144</td>\n",
       "      <td>-0.271959</td>\n",
       "      <td>0.169993</td>\n",
       "      <td>0.133637</td>\n",
       "      <td>0.154024</td>\n",
       "      <td>0.176614</td>\n",
       "      <td>0.110909</td>\n",
       "      <td>0.196285</td>\n",
       "      <td>0.261237</td>\n",
       "    </tr>\n",
       "    <tr>\n",
       "      <th>ba</th>\n",
       "      <td>0.040492</td>\n",
       "      <td>0.108773</td>\n",
       "      <td>-0.192786</td>\n",
       "      <td>0.356177</td>\n",
       "      <td>0.110294</td>\n",
       "      <td>-0.181920</td>\n",
       "      <td>-0.327347</td>\n",
       "      <td>0.280162</td>\n",
       "      <td>1.000000</td>\n",
       "      <td>0.065880</td>\n",
       "      <td>...</td>\n",
       "      <td>-0.199755</td>\n",
       "      <td>0.129763</td>\n",
       "      <td>-0.181752</td>\n",
       "      <td>0.077145</td>\n",
       "      <td>0.064939</td>\n",
       "      <td>0.105680</td>\n",
       "      <td>0.183120</td>\n",
       "      <td>0.140734</td>\n",
       "      <td>0.065735</td>\n",
       "      <td>0.179241</td>\n",
       "    </tr>\n",
       "    <tr>\n",
       "      <th>bgr</th>\n",
       "      <td>0.244380</td>\n",
       "      <td>0.119091</td>\n",
       "      <td>-0.312566</td>\n",
       "      <td>0.319902</td>\n",
       "      <td>0.648651</td>\n",
       "      <td>-0.153875</td>\n",
       "      <td>-0.285588</td>\n",
       "      <td>0.192089</td>\n",
       "      <td>0.065880</td>\n",
       "      <td>1.000000</td>\n",
       "      <td>...</td>\n",
       "      <td>-0.269525</td>\n",
       "      <td>0.119359</td>\n",
       "      <td>-0.215148</td>\n",
       "      <td>0.370361</td>\n",
       "      <td>0.489738</td>\n",
       "      <td>0.190225</td>\n",
       "      <td>0.191591</td>\n",
       "      <td>0.135593</td>\n",
       "      <td>0.154592</td>\n",
       "      <td>0.380454</td>\n",
       "    </tr>\n",
       "    <tr>\n",
       "      <th>bu</th>\n",
       "      <td>0.198331</td>\n",
       "      <td>0.190133</td>\n",
       "      <td>-0.262599</td>\n",
       "      <td>0.397229</td>\n",
       "      <td>0.177224</td>\n",
       "      <td>-0.217585</td>\n",
       "      <td>-0.316586</td>\n",
       "      <td>0.186372</td>\n",
       "      <td>0.148487</td>\n",
       "      <td>0.143073</td>\n",
       "      <td>...</td>\n",
       "      <td>-0.514988</td>\n",
       "      <td>0.056132</td>\n",
       "      <td>-0.448153</td>\n",
       "      <td>0.384780</td>\n",
       "      <td>0.328406</td>\n",
       "      <td>0.235805</td>\n",
       "      <td>0.269786</td>\n",
       "      <td>0.329297</td>\n",
       "      <td>0.441247</td>\n",
       "      <td>0.369358</td>\n",
       "    </tr>\n",
       "    <tr>\n",
       "      <th>sc</th>\n",
       "      <td>0.141354</td>\n",
       "      <td>0.142454</td>\n",
       "      <td>-0.196804</td>\n",
       "      <td>0.209198</td>\n",
       "      <td>0.138460</td>\n",
       "      <td>-0.118100</td>\n",
       "      <td>-0.124626</td>\n",
       "      <td>0.041186</td>\n",
       "      <td>0.035312</td>\n",
       "      <td>0.083646</td>\n",
       "      <td>...</td>\n",
       "      <td>-0.324634</td>\n",
       "      <td>0.003553</td>\n",
       "      <td>-0.304825</td>\n",
       "      <td>0.267083</td>\n",
       "      <td>0.210704</td>\n",
       "      <td>0.194087</td>\n",
       "      <td>0.148997</td>\n",
       "      <td>0.162069</td>\n",
       "      <td>0.222280</td>\n",
       "      <td>0.283957</td>\n",
       "    </tr>\n",
       "    <tr>\n",
       "      <th>sod</th>\n",
       "      <td>-0.113698</td>\n",
       "      <td>-0.088354</td>\n",
       "      <td>0.235257</td>\n",
       "      <td>-0.258150</td>\n",
       "      <td>-0.070266</td>\n",
       "      <td>0.126986</td>\n",
       "      <td>0.157430</td>\n",
       "      <td>-0.142578</td>\n",
       "      <td>-0.076041</td>\n",
       "      <td>-0.149435</td>\n",
       "      <td>...</td>\n",
       "      <td>0.336011</td>\n",
       "      <td>-0.000650</td>\n",
       "      <td>0.313225</td>\n",
       "      <td>-0.296764</td>\n",
       "      <td>-0.256593</td>\n",
       "      <td>-0.231844</td>\n",
       "      <td>-0.159875</td>\n",
       "      <td>-0.137665</td>\n",
       "      <td>-0.187225</td>\n",
       "      <td>-0.324326</td>\n",
       "    </tr>\n",
       "    <tr>\n",
       "      <th>pot</th>\n",
       "      <td>0.055875</td>\n",
       "      <td>0.074193</td>\n",
       "      <td>-0.059472</td>\n",
       "      <td>0.114660</td>\n",
       "      <td>0.194034</td>\n",
       "      <td>0.019324</td>\n",
       "      <td>-0.158234</td>\n",
       "      <td>-0.005006</td>\n",
       "      <td>-0.004737</td>\n",
       "      <td>0.064751</td>\n",
       "      <td>...</td>\n",
       "      <td>-0.123139</td>\n",
       "      <td>-0.073287</td>\n",
       "      <td>-0.115351</td>\n",
       "      <td>0.057864</td>\n",
       "      <td>0.060789</td>\n",
       "      <td>0.011279</td>\n",
       "      <td>-0.027775</td>\n",
       "      <td>0.055069</td>\n",
       "      <td>0.098562</td>\n",
       "      <td>0.077935</td>\n",
       "    </tr>\n",
       "    <tr>\n",
       "      <th>hemo</th>\n",
       "      <td>-0.211524</td>\n",
       "      <td>-0.272213</td>\n",
       "      <td>0.504748</td>\n",
       "      <td>-0.543315</td>\n",
       "      <td>-0.212500</td>\n",
       "      <td>0.266031</td>\n",
       "      <td>0.380040</td>\n",
       "      <td>-0.269908</td>\n",
       "      <td>-0.212656</td>\n",
       "      <td>-0.265543</td>\n",
       "      <td>...</td>\n",
       "      <td>0.853832</td>\n",
       "      <td>-0.177740</td>\n",
       "      <td>0.671940</td>\n",
       "      <td>-0.572996</td>\n",
       "      <td>-0.475316</td>\n",
       "      <td>-0.287645</td>\n",
       "      <td>-0.397017</td>\n",
       "      <td>-0.368035</td>\n",
       "      <td>-0.562752</td>\n",
       "      <td>-0.726352</td>\n",
       "    </tr>\n",
       "    <tr>\n",
       "      <th>pcv</th>\n",
       "      <td>-0.245030</td>\n",
       "      <td>-0.284122</td>\n",
       "      <td>0.509102</td>\n",
       "      <td>-0.529549</td>\n",
       "      <td>-0.232605</td>\n",
       "      <td>0.270734</td>\n",
       "      <td>0.391802</td>\n",
       "      <td>-0.294808</td>\n",
       "      <td>-0.199755</td>\n",
       "      <td>-0.269525</td>\n",
       "      <td>...</td>\n",
       "      <td>1.000000</td>\n",
       "      <td>-0.210717</td>\n",
       "      <td>0.709902</td>\n",
       "      <td>-0.552720</td>\n",
       "      <td>-0.464508</td>\n",
       "      <td>-0.306365</td>\n",
       "      <td>-0.400421</td>\n",
       "      <td>-0.389077</td>\n",
       "      <td>-0.524845</td>\n",
       "      <td>-0.689725</td>\n",
       "    </tr>\n",
       "    <tr>\n",
       "      <th>wbcc</th>\n",
       "      <td>0.109773</td>\n",
       "      <td>0.039519</td>\n",
       "      <td>-0.195014</td>\n",
       "      <td>0.209972</td>\n",
       "      <td>0.165462</td>\n",
       "      <td>-0.007571</td>\n",
       "      <td>-0.159808</td>\n",
       "      <td>0.198144</td>\n",
       "      <td>0.129763</td>\n",
       "      <td>0.119359</td>\n",
       "      <td>...</td>\n",
       "      <td>-0.210717</td>\n",
       "      <td>1.000000</td>\n",
       "      <td>-0.159053</td>\n",
       "      <td>0.128405</td>\n",
       "      <td>0.148133</td>\n",
       "      <td>0.013473</td>\n",
       "      <td>0.169791</td>\n",
       "      <td>0.164301</td>\n",
       "      <td>0.050266</td>\n",
       "      <td>0.207861</td>\n",
       "    </tr>\n",
       "    <tr>\n",
       "      <th>rbcc</th>\n",
       "      <td>-0.223513</td>\n",
       "      <td>-0.237115</td>\n",
       "      <td>0.434025</td>\n",
       "      <td>-0.447408</td>\n",
       "      <td>-0.208533</td>\n",
       "      <td>0.195832</td>\n",
       "      <td>0.365453</td>\n",
       "      <td>-0.271959</td>\n",
       "      <td>-0.181752</td>\n",
       "      <td>-0.215148</td>\n",
       "      <td>...</td>\n",
       "      <td>0.709902</td>\n",
       "      <td>-0.159053</td>\n",
       "      <td>1.000000</td>\n",
       "      <td>-0.517032</td>\n",
       "      <td>-0.425520</td>\n",
       "      <td>-0.293951</td>\n",
       "      <td>-0.413351</td>\n",
       "      <td>-0.346735</td>\n",
       "      <td>-0.413179</td>\n",
       "      <td>-0.595181</td>\n",
       "    </tr>\n",
       "    <tr>\n",
       "      <th>htn</th>\n",
       "      <td>0.430905</td>\n",
       "      <td>0.244286</td>\n",
       "      <td>-0.314618</td>\n",
       "      <td>0.479153</td>\n",
       "      <td>0.301194</td>\n",
       "      <td>-0.135422</td>\n",
       "      <td>-0.267260</td>\n",
       "      <td>0.169993</td>\n",
       "      <td>0.077145</td>\n",
       "      <td>0.370361</td>\n",
       "      <td>...</td>\n",
       "      <td>-0.552720</td>\n",
       "      <td>0.128405</td>\n",
       "      <td>-0.517032</td>\n",
       "      <td>1.000000</td>\n",
       "      <td>0.628639</td>\n",
       "      <td>0.337582</td>\n",
       "      <td>0.358077</td>\n",
       "      <td>0.358034</td>\n",
       "      <td>0.361045</td>\n",
       "      <td>0.570665</td>\n",
       "    </tr>\n",
       "    <tr>\n",
       "      <th>dm</th>\n",
       "      <td>0.401998</td>\n",
       "      <td>0.227973</td>\n",
       "      <td>-0.332822</td>\n",
       "      <td>0.374722</td>\n",
       "      <td>0.485698</td>\n",
       "      <td>-0.158124</td>\n",
       "      <td>-0.191463</td>\n",
       "      <td>0.133637</td>\n",
       "      <td>0.064939</td>\n",
       "      <td>0.489738</td>\n",
       "      <td>...</td>\n",
       "      <td>-0.464508</td>\n",
       "      <td>0.148133</td>\n",
       "      <td>-0.425520</td>\n",
       "      <td>0.628639</td>\n",
       "      <td>1.000000</td>\n",
       "      <td>0.273401</td>\n",
       "      <td>0.333170</td>\n",
       "      <td>0.328543</td>\n",
       "      <td>0.225597</td>\n",
       "      <td>0.539120</td>\n",
       "    </tr>\n",
       "    <tr>\n",
       "      <th>cad</th>\n",
       "      <td>0.242084</td>\n",
       "      <td>0.065142</td>\n",
       "      <td>-0.120800</td>\n",
       "      <td>0.222618</td>\n",
       "      <td>0.242791</td>\n",
       "      <td>-0.105024</td>\n",
       "      <td>-0.157035</td>\n",
       "      <td>0.154024</td>\n",
       "      <td>0.105680</td>\n",
       "      <td>0.190225</td>\n",
       "      <td>...</td>\n",
       "      <td>-0.306365</td>\n",
       "      <td>0.013473</td>\n",
       "      <td>-0.293951</td>\n",
       "      <td>0.337582</td>\n",
       "      <td>0.273401</td>\n",
       "      <td>1.000000</td>\n",
       "      <td>0.139077</td>\n",
       "      <td>0.215718</td>\n",
       "      <td>0.059063</td>\n",
       "      <td>0.229139</td>\n",
       "    </tr>\n",
       "    <tr>\n",
       "      <th>appet</th>\n",
       "      <td>0.175115</td>\n",
       "      <td>0.185092</td>\n",
       "      <td>-0.226310</td>\n",
       "      <td>0.338438</td>\n",
       "      <td>0.080177</td>\n",
       "      <td>-0.172117</td>\n",
       "      <td>-0.273077</td>\n",
       "      <td>0.176614</td>\n",
       "      <td>0.183120</td>\n",
       "      <td>0.191591</td>\n",
       "      <td>...</td>\n",
       "      <td>-0.400421</td>\n",
       "      <td>0.169791</td>\n",
       "      <td>-0.413351</td>\n",
       "      <td>0.358077</td>\n",
       "      <td>0.333170</td>\n",
       "      <td>0.139077</td>\n",
       "      <td>1.000000</td>\n",
       "      <td>0.427647</td>\n",
       "      <td>0.267395</td>\n",
       "      <td>0.388094</td>\n",
       "    </tr>\n",
       "    <tr>\n",
       "      <th>pe</th>\n",
       "      <td>0.099471</td>\n",
       "      <td>0.043654</td>\n",
       "      <td>-0.248265</td>\n",
       "      <td>0.441642</td>\n",
       "      <td>0.142149</td>\n",
       "      <td>-0.201634</td>\n",
       "      <td>-0.351353</td>\n",
       "      <td>0.110909</td>\n",
       "      <td>0.140734</td>\n",
       "      <td>0.135593</td>\n",
       "      <td>...</td>\n",
       "      <td>-0.389077</td>\n",
       "      <td>0.164301</td>\n",
       "      <td>-0.346735</td>\n",
       "      <td>0.358034</td>\n",
       "      <td>0.328543</td>\n",
       "      <td>0.215718</td>\n",
       "      <td>0.427647</td>\n",
       "      <td>1.000000</td>\n",
       "      <td>0.185092</td>\n",
       "      <td>0.361204</td>\n",
       "    </tr>\n",
       "    <tr>\n",
       "      <th>ane</th>\n",
       "      <td>0.088544</td>\n",
       "      <td>0.197835</td>\n",
       "      <td>-0.219114</td>\n",
       "      <td>0.286069</td>\n",
       "      <td>0.080737</td>\n",
       "      <td>-0.100121</td>\n",
       "      <td>-0.255662</td>\n",
       "      <td>0.196285</td>\n",
       "      <td>0.065735</td>\n",
       "      <td>0.154592</td>\n",
       "      <td>...</td>\n",
       "      <td>-0.524845</td>\n",
       "      <td>0.050266</td>\n",
       "      <td>-0.413179</td>\n",
       "      <td>0.361045</td>\n",
       "      <td>0.225597</td>\n",
       "      <td>0.059063</td>\n",
       "      <td>0.267395</td>\n",
       "      <td>0.185092</td>\n",
       "      <td>1.000000</td>\n",
       "      <td>0.326890</td>\n",
       "    </tr>\n",
       "    <tr>\n",
       "      <th>class</th>\n",
       "      <td>0.276396</td>\n",
       "      <td>0.282456</td>\n",
       "      <td>-0.672683</td>\n",
       "      <td>0.587835</td>\n",
       "      <td>0.319294</td>\n",
       "      <td>-0.276455</td>\n",
       "      <td>-0.367962</td>\n",
       "      <td>0.261237</td>\n",
       "      <td>0.179241</td>\n",
       "      <td>0.380454</td>\n",
       "      <td>...</td>\n",
       "      <td>-0.689725</td>\n",
       "      <td>0.207861</td>\n",
       "      <td>-0.595181</td>\n",
       "      <td>0.570665</td>\n",
       "      <td>0.539120</td>\n",
       "      <td>0.229139</td>\n",
       "      <td>0.388094</td>\n",
       "      <td>0.361204</td>\n",
       "      <td>0.326890</td>\n",
       "      <td>1.000000</td>\n",
       "    </tr>\n",
       "  </tbody>\n",
       "</table>\n",
       "<p>25 rows × 25 columns</p>\n",
       "</div>"
      ],
      "text/plain": [
       "            age        bp        sg        al        su       rbc        pc  \\\n",
       "age    1.000000  0.154086 -0.188531  0.130136  0.245465 -0.015367 -0.103284   \n",
       "bp     0.154086  1.000000 -0.154239  0.113630  0.200710 -0.132941 -0.130108   \n",
       "sg    -0.188531 -0.154239  1.000000 -0.430138 -0.288222  0.225660  0.315642   \n",
       "al     0.130136  0.113630 -0.430138  1.000000  0.275183 -0.342950 -0.518039   \n",
       "su     0.245465  0.200710 -0.288222  0.275183  1.000000 -0.070084 -0.170962   \n",
       "rbc   -0.015367 -0.132941  0.225660 -0.342950 -0.070084  1.000000  0.349991   \n",
       "pc    -0.103284 -0.130108  0.315642 -0.518039 -0.170962  0.349991  1.000000   \n",
       "pcc    0.155855  0.030790 -0.272142  0.396092  0.134164 -0.095187 -0.500381   \n",
       "ba     0.040492  0.108773 -0.192786  0.356177  0.110294 -0.181920 -0.327347   \n",
       "bgr    0.244380  0.119091 -0.312566  0.319902  0.648651 -0.153875 -0.285588   \n",
       "bu     0.198331  0.190133 -0.262599  0.397229  0.177224 -0.217585 -0.316586   \n",
       "sc     0.141354  0.142454 -0.196804  0.209198  0.138460 -0.118100 -0.124626   \n",
       "sod   -0.113698 -0.088354  0.235257 -0.258150 -0.070266  0.126986  0.157430   \n",
       "pot    0.055875  0.074193 -0.059472  0.114660  0.194034  0.019324 -0.158234   \n",
       "hemo  -0.211524 -0.272213  0.504748 -0.543315 -0.212500  0.266031  0.380040   \n",
       "pcv   -0.245030 -0.284122  0.509102 -0.529549 -0.232605  0.270734  0.391802   \n",
       "wbcc   0.109773  0.039519 -0.195014  0.209972  0.165462 -0.007571 -0.159808   \n",
       "rbcc  -0.223513 -0.237115  0.434025 -0.447408 -0.208533  0.195832  0.365453   \n",
       "htn    0.430905  0.244286 -0.314618  0.479153  0.301194 -0.135422 -0.267260   \n",
       "dm     0.401998  0.227973 -0.332822  0.374722  0.485698 -0.158124 -0.191463   \n",
       "cad    0.242084  0.065142 -0.120800  0.222618  0.242791 -0.105024 -0.157035   \n",
       "appet  0.175115  0.185092 -0.226310  0.338438  0.080177 -0.172117 -0.273077   \n",
       "pe     0.099471  0.043654 -0.248265  0.441642  0.142149 -0.201634 -0.351353   \n",
       "ane    0.088544  0.197835 -0.219114  0.286069  0.080737 -0.100121 -0.255662   \n",
       "class  0.276396  0.282456 -0.672683  0.587835  0.319294 -0.276455 -0.367962   \n",
       "\n",
       "            pcc        ba       bgr  ...       pcv      wbcc      rbcc  \\\n",
       "age    0.155855  0.040492  0.244380  ... -0.245030  0.109773 -0.223513   \n",
       "bp     0.030790  0.108773  0.119091  ... -0.284122  0.039519 -0.237115   \n",
       "sg    -0.272142 -0.192786 -0.312566  ...  0.509102 -0.195014  0.434025   \n",
       "al     0.396092  0.356177  0.319902  ... -0.529549  0.209972 -0.447408   \n",
       "su     0.134164  0.110294  0.648651  ... -0.232605  0.165462 -0.208533   \n",
       "rbc   -0.095187 -0.181920 -0.153875  ...  0.270734 -0.007571  0.195832   \n",
       "pc    -0.500381 -0.327347 -0.285588  ...  0.391802 -0.159808  0.365453   \n",
       "pcc    1.000000  0.280162  0.192089  ... -0.294808  0.198144 -0.271959   \n",
       "ba     0.280162  1.000000  0.065880  ... -0.199755  0.129763 -0.181752   \n",
       "bgr    0.192089  0.065880  1.000000  ... -0.269525  0.119359 -0.215148   \n",
       "bu     0.186372  0.148487  0.143073  ... -0.514988  0.056132 -0.448153   \n",
       "sc     0.041186  0.035312  0.083646  ... -0.324634  0.003553 -0.304825   \n",
       "sod   -0.142578 -0.076041 -0.149435  ...  0.336011 -0.000650  0.313225   \n",
       "pot   -0.005006 -0.004737  0.064751  ... -0.123139 -0.073287 -0.115351   \n",
       "hemo  -0.269908 -0.212656 -0.265543  ...  0.853832 -0.177740  0.671940   \n",
       "pcv   -0.294808 -0.199755 -0.269525  ...  1.000000 -0.210717  0.709902   \n",
       "wbcc   0.198144  0.129763  0.119359  ... -0.210717  1.000000 -0.159053   \n",
       "rbcc  -0.271959 -0.181752 -0.215148  ...  0.709902 -0.159053  1.000000   \n",
       "htn    0.169993  0.077145  0.370361  ... -0.552720  0.128405 -0.517032   \n",
       "dm     0.133637  0.064939  0.489738  ... -0.464508  0.148133 -0.425520   \n",
       "cad    0.154024  0.105680  0.190225  ... -0.306365  0.013473 -0.293951   \n",
       "appet  0.176614  0.183120  0.191591  ... -0.400421  0.169791 -0.413351   \n",
       "pe     0.110909  0.140734  0.135593  ... -0.389077  0.164301 -0.346735   \n",
       "ane    0.196285  0.065735  0.154592  ... -0.524845  0.050266 -0.413179   \n",
       "class  0.261237  0.179241  0.380454  ... -0.689725  0.207861 -0.595181   \n",
       "\n",
       "            htn        dm       cad     appet        pe       ane     class  \n",
       "age    0.430905  0.401998  0.242084  0.175115  0.099471  0.088544  0.276396  \n",
       "bp     0.244286  0.227973  0.065142  0.185092  0.043654  0.197835  0.282456  \n",
       "sg    -0.314618 -0.332822 -0.120800 -0.226310 -0.248265 -0.219114 -0.672683  \n",
       "al     0.479153  0.374722  0.222618  0.338438  0.441642  0.286069  0.587835  \n",
       "su     0.301194  0.485698  0.242791  0.080177  0.142149  0.080737  0.319294  \n",
       "rbc   -0.135422 -0.158124 -0.105024 -0.172117 -0.201634 -0.100121 -0.276455  \n",
       "pc    -0.267260 -0.191463 -0.157035 -0.273077 -0.351353 -0.255662 -0.367962  \n",
       "pcc    0.169993  0.133637  0.154024  0.176614  0.110909  0.196285  0.261237  \n",
       "ba     0.077145  0.064939  0.105680  0.183120  0.140734  0.065735  0.179241  \n",
       "bgr    0.370361  0.489738  0.190225  0.191591  0.135593  0.154592  0.380454  \n",
       "bu     0.384780  0.328406  0.235805  0.269786  0.329297  0.441247  0.369358  \n",
       "sc     0.267083  0.210704  0.194087  0.148997  0.162069  0.222280  0.283957  \n",
       "sod   -0.296764 -0.256593 -0.231844 -0.159875 -0.137665 -0.187225 -0.324326  \n",
       "pot    0.057864  0.060789  0.011279 -0.027775  0.055069  0.098562  0.077935  \n",
       "hemo  -0.572996 -0.475316 -0.287645 -0.397017 -0.368035 -0.562752 -0.726352  \n",
       "pcv   -0.552720 -0.464508 -0.306365 -0.400421 -0.389077 -0.524845 -0.689725  \n",
       "wbcc   0.128405  0.148133  0.013473  0.169791  0.164301  0.050266  0.207861  \n",
       "rbcc  -0.517032 -0.425520 -0.293951 -0.413351 -0.346735 -0.413179 -0.595181  \n",
       "htn    1.000000  0.628639  0.337582  0.358077  0.358034  0.361045  0.570665  \n",
       "dm     0.628639  1.000000  0.273401  0.333170  0.328543  0.225597  0.539120  \n",
       "cad    0.337582  0.273401  1.000000  0.139077  0.215718  0.059063  0.229139  \n",
       "appet  0.358077  0.333170  0.139077  1.000000  0.427647  0.267395  0.388094  \n",
       "pe     0.358034  0.328543  0.215718  0.427647  1.000000  0.185092  0.361204  \n",
       "ane    0.361045  0.225597  0.059063  0.267395  0.185092  1.000000  0.326890  \n",
       "class  0.570665  0.539120  0.229139  0.388094  0.361204  0.326890  1.000000  \n",
       "\n",
       "[25 rows x 25 columns]"
      ]
     },
     "execution_count": 278,
     "metadata": {},
     "output_type": "execute_result"
    }
   ],
   "source": [
    "data.corr()"
   ]
  },
  {
   "cell_type": "code",
   "execution_count": 299,
   "metadata": {},
   "outputs": [
    {
     "data": {
      "text/plain": [
       "<matplotlib.axes._subplots.AxesSubplot at 0x1a22856e80>"
      ]
     },
     "execution_count": 299,
     "metadata": {},
     "output_type": "execute_result"
    },
    {
     "data": {
      "image/png": "[encoded data removed]",
      "text/plain": [
       "<Figure size 1080x1080 with 2 Axes>"
      ]
     },
     "metadata": {
      "needs_background": "light"
     },
     "output_type": "display_data"
    }
   ],
   "source": [
    "plt.figure(figsize = (15,15))        # Size of the figure\n",
    "\n",
    "sns.heatmap(data.corr(),annot = True)"
   ]
  },
  {
   "cell_type": "code",
   "execution_count": 231,
   "metadata": {},
   "outputs": [
    {
     "data": {
      "text/plain": [
       "age      0.088544\n",
       "bp       0.197835\n",
       "sg      -0.219114\n",
       "al       0.286069\n",
       "su       0.080737\n",
       "rbc     -0.100121\n",
       "pc      -0.255662\n",
       "pcc      0.196285\n",
       "ba       0.065735\n",
       "bgr      0.154592\n",
       "bu       0.441247\n",
       "sc       0.222280\n",
       "sod     -0.187225\n",
       "pot      0.098562\n",
       "hemo    -0.562752\n",
       "pcv     -0.524845\n",
       "wbcc     0.050266\n",
       "rbcc    -0.413179\n",
       "htn      0.361045\n",
       "dm       0.225597\n",
       "cad      0.059063\n",
       "appet    0.267395\n",
       "pe       0.185092\n",
       "ane      1.000000\n",
       "class    0.326890\n",
       "Name: ane, dtype: float64"
      ]
     },
     "execution_count": 231,
     "metadata": {},
     "output_type": "execute_result"
    }
   ],
   "source": [
    "data.corr()['ane']"
   ]
  },
  {
   "cell_type": "markdown",
   "metadata": {},
   "source": [
    "#### Notes: Correlation analysis\n",
    "Here are some of the correlated features (either Positively / negatively)\n",
    "One among them can be removed to reduce the dimensions.\n",
    "At the same time ensure ther impact on target variable is not much<br><br>\n",
    "\n",
    "\n",
    "pcv (packed cell volume) and Hemo (hemoglobin) and rbcc (red blood cell count) and ane (anemia) and al (Albumin)<br>\n",
    "htn (hypertension) and dm (diabetes mellitus)<br>\n",
    "su (sugar) and bgr(blood glucose random)<br>\n",
    "so (sodium) and sc(serum creatinine)<br>"
   ]
  },
  {
   "cell_type": "code",
   "execution_count": 280,
   "metadata": {},
   "outputs": [],
   "source": [
    "# Can definitely be removed\n",
    "\n",
    "data = data.drop(['bgr'],axis=1)\n",
    "data = data.drop(['sc'],axis=1)\n",
    "data = data.drop(['pot'],axis=1)\n",
    "data = data.drop(['ane'],axis=1)\n",
    "data = data.drop(['wbcc'],axis=1)\n",
    "data = data.drop(['cad'],axis=1)\n",
    "data = data.drop(['appet'],axis=1)\n",
    "data = data.drop(['pe'],axis=1)\n",
    "\n",
    "# More impact on target variable - hence holding them\n",
    "#data = data.drop(['rbcc'],axis=1)\n",
    "#data = data.drop(['al'],axis=1)\n",
    "#data = data.drop(['dm'],axis=1)"
   ]
  },
  {
   "cell_type": "markdown",
   "metadata": {},
   "source": [
    "<b>Note:</b> We can see that almost all features are more less contributing equally to the target variable.\n",
    "    So it may not be a good idea to ignore any feature."
   ]
  },
  {
   "cell_type": "markdown",
   "metadata": {},
   "source": [
    "<b>Training the model:</b>\n",
    "\n",
    "i.  First let's separate the Independent and Dependent variables <br>\n",
    "ii. Then Split the data to Train and Test sets<br>\n",
    "iii.Fit different models<br>\n",
    "iv. Try cross Validations<br>\n",
    "v.  View results and preformance metrics"
   ]
  },
  {
   "cell_type": "code",
   "execution_count": 281,
   "metadata": {},
   "outputs": [],
   "source": [
    "y=data[\"class\"]\n",
    "x=data.drop([\"class\"],axis=1)"
   ]
  },
  {
   "cell_type": "code",
   "execution_count": 282,
   "metadata": {},
   "outputs": [],
   "source": [
    "# Feature Scaling\n",
    "#Standardize features by removing the mean(=0) and scaling to unit variance\n",
    "from sklearn.preprocessing import StandardScaler\n",
    "sc = StandardScaler()\n",
    "x = sc.fit_transform(x)\n",
    "\n",
    "#x=(x_data-np.min(x_data))/(np.max(x_data)-np.min(x_data))"
   ]
  },
  {
   "cell_type": "code",
   "execution_count": 283,
   "metadata": {},
   "outputs": [],
   "source": [
    "# Variables to hold algorithm names and its successes.\n",
    "score=[] \n",
    "algorithms=[] "
   ]
  },
  {
   "cell_type": "code",
   "execution_count": 284,
   "metadata": {},
   "outputs": [],
   "source": [
    "x_train,x_test,y_train,y_test=train_test_split(x,y,random_state=1,test_size=0.3)"
   ]
  },
  {
   "cell_type": "markdown",
   "metadata": {},
   "source": [
    "#### KNeighborsClassifier"
   ]
  },
  {
   "cell_type": "code",
   "execution_count": 285,
   "metadata": {},
   "outputs": [
    {
     "name": "stdout",
     "output_type": "stream",
     "text": [
      "KNN accuracy = 96.15384615384616\n",
      "KNN confusion Matrix  \n",
      "              precision    recall  f1-score   support\n",
      "\n",
      "           0       0.92      0.97      0.95        36\n",
      "           1       0.98      0.96      0.97        68\n",
      "\n",
      "    accuracy                           0.96       104\n",
      "   macro avg       0.95      0.96      0.96       104\n",
      "weighted avg       0.96      0.96      0.96       104\n",
      "\n"
     ]
    },
    {
     "data": {
      "image/png": "[encoded data removed]",
      "text/plain": [
       "<Figure size 360x360 with 2 Axes>"
      ]
     },
     "metadata": {
      "needs_background": "light"
     },
     "output_type": "display_data"
    }
   ],
   "source": [
    "from sklearn.neighbors import KNeighborsClassifier\n",
    "\n",
    "knn=KNeighborsClassifier(n_neighbors=3)\n",
    "knn.fit(x_train,y_train)\n",
    "knn.predict(x_test)\n",
    "score.append(knn.score(x_test,y_test)*100)\n",
    "algorithms.append(\"KNN\")\n",
    "print(\"KNN accuracy =\",knn.score(x_test,y_test)*100)\n",
    "\n",
    "#Confusion Matrix\n",
    "from sklearn.metrics import confusion_matrix\n",
    "y_pred=knn.predict(x_test)\n",
    "y_true=y_test\n",
    "cm=confusion_matrix(y_true,y_pred)\n",
    "\n",
    "#Confusion Matrix on Heatmap\n",
    "f,ax=plt.subplots(figsize=(5,5))\n",
    "sns.heatmap(cm,annot=True,linewidths=0.5,linecolor=\"red\",fmt=\".0f\",ax=ax)\n",
    "plt.xlabel(\"y_pred\")\n",
    "plt.ylabel(\"y_true\")\n",
    "print(\"KNN confusion Matrix  \")\n",
    "print(classification_report(y_test,y_pred))\n",
    "plt.title(\" KNN Confusion Matrix plotted\")\n",
    "plt.show()"
   ]
  },
  {
   "cell_type": "markdown",
   "metadata": {},
   "source": [
    "#### KNeighborsClassifier - Cross Validation"
   ]
  },
  {
   "cell_type": "code",
   "execution_count": 286,
   "metadata": {},
   "outputs": [
    {
     "name": "stdout",
     "output_type": "stream",
     "text": [
      "[1.         0.97222222 1.         0.91176471 1.         0.97058824\n",
      " 0.94117647 0.97058824 0.91176471 0.97058824]\n",
      "KNN Mean 10-Fold R Squared: 0.9648692810457516\n"
     ]
    }
   ],
   "source": [
    "knn_cv_r10_scores = cross_val_score(knn, x, y, cv=10)\n",
    "print(knn_cv_r10_scores)\n",
    "print(\"KNN Mean 10-Fold R Squared: {}\".format(np.mean(knn_cv_r10_scores)))"
   ]
  },
  {
   "cell_type": "code",
   "execution_count": 287,
   "metadata": {},
   "outputs": [
    {
     "data": {
      "text/plain": [
       "((240, 16), (240,), (104, 16), (104,))"
      ]
     },
     "execution_count": 287,
     "metadata": {},
     "output_type": "execute_result"
    }
   ],
   "source": [
    "x_train.shape,y_train.shape,x_test.shape,y_test.shape"
   ]
  },
  {
   "cell_type": "markdown",
   "metadata": {},
   "source": [
    "#### Navie-Bayes"
   ]
  },
  {
   "cell_type": "code",
   "execution_count": 288,
   "metadata": {},
   "outputs": [
    {
     "name": "stdout",
     "output_type": "stream",
     "text": [
      "Navie Bayes accuracy = 88.46153846153845\n",
      "Navie Bayes Confusion Matrix  \n",
      "              precision    recall  f1-score   support\n",
      "\n",
      "           0       0.75      1.00      0.86        36\n",
      "           1       1.00      0.82      0.90        68\n",
      "\n",
      "    accuracy                           0.88       104\n",
      "   macro avg       0.88      0.91      0.88       104\n",
      "weighted avg       0.91      0.88      0.89       104\n",
      "\n"
     ]
    },
    {
     "data": {
      "image/png": "[encoded data removed]",
      "text/plain": [
       "<Figure size 360x360 with 2 Axes>"
      ]
     },
     "metadata": {
      "needs_background": "light"
     },
     "output_type": "display_data"
    }
   ],
   "source": [
    "#Navie-Bayes\n",
    "from sklearn.naive_bayes import GaussianNB\n",
    "nb=GaussianNB()\n",
    "\n",
    "#Training\n",
    "nb.fit(x_train,y_train)\n",
    "#Test\n",
    "score.append(nb.score(x_test,y_test)*100)\n",
    "algorithms.append(\"Navie-Bayes\")\n",
    "print(\"Navie Bayes accuracy =\",nb.score(x_test,y_test)*100)\n",
    "\n",
    "#Confusion Matrix \n",
    "from sklearn.metrics import confusion_matrix\n",
    "y_pred=nb.predict(x_test)\n",
    "y_true=y_test\n",
    "cm=confusion_matrix(y_true,y_pred)\n",
    "\n",
    "#Confusion Matrix on Heatmap\n",
    "f,ax=plt.subplots(figsize=(5,5))\n",
    "sns.heatmap(cm,annot=True,linewidths=0.5,linecolor=\"red\",fmt=\".0f\",ax=ax)\n",
    "plt.xlabel(\"y_pred\")\n",
    "plt.ylabel(\"y_true\")\n",
    "print(\"Navie Bayes Confusion Matrix  \")\n",
    "print(classification_report(y_test,y_pred))\n",
    "plt.title(\"Navie Bayes Confusion Matrix plotted\")\n",
    "plt.show()"
   ]
  },
  {
   "cell_type": "markdown",
   "metadata": {},
   "source": [
    "#### Navie-Bayes - Cross Validation"
   ]
  },
  {
   "cell_type": "code",
   "execution_count": 289,
   "metadata": {},
   "outputs": [
    {
     "name": "stdout",
     "output_type": "stream",
     "text": [
      "[0.91666667 0.94444444 0.91176471 0.88235294 0.91176471 1.\n",
      " 0.91176471 0.88235294 0.82352941 0.97058824]\n",
      "GNB Mean 10-Fold R Squared: 0.9155228758169935\n"
     ]
    }
   ],
   "source": [
    "gnb_cv_r10_scores = cross_val_score(nb, x, y, cv=10)\n",
    "print(gnb_cv_r10_scores)\n",
    "print(\"GNB Mean 10-Fold R Squared: {}\".format(np.mean(gnb_cv_r10_scores)))"
   ]
  },
  {
   "cell_type": "markdown",
   "metadata": {},
   "source": [
    "#### Random Forest Classifier - Cross Validation"
   ]
  },
  {
   "cell_type": "code",
   "execution_count": 290,
   "metadata": {
    "scrolled": true
   },
   "outputs": [
    {
     "name": "stdout",
     "output_type": "stream",
     "text": [
      "Random Forest accuracy = 0.9807692307692307\n",
      "              precision    recall  f1-score   support\n",
      "\n",
      "           0       1.00      0.94      0.97        36\n",
      "           1       0.97      1.00      0.99        68\n",
      "\n",
      "    accuracy                           0.98       104\n",
      "   macro avg       0.99      0.97      0.98       104\n",
      "weighted avg       0.98      0.98      0.98       104\n",
      "\n"
     ]
    },
    {
     "data": {
      "image/png": "[encoded data removed]",
      "text/plain": [
       "<Figure size 360x360 with 2 Axes>"
      ]
     },
     "metadata": {
      "needs_background": "light"
     },
     "output_type": "display_data"
    }
   ],
   "source": [
    "#RANDOM FOREST\n",
    "from sklearn.ensemble import RandomForestClassifier\n",
    "rf=RandomForestClassifier(n_estimators=100,random_state=1)\n",
    "rf.fit(x_train,y_train)\n",
    "score.append(rf.score(x_test,y_test)*100)\n",
    "algorithms.append(\"Random Forest\")\n",
    "print(\"Random Forest accuracy =\",rf.score(x_test,y_test))\n",
    "\n",
    "#Confusion Matrix\n",
    "from sklearn.metrics import confusion_matrix\n",
    "y_pred=rf.predict(x_test)\n",
    "y_true=y_test\n",
    "cm=confusion_matrix(y_true,y_pred)\n",
    "\n",
    "#Confusion Matrix on Heatmap\n",
    "f,ax=plt.subplots(figsize=(5,5))\n",
    "sns.heatmap(cm,annot=True,linewidths=0.5,linecolor=\"red\",fmt=\".0f\",ax=ax)\n",
    "plt.xlabel(\"y_pred\")\n",
    "plt.ylabel(\"y_true\")\n",
    "plt.title(\"Random Forest Confusion Matrix\")\n",
    "print(classification_report(y_test,y_pred))\n",
    "plt.title(\"Random Forest confusion Matrix plotted\")\n",
    "plt.show()"
   ]
  },
  {
   "cell_type": "markdown",
   "metadata": {},
   "source": [
    "#### Random Forest Classifier - Cross Validation"
   ]
  },
  {
   "cell_type": "code",
   "execution_count": 291,
   "metadata": {},
   "outputs": [
    {
     "name": "stdout",
     "output_type": "stream",
     "text": [
      "[1.         0.97222222 1.         1.         1.         0.97058824\n",
      " 1.         1.         1.         1.        ]\n",
      "Random Forest Mean 10-Fold R Squared: 0.9942810457516341\n"
     ]
    }
   ],
   "source": [
    "rf_cv_r10_scores = cross_val_score(rf, x, y, cv=10)\n",
    "print(rf_cv_r10_scores)\n",
    "print(\"Random Forest Mean 10-Fold R Squared: {}\".format(np.mean(rf_cv_r10_scores)))"
   ]
  },
  {
   "cell_type": "markdown",
   "metadata": {},
   "source": [
    "#### LogisticRegression Classifier"
   ]
  },
  {
   "cell_type": "code",
   "execution_count": 292,
   "metadata": {},
   "outputs": [
    {
     "name": "stdout",
     "output_type": "stream",
     "text": [
      "test accuracy 0.9807692307692307\n",
      "              precision    recall  f1-score   support\n",
      "\n",
      "           0       0.95      1.00      0.97        36\n",
      "           1       1.00      0.97      0.99        68\n",
      "\n",
      "    accuracy                           0.98       104\n",
      "   macro avg       0.97      0.99      0.98       104\n",
      "weighted avg       0.98      0.98      0.98       104\n",
      "\n"
     ]
    },
    {
     "data": {
      "image/png": "[encoded data removed]",
      "text/plain": [
       "<Figure size 360x360 with 2 Axes>"
      ]
     },
     "metadata": {
      "needs_background": "light"
     },
     "output_type": "display_data"
    }
   ],
   "source": [
    "from sklearn.linear_model import LogisticRegression\n",
    "lr = LogisticRegression()\n",
    "lr.fit(x_train,y_train)\n",
    "score.append(lr.score(x_test,y_test)*100)\n",
    "algorithms.append(\"Logistic Regression\")\n",
    "print(\"test accuracy {}\".format(lr.score(x_test,y_test)))\n",
    "#Confusion Matrix\n",
    "from sklearn.metrics import confusion_matrix\n",
    "y_pred=lr.predict(x_test)\n",
    "y_true=y_test\n",
    "cm=confusion_matrix(y_true,y_pred)\n",
    "#Confusion Matrix on Heatmap\n",
    "f,ax=plt.subplots(figsize=(5,5))\n",
    "sns.heatmap(cm,annot=True,linewidths=0.5,linecolor=\"red\",fmt=\".0f\",ax=ax)\n",
    "plt.xlabel(\"y_pred\")\n",
    "plt.ylabel(\"y_true\")\n",
    "plt.title(\"Logistic Regression Confusion Matrix\")\n",
    "print(classification_report(y_test,y_pred))\n",
    "plt.title(\"Logistic Regression confusion Matrix plotted\")\n",
    "plt.show()"
   ]
  },
  {
   "cell_type": "markdown",
   "metadata": {},
   "source": [
    "#### LogisticRegression Classifier - Cross Validation"
   ]
  },
  {
   "cell_type": "code",
   "execution_count": 293,
   "metadata": {},
   "outputs": [
    {
     "name": "stdout",
     "output_type": "stream",
     "text": [
      "[1.         0.97222222 1.         0.91176471 1.         1.\n",
      " 0.97058824 1.         0.97058824 0.94117647]\n",
      "Logistic Regression  Mean 10-Fold R Squared: 0.9766339869281045\n"
     ]
    }
   ],
   "source": [
    "lr_cv_r10_scores = cross_val_score(lr, x, y, cv=10)\n",
    "print(lr_cv_r10_scores)\n",
    "print(\"Logistic Regression  Mean 10-Fold R Squared: {}\".format(np.mean(lr_cv_r10_scores)))"
   ]
  },
  {
   "cell_type": "markdown",
   "metadata": {},
   "source": [
    "#### Printing coefficients and Intercept of regression"
   ]
  },
  {
   "cell_type": "code",
   "execution_count": 294,
   "metadata": {},
   "outputs": [
    {
     "name": "stdout",
     "output_type": "stream",
     "text": [
      "Logistic regression coefficients for each feature .....\n",
      "        0         0\n",
      "0     age -0.163019\n",
      "1      bp  0.352990\n",
      "2      sg -1.647155\n",
      "3      al  0.807575\n",
      "4      su  0.161819\n",
      "5     rbc -0.433325\n",
      "6      pc -0.474676\n",
      "7     pcc -0.219311\n",
      "8      ba -0.030151\n",
      "9     bgr -0.005604\n",
      "10     bu -0.630023\n",
      "11     sc -1.393263\n",
      "12    sod -1.001398\n",
      "13    pot -0.685633\n",
      "14   hemo  0.692770\n",
      "15    pcv  0.590779\n",
      "16   wbcc       NaN\n",
      "17   rbcc       NaN\n",
      "18    htn       NaN\n",
      "19     dm       NaN\n",
      "20    cad       NaN\n",
      "21  appet       NaN\n",
      "22     pe       NaN\n",
      "23    ane       NaN\n",
      "24  class       NaN\n"
     ]
    }
   ],
   "source": [
    "coefficients = pd.concat([pd.DataFrame(df.columns),pd.DataFrame(np.transpose(lr.coef_))], axis = 1)\n",
    "print('Logistic regression coefficients for each feature .....')\n",
    "print(coefficients)"
   ]
  },
  {
   "cell_type": "code",
   "execution_count": 295,
   "metadata": {},
   "outputs": [
    {
     "name": "stdout",
     "output_type": "stream",
     "text": [
      "Logistic regression intercept is ..... [2.77064167]\n"
     ]
    }
   ],
   "source": [
    "print('Logistic regression intercept is .....',lr.intercept_)"
   ]
  },
  {
   "cell_type": "markdown",
   "metadata": {},
   "source": [
    "### Regression equation\n",
    "\n",
    "Equation : y=B0+B1x\n",
    "            =B0+B1X1+...+BnXn for all features\n",
    "\n",
    "    B1 - Weight matrix for all features\n",
    "    B0 - Intercept\n",
    "\n",
    "B1  equals zero \n",
    "There is no relationship between predictor and target variabels\n",
    "\n",
    "B0  is not equal to zero\n",
    "There is a relationship between predictor and target variabels\n",
    "\n",
    "In our case \n",
    "##### y_pred =  2.73000102 + coefficients.T * x_test"
   ]
  },
  {
   "cell_type": "markdown",
   "metadata": {},
   "source": [
    "### Decision Boundary"
   ]
  },
  {
   "cell_type": "code",
   "execution_count": 296,
   "metadata": {},
   "outputs": [
    {
     "name": "stdout",
     "output_type": "stream",
     "text": [
      "test accuracy 0.9326923076923077\n"
     ]
    }
   ],
   "source": [
    "from sklearn.linear_model import LogisticRegression\n",
    "lr1 = LogisticRegression()\n",
    "lr1.fit(x_train[:,[2,3]],y_train)\n",
    "score.append(lr1.score(x_test[:,[2,3]],y_test)*100)\n",
    "algorithms.append(\"Logistic Regression\")\n",
    "print(\"test accuracy {}\".format(lr1.score(x_test[:,[2,3]],y_test)))"
   ]
  },
  {
   "cell_type": "code",
   "execution_count": 297,
   "metadata": {},
   "outputs": [
    {
     "data": {
      "text/plain": [
       "(-1.826848670054177, 3.2931513299458275)"
      ]
     },
     "execution_count": 297,
     "metadata": {},
     "output_type": "execute_result"
    },
    {
     "data": {
      "image/png": "[encoded data removed]",
      "text/plain": [
       "<Figure size 432x288 with 1 Axes>"
      ]
     },
     "metadata": {
      "needs_background": "light"
     },
     "output_type": "display_data"
    }
   ],
   "source": [
    "#visualizing decision boundary\n",
    "from matplotlib.colors import ListedColormap\n",
    "\n",
    "X_set, y_set = x_train[:,[2,3]], y_train[:]\n",
    "X1, X2 = np.meshgrid(np.arange(start = X_set[:, 0].min() - 1, stop = X_set[:, 0].max() + 1, step = 0.01),\n",
    "                     np.arange(start = X_set[:, 1].min() - 1, stop = X_set[:, 1].max() + 1, step = 0.01))\n",
    "plt.contourf(X1, X2, lr1.predict(np.array([X1.ravel(), X2.ravel()]).T).reshape(X1.shape),\n",
    "             alpha = 0.75, cmap = ListedColormap(('red', 'green')))\n",
    "plt.xlim(X1.min(), X1.max())\n",
    "plt.ylim(X2.min(), X2.max())"
   ]
  },
  {
   "cell_type": "code",
   "execution_count": 298,
   "metadata": {},
   "outputs": [
    {
     "name": "stderr",
     "output_type": "stream",
     "text": [
      "'c' argument looks like a single numeric RGB or RGBA sequence, which should be avoided as value-mapping will have precedence in case its length matches with 'x' & 'y'.  Please use a 2-D array with a single row if you really want to specify the same RGB or RGBA value for all points.\n",
      "'c' argument looks like a single numeric RGB or RGBA sequence, which should be avoided as value-mapping will have precedence in case its length matches with 'x' & 'y'.  Please use a 2-D array with a single row if you really want to specify the same RGB or RGBA value for all points.\n"
     ]
    },
    {
     "data": {
      "image/png": "[encoded data removed]",
      "text/plain": [
       "<Figure size 432x288 with 1 Axes>"
      ]
     },
     "metadata": {
      "needs_background": "light"
     },
     "output_type": "display_data"
    }
   ],
   "source": [
    "#visualizing decision boundary\n",
    "from matplotlib.colors import ListedColormap\n",
    "\n",
    "X_set, y_set = x_train[:,[2,3]], y_train[:]\n",
    "X1, X2 = np.meshgrid(np.arange(start = X_set[:, 0].min() - 1, stop = X_set[:, 0].max() + 1, step = 0.01),\n",
    "                     np.arange(start = X_set[:, 1].min() - 1, stop = X_set[:, 1].max() + 1, step = 0.01))\n",
    "plt.contourf(X1, X2, lr1.predict(np.array([X1.ravel(), X2.ravel()]).T).reshape(X1.shape),\n",
    "             alpha = 0.75, cmap = ListedColormap(('red', 'green')))\n",
    "plt.xlim(X1.min(), X1.max())\n",
    "plt.ylim(X2.min(), X2.max())\n",
    "\n",
    "for i, j in enumerate(np.unique(y_set)):\n",
    "    plt.scatter(X_set[y_set == j, 0], X_set[y_set == j, 1],\n",
    "                c = ListedColormap(('red', 'green'))(i), label = j)\n",
    "plt.title('Logistic Regression (Training set)')\n",
    "plt.xlabel('Specific Gravity')\n",
    "plt.ylabel('Albumin')\n",
    "plt.legend()\n",
    "plt.show()"
   ]
  },
  {
   "cell_type": "code",
   "execution_count": null,
   "metadata": {},
   "outputs": [],
   "source": []
  }
 ],
 "metadata": {
  "kernelspec": {
   "display_name": "Python 3",
   "language": "python",
   "name": "python3"
  },
  "language_info": {
   "codemirror_mode": {
    "name": "ipython",
    "version": 3
   },
   "file_extension": ".py",
   "mimetype": "text/x-python",
   "name": "python",
   "nbconvert_exporter": "python",
   "pygments_lexer": "ipython3",
   "version": "3.6.7"
  }
 },
 "nbformat": 4,
 "nbformat_minor": 2
}
