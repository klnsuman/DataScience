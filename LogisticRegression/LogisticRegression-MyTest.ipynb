{
 "cells": [
  {
   "cell_type": "markdown",
   "metadata": {},
   "source": [
    "##### import pandas as pd\n",
    "import numpy as np\n",
    "import matplotlib.pyplot as plt"
   ]
  },
  {
   "cell_type": "code",
   "execution_count": 2,
   "metadata": {},
   "outputs": [
    {
     "data": {
      "text/html": [
       "<div>\n",
       "<style scoped>\n",
       "    .dataframe tbody tr th:only-of-type {\n",
       "        vertical-align: middle;\n",
       "    }\n",
       "\n",
       "    .dataframe tbody tr th {\n",
       "        vertical-align: top;\n",
       "    }\n",
       "\n",
       "    .dataframe thead th {\n",
       "        text-align: right;\n",
       "    }\n",
       "</style>\n",
       "<table border=\"1\" class=\"dataframe\">\n",
       "  <thead>\n",
       "    <tr style=\"text-align: right;\">\n",
       "      <th></th>\n",
       "      <th>User ID</th>\n",
       "      <th>Gender</th>\n",
       "      <th>Age</th>\n",
       "      <th>EstimatedSalary</th>\n",
       "      <th>Purchased</th>\n",
       "    </tr>\n",
       "  </thead>\n",
       "  <tbody>\n",
       "    <tr>\n",
       "      <th>0</th>\n",
       "      <td>15624510</td>\n",
       "      <td>Male</td>\n",
       "      <td>19</td>\n",
       "      <td>19000</td>\n",
       "      <td>0</td>\n",
       "    </tr>\n",
       "    <tr>\n",
       "      <th>1</th>\n",
       "      <td>15810944</td>\n",
       "      <td>Male</td>\n",
       "      <td>35</td>\n",
       "      <td>20000</td>\n",
       "      <td>0</td>\n",
       "    </tr>\n",
       "    <tr>\n",
       "      <th>2</th>\n",
       "      <td>15668575</td>\n",
       "      <td>Female</td>\n",
       "      <td>26</td>\n",
       "      <td>43000</td>\n",
       "      <td>0</td>\n",
       "    </tr>\n",
       "    <tr>\n",
       "      <th>3</th>\n",
       "      <td>15603246</td>\n",
       "      <td>Female</td>\n",
       "      <td>27</td>\n",
       "      <td>57000</td>\n",
       "      <td>0</td>\n",
       "    </tr>\n",
       "    <tr>\n",
       "      <th>4</th>\n",
       "      <td>15804002</td>\n",
       "      <td>Male</td>\n",
       "      <td>19</td>\n",
       "      <td>76000</td>\n",
       "      <td>0</td>\n",
       "    </tr>\n",
       "  </tbody>\n",
       "</table>\n",
       "</div>"
      ],
      "text/plain": [
       "    User ID  Gender  Age  EstimatedSalary  Purchased\n",
       "0  15624510    Male   19            19000          0\n",
       "1  15810944    Male   35            20000          0\n",
       "2  15668575  Female   26            43000          0\n",
       "3  15603246  Female   27            57000          0\n",
       "4  15804002    Male   19            76000          0"
      ]
     },
     "execution_count": 2,
     "metadata": {},
     "output_type": "execute_result"
    }
   ],
   "source": [
    "dataset = pd.read_csv('Social_Network_Ads.csv')\n",
    "dataset.head()"
   ]
  },
  {
   "cell_type": "code",
   "execution_count": 3,
   "metadata": {},
   "outputs": [],
   "source": [
    "X = dataset.iloc[:,[2,3]].values\n",
    "y = dataset.iloc[:,[4]].values"
   ]
  },
  {
   "cell_type": "code",
   "execution_count": 4,
   "metadata": {},
   "outputs": [],
   "source": [
    "from sklearn.model_selection import train_test_split\n",
    "X_train,X_test,Y_train,Y_test = train_test_split(X,y,test_size=1/3,random_state=0)"
   ]
  },
  {
   "cell_type": "code",
   "execution_count": 5,
   "metadata": {},
   "outputs": [],
   "source": [
    "from sklearn.preprocessing import StandardScaler\n",
    "sc = StandardScaler()\n",
    "X_train = sc.fit_transform(X_train)\n",
    "X_test = sc.transform(X_test)\n"
   ]
  },
  {
   "cell_type": "code",
   "execution_count": 6,
   "metadata": {},
   "outputs": [
    {
     "data": {
      "text/plain": [
       "DecisionTreeClassifier(ccp_alpha=0.0, class_weight=None, criterion='entropy',\n",
       "                       max_depth=None, max_features=None, max_leaf_nodes=None,\n",
       "                       min_impurity_decrease=0.0, min_impurity_split=None,\n",
       "                       min_samples_leaf=1, min_samples_split=2,\n",
       "                       min_weight_fraction_leaf=0.0, presort='deprecated',\n",
       "                       random_state=0, splitter='best')"
      ]
     },
     "execution_count": 6,
     "metadata": {},
     "output_type": "execute_result"
    }
   ],
   "source": [
    "from sklearn.tree import DecisionTreeClassifier\n",
    "classifier = DecisionTreeClassifier(criterion='entropy',random_state=0)\n",
    "classifier.fit(X_train,Y_train)"
   ]
  },
  {
   "cell_type": "code",
   "execution_count": 7,
   "metadata": {},
   "outputs": [],
   "source": [
    "y_pred = classifier.predict(X_test)"
   ]
  },
  {
   "cell_type": "code",
   "execution_count": 8,
   "metadata": {},
   "outputs": [
    {
     "data": {
      "text/plain": [
       "array([[77,  8],\n",
       "       [ 9, 40]])"
      ]
     },
     "execution_count": 8,
     "metadata": {},
     "output_type": "execute_result"
    }
   ],
   "source": [
    "from sklearn.metrics import confusion_matrix\n",
    "cm = confusion_matrix(Y_test,y_pred) \n",
    "cm"
   ]
  },
  {
   "cell_type": "code",
   "execution_count": 10,
   "metadata": {},
   "outputs": [
    {
     "data": {
      "image/png": "[encoded data removed]",
      "text/plain": [
       "<Figure size 432x288 with 1 Axes>"
      ]
     },
     "metadata": {
      "needs_background": "light"
     },
     "output_type": "display_data"
    }
   ],
   "source": [
    "import sklearn\n",
    "from sklearn.tree import DecisionTreeClassifier, plot_tree\n",
    "plot_tree(classifier, filled=True)\n",
    "plt.show()\n",
    "\n"
   ]
  },
  {
   "cell_type": "code",
   "execution_count": 22,
   "metadata": {},
   "outputs": [
    {
     "name": "stderr",
     "output_type": "stream",
     "text": [
      "/opt/anaconda3/lib/python3.7/site-packages/ipykernel_launcher.py:3: DataConversionWarning: A column-vector y was passed when a 1d array was expected. Please change the shape of y to (n_samples,), for example using ravel().\n",
      "  This is separate from the ipykernel package so we can avoid doing imports until\n"
     ]
    },
    {
     "data": {
      "text/plain": [
       "RandomForestClassifier(bootstrap=True, ccp_alpha=0.0, class_weight=None,\n",
       "                       criterion='entropy', max_depth=None, max_features='auto',\n",
       "                       max_leaf_nodes=None, max_samples=None,\n",
       "                       min_impurity_decrease=0.0, min_impurity_split=None,\n",
       "                       min_samples_leaf=1, min_samples_split=2,\n",
       "                       min_weight_fraction_leaf=0.0, n_estimators=10,\n",
       "                       n_jobs=None, oob_score=False, random_state=0, verbose=0,\n",
       "                       warm_start=False)"
      ]
     },
     "execution_count": 22,
     "metadata": {},
     "output_type": "execute_result"
    }
   ],
   "source": [
    "from sklearn.ensemble import RandomForestClassifier\n",
    "rclassifier = RandomForestClassifier(n_estimators=10,criterion = 'entropy',random_state=0)\n",
    "rclassifier.fit(X_train,Y_train)"
   ]
  },
  {
   "cell_type": "code",
   "execution_count": 29,
   "metadata": {},
   "outputs": [
    {
     "name": "stdout",
     "output_type": "stream",
     "text": [
      "Accuracy with DecisionTree(Gini) classifier:--> 0.88\n"
     ]
    }
   ],
   "source": [
    "y_pred1 = rclassifier.predict(X_test)\n",
    "\n",
    "acc_randomF = round(metrics.accuracy_score(Y_test,y_pred1),2)\n",
    "print(\"Accuracy with DecisionTree(Gini) classifier:-->\",acc_randomF)"
   ]
  },
  {
   "cell_type": "code",
   "execution_count": 24,
   "metadata": {},
   "outputs": [
    {
     "data": {
      "text/plain": [
       "array([0, 0, 0, 0, 0, 0, 0, 1, 0, 0, 0, 0, 0, 0, 0, 1, 1, 0, 1, 0, 0, 1,\n",
       "       0, 1, 0, 0, 0, 0, 0, 0, 0, 0, 1, 0, 0, 0, 0, 0, 0, 1, 0, 0, 0, 0,\n",
       "       1, 0, 0, 1, 0, 1, 1, 0, 0, 1, 1, 1, 0, 0, 1, 0, 0, 0, 0, 1, 0, 1,\n",
       "       0, 0, 0, 0, 1, 0, 0, 1, 0, 0, 0, 0, 1, 1, 1, 1, 0, 0, 1, 0, 0, 1,\n",
       "       0, 0, 0, 1, 0, 0, 0, 1, 0, 1, 1, 1, 1, 1, 0, 1, 1, 1, 0, 0, 0, 0,\n",
       "       0, 0, 0, 1, 1, 0, 1, 0, 1, 1, 0, 1, 1, 1, 0, 0, 0, 0, 1, 1, 0, 0,\n",
       "       0, 1])"
      ]
     },
     "execution_count": 24,
     "metadata": {},
     "output_type": "execute_result"
    }
   ],
   "source": [
    "y_pred1"
   ]
  },
  {
   "cell_type": "code",
   "execution_count": 25,
   "metadata": {},
   "outputs": [
    {
     "data": {
      "text/plain": [
       "array([[78,  7],\n",
       "       [ 9, 40]])"
      ]
     },
     "execution_count": 25,
     "metadata": {},
     "output_type": "execute_result"
    }
   ],
   "source": [
    "from sklearn.metrics import confusion_matrix\n",
    "cm = confusion_matrix(Y_test,y_pred1)\n",
    "cm"
   ]
  },
  {
   "cell_type": "code",
   "execution_count": 26,
   "metadata": {},
   "outputs": [
    {
     "name": "stderr",
     "output_type": "stream",
     "text": [
      "/opt/anaconda3/lib/python3.7/site-packages/sklearn/naive_bayes.py:206: DataConversionWarning: A column-vector y was passed when a 1d array was expected. Please change the shape of y to (n_samples, ), for example using ravel().\n",
      "  y = column_or_1d(y, warn=True)\n"
     ]
    },
    {
     "data": {
      "text/plain": [
       "GaussianNB(priors=None, var_smoothing=1e-09)"
      ]
     },
     "execution_count": 26,
     "metadata": {},
     "output_type": "execute_result"
    }
   ],
   "source": [
    "from sklearn.naive_bayes import GaussianNB\n",
    "nbclassifier = GaussianNB()\n",
    "nbclassifier.fit(X_train, Y_train)\n",
    "\n"
   ]
  },
  {
   "cell_type": "code",
   "execution_count": 30,
   "metadata": {},
   "outputs": [
    {
     "name": "stdout",
     "output_type": "stream",
     "text": [
      "Accuracy with NaiveBayes classifier:--> 0.9\n"
     ]
    }
   ],
   "source": [
    "from sklearn import metrics \n",
    "y_pred = nbclassifier.predict(X_test)\n",
    "acc_naiveB = round(metrics.accuracy_score(Y_test,y_pred),2)\n",
    "print(\"Accuracy with NaiveBayes classifier:-->\",acc_naiveB)"
   ]
  },
  {
   "cell_type": "code",
   "execution_count": 21,
   "metadata": {},
   "outputs": [
    {
     "data": {
      "text/plain": [
       "array([[78,  7],\n",
       "       [ 9, 40]])"
      ]
     },
     "execution_count": 21,
     "metadata": {},
     "output_type": "execute_result"
    }
   ],
   "source": [
    "from sklearn.metrics import confusion_matrix\n",
    "cm = confusion_matrix(Y_test,y_pred1)\n",
    "cm"
   ]
  },
  {
   "cell_type": "code",
   "execution_count": 41,
   "metadata": {},
   "outputs": [
    {
     "name": "stderr",
     "output_type": "stream",
     "text": [
      "/opt/anaconda3/lib/python3.7/site-packages/sklearn/utils/validation.py:760: DataConversionWarning: A column-vector y was passed when a 1d array was expected. Please change the shape of y to (n_samples, ), for example using ravel().\n",
      "  y = column_or_1d(y, warn=True)\n"
     ]
    }
   ],
   "source": [
    "from sklearn.linear_model import LogisticRegression\n",
    "\n",
    "logreg = LogisticRegression(solver='lbfgs',max_iter=500)\n",
    "logreg.fit(X_train,Y_train)\n",
    "y_pred = nbclassifier.predict(X_test)\n",
    "\n",
    "y_pred_proba = logreg.predict_proba(X_test)"
   ]
  },
  {
   "cell_type": "code",
   "execution_count": 42,
   "metadata": {},
   "outputs": [
    {
     "name": "stdout",
     "output_type": "stream",
     "text": [
      "[[0.89124462 0.10875538]\n",
      " [0.82680904 0.17319096]\n",
      " [0.80911097 0.19088903]\n",
      " [0.9117147  0.0882853 ]\n",
      " [0.89723339 0.10276661]\n",
      " [0.99047055 0.00952945]\n",
      " [0.98171848 0.01828152]\n",
      " [0.32051853 0.67948147]\n",
      " [0.99374071 0.00625929]\n",
      " [0.48862212 0.51137788]\n",
      " [0.96090525 0.03909475]\n",
      " [0.96865676 0.03134324]\n",
      " [0.83477888 0.16522112]\n",
      " [0.64142004 0.35857996]\n",
      " [0.98439871 0.01560129]\n",
      " [0.69718585 0.30281415]\n",
      " [0.72789799 0.27210201]\n",
      " [0.98756598 0.01243402]\n",
      " [0.01521694 0.98478306]\n",
      " [0.95148637 0.04851363]\n",
      " [0.90495794 0.09504206]\n",
      " [0.04903838 0.95096162]\n",
      " [0.71719658 0.28280342]\n",
      " [0.13733582 0.86266418]\n",
      " [0.99460815 0.00539185]\n",
      " [0.03624247 0.96375753]\n",
      " [0.9245592  0.0754408 ]\n",
      " [0.92463629 0.07536371]\n",
      " [0.80495418 0.19504582]\n",
      " [0.84940874 0.15059126]\n",
      " [0.97987856 0.02012144]\n",
      " [0.71629862 0.28370138]\n",
      " [0.07248358 0.92751642]\n",
      " [0.84259855 0.15740145]\n",
      " [0.98446649 0.01553351]\n",
      " [0.99604921 0.00395079]\n",
      " [0.97990035 0.02009965]\n",
      " [0.92893292 0.07106708]\n",
      " [0.96875732 0.03124268]\n",
      " [0.43889714 0.56110286]\n",
      " [0.93573336 0.06426664]\n",
      " [0.71129739 0.28870261]\n",
      " [0.94234572 0.05765428]\n",
      " [0.95408625 0.04591375]\n",
      " [0.22530305 0.77469695]\n",
      " [0.97195295 0.02804705]\n",
      " [0.71038826 0.28961174]\n",
      " [0.08240145 0.91759855]\n",
      " [0.98960493 0.01039507]\n",
      " [0.15566245 0.84433755]\n",
      " [0.01285318 0.98714682]\n",
      " [0.95650719 0.04349281]\n",
      " [0.87702175 0.12297825]\n",
      " [0.61993932 0.38006068]\n",
      " [0.02273335 0.97726665]\n",
      " [0.66259518 0.33740482]\n",
      " [0.91836683 0.08163317]\n",
      " [0.95733405 0.04266595]\n",
      " [0.49639921 0.50360079]\n",
      " [0.99571652 0.00428348]\n",
      " [0.97576621 0.02423379]\n",
      " [0.06707292 0.93292708]\n",
      " [0.9903867  0.0096133 ]\n",
      " [0.63397575 0.36602425]\n",
      " [0.99771744 0.00228256]\n",
      " [0.02150711 0.97849289]\n",
      " [0.96278298 0.03721702]\n",
      " [0.97195295 0.02804705]\n",
      " [0.77685663 0.22314337]\n",
      " [0.54492541 0.45507459]\n",
      " [0.47005721 0.52994279]\n",
      " [0.80002249 0.19997751]\n",
      " [0.9879555  0.0120445 ]\n",
      " [0.72390705 0.27609295]\n",
      " [0.9339731  0.0660269 ]\n",
      " [0.99064779 0.00935221]\n",
      " [0.48002248 0.51997752]\n",
      " [0.70509583 0.29490417]\n",
      " [0.27037274 0.72962726]\n",
      " [0.13062939 0.86937061]\n",
      " [0.00560569 0.99439431]\n",
      " [0.02617558 0.97382442]\n",
      " [0.98573831 0.01426169]\n",
      " [0.98800801 0.01199199]\n",
      " [0.10769761 0.89230239]\n",
      " [0.47281257 0.52718743]\n",
      " [0.60781008 0.39218992]\n",
      " [0.0068617  0.9931383 ]\n",
      " [0.5531769  0.4468231 ]\n",
      " [0.66160565 0.33839435]\n",
      " [0.58749378 0.41250622]\n",
      " [0.26689682 0.73310318]\n",
      " [0.99042872 0.00957128]\n",
      " [0.99071923 0.00928077]\n",
      " [0.96762895 0.03237105]\n",
      " [0.92034576 0.07965424]\n",
      " [0.98531021 0.01468979]\n",
      " [0.51057336 0.48942664]\n",
      " [0.16724846 0.83275154]\n",
      " [0.30947726 0.69052274]\n",
      " [0.66234793 0.33765207]\n",
      " [0.67857251 0.32142749]\n",
      " [0.82680904 0.17319096]\n",
      " [0.57777651 0.42222349]\n",
      " [0.3975345  0.6024655 ]\n",
      " [0.04670626 0.95329374]\n",
      " [0.83106433 0.16893567]\n",
      " [0.77647303 0.22352697]\n",
      " [0.87714096 0.12285904]\n",
      " [0.83059808 0.16940192]\n",
      " [0.9473233  0.0526767 ]\n",
      " [0.89723339 0.10276661]\n",
      " [0.52335154 0.47664846]\n",
      " [0.44548107 0.55451893]\n",
      " [0.11349147 0.88650853]\n",
      " [0.2527746  0.7472254 ]\n",
      " [0.10095471 0.89904529]\n",
      " [0.86347808 0.13652192]\n",
      " [0.27456806 0.72543194]\n",
      " [0.43124948 0.56875052]\n",
      " [0.99323726 0.00676274]\n",
      " [0.01253255 0.98746745]\n",
      " [0.44302406 0.55697594]\n",
      " [0.38064141 0.61935859]\n",
      " [0.66185317 0.33814683]\n",
      " [0.87064968 0.12935032]\n",
      " [0.45290602 0.54709398]\n",
      " [0.05329972 0.94670028]\n",
      " [0.43590399 0.56409601]\n",
      " [0.63217776 0.36782224]\n",
      " [0.99323726 0.00676274]\n",
      " [0.06707292 0.93292708]\n",
      " [0.99491506 0.00508494]\n",
      " [0.10877986 0.89122014]]\n"
     ]
    }
   ],
   "source": [
    "print(y_pred_proba)"
   ]
  },
  {
   "cell_type": "code",
   "execution_count": 43,
   "metadata": {},
   "outputs": [
    {
     "name": "stdout",
     "output_type": "stream",
     "text": [
      "Accuracy with Logistic Regression classifier:--> 0.9\n"
     ]
    }
   ],
   "source": [
    "accuracy_logreg = round(metrics.accuracy_score(Y_test,y_pred),2)\n",
    "print(\"Accuracy with Logistic Regression classifier:-->\",accuracy_logreg)\n",
    "\n"
   ]
  },
  {
   "cell_type": "code",
   "execution_count": 44,
   "metadata": {},
   "outputs": [
    {
     "name": "stdout",
     "output_type": "stream",
     "text": [
      "0.8731343283582089\n"
     ]
    }
   ],
   "source": [
    "score = logreg.score(X_test, Y_test)\n",
    "print(score)"
   ]
  },
  {
   "cell_type": "code",
   "execution_count": 45,
   "metadata": {},
   "outputs": [
    {
     "name": "stdout",
     "output_type": "stream",
     "text": [
      "Accuracy with SVM classifier:--> 0.9104477611940298\n"
     ]
    },
    {
     "name": "stderr",
     "output_type": "stream",
     "text": [
      "/opt/anaconda3/lib/python3.7/site-packages/sklearn/utils/validation.py:760: DataConversionWarning: A column-vector y was passed when a 1d array was expected. Please change the shape of y to (n_samples, ), for example using ravel().\n",
      "  y = column_or_1d(y, warn=True)\n"
     ]
    }
   ],
   "source": [
    "from sklearn.svm import SVC\n",
    "\n",
    "svc = SVC(gamma='scale')\n",
    "svc.fit(X_train,Y_train)\n",
    "y_pred_svc = svc.predict(X_test)\n",
    "\n",
    "accuracy_svc = metrics.accuracy_score(Y_test,y_pred_svc)\n",
    "print(\"Accuracy with SVM classifier:-->\",accuracy_svc)"
   ]
  },
  {
   "cell_type": "code",
   "execution_count": null,
   "metadata": {},
   "outputs": [],
   "source": []
  }
 ],
 "metadata": {
  "kernelspec": {
   "display_name": "Python 3",
   "language": "python",
   "name": "python3"
  },
  "language_info": {
   "codemirror_mode": {
    "name": "ipython",
    "version": 3
   },
   "file_extension": ".py",
   "mimetype": "text/x-python",
   "name": "python",
   "nbconvert_exporter": "python",
   "pygments_lexer": "ipython3",
   "version": "3.7.6"
  }
 },
 "nbformat": 4,
 "nbformat_minor": 4
}
