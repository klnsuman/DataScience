{
 "cells": [
  {
   "cell_type": "markdown",
   "metadata": {},
   "source": [
    "<b>ML_GROUP059 | Assignment 2 | ML_GROUP059_A2_Neural_Network </b>\n",
    "----------------------------------------\n",
    "### Skin Segmentation\n",
    "<br><b>Description:</b> The Skin Segmentation dataset is constructed over B, G, R color space. \n",
    "<br>Skin and Nonskin dataset is generated using skin textures from face images of diversity of age, gender, and race people.\n",
    "<br>Objective is determination of whether Skin Or Non-Skin from the color pixels using Neural Network."
   ]
  },
  {
   "cell_type": "markdown",
   "metadata": {},
   "source": [
    "<b>Feature Description</b><br>\n",
    "\n",
    "Data Set Characteristics:  Univariate\n",
    "\n",
    "Number of Instances:       245057\n",
    "\n",
    "Number of Attributes:      4\n",
    "\n",
    "Associated Tasks:          Classification\n",
    "\n",
    "\n",
    "##### Independent Features:\n",
    "---\n",
    "Column 1\t\t-  Numeric         -\tRepresent Blue pixel value\t<br>\n",
    "Column 2\t\t-  Numeric         -\tRepresent Green pixel value<br>\n",
    "Column 3\t\t-  Numeric         -\tRepresent Red pixel value<br>\n",
    "    \n",
    "##### Target Variable:\n",
    "------\n",
    "Column 4   -  Numeric     -\tClassification<br>"
   ]
  },
  {
   "cell_type": "code",
   "execution_count": 1,
   "metadata": {},
   "outputs": [
    {
     "name": "stderr",
     "output_type": "stream",
     "text": [
      "Using TensorFlow backend.\n"
     ]
    }
   ],
   "source": [
    "# Importing required libraries\n",
    "import csv \n",
    "import pandas as pd\n",
    "import matplotlib.pyplot as plt\n",
    "import seaborn as sb\n",
    "\n",
    "from numpy import loadtxt\n",
    "from keras.models import Sequential\n",
    "from keras.layers import Dense\n",
    "from sklearn.metrics import confusion_matrix\n",
    "from sklearn.metrics import classification_report\n",
    "from sklearn.model_selection import train_test_split\n",
    "from sklearn.preprocessing import StandardScaler"
   ]
  },
  {
   "cell_type": "code",
   "execution_count": 2,
   "metadata": {},
   "outputs": [
    {
     "data": {
      "text/plain": [
       "'/Users/pkoduri/PK_Data/Trainings/BITS_Mtech/Sem2/Assignments/ML_Asg/A2'"
      ]
     },
     "execution_count": 2,
     "metadata": {},
     "output_type": "execute_result"
    }
   ],
   "source": [
    "#lets check the current working directory\n",
    "from os import chdir, getcwd\n",
    "wd=getcwd()\n",
    "wd\n",
    "chdir(wd)\n",
    "wd"
   ]
  },
  {
   "cell_type": "markdown",
   "metadata": {},
   "source": [
    " <b>Importing</b> data from the provided data file.<br>"
   ]
  },
  {
   "cell_type": "code",
   "execution_count": 3,
   "metadata": {},
   "outputs": [],
   "source": [
    "#Reading the dataset given in the text format and generating a csv out of it\n",
    "\n",
    "with open('Skin_NonSkin.txt', 'r') as in_file:\n",
    "    stripped = (line.strip() for line in in_file)\n",
    "    lines = (line.split(\"\\t\") for line in stripped if line)\n",
    "    with open('Skin_NonSkin.csv', 'w') as out_file:\n",
    "        writer = csv.writer(out_file)\n",
    "        #writer.writerow(('Red', 'Blue','Green','Class'))\n",
    "        writer.writerows(lines)"
   ]
  },
  {
   "cell_type": "code",
   "execution_count": 4,
   "metadata": {},
   "outputs": [],
   "source": [
    "# Create a dataframe out of the csv generated\n",
    "# Use this dataframe going further.\n",
    "\n",
    "dataset = loadtxt('Skin_NonSkin.csv', delimiter=',')\n",
    "data=pd.DataFrame(data=dataset)\n",
    "data.rename(columns={0: 'Blue', 1: 'Green', 2: 'Red', 3: 'Class'}, inplace=True)"
   ]
  },
  {
   "cell_type": "markdown",
   "metadata": {},
   "source": [
    "#### Reviewing Data"
   ]
  },
  {
   "cell_type": "code",
   "execution_count": 5,
   "metadata": {},
   "outputs": [
    {
     "data": {
      "text/plain": [
       "Blue     0\n",
       "Green    0\n",
       "Red      0\n",
       "Class    0\n",
       "dtype: int64"
      ]
     },
     "execution_count": 5,
     "metadata": {},
     "output_type": "execute_result"
    }
   ],
   "source": [
    "# Check data for any null values - Description file claims there are no null values - confirming\n",
    "data.isnull().sum() "
   ]
  },
  {
   "cell_type": "code",
   "execution_count": 6,
   "metadata": {},
   "outputs": [
    {
     "name": "stdout",
     "output_type": "stream",
     "text": [
      "Reviewing data......    Blue  Green    Red  Class\n",
      "0  74.0   85.0  123.0    1.0\n",
      "1  73.0   84.0  122.0    1.0\n",
      "2  72.0   83.0  121.0    1.0\n",
      "3  70.0   81.0  119.0    1.0\n",
      "4  70.0   81.0  119.0    1.0\n",
      "\n",
      "\n",
      "\n",
      "Shape of data... (245057, 4)\n",
      "\n",
      "\n",
      "\n",
      "Describing different numeric attributes...           count        mean        std  min   25%    50%    75%    max\n",
      "Blue   245057.0  125.065446  62.255653  0.0  68.0  139.0  176.0  255.0\n",
      "Green  245057.0  132.507327  59.941197  0.0  87.0  153.0  177.0  255.0\n",
      "Red    245057.0  123.177151  72.562165  0.0  70.0  128.0  164.0  255.0\n",
      "Class  245057.0    1.792461   0.405546  1.0   2.0    2.0    2.0    2.0\n",
      "\n",
      "\n",
      "\n",
      "Understanding different attributes types...\n",
      "\n",
      "\n",
      "<class 'pandas.core.frame.DataFrame'>\n",
      "RangeIndex: 245057 entries, 0 to 245056\n",
      "Data columns (total 4 columns):\n",
      "Blue     245057 non-null float64\n",
      "Green    245057 non-null float64\n",
      "Red      245057 non-null float64\n",
      "Class    245057 non-null float64\n",
      "dtypes: float64(4)\n",
      "memory usage: 7.5 MB\n",
      "None\n"
     ]
    }
   ],
   "source": [
    "# Trying to describe the data and see various attributes\n",
    "\n",
    "print(\"Reviewing data......\",data.head())\n",
    "\n",
    "print(\"\\n\\n\\nShape of data...\",data.shape)\n",
    "\n",
    "print(\"\\n\\n\\nDescribing different numeric attributes...\",data.describe().T)\n",
    "\n",
    "print(\"\\n\\n\\nUnderstanding different attributes types...\\n\\n\")\n",
    "print(data.info())"
   ]
  },
  {
   "cell_type": "code",
   "execution_count": 7,
   "metadata": {},
   "outputs": [
    {
     "data": {
      "text/html": [
       "<div>\n",
       "<style scoped>\n",
       "    .dataframe tbody tr th:only-of-type {\n",
       "        vertical-align: middle;\n",
       "    }\n",
       "\n",
       "    .dataframe tbody tr th {\n",
       "        vertical-align: top;\n",
       "    }\n",
       "\n",
       "    .dataframe thead th {\n",
       "        text-align: right;\n",
       "    }\n",
       "</style>\n",
       "<table border=\"1\" class=\"dataframe\">\n",
       "  <thead>\n",
       "    <tr style=\"text-align: right;\">\n",
       "      <th></th>\n",
       "      <th>Blue</th>\n",
       "      <th>Green</th>\n",
       "      <th>Red</th>\n",
       "      <th>Class</th>\n",
       "    </tr>\n",
       "  </thead>\n",
       "  <tbody>\n",
       "    <tr>\n",
       "      <th>count</th>\n",
       "      <td>245057.000000</td>\n",
       "      <td>245057.000000</td>\n",
       "      <td>245057.000000</td>\n",
       "      <td>245057.000000</td>\n",
       "    </tr>\n",
       "    <tr>\n",
       "      <th>mean</th>\n",
       "      <td>125.065446</td>\n",
       "      <td>132.507327</td>\n",
       "      <td>123.177151</td>\n",
       "      <td>1.792461</td>\n",
       "    </tr>\n",
       "    <tr>\n",
       "      <th>std</th>\n",
       "      <td>62.255653</td>\n",
       "      <td>59.941197</td>\n",
       "      <td>72.562165</td>\n",
       "      <td>0.405546</td>\n",
       "    </tr>\n",
       "    <tr>\n",
       "      <th>min</th>\n",
       "      <td>0.000000</td>\n",
       "      <td>0.000000</td>\n",
       "      <td>0.000000</td>\n",
       "      <td>1.000000</td>\n",
       "    </tr>\n",
       "    <tr>\n",
       "      <th>25%</th>\n",
       "      <td>68.000000</td>\n",
       "      <td>87.000000</td>\n",
       "      <td>70.000000</td>\n",
       "      <td>2.000000</td>\n",
       "    </tr>\n",
       "    <tr>\n",
       "      <th>50%</th>\n",
       "      <td>139.000000</td>\n",
       "      <td>153.000000</td>\n",
       "      <td>128.000000</td>\n",
       "      <td>2.000000</td>\n",
       "    </tr>\n",
       "    <tr>\n",
       "      <th>75%</th>\n",
       "      <td>176.000000</td>\n",
       "      <td>177.000000</td>\n",
       "      <td>164.000000</td>\n",
       "      <td>2.000000</td>\n",
       "    </tr>\n",
       "    <tr>\n",
       "      <th>max</th>\n",
       "      <td>255.000000</td>\n",
       "      <td>255.000000</td>\n",
       "      <td>255.000000</td>\n",
       "      <td>2.000000</td>\n",
       "    </tr>\n",
       "  </tbody>\n",
       "</table>\n",
       "</div>"
      ],
      "text/plain": [
       "                Blue          Green            Red          Class\n",
       "count  245057.000000  245057.000000  245057.000000  245057.000000\n",
       "mean      125.065446     132.507327     123.177151       1.792461\n",
       "std        62.255653      59.941197      72.562165       0.405546\n",
       "min         0.000000       0.000000       0.000000       1.000000\n",
       "25%        68.000000      87.000000      70.000000       2.000000\n",
       "50%       139.000000     153.000000     128.000000       2.000000\n",
       "75%       176.000000     177.000000     164.000000       2.000000\n",
       "max       255.000000     255.000000     255.000000       2.000000"
      ]
     },
     "execution_count": 7,
     "metadata": {},
     "output_type": "execute_result"
    }
   ],
   "source": [
    "data.describe()"
   ]
  },
  {
   "cell_type": "markdown",
   "metadata": {},
   "source": [
    "#### Note:\n",
    "    \n",
    "    No missing values - so null value handling not required\n",
    "    No categorical variable - so not required to handle them"
   ]
  },
  {
   "cell_type": "markdown",
   "metadata": {},
   "source": [
    "#### EDA - Data Visualization \n",
    "Data Distrubution (Feature wise spread) to get an insight about different features and their distribution"
   ]
  },
  {
   "cell_type": "code",
   "execution_count": 8,
   "metadata": {},
   "outputs": [
    {
     "data": {
      "image/png": "[encoded data removed]",
      "text/plain": [
       "<Figure size 1080x360 with 8 Axes>"
      ]
     },
     "metadata": {
      "needs_background": "light"
     },
     "output_type": "display_data"
    }
   ],
   "source": [
    "\"\"\"Plotting all the attributes to get a visualization of the \n",
    "   intra-column Data distribution / Target variable distribution\n",
    "\"\"\"\n",
    "#data.columns[1:]\n",
    "graphRow, graphCol = 0, 0\n",
    "catch,dims = plt.subplots(2, 4, figsize = (15, 5))\n",
    "plt.subplots_adjust(hspace = .4)\n",
    "\n",
    "for att in list(data.columns[0:])+['Blue_Dist','Green_Dist','Red_Dist']:            \n",
    "    if att in ['Blue','Green','Red']:\n",
    "       dims[graphRow,graphCol].hist(data[att].dropna())\n",
    "       dims[graphRow, graphCol].set_title(att)\n",
    "\n",
    "                \n",
    "    if att in ['Class']:\n",
    "        bar_data = data[att].value_counts()\n",
    "        sb.barplot(bar_data.index, bar_data.values, ax = dims[graphRow,graphCol])\n",
    "    \n",
    "    if att in ['Blue_Dist']:\n",
    "        plt.tight_layout()\n",
    "        sb.distplot(data['Blue'],ax = dims[graphRow,graphCol])\n",
    "    \n",
    "    if att in ['Green_Dist']:\n",
    "        plt.tight_layout()\n",
    "        sb.distplot(data['Green'],ax = dims[graphRow,graphCol])\n",
    "\n",
    "    if att in ['Red_Dist']:\n",
    "        plt.tight_layout()\n",
    "        sb.distplot(data['Red'],ax = dims[graphRow,graphCol])\n",
    "        \n",
    "    dims[graphRow, graphCol].set_title(att)    \n",
    "    graphCol += 1 \n",
    "    if graphCol ==4:\n",
    "        graphRow += 1\n",
    "        graphCol = 0"
   ]
  },
  {
   "cell_type": "markdown",
   "metadata": {},
   "source": [
    "#### Inference:\n",
    "     More records correspond to class 1.\n",
    "     Red pixel values span between 0 and 250 with majority around [0-50],[100-150] and [200-250]\n",
    "     Blue pixel values span between 0 and 250 with majority around [150-200]\n",
    "     Green pixel values span between 0 and 250 with majority around [150-200]"
   ]
  },
  {
   "cell_type": "code",
   "execution_count": 9,
   "metadata": {},
   "outputs": [
    {
     "data": {
      "text/plain": [
       "<matplotlib.axes._subplots.AxesSubplot at 0x11fe7a908>"
      ]
     },
     "execution_count": 9,
     "metadata": {},
     "output_type": "execute_result"
    },
    {
     "data": {
      "image/png": "[encoded data removed]",
      "text/plain": [
       "<Figure size 1080x360 with 3 Axes>"
      ]
     },
     "metadata": {
      "needs_background": "light"
     },
     "output_type": "display_data"
    }
   ],
   "source": [
    "f, axes = plt.subplots(1, 3,figsize = (15, 5))\n",
    "plt.subplots_adjust(wspace = .50)\n",
    "\n",
    "sb.countplot(x='Blue',hue=\"Class\",data=data,orient='v' , ax=axes[0])\n",
    "sb.countplot(x='Green',hue=\"Class\",data=data,orient='v' , ax=axes[1])\n",
    "sb.countplot(x='Red',hue=\"Class\",data=data,orient='v' , ax=axes[2])"
   ]
  },
  {
   "cell_type": "code",
   "execution_count": 10,
   "metadata": {},
   "outputs": [
    {
     "data": {
      "image/png": "[encoded data removed]",
      "text/plain": [
       "<Figure size 432x288 with 2 Axes>"
      ]
     },
     "metadata": {
      "needs_background": "light"
     },
     "output_type": "display_data"
    }
   ],
   "source": [
    "ax2 = data.plot.scatter(x='Class',\n",
    "                      y='Red',\n",
    "                      c='Class',\n",
    "                      colormap='viridis')"
   ]
  },
  {
   "cell_type": "code",
   "execution_count": 11,
   "metadata": {},
   "outputs": [
    {
     "data": {
      "image/png": "[encoded data removed]",
      "text/plain": [
       "<Figure size 432x288 with 2 Axes>"
      ]
     },
     "metadata": {
      "needs_background": "light"
     },
     "output_type": "display_data"
    }
   ],
   "source": [
    "ax2 = data.plot.scatter(x='Class',\n",
    "                      y='Blue',\n",
    "                      c='Class',\n",
    "                      colormap='viridis')"
   ]
  },
  {
   "cell_type": "code",
   "execution_count": 12,
   "metadata": {},
   "outputs": [
    {
     "data": {
      "image/png": "[encoded data removed]",
      "text/plain": [
       "<Figure size 432x288 with 2 Axes>"
      ]
     },
     "metadata": {
      "needs_background": "light"
     },
     "output_type": "display_data"
    }
   ],
   "source": [
    "ax2 = data.plot.scatter(x='Class',\n",
    "                      y='Green',\n",
    "                      c='Class',\n",
    "                      colormap='viridis')"
   ]
  },
  {
   "cell_type": "markdown",
   "metadata": {},
   "source": [
    "##### Inference:\n",
    "     Larger Blue value higher chance that the record belongs to class 2\n",
    "     Smaller Red value higher chance that the record belongs to class 2\n",
    "     Average green value higher chance that the record belongs to class 1"
   ]
  },
  {
   "cell_type": "markdown",
   "metadata": {},
   "source": [
    "##### Feature Processing / Cleaning - Based on EDA above"
   ]
  },
  {
   "cell_type": "code",
   "execution_count": 13,
   "metadata": {},
   "outputs": [],
   "source": [
    "# Tagging target variable to 0 or 1\n",
    "# i.e Either Skin or Non-Skin\n",
    "\n",
    "data['Class']=[1 if each==1.0 else 0 for each in data['Class']]\n",
    "#dataTemp = pd.concat([data.head(20000),data.tail(20000)])\n",
    "dataTemp=data"
   ]
  },
  {
   "cell_type": "code",
   "execution_count": 14,
   "metadata": {},
   "outputs": [],
   "source": [
    "# Feature Scaling\n",
    "#Standardize features by removing the mean(=0) and scaling to unit variance\n",
    "sc = StandardScaler()\n",
    "x_data = sc.fit_transform(dataTemp.iloc[:,0:3])"
   ]
  },
  {
   "cell_type": "code",
   "execution_count": 15,
   "metadata": {},
   "outputs": [],
   "source": [
    "y_data = dataTemp.iloc[:,3]"
   ]
  },
  {
   "cell_type": "markdown",
   "metadata": {},
   "source": [
    "<b>Correlation</b>: Understanding the correlation between different attibutes"
   ]
  },
  {
   "cell_type": "code",
   "execution_count": 16,
   "metadata": {},
   "outputs": [
    {
     "data": {
      "text/html": [
       "<div>\n",
       "<style scoped>\n",
       "    .dataframe tbody tr th:only-of-type {\n",
       "        vertical-align: middle;\n",
       "    }\n",
       "\n",
       "    .dataframe tbody tr th {\n",
       "        vertical-align: top;\n",
       "    }\n",
       "\n",
       "    .dataframe thead th {\n",
       "        text-align: right;\n",
       "    }\n",
       "</style>\n",
       "<table border=\"1\" class=\"dataframe\">\n",
       "  <thead>\n",
       "    <tr style=\"text-align: right;\">\n",
       "      <th></th>\n",
       "      <th>Blue</th>\n",
       "      <th>Green</th>\n",
       "      <th>Red</th>\n",
       "      <th>Class</th>\n",
       "    </tr>\n",
       "  </thead>\n",
       "  <tbody>\n",
       "    <tr>\n",
       "      <th>Blue</th>\n",
       "      <td>1.000000</td>\n",
       "      <td>0.855250</td>\n",
       "      <td>0.496376</td>\n",
       "      <td>-0.092030</td>\n",
       "    </tr>\n",
       "    <tr>\n",
       "      <th>Green</th>\n",
       "      <td>0.855250</td>\n",
       "      <td>1.000000</td>\n",
       "      <td>0.660098</td>\n",
       "      <td>0.120327</td>\n",
       "    </tr>\n",
       "    <tr>\n",
       "      <th>Red</th>\n",
       "      <td>0.496376</td>\n",
       "      <td>0.660098</td>\n",
       "      <td>1.000000</td>\n",
       "      <td>0.569958</td>\n",
       "    </tr>\n",
       "    <tr>\n",
       "      <th>Class</th>\n",
       "      <td>-0.092030</td>\n",
       "      <td>0.120327</td>\n",
       "      <td>0.569958</td>\n",
       "      <td>1.000000</td>\n",
       "    </tr>\n",
       "  </tbody>\n",
       "</table>\n",
       "</div>"
      ],
      "text/plain": [
       "           Blue     Green       Red     Class\n",
       "Blue   1.000000  0.855250  0.496376 -0.092030\n",
       "Green  0.855250  1.000000  0.660098  0.120327\n",
       "Red    0.496376  0.660098  1.000000  0.569958\n",
       "Class -0.092030  0.120327  0.569958  1.000000"
      ]
     },
     "execution_count": 16,
     "metadata": {},
     "output_type": "execute_result"
    }
   ],
   "source": [
    "dataTemp.corr()"
   ]
  },
  {
   "cell_type": "code",
   "execution_count": 17,
   "metadata": {},
   "outputs": [
    {
     "data": {
      "text/plain": [
       "<matplotlib.axes._subplots.AxesSubplot at 0x1a4b977828>"
      ]
     },
     "execution_count": 17,
     "metadata": {},
     "output_type": "execute_result"
    },
    {
     "data": {
      "image/png": "[encoded data removed]",
      "text/plain": [
       "<Figure size 360x360 with 2 Axes>"
      ]
     },
     "metadata": {
      "needs_background": "light"
     },
     "output_type": "display_data"
    }
   ],
   "source": [
    "plt.figure(figsize = (5,5))        # Size of the figure\n",
    "\n",
    "sb.heatmap(dataTemp.corr(),annot = True)"
   ]
  },
  {
   "cell_type": "markdown",
   "metadata": {},
   "source": [
    "##### Inference:\n",
    "     Each of the three attributes Red, Green, Blue is contributing to the class\n",
    "     So let use all of them for training the model."
   ]
  },
  {
   "cell_type": "markdown",
   "metadata": {},
   "source": [
    "## Training the model:\n",
    "### Trail 1:\n",
    "\n",
    "    i.   Split the data to Train and Test sets<br>\n",
    "    ii.  Fit the Neural Network model<br>\n",
    "    iii. Review results on train data<br>\n",
    "    iv.  Preformance metrics on validation data"
   ]
  },
  {
   "cell_type": "code",
   "execution_count": 18,
   "metadata": {},
   "outputs": [],
   "source": [
    "# Splitting the data in to train and test for running the model\n",
    "\n",
    "x_train,x_test,y_train,y_test=train_test_split(x_data,y_data,random_state=1,test_size=0.25)"
   ]
  },
  {
   "cell_type": "markdown",
   "metadata": {},
   "source": [
    "#### Defining the Keras model:\n",
    "\n",
    "##### Definition:\n",
    "    The model expects rows of data with 3 variables (the input_dim=3 argument)\n",
    "    The first hidden layer has 4 nodes and uses the relu activation function.\n",
    "    The second hidden layer has 80 nodes and uses the relu activation function.\n",
    "    The third hidden layer has 80 nodes and uses the relu activation function.\n",
    "    The output layer has one node and uses the sigmoid activation function.\n",
    "\n",
    "##### Model uses,\n",
    "    Loss Measure:     'binary_crossentropy'\n",
    "        Optimizer:    'adam' \n",
    "        Metrics:      'accuracy'\n",
    "\n",
    "##### Model Fits,\n",
    "    With Batch size: 100\n",
    "        Epochs: 15\n",
    "        \n",
    "#### Note:\n",
    "    Arrive at this metrics after many interations of trail and error with,\n",
    "        Number of hidden layers\n",
    "        Number of nodes in each hidden layer\n",
    "        Activation function in the output layer\n",
    "        Batch size\n",
    "        Epochs\n",
    "     Finally this combination seem to give a resonable accuracy."
   ]
  },
  {
   "cell_type": "code",
   "execution_count": 19,
   "metadata": {},
   "outputs": [
    {
     "name": "stdout",
     "output_type": "stream",
     "text": [
      "WARNING:tensorflow:From /Users/pkoduri/Work_Install/anaconda3/lib/python3.6/site-packages/keras/backend/tensorflow_backend.py:74: The name tf.get_default_graph is deprecated. Please use tf.compat.v1.get_default_graph instead.\n",
      "\n",
      "WARNING:tensorflow:From /Users/pkoduri/Work_Install/anaconda3/lib/python3.6/site-packages/keras/backend/tensorflow_backend.py:517: The name tf.placeholder is deprecated. Please use tf.compat.v1.placeholder instead.\n",
      "\n",
      "WARNING:tensorflow:From /Users/pkoduri/Work_Install/anaconda3/lib/python3.6/site-packages/keras/backend/tensorflow_backend.py:4138: The name tf.random_uniform is deprecated. Please use tf.random.uniform instead.\n",
      "\n"
     ]
    }
   ],
   "source": [
    "model = Sequential()\n",
    "model.add(Dense(4, input_dim=3, activation='relu'))\n",
    "model.add(Dense(80, activation='relu'))\n",
    "model.add(Dense(80, activation='relu'))\n",
    "model.add(Dense(1, activation='sigmoid'))"
   ]
  },
  {
   "cell_type": "code",
   "execution_count": 20,
   "metadata": {},
   "outputs": [
    {
     "name": "stdout",
     "output_type": "stream",
     "text": [
      "WARNING:tensorflow:From /Users/pkoduri/Work_Install/anaconda3/lib/python3.6/site-packages/keras/optimizers.py:790: The name tf.train.Optimizer is deprecated. Please use tf.compat.v1.train.Optimizer instead.\n",
      "\n",
      "WARNING:tensorflow:From /Users/pkoduri/Work_Install/anaconda3/lib/python3.6/site-packages/keras/backend/tensorflow_backend.py:3376: The name tf.log is deprecated. Please use tf.math.log instead.\n",
      "\n",
      "WARNING:tensorflow:From /Users/pkoduri/Work_Install/anaconda3/lib/python3.6/site-packages/tensorflow/python/ops/nn_impl.py:180: add_dispatch_support.<locals>.wrapper (from tensorflow.python.ops.array_ops) is deprecated and will be removed in a future version.\n",
      "Instructions for updating:\n",
      "Use tf.where in 2.0, which has the same broadcast rule as np.where\n"
     ]
    }
   ],
   "source": [
    "# Compile the keras model\n",
    "model.compile(loss='binary_crossentropy', optimizer='adam', metrics=['accuracy'])"
   ]
  },
  {
   "cell_type": "code",
   "execution_count": 21,
   "metadata": {},
   "outputs": [
    {
     "name": "stdout",
     "output_type": "stream",
     "text": [
      "WARNING:tensorflow:From /Users/pkoduri/Work_Install/anaconda3/lib/python3.6/site-packages/keras/backend/tensorflow_backend.py:986: The name tf.assign_add is deprecated. Please use tf.compat.v1.assign_add instead.\n",
      "\n",
      "Epoch 1/15\n",
      "183792/183792 [==============================] - 9s 50us/step - loss: 0.0408 - acc: 0.9856\n",
      "Epoch 2/15\n",
      "183792/183792 [==============================] - 6s 32us/step - loss: 0.0096 - acc: 0.9977\n",
      "Epoch 3/15\n",
      "183792/183792 [==============================] - 6s 35us/step - loss: 0.0092 - acc: 0.9979\n",
      "Epoch 4/15\n",
      "183792/183792 [==============================] - 7s 39us/step - loss: 0.0090 - acc: 0.9980\n",
      "Epoch 5/15\n",
      "183792/183792 [==============================] - 7s 36us/step - loss: 0.0089 - acc: 0.9980\n",
      "Epoch 6/15\n",
      "183792/183792 [==============================] - 7s 37us/step - loss: 0.0087 - acc: 0.9981\n",
      "Epoch 7/15\n",
      "183792/183792 [==============================] - 6s 35us/step - loss: 0.0086 - acc: 0.9981\n",
      "Epoch 8/15\n",
      "183792/183792 [==============================] - 7s 36us/step - loss: 0.0085 - acc: 0.9981\n",
      "Epoch 9/15\n",
      "183792/183792 [==============================] - 8s 41us/step - loss: 0.0084 - acc: 0.9981\n",
      "Epoch 10/15\n",
      "183792/183792 [==============================] - 7s 38us/step - loss: 0.0082 - acc: 0.9981\n",
      "Epoch 11/15\n",
      "183792/183792 [==============================] - 6s 33us/step - loss: 0.0083 - acc: 0.9981\n",
      "Epoch 12/15\n",
      "183792/183792 [==============================] - 7s 39us/step - loss: 0.0082 - acc: 0.9981\n",
      "Epoch 13/15\n",
      "183792/183792 [==============================] - 7s 38us/step - loss: 0.0080 - acc: 0.9982\n",
      "Epoch 14/15\n",
      "183792/183792 [==============================] - 6s 33us/step - loss: 0.0080 - acc: 0.9982\n",
      "Epoch 15/15\n",
      "183792/183792 [==============================] - 6s 33us/step - loss: 0.0079 - acc: 0.9981\n"
     ]
    },
    {
     "data": {
      "text/plain": [
       "<keras.callbacks.History at 0x10dc30e10>"
      ]
     },
     "execution_count": 21,
     "metadata": {},
     "output_type": "execute_result"
    }
   ],
   "source": [
    "# fit the keras model on the dataset\n",
    "model.fit(x_train, y_train, epochs=15, batch_size=100)"
   ]
  },
  {
   "cell_type": "markdown",
   "metadata": {},
   "source": [
    "### Validating the Trained Model:"
   ]
  },
  {
   "cell_type": "markdown",
   "metadata": {},
   "source": [
    "##### Accuracy"
   ]
  },
  {
   "cell_type": "code",
   "execution_count": 22,
   "metadata": {},
   "outputs": [
    {
     "name": "stdout",
     "output_type": "stream",
     "text": [
      "61265/61265 [==============================] - 2s 30us/step\n",
      "Accuracy: 99.83\n"
     ]
    }
   ],
   "source": [
    "# Find accuracy on the Test data\n",
    "\n",
    "_, accuracy = model.evaluate(x_test, y_test)\n",
    "print('Accuracy: %.2f' % (accuracy*100))"
   ]
  },
  {
   "cell_type": "markdown",
   "metadata": {},
   "source": [
    "##### Confusion Matrix"
   ]
  },
  {
   "cell_type": "code",
   "execution_count": 23,
   "metadata": {},
   "outputs": [],
   "source": [
    "# Generate the predictions on the Test data\n",
    "predictions = model.predict_classes(x_test)\n",
    "cm=confusion_matrix (y_test,predictions,  labels=None,sample_weight=None, normalize=None)"
   ]
  },
  {
   "cell_type": "code",
   "execution_count": 24,
   "metadata": {},
   "outputs": [
    {
     "name": "stdout",
     "output_type": "stream",
     "text": [
      "Classification Report:\n",
      "\n",
      "              precision    recall  f1-score   support\n",
      "\n",
      "           0       1.00      1.00      1.00     48454\n",
      "           1       0.99      1.00      1.00     12811\n",
      "\n",
      "    accuracy                           1.00     61265\n",
      "   macro avg       1.00      1.00      1.00     61265\n",
      "weighted avg       1.00      1.00      1.00     61265\n",
      "\n"
     ]
    },
    {
     "data": {
      "image/png": "[encoded data removed]",
      "text/plain": [
       "<Figure size 360x360 with 2 Axes>"
      ]
     },
     "metadata": {
      "needs_background": "light"
     },
     "output_type": "display_data"
    }
   ],
   "source": [
    "#Confusion Matrix on Heatmap\n",
    "f,ax=plt.subplots(figsize=(5,5))\n",
    "sb.heatmap(cm,annot=True,linewidths=0.5,linecolor=\"red\",fmt=\".0f\",ax=ax)\n",
    "plt.xlabel(\"y_pred\")\n",
    "plt.ylabel(\"y_true\")\n",
    "print(\"Classification Report:\\n\")\n",
    "print(classification_report(y_test,predictions))\n",
    "plt.title(\"Confusion Matrix plotted\\n\")\n",
    "plt.show()"
   ]
  },
  {
   "cell_type": "markdown",
   "metadata": {},
   "source": [
    "### Trail 2:\n",
    "    Reviewing the dataset we found many duplicate records.\n",
    "    Even though duplication is not a concern here, just for our understanding we have\n",
    "    tried removing duplicates.\n",
    "\n",
    "    Understanding is that it doesn't improve any performance"
   ]
  },
  {
   "cell_type": "code",
   "execution_count": 25,
   "metadata": {},
   "outputs": [],
   "source": [
    "data2 = data\n",
    "data2.drop_duplicates(keep=False,inplace=True)\n",
    "data2.shape\n",
    "\n",
    "# Tagging target variable to 0 or 1\n",
    "# i.e Either Skin or Non-Skin\n",
    "\n",
    "data2['Class']=[1 if each==1.0 else 0 for each in data2['Class']]\n",
    "#dataTemp = pd.concat([data.head(20000),data.tail(20000)])\n",
    "dataTemp2=data2\n",
    "\n",
    "\n",
    "# Feature Scaling\n",
    "#Standardize features by removing the mean(=0) and scaling to unit variance\n",
    "sc = StandardScaler()\n",
    "x_data = sc.fit_transform(dataTemp2.iloc[:,0:3])\n",
    "\n",
    "\n",
    "y_data = dataTemp2.iloc[:,3]\n",
    "\n",
    "\n",
    "# Splitting the data in to train and test for running the model\n",
    "\n",
    "x_train,x_test,y_train,y_test=train_test_split(x_data,y_data,random_state=1,test_size=0.25)\n",
    "\n",
    "model = Sequential()\n",
    "model.add(Dense(4, input_dim=3, activation='relu'))\n",
    "model.add(Dense(80, activation='relu'))\n",
    "model.add(Dense(80, activation='relu'))\n",
    "model.add(Dense(1, activation='sigmoid'))\n"
   ]
  },
  {
   "cell_type": "code",
   "execution_count": 26,
   "metadata": {},
   "outputs": [
    {
     "name": "stdout",
     "output_type": "stream",
     "text": [
      "Epoch 1/15\n",
      "23322/23322 [==============================] - 2s 85us/step - loss: 0.2983 - acc: 0.8590\n",
      "Epoch 2/15\n",
      "23322/23322 [==============================] - 1s 31us/step - loss: 0.1573 - acc: 0.9343\n",
      "Epoch 3/15\n",
      "23322/23322 [==============================] - 1s 31us/step - loss: 0.0895 - acc: 0.9658\n",
      "Epoch 4/15\n",
      "23322/23322 [==============================] - 1s 31us/step - loss: 0.0526 - acc: 0.9829\n",
      "Epoch 5/15\n",
      "23322/23322 [==============================] - 1s 31us/step - loss: 0.0363 - acc: 0.9894\n",
      "Epoch 6/15\n",
      "23322/23322 [==============================] - 1s 32us/step - loss: 0.0300 - acc: 0.9910\n",
      "Epoch 7/15\n",
      "23322/23322 [==============================] - 1s 32us/step - loss: 0.0268 - acc: 0.9918\n",
      "Epoch 8/15\n",
      "23322/23322 [==============================] - 1s 32us/step - loss: 0.0250 - acc: 0.9928\n",
      "Epoch 9/15\n",
      "23322/23322 [==============================] - 1s 32us/step - loss: 0.0232 - acc: 0.9930\n",
      "Epoch 10/15\n",
      "23322/23322 [==============================] - 1s 32us/step - loss: 0.0226 - acc: 0.9931\n",
      "Epoch 11/15\n",
      "23322/23322 [==============================] - 1s 31us/step - loss: 0.0210 - acc: 0.9938\n",
      "Epoch 12/15\n",
      "23322/23322 [==============================] - 1s 31us/step - loss: 0.0209 - acc: 0.9931\n",
      "Epoch 13/15\n",
      "23322/23322 [==============================] - 1s 34us/step - loss: 0.0199 - acc: 0.9941\n",
      "Epoch 14/15\n",
      "23322/23322 [==============================] - 1s 33us/step - loss: 0.0193 - acc: 0.9947\n",
      "Epoch 15/15\n",
      "23322/23322 [==============================] - 1s 31us/step - loss: 0.0198 - acc: 0.9942\n",
      "7775/7775 [==============================] - 0s 46us/step\n",
      "\n",
      "\n",
      "\n",
      "Trail #2 - Removing duplicates - Accuracy: 99.41\n"
     ]
    }
   ],
   "source": [
    "# Compile the keras model\n",
    "model.compile(loss='binary_crossentropy', optimizer='adam', metrics=['accuracy'])\n",
    "\n",
    "# fit the keras model on the dataset\n",
    "model.fit(x_train, y_train, epochs=15, batch_size=100)\n",
    "\n",
    "# Find accuracy on the Test data\n",
    "\n",
    "_, accuracy = model.evaluate(x_test, y_test)\n",
    "print('\\n\\n\\nTrail #2 - Removing duplicates - Accuracy: %.2f' % (accuracy*100))"
   ]
  }
 ],
 "metadata": {
  "kernelspec": {
   "display_name": "Python 3",
   "language": "python",
   "name": "python3"
  },
  "language_info": {
   "codemirror_mode": {
    "name": "ipython",
    "version": 3
   },
   "file_extension": ".py",
   "mimetype": "text/x-python",
   "name": "python",
   "nbconvert_exporter": "python",
   "pygments_lexer": "ipython3",
   "version": "3.7.6"
  }
 },
 "nbformat": 4,
 "nbformat_minor": 2
}
