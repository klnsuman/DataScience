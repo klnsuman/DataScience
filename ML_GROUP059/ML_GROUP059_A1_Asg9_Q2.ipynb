{
 "cells": [
  {
   "cell_type": "markdown",
   "metadata": {},
   "source": [
    "<b>ML_GROUP059 | Assignment 9 | ML_GROUP059_A1_Asg9_Q2 </b>\n",
    "----------------------------------------\n",
    "<br>The following dataset is used to classify the car acceptability into classes: unacceptable, acceptable, good and very good"
   ]
  },
  {
   "cell_type": "markdown",
   "metadata": {},
   "source": [
    "<b>Feature Description</b><br>\n",
    "\n",
    "Independent Variables:<br>\n",
    "   \n",
    "Cost                 {'vhigh','high', 'med', 'low'}<br>\n",
    "Maintenance cost     {'vhigh','high', 'med', 'low'}<br>\n",
    "Doors                {2,3,4,5more}<br>\n",
    "Persons              {2,4,more}<br>\n",
    "Lug_boot             {'small', 'med', 'big'}<br>\n",
    "Safety               {'high', 'med', 'low'}<br>\n",
    "\n",
    "Target Variable:<br>\n",
    "\n",
    "Decison              {'vgood','good','acc','unacc'}"
   ]
  },
  {
   "cell_type": "code",
   "execution_count": 224,
   "metadata": {},
   "outputs": [],
   "source": [
    "# Importing the libraries\n",
    "import numpy as np\n",
    "import matplotlib.pyplot as plt\n",
    "import pandas as pd\n",
    "import seaborn as sns\n",
    "import os\n",
    "%matplotlib inline\n",
    "from sklearn.model_selection import cross_val_score, cross_val_predict\n",
    "from sklearn.model_selection import train_test_split\n",
    "from sklearn.metrics import classification_report\n",
    "from sklearn.metrics import confusion_matrix\n",
    "import warnings\n",
    "warnings.filterwarnings('ignore')"
   ]
  },
  {
   "cell_type": "code",
   "execution_count": 225,
   "metadata": {},
   "outputs": [
    {
     "data": {
      "text/plain": [
       "'/Users/pkoduri/PK_Data/Trainings/BITS_Mtech/Sem2/Assignments/ML_Asg/A1/2'"
      ]
     },
     "execution_count": 225,
     "metadata": {},
     "output_type": "execute_result"
    }
   ],
   "source": [
    "#lets check the current working directory\n",
    "from os import chdir, getcwd\n",
    "wd=getcwd()\n",
    "wd\n",
    "chdir(wd)\n",
    "wd"
   ]
  },
  {
   "cell_type": "markdown",
   "metadata": {},
   "source": [
    "Importing data from the provided csv file.<br>\n",
    "Column names missing in the csv - Supply column names as appropriate from the description file"
   ]
  },
  {
   "cell_type": "code",
   "execution_count": 226,
   "metadata": {},
   "outputs": [],
   "source": [
    "data = pd.read_csv('car.data.csv',index_col=None,header=None,names=[\"cost\", \"maint\", \"doors\", \"persons\",\"lug_boot\",\"safety\",\"decision\"])"
   ]
  },
  {
   "cell_type": "code",
   "execution_count": 227,
   "metadata": {},
   "outputs": [
    {
     "data": {
      "text/html": [
       "<div>\n",
       "<style scoped>\n",
       "    .dataframe tbody tr th:only-of-type {\n",
       "        vertical-align: middle;\n",
       "    }\n",
       "\n",
       "    .dataframe tbody tr th {\n",
       "        vertical-align: top;\n",
       "    }\n",
       "\n",
       "    .dataframe thead th {\n",
       "        text-align: right;\n",
       "    }\n",
       "</style>\n",
       "<table border=\"1\" class=\"dataframe\">\n",
       "  <thead>\n",
       "    <tr style=\"text-align: right;\">\n",
       "      <th></th>\n",
       "      <th>cost</th>\n",
       "      <th>maint</th>\n",
       "      <th>doors</th>\n",
       "      <th>persons</th>\n",
       "      <th>lug_boot</th>\n",
       "      <th>safety</th>\n",
       "      <th>decision</th>\n",
       "    </tr>\n",
       "  </thead>\n",
       "  <tbody>\n",
       "    <tr>\n",
       "      <th>0</th>\n",
       "      <td>vhigh</td>\n",
       "      <td>vhigh</td>\n",
       "      <td>2</td>\n",
       "      <td>2</td>\n",
       "      <td>small</td>\n",
       "      <td>low</td>\n",
       "      <td>unacc</td>\n",
       "    </tr>\n",
       "    <tr>\n",
       "      <th>1</th>\n",
       "      <td>vhigh</td>\n",
       "      <td>vhigh</td>\n",
       "      <td>2</td>\n",
       "      <td>2</td>\n",
       "      <td>small</td>\n",
       "      <td>med</td>\n",
       "      <td>unacc</td>\n",
       "    </tr>\n",
       "    <tr>\n",
       "      <th>2</th>\n",
       "      <td>vhigh</td>\n",
       "      <td>vhigh</td>\n",
       "      <td>2</td>\n",
       "      <td>2</td>\n",
       "      <td>small</td>\n",
       "      <td>high</td>\n",
       "      <td>unacc</td>\n",
       "    </tr>\n",
       "    <tr>\n",
       "      <th>3</th>\n",
       "      <td>vhigh</td>\n",
       "      <td>vhigh</td>\n",
       "      <td>2</td>\n",
       "      <td>2</td>\n",
       "      <td>med</td>\n",
       "      <td>low</td>\n",
       "      <td>unacc</td>\n",
       "    </tr>\n",
       "    <tr>\n",
       "      <th>4</th>\n",
       "      <td>vhigh</td>\n",
       "      <td>vhigh</td>\n",
       "      <td>2</td>\n",
       "      <td>2</td>\n",
       "      <td>med</td>\n",
       "      <td>med</td>\n",
       "      <td>unacc</td>\n",
       "    </tr>\n",
       "  </tbody>\n",
       "</table>\n",
       "</div>"
      ],
      "text/plain": [
       "    cost  maint doors persons lug_boot safety decision\n",
       "0  vhigh  vhigh     2       2    small    low    unacc\n",
       "1  vhigh  vhigh     2       2    small    med    unacc\n",
       "2  vhigh  vhigh     2       2    small   high    unacc\n",
       "3  vhigh  vhigh     2       2      med    low    unacc\n",
       "4  vhigh  vhigh     2       2      med    med    unacc"
      ]
     },
     "execution_count": 227,
     "metadata": {},
     "output_type": "execute_result"
    }
   ],
   "source": [
    "#Getting a feel of the data imported\n",
    "data.head()"
   ]
  },
  {
   "cell_type": "code",
   "execution_count": 228,
   "metadata": {},
   "outputs": [
    {
     "data": {
      "text/plain": [
       "cost        0\n",
       "maint       0\n",
       "doors       0\n",
       "persons     0\n",
       "lug_boot    0\n",
       "safety      0\n",
       "decision    0\n",
       "dtype: int64"
      ]
     },
     "execution_count": 228,
     "metadata": {},
     "output_type": "execute_result"
    }
   ],
   "source": [
    "# Check data for any null values - Description file claims there are no null values - confirming\n",
    "data.isnull().sum() "
   ]
  },
  {
   "cell_type": "code",
   "execution_count": 229,
   "metadata": {},
   "outputs": [],
   "source": [
    "#Replace any '?' in data with NAN values\n",
    "data = data.apply(lambda x: x.str.strip()).replace('?', np.nan)"
   ]
  },
  {
   "cell_type": "code",
   "execution_count": 230,
   "metadata": {},
   "outputs": [
    {
     "name": "stdout",
     "output_type": "stream",
     "text": [
      "Reviewing data......     cost  maint doors persons lug_boot safety decision\n",
      "0  vhigh  vhigh     2       2    small    low    unacc\n",
      "1  vhigh  vhigh     2       2    small    med    unacc\n",
      "2  vhigh  vhigh     2       2    small   high    unacc\n",
      "3  vhigh  vhigh     2       2      med    low    unacc\n",
      "4  vhigh  vhigh     2       2      med    med    unacc\n",
      "\n",
      "\n",
      "\n",
      "Shape of data... (1728, 7)\n",
      "\n",
      "\n",
      "\n",
      "Describing different numeric attributes...          count unique    top  freq\n",
      "cost      1728      4   high   432\n",
      "maint     1728      4   high   432\n",
      "doors     1728      4  5more   432\n",
      "persons   1728      3      4   576\n",
      "lug_boot  1728      3  small   576\n",
      "safety    1728      3   high   576\n",
      "decision  1728      4  unacc  1210\n",
      "\n",
      "\n",
      "\n",
      "Understanding different attributes types...\n",
      "\n",
      "\n",
      "<class 'pandas.core.frame.DataFrame'>\n",
      "RangeIndex: 1728 entries, 0 to 1727\n",
      "Data columns (total 7 columns):\n",
      "cost        1728 non-null object\n",
      "maint       1728 non-null object\n",
      "doors       1728 non-null object\n",
      "persons     1728 non-null object\n",
      "lug_boot    1728 non-null object\n",
      "safety      1728 non-null object\n",
      "decision    1728 non-null object\n",
      "dtypes: object(7)\n",
      "memory usage: 94.6+ KB\n",
      "None\n"
     ]
    }
   ],
   "source": [
    "# Trying to describe the data and see various attributes\n",
    "\n",
    "\n",
    "print(\"Reviewing data......\",data.head())\n",
    "\n",
    "print(\"\\n\\n\\nShape of data...\",data.shape)\n",
    "\n",
    "print(\"\\n\\n\\nDescribing different numeric attributes...\",data.describe().T)\n",
    "\n",
    "print(\"\\n\\n\\nUnderstanding different attributes types...\\n\\n\")\n",
    "print(data.info())"
   ]
  },
  {
   "cell_type": "markdown",
   "metadata": {},
   "source": [
    "#### Lets understand the impact of each variable on the Target variable"
   ]
  },
  {
   "cell_type": "code",
   "execution_count": 231,
   "metadata": {},
   "outputs": [
    {
     "data": {
      "image/png": "[encoded data removed]",
      "text/plain": [
       "<Figure size 288x216 with 1 Axes>"
      ]
     },
     "metadata": {
      "needs_background": "light"
     },
     "output_type": "display_data"
    }
   ],
   "source": [
    "#how cost measure impacts the classification\n",
    "var = pd.crosstab(data['cost'], data['decision'])\n",
    "var.div(var.sum(1).astype(float), axis = 0).plot(kind = 'bar', stacked = True, figsize = (4, 3))\n",
    "\n",
    "plt.title('how cost impacts the car classification ?', fontsize = 12)\n",
    "plt.xlabel('Price Range', fontsize = 8)\n",
    "plt.ylabel('Count', fontsize = 8)\n",
    "plt.legend()\n",
    "plt.show()"
   ]
  },
  {
   "cell_type": "code",
   "execution_count": 232,
   "metadata": {},
   "outputs": [
    {
     "data": {
      "image/png": "[encoded data removed]",
      "text/plain": [
       "<Figure size 288x216 with 1 Axes>"
      ]
     },
     "metadata": {
      "needs_background": "light"
     },
     "output_type": "display_data"
    }
   ],
   "source": [
    "#how maintenance cost impacts the classification\n",
    "var = pd.crosstab(data['maint'], data['decision'])\n",
    "var.div(var.sum(1).astype(float), axis = 0).plot(kind = 'bar', stacked = True, figsize = (4, 3))\n",
    "\n",
    "plt.title('how maintenance cost impacts the car classification ?', fontsize = 12)\n",
    "plt.xlabel('Price Range', fontsize = 8)\n",
    "plt.ylabel('Count', fontsize = 8)\n",
    "plt.legend()\n",
    "plt.show()"
   ]
  },
  {
   "cell_type": "code",
   "execution_count": 233,
   "metadata": {},
   "outputs": [
    {
     "data": {
      "image/png": "[encoded data removed]",
      "text/plain": [
       "<Figure size 288x216 with 1 Axes>"
      ]
     },
     "metadata": {
      "needs_background": "light"
     },
     "output_type": "display_data"
    }
   ],
   "source": [
    "#how doors impacts the classification\n",
    "var = pd.crosstab(data['doors'], data['decision'])\n",
    "var.div(var.sum(1).astype(float), axis = 0).plot(kind = 'bar', stacked = True, figsize = (4, 3))\n",
    "\n",
    "plt.title('how doors impacts the car classification ?', fontsize = 12)\n",
    "plt.xlabel('Price Range', fontsize = 8)\n",
    "plt.ylabel('Count', fontsize = 8)\n",
    "plt.legend()\n",
    "plt.show()"
   ]
  },
  {
   "cell_type": "code",
   "execution_count": 234,
   "metadata": {},
   "outputs": [
    {
     "data": {
      "image/png": "[encoded data removed]",
      "text/plain": [
       "<Figure size 288x216 with 1 Axes>"
      ]
     },
     "metadata": {
      "needs_background": "light"
     },
     "output_type": "display_data"
    }
   ],
   "source": [
    "#how persons impacts the classification\n",
    "var = pd.crosstab(data['persons'], data['decision'])\n",
    "var.div(var.sum(1).astype(float), axis = 0).plot(kind = 'bar', stacked = True, figsize = (4, 3))\n",
    "\n",
    "plt.title('how persons impacts the car classification ?', fontsize = 12)\n",
    "plt.xlabel('Price Range', fontsize = 8)\n",
    "plt.ylabel('Count', fontsize = 8)\n",
    "plt.legend()\n",
    "plt.show()"
   ]
  },
  {
   "cell_type": "code",
   "execution_count": 235,
   "metadata": {},
   "outputs": [
    {
     "data": {
      "image/png": "[encoded data removed]",
      "text/plain": [
       "<Figure size 288x216 with 1 Axes>"
      ]
     },
     "metadata": {
      "needs_background": "light"
     },
     "output_type": "display_data"
    }
   ],
   "source": [
    "#how boot space impacts the classification\n",
    "var = pd.crosstab(data['lug_boot'], data['decision'])\n",
    "var.div(var.sum(1).astype(float), axis = 0).plot(kind = 'bar', stacked = True, figsize = (4, 3))\n",
    "\n",
    "plt.title('how boot space impacts the car classification ?', fontsize = 12)\n",
    "plt.xlabel('Price Range', fontsize = 8)\n",
    "plt.ylabel('Count', fontsize = 8)\n",
    "plt.legend()\n",
    "plt.show()"
   ]
  },
  {
   "cell_type": "code",
   "execution_count": 236,
   "metadata": {},
   "outputs": [
    {
     "data": {
      "image/png": "[encoded data removed]",
      "text/plain": [
       "<Figure size 288x216 with 1 Axes>"
      ]
     },
     "metadata": {
      "needs_background": "light"
     },
     "output_type": "display_data"
    }
   ],
   "source": [
    "#how safety impacts the classification\n",
    "var = pd.crosstab(data['safety'], data['decision'])\n",
    "var.div(var.sum(1).astype(float), axis = 0).plot(kind = 'bar', stacked = True, figsize = (4, 3))\n",
    "\n",
    "plt.title('how safety impacts the car classification ?', fontsize = 12)\n",
    "plt.xlabel('Price Range', fontsize = 8)\n",
    "plt.ylabel('Count', fontsize = 8)\n",
    "plt.legend()\n",
    "plt.show()"
   ]
  },
  {
   "cell_type": "markdown",
   "metadata": {},
   "source": [
    "<b>Feature Processing / Cleaning:</b>"
   ]
  },
  {
   "cell_type": "code",
   "execution_count": 237,
   "metadata": {},
   "outputs": [
    {
     "name": "stdout",
     "output_type": "stream",
     "text": [
      "cost    [Unique values]    --> ['vhigh' 'high' 'med' 'low']\n",
      "maint   [Unique values]   --> ['vhigh' 'high' 'med' 'low']\n",
      "lug_boot[Unique values]   --> ['small' 'med' 'big']\n",
      "safety  [Unique values]   --> ['low' 'med' 'high']\n",
      "decision[Unique values]  --> ['unacc' 'acc' 'vgood' 'good']\n"
     ]
    }
   ],
   "source": [
    "#Understand unique values for each of the categorical attributes\n",
    "\n",
    "print('cost    [Unique values]    -->',data['cost'].unique())\n",
    "print('maint   [Unique values]   -->',data['maint'].unique())\n",
    "print('lug_boot[Unique values]   -->',data['lug_boot'].unique())\n",
    "print('safety  [Unique values]   -->',data['safety'].unique())\n",
    "print('decision[Unique values]  -->',data['decision'].unique())"
   ]
  },
  {
   "cell_type": "code",
   "execution_count": 238,
   "metadata": {},
   "outputs": [],
   "source": [
    "#Map ordinal values to a number in an order\n",
    "\n",
    "data['cost'].replace(('vhigh','high', 'med', 'low'),(3,2,1,0),inplace=True)\n",
    "data['maint'].replace(('vhigh','high', 'med', 'low'),(3,2,1,0),inplace=True)\n",
    "data['lug_boot'].replace(('big', 'med', 'small'),(2,1,0),inplace=True)\n",
    "data['safety'].replace(('high', 'med', 'low'),(2,1,0),inplace=True)\n",
    "data['decision'].replace(('vgood','good','acc','unacc'),(3,2,1,0),inplace=True)"
   ]
  },
  {
   "cell_type": "code",
   "execution_count": 239,
   "metadata": {},
   "outputs": [],
   "source": [
    "#Replace category with a value and covert data to numeric\n",
    "\n",
    "data['doors'].replace('5more', 5, inplace = True)\n",
    "data['persons'].replace('more', 5, inplace = True)\n",
    "data['doors'] = pd.to_numeric(data['doors'])\n",
    "data['persons'] = pd.to_numeric(data['persons'])"
   ]
  },
  {
   "cell_type": "code",
   "execution_count": 240,
   "metadata": {},
   "outputs": [
    {
     "name": "stdout",
     "output_type": "stream",
     "text": [
      "<class 'pandas.core.frame.DataFrame'>\n",
      "RangeIndex: 1728 entries, 0 to 1727\n",
      "Data columns (total 7 columns):\n",
      "cost        1728 non-null int64\n",
      "maint       1728 non-null int64\n",
      "doors       1728 non-null int64\n",
      "persons     1728 non-null int64\n",
      "lug_boot    1728 non-null int64\n",
      "safety      1728 non-null int64\n",
      "decision    1728 non-null int64\n",
      "dtypes: int64(7)\n",
      "memory usage: 94.6 KB\n"
     ]
    }
   ],
   "source": [
    "data.info()"
   ]
  },
  {
   "cell_type": "markdown",
   "metadata": {},
   "source": [
    "<b>Data Visualization</b> to get an insight about different features and their relation"
   ]
  },
  {
   "cell_type": "code",
   "execution_count": 241,
   "metadata": {},
   "outputs": [
    {
     "data": {
      "text/plain": [
       "<matplotlib.axes._subplots.AxesSubplot at 0x1a28d5bac8>"
      ]
     },
     "execution_count": 241,
     "metadata": {},
     "output_type": "execute_result"
    },
    {
     "data": {
      "image/png": "[encoded data removed]",
      "text/plain": [
       "<Figure size 360x144 with 1 Axes>"
      ]
     },
     "metadata": {
      "needs_background": "light"
     },
     "output_type": "display_data"
    }
   ],
   "source": [
    "#Plot the distribution of cost vs safety to get an understanding on how they are related\n",
    "\n",
    "plt.figure(figsize=(5,2))\n",
    "plt.tight_layout()\n",
    "sns.distplot(data['cost'])\n",
    "sns.distplot(data['safety'])"
   ]
  },
  {
   "cell_type": "code",
   "execution_count": 242,
   "metadata": {},
   "outputs": [
    {
     "data": {
      "text/plain": [
       "<matplotlib.axes._subplots.AxesSubplot at 0x1a29be4e80>"
      ]
     },
     "execution_count": 242,
     "metadata": {},
     "output_type": "execute_result"
    },
    {
     "data": {
      "image/png": "[encoded data removed]",
      "text/plain": [
       "<Figure size 360x144 with 1 Axes>"
      ]
     },
     "metadata": {
      "needs_background": "light"
     },
     "output_type": "display_data"
    }
   ],
   "source": [
    "#Plot the distribution of maintenance vs safety to get an understanding on how they are related\n",
    "\n",
    "plt.figure(figsize=(5,2))\n",
    "plt.tight_layout()\n",
    "sns.distplot(data['maint'])\n",
    "sns.distplot(data['safety'])"
   ]
  },
  {
   "cell_type": "code",
   "execution_count": 243,
   "metadata": {},
   "outputs": [
    {
     "data": {
      "text/plain": [
       "<matplotlib.axes._subplots.AxesSubplot at 0x1a29875358>"
      ]
     },
     "execution_count": 243,
     "metadata": {},
     "output_type": "execute_result"
    },
    {
     "data": {
      "image/png": "[encoded data removed]",
      "text/plain": [
       "<Figure size 360x144 with 1 Axes>"
      ]
     },
     "metadata": {
      "needs_background": "light"
     },
     "output_type": "display_data"
    }
   ],
   "source": [
    "#Plot the distribution of persons vs boot space to get an understanding on how they are related\n",
    "\n",
    "plt.figure(figsize=(5,2))\n",
    "plt.tight_layout()\n",
    "sns.distplot(data['persons'])\n",
    "sns.distplot(data['lug_boot'])"
   ]
  },
  {
   "cell_type": "code",
   "execution_count": 244,
   "metadata": {},
   "outputs": [
    {
     "data": {
      "image/png": "[encoded data removed]",
      "text/plain": [
       "<Figure size 360x144 with 1 Axes>"
      ]
     },
     "metadata": {
      "needs_background": "light"
     },
     "output_type": "display_data"
    },
    {
     "data": {
      "image/png": "[encoded data removed]",
      "text/plain": [
       "<Figure size 360x144 with 1 Axes>"
      ]
     },
     "metadata": {
      "needs_background": "light"
     },
     "output_type": "display_data"
    },
    {
     "data": {
      "image/png": "[encoded data removed]",
      "text/plain": [
       "<Figure size 360x144 with 1 Axes>"
      ]
     },
     "metadata": {
      "needs_background": "light"
     },
     "output_type": "display_data"
    }
   ],
   "source": [
    "# Let us plot and see how cost and maintenance are scattered and we shall fit a line for that\n",
    "plt.figure(figsize=(5,2))\n",
    "# A regular scatter plot\n",
    "sns.regplot(x=data[\"cost\"], y=data[\"maint\"], fit_reg=False)\n",
    "plt.show()\n",
    "\n",
    "plt.figure(figsize=(5,2))\n",
    "# A scatter plot with a linear regression fit:\n",
    "sns.regplot(x=data[\"cost\"], y=data[\"maint\"], fit_reg=True)\n",
    "plt.show()\n",
    "\n",
    "plt.figure(figsize=(5,2))\n",
    "# A scatter plot with a polynomial regression fit:\n",
    "sns.regplot(x=data[\"cost\"], y=data[\"maint\"], fit_reg=True, order=4)\n",
    "plt.show()"
   ]
  },
  {
   "cell_type": "code",
   "execution_count": 245,
   "metadata": {},
   "outputs": [
    {
     "data": {
      "image/png": "[encoded data removed]",
      "text/plain": [
       "<Figure size 409.375x360 with 1 Axes>"
      ]
     },
     "metadata": {
      "needs_background": "light"
     },
     "output_type": "display_data"
    },
    {
     "data": {
      "image/png": "[encoded data removed]",
      "text/plain": [
       "<Figure size 360x360 with 1 Axes>"
      ]
     },
     "metadata": {
      "needs_background": "light"
     },
     "output_type": "display_data"
    }
   ],
   "source": [
    "# Let us visualize the data for cost and safety w.r.t decision\n",
    "\n",
    "# Use the 'hue' argument to provide a factor variable\n",
    "sns.lmplot( x=\"cost\", y=\"safety\", data=data, fit_reg=False, hue='decision', legend=True)\n",
    "plt.show()\n",
    "\n",
    "sns.lmplot( x=\"cost\", y=\"safety\", data=data, fit_reg=False, hue='decision', legend=False, markers=[\"o\", \"P\", \"D\",\"X\"])\n",
    "plt.legend(loc='lower right')\n",
    "plt.show()"
   ]
  },
  {
   "cell_type": "markdown",
   "metadata": {},
   "source": [
    "<b>Correlation:</b>Let's understand the correlation among different attributes:"
   ]
  },
  {
   "cell_type": "code",
   "execution_count": 246,
   "metadata": {},
   "outputs": [
    {
     "data": {
      "text/plain": [
       "<matplotlib.axes._subplots.AxesSubplot at 0x1a28e614a8>"
      ]
     },
     "execution_count": 246,
     "metadata": {},
     "output_type": "execute_result"
    },
    {
     "data": {
      "image/png": "[encoded data removed]",
      "text/plain": [
       "<Figure size 864x864 with 2 Axes>"
      ]
     },
     "metadata": {
      "needs_background": "light"
     },
     "output_type": "display_data"
    }
   ],
   "source": [
    "plt.figure(figsize = (12,12))        # Size of the figure\n",
    "\n",
    "sns.heatmap(data.corr(),annot = True)"
   ]
  },
  {
   "cell_type": "code",
   "execution_count": 247,
   "metadata": {},
   "outputs": [
    {
     "data": {
      "text/html": [
       "<div>\n",
       "<style scoped>\n",
       "    .dataframe tbody tr th:only-of-type {\n",
       "        vertical-align: middle;\n",
       "    }\n",
       "\n",
       "    .dataframe tbody tr th {\n",
       "        vertical-align: top;\n",
       "    }\n",
       "\n",
       "    .dataframe thead th {\n",
       "        text-align: right;\n",
       "    }\n",
       "</style>\n",
       "<table border=\"1\" class=\"dataframe\">\n",
       "  <thead>\n",
       "    <tr style=\"text-align: right;\">\n",
       "      <th></th>\n",
       "      <th>cost</th>\n",
       "      <th>maint</th>\n",
       "      <th>doors</th>\n",
       "      <th>persons</th>\n",
       "      <th>lug_boot</th>\n",
       "      <th>safety</th>\n",
       "      <th>decision</th>\n",
       "    </tr>\n",
       "  </thead>\n",
       "  <tbody>\n",
       "    <tr>\n",
       "      <th>cost</th>\n",
       "      <td>1.00000</td>\n",
       "      <td>0.000000</td>\n",
       "      <td>0.000000</td>\n",
       "      <td>0.000000e+00</td>\n",
       "      <td>0.000000e+00</td>\n",
       "      <td>0.000000</td>\n",
       "      <td>-0.282750</td>\n",
       "    </tr>\n",
       "    <tr>\n",
       "      <th>maint</th>\n",
       "      <td>0.00000</td>\n",
       "      <td>1.000000</td>\n",
       "      <td>0.000000</td>\n",
       "      <td>0.000000e+00</td>\n",
       "      <td>0.000000e+00</td>\n",
       "      <td>0.000000</td>\n",
       "      <td>-0.232422</td>\n",
       "    </tr>\n",
       "    <tr>\n",
       "      <th>doors</th>\n",
       "      <td>0.00000</td>\n",
       "      <td>0.000000</td>\n",
       "      <td>1.000000</td>\n",
       "      <td>0.000000e+00</td>\n",
       "      <td>0.000000e+00</td>\n",
       "      <td>0.000000</td>\n",
       "      <td>0.066057</td>\n",
       "    </tr>\n",
       "    <tr>\n",
       "      <th>persons</th>\n",
       "      <td>0.00000</td>\n",
       "      <td>0.000000</td>\n",
       "      <td>0.000000</td>\n",
       "      <td>1.000000e+00</td>\n",
       "      <td>2.523651e-19</td>\n",
       "      <td>0.000000</td>\n",
       "      <td>0.373459</td>\n",
       "    </tr>\n",
       "    <tr>\n",
       "      <th>lug_boot</th>\n",
       "      <td>0.00000</td>\n",
       "      <td>0.000000</td>\n",
       "      <td>0.000000</td>\n",
       "      <td>2.523651e-19</td>\n",
       "      <td>1.000000e+00</td>\n",
       "      <td>0.000000</td>\n",
       "      <td>0.157932</td>\n",
       "    </tr>\n",
       "    <tr>\n",
       "      <th>safety</th>\n",
       "      <td>0.00000</td>\n",
       "      <td>0.000000</td>\n",
       "      <td>0.000000</td>\n",
       "      <td>0.000000e+00</td>\n",
       "      <td>0.000000e+00</td>\n",
       "      <td>1.000000</td>\n",
       "      <td>0.439337</td>\n",
       "    </tr>\n",
       "    <tr>\n",
       "      <th>decision</th>\n",
       "      <td>-0.28275</td>\n",
       "      <td>-0.232422</td>\n",
       "      <td>0.066057</td>\n",
       "      <td>3.734592e-01</td>\n",
       "      <td>1.579317e-01</td>\n",
       "      <td>0.439337</td>\n",
       "      <td>1.000000</td>\n",
       "    </tr>\n",
       "  </tbody>\n",
       "</table>\n",
       "</div>"
      ],
      "text/plain": [
       "             cost     maint     doors       persons      lug_boot    safety  \\\n",
       "cost      1.00000  0.000000  0.000000  0.000000e+00  0.000000e+00  0.000000   \n",
       "maint     0.00000  1.000000  0.000000  0.000000e+00  0.000000e+00  0.000000   \n",
       "doors     0.00000  0.000000  1.000000  0.000000e+00  0.000000e+00  0.000000   \n",
       "persons   0.00000  0.000000  0.000000  1.000000e+00  2.523651e-19  0.000000   \n",
       "lug_boot  0.00000  0.000000  0.000000  2.523651e-19  1.000000e+00  0.000000   \n",
       "safety    0.00000  0.000000  0.000000  0.000000e+00  0.000000e+00  1.000000   \n",
       "decision -0.28275 -0.232422  0.066057  3.734592e-01  1.579317e-01  0.439337   \n",
       "\n",
       "          decision  \n",
       "cost     -0.282750  \n",
       "maint    -0.232422  \n",
       "doors     0.066057  \n",
       "persons   0.373459  \n",
       "lug_boot  0.157932  \n",
       "safety    0.439337  \n",
       "decision  1.000000  "
      ]
     },
     "execution_count": 247,
     "metadata": {},
     "output_type": "execute_result"
    }
   ],
   "source": [
    "data.corr()"
   ]
  },
  {
   "cell_type": "markdown",
   "metadata": {},
   "source": [
    "#### Notes: Correlation analysis\n",
    "Not much correlation between features.<br>\n",
    "\n",
    "Persons and Lug_boot are negatively correlated that's all.<br>\n",
    "All features are impacting target variable."
   ]
  },
  {
   "cell_type": "code",
   "execution_count": 248,
   "metadata": {},
   "outputs": [],
   "source": [
    "x=data.drop([\"lug_boot\"],axis=1)"
   ]
  },
  {
   "cell_type": "markdown",
   "metadata": {},
   "source": [
    "<b>Training the model:</b>\n",
    "\n",
    "i.  First let's separate the Independent and Dependent variables <br>\n",
    "ii. Then Split the data to Train and Test sets<br>\n",
    "iii.Fit different models<br>\n",
    "iv. Try cross Validations<br>\n",
    "v.  View results and preformance metrics"
   ]
  },
  {
   "cell_type": "code",
   "execution_count": 249,
   "metadata": {},
   "outputs": [],
   "source": [
    "y=data[\"decision\"]\n",
    "x=data.drop([\"decision\"],axis=1)"
   ]
  },
  {
   "cell_type": "code",
   "execution_count": 250,
   "metadata": {},
   "outputs": [],
   "source": [
    "#Declare variables to hold the algorithm name and its successes.\n",
    "score=[] \n",
    "algorithms=[] "
   ]
  },
  {
   "cell_type": "code",
   "execution_count": 251,
   "metadata": {},
   "outputs": [],
   "source": [
    "x_train,x_test,y_train,y_test=train_test_split(x,y,random_state=1,test_size=0.35)"
   ]
  },
  {
   "cell_type": "markdown",
   "metadata": {},
   "source": [
    "#### KNeighborsClassifier Classifier"
   ]
  },
  {
   "cell_type": "code",
   "execution_count": 252,
   "metadata": {},
   "outputs": [
    {
     "name": "stdout",
     "output_type": "stream",
     "text": [
      "KNN accuracy = 92.06611570247934\n",
      "KNN confusion Matrix  :\n",
      "              precision    recall  f1-score   support\n",
      "\n",
      "           0       0.94      0.98      0.96       428\n",
      "           1       0.87      0.85      0.86       131\n",
      "           2       0.72      0.52      0.60        25\n",
      "           3       0.94      0.71      0.81        21\n",
      "\n",
      "    accuracy                           0.92       605\n",
      "   macro avg       0.87      0.76      0.81       605\n",
      "weighted avg       0.92      0.92      0.92       605\n",
      "\n"
     ]
    },
    {
     "data": {
      "image/png": "[encoded data removed]",
      "text/plain": [
       "<Figure size 360x360 with 2 Axes>"
      ]
     },
     "metadata": {
      "needs_background": "light"
     },
     "output_type": "display_data"
    }
   ],
   "source": [
    "# Training a KNeighborsClassifier\n",
    "from sklearn.neighbors import KNeighborsClassifier\n",
    "\n",
    "knn=KNeighborsClassifier(n_neighbors=3)\n",
    "knn.fit(x_train,y_train)\n",
    "knn.predict(x_test)\n",
    "score.append(knn.score(x_test,y_test)*100)\n",
    "algorithms.append(\"KNN\")\n",
    "print(\"KNN accuracy =\",knn.score(x_test,y_test)*100)\n",
    "\n",
    "#Confusion Matrix\n",
    "from sklearn.metrics import confusion_matrix\n",
    "y_pred=knn.predict(x_test)\n",
    "y_true=y_test\n",
    "cm=confusion_matrix(y_true,y_pred)\n",
    "\n",
    "#Confusion Matrix on Heatmap\n",
    "f,ax=plt.subplots(figsize=(5,5))\n",
    "sns.heatmap(cm,annot=True,linewidths=0.5,linecolor=\"red\",fmt=\".0f\",ax=ax)\n",
    "plt.xlabel(\"y_pred\")\n",
    "plt.ylabel(\"y_true\")\n",
    "print(\"KNN confusion Matrix  :\")\n",
    "print(classification_report(y_test,y_pred))\n",
    "plt.title(\" KNN Confusion Matrix plotted :\")\n",
    "plt.show()"
   ]
  },
  {
   "cell_type": "markdown",
   "metadata": {},
   "source": [
    "#### KNeighborsClassifier Classifier - Cross Validation"
   ]
  },
  {
   "cell_type": "code",
   "execution_count": 253,
   "metadata": {},
   "outputs": [
    {
     "name": "stdout",
     "output_type": "stream",
     "text": [
      "[0.90229885 0.67816092 0.70689655 0.70114943 0.8265896  0.78488372\n",
      " 0.81395349 0.89534884 0.88372093 0.74853801]\n",
      "KNN Mean 10-Fold R Squared: 0.7941540330942252\n"
     ]
    }
   ],
   "source": [
    "# 10- foldCross Validation using KNeighborsClassifier \n",
    "knn_cv_r10_scores = cross_val_score(knn, x, y, cv=10)\n",
    "print(knn_cv_r10_scores)\n",
    "print(\"KNN Mean 10-Fold R Squared: {}\".format(np.mean(knn_cv_r10_scores)))"
   ]
  },
  {
   "cell_type": "markdown",
   "metadata": {},
   "source": [
    "#### Gaussian Navie-Bayes Classifier "
   ]
  },
  {
   "cell_type": "code",
   "execution_count": 254,
   "metadata": {},
   "outputs": [
    {
     "name": "stdout",
     "output_type": "stream",
     "text": [
      "Navie Bayes accuracy = 78.51239669421489\n",
      "Navie Bayes Confusion Matrix  \n",
      "              precision    recall  f1-score   support\n",
      "\n",
      "           0       0.91      0.94      0.92       428\n",
      "           1       0.69      0.35      0.46       131\n",
      "           2       0.50      0.24      0.32        25\n",
      "           3       0.25      1.00      0.40        21\n",
      "\n",
      "    accuracy                           0.79       605\n",
      "   macro avg       0.59      0.63      0.53       605\n",
      "weighted avg       0.82      0.79      0.78       605\n",
      "\n"
     ]
    },
    {
     "data": {
      "image/png": "[encoded data removed]",
      "text/plain": [
       "<Figure size 360x360 with 2 Axes>"
      ]
     },
     "metadata": {
      "needs_background": "light"
     },
     "output_type": "display_data"
    }
   ],
   "source": [
    "## Training a Gaussian Navie-Bayes\n",
    "from sklearn.naive_bayes import GaussianNB\n",
    "nb=GaussianNB()\n",
    "\n",
    "#Training\n",
    "nb.fit(x_train,y_train)\n",
    "#Test\n",
    "score.append(nb.score(x_test,y_test)*100)\n",
    "algorithms.append(\"Navie-Bayes\")\n",
    "print(\"Navie Bayes accuracy =\",nb.score(x_test,y_test)*100)\n",
    "\n",
    "#Confusion Matrix \n",
    "from sklearn.metrics import confusion_matrix\n",
    "y_pred=nb.predict(x_test)\n",
    "y_true=y_test\n",
    "cm=confusion_matrix(y_true,y_pred)\n",
    "\n",
    "#Confusion Matrix on Heatmap\n",
    "f,ax=plt.subplots(figsize=(5,5))\n",
    "sns.heatmap(cm,annot=True,linewidths=0.5,linecolor=\"red\",fmt=\".0f\",ax=ax)\n",
    "plt.xlabel(\"y_pred\")\n",
    "plt.ylabel(\"y_true\")\n",
    "print(\"Navie Bayes Confusion Matrix  \")\n",
    "print(classification_report(y_test,y_pred))\n",
    "plt.title(\"Navie Bayes Confusion Matrix plotted\")\n",
    "plt.show()"
   ]
  },
  {
   "cell_type": "markdown",
   "metadata": {},
   "source": [
    "#### Gaussian Navie-Bayes Classifier - Cross Validation"
   ]
  },
  {
   "cell_type": "code",
   "execution_count": 255,
   "metadata": {},
   "outputs": [
    {
     "name": "stdout",
     "output_type": "stream",
     "text": [
      "[0.74137931 0.71264368 0.77586207 0.62643678 0.75144509 0.70930233\n",
      " 0.77325581 0.79651163 0.79651163 0.73684211]\n",
      "GNB Mean 10-Fold R Squared: 0.7420190426397657\n"
     ]
    }
   ],
   "source": [
    "# 10- foldCross Validation using GaussianNB \n",
    "\n",
    "gnb_cv_r10_scores = cross_val_score(nb, x, y, cv=10)\n",
    "print(gnb_cv_r10_scores)\n",
    "print(\"GNB Mean 10-Fold R Squared: {}\".format(np.mean(gnb_cv_r10_scores)))"
   ]
  },
  {
   "cell_type": "markdown",
   "metadata": {},
   "source": [
    "#### RandomForest Classifier - Cross Validation"
   ]
  },
  {
   "cell_type": "code",
   "execution_count": 256,
   "metadata": {},
   "outputs": [
    {
     "name": "stdout",
     "output_type": "stream",
     "text": [
      "Random Forest accuracy = 0.9652892561983472\n",
      "              precision    recall  f1-score   support\n",
      "\n",
      "           0       0.99      0.98      0.98       428\n",
      "           1       0.91      0.94      0.92       131\n",
      "           2       0.88      0.88      0.88        25\n",
      "           3       0.95      0.90      0.93        21\n",
      "\n",
      "    accuracy                           0.97       605\n",
      "   macro avg       0.93      0.93      0.93       605\n",
      "weighted avg       0.97      0.97      0.97       605\n",
      "\n"
     ]
    },
    {
     "data": {
      "image/png": "[encoded data removed]",
      "text/plain": [
       "<Figure size 360x360 with 2 Axes>"
      ]
     },
     "metadata": {
      "needs_background": "light"
     },
     "output_type": "display_data"
    }
   ],
   "source": [
    "#RANDOM FOREST\n",
    "from sklearn.ensemble import RandomForestClassifier\n",
    "rf=RandomForestClassifier(n_estimators=100,random_state=1)\n",
    "rf.fit(x_train,y_train)\n",
    "score.append(rf.score(x_test,y_test)*100)\n",
    "algorithms.append(\"Random Forest\")\n",
    "print(\"Random Forest accuracy =\",rf.score(x_test,y_test))\n",
    "\n",
    "#Confusion Matrix\n",
    "from sklearn.metrics import confusion_matrix\n",
    "y_pred=rf.predict(x_test)\n",
    "y_true=y_test\n",
    "cm=confusion_matrix(y_true,y_pred)\n",
    "\n",
    "#Confusion Matrix on Heatmap\n",
    "f,ax=plt.subplots(figsize=(5,5))\n",
    "sns.heatmap(cm,annot=True,linewidths=0.5,linecolor=\"red\",fmt=\".0f\",ax=ax)\n",
    "plt.xlabel(\"y_pred\")\n",
    "plt.ylabel(\"y_true\")\n",
    "plt.title(\"Random Forest Confusion Matrix\")\n",
    "print(classification_report(y_test,y_pred))\n",
    "plt.title(\"Random Forest confusion Matrix plotted\")\n",
    "plt.show()"
   ]
  },
  {
   "cell_type": "markdown",
   "metadata": {},
   "source": [
    "#### RandomForest Classifier - Cross Validation"
   ]
  },
  {
   "cell_type": "code",
   "execution_count": 257,
   "metadata": {},
   "outputs": [
    {
     "name": "stdout",
     "output_type": "stream",
     "text": [
      "[0.90229885 0.79310345 0.79885057 0.75862069 0.91907514 0.94767442\n",
      " 0.89534884 0.91860465 0.96511628 0.86549708]\n",
      "Random Forest Mean 10-Fold R Squared: 0.8764189969796965\n"
     ]
    }
   ],
   "source": [
    "# 10- foldCross Validation using Random Forest \n",
    "\n",
    "rf_cv_r10_scores = cross_val_score(rf, x, y, cv=10)\n",
    "print(rf_cv_r10_scores)\n",
    "print(\"Random Forest Mean 10-Fold R Squared: {}\".format(np.mean(rf_cv_r10_scores)))"
   ]
  },
  {
   "cell_type": "markdown",
   "metadata": {},
   "source": [
    "#### LogisticRegression Classifier "
   ]
  },
  {
   "cell_type": "code",
   "execution_count": 258,
   "metadata": {},
   "outputs": [
    {
     "name": "stdout",
     "output_type": "stream",
     "text": [
      "test accuracy 0.7900826446280992\n",
      "              precision    recall  f1-score   support\n",
      "\n",
      "           0       0.86      0.95      0.90       428\n",
      "           1       0.57      0.51      0.54       131\n",
      "           2       0.33      0.12      0.18        25\n",
      "           3       0.20      0.05      0.08        21\n",
      "\n",
      "    accuracy                           0.79       605\n",
      "   macro avg       0.49      0.41      0.42       605\n",
      "weighted avg       0.75      0.79      0.77       605\n",
      "\n"
     ]
    },
    {
     "data": {
      "image/png": "[encoded data removed]",
      "text/plain": [
       "<Figure size 360x360 with 2 Axes>"
      ]
     },
     "metadata": {
      "needs_background": "light"
     },
     "output_type": "display_data"
    }
   ],
   "source": [
    "from sklearn.linear_model import LogisticRegression\n",
    "lr = LogisticRegression()\n",
    "lr.fit(x_train,y_train)\n",
    "score.append(lr.score(x_test,y_test)*100)\n",
    "algorithms.append(\"Logistic Regression\")\n",
    "print(\"test accuracy {}\".format(lr.score(x_test,y_test)))\n",
    "#Confusion Matrix\n",
    "from sklearn.metrics import confusion_matrix\n",
    "y_pred=lr.predict(x_test)\n",
    "y_true=y_test\n",
    "cm=confusion_matrix(y_true,y_pred)\n",
    "#Confusion Matrix on Heatmap\n",
    "f,ax=plt.subplots(figsize=(5,5))\n",
    "sns.heatmap(cm,annot=True,linewidths=0.5,linecolor=\"red\",fmt=\".0f\",ax=ax)\n",
    "plt.xlabel(\"y_pred\")\n",
    "plt.ylabel(\"y_true\")\n",
    "plt.title(\"Logistic Regression Confusion Matrix\")\n",
    "print(classification_report(y_test,y_pred))\n",
    "plt.title(\"Logistic Regression confusion Matrix plotted\")\n",
    "plt.show()"
   ]
  },
  {
   "cell_type": "markdown",
   "metadata": {},
   "source": [
    "#### LogisticRegression Classifier - Cross Validation"
   ]
  },
  {
   "cell_type": "code",
   "execution_count": 259,
   "metadata": {},
   "outputs": [
    {
     "name": "stdout",
     "output_type": "stream",
     "text": [
      "[0.73563218 0.74712644 0.79885057 0.76436782 0.83815029 0.77906977\n",
      " 0.85465116 0.83139535 0.87209302 0.52046784]\n",
      "Logistic Regression  Mean 10-Fold R Squared: 0.7741804439094484\n"
     ]
    }
   ],
   "source": [
    "# 10- foldCross Validation using LogisticRegression \n",
    "\n",
    "lr_cv_r10_scores = cross_val_score(lr, x, y, cv=10)\n",
    "print(lr_cv_r10_scores)\n",
    "print(\"Logistic Regression  Mean 10-Fold R Squared: {}\".format(np.mean(lr_cv_r10_scores)))"
   ]
  },
  {
   "cell_type": "markdown",
   "metadata": {},
   "source": [
    "#### Visualizing decision boundary and results"
   ]
  },
  {
   "cell_type": "code",
   "execution_count": 260,
   "metadata": {},
   "outputs": [
    {
     "name": "stdout",
     "output_type": "stream",
     "text": [
      "test accuracy 0.7074380165289256\n"
     ]
    }
   ],
   "source": [
    "from sklearn.linear_model import LogisticRegression\n",
    "lr1 = LogisticRegression()\n",
    "lr1.fit(x_train.iloc[:,[2,3]],y_train)\n",
    "score.append(lr1.score(x_test.iloc[:,[2,3]],y_test)*100)\n",
    "algorithms.append(\"Logistic Regression\")\n",
    "print(\"test accuracy {}\".format(lr1.score(x_test.iloc[:,[2,3]],y_test)))"
   ]
  },
  {
   "cell_type": "code",
   "execution_count": 261,
   "metadata": {},
   "outputs": [
    {
     "data": {
      "text/plain": [
       "(1.0, 5.990000000000005)"
      ]
     },
     "execution_count": 261,
     "metadata": {},
     "output_type": "execute_result"
    },
    {
     "data": {
      "image/png": "[encoded data removed]",
      "text/plain": [
       "<Figure size 432x288 with 1 Axes>"
      ]
     },
     "metadata": {
      "needs_background": "light"
     },
     "output_type": "display_data"
    }
   ],
   "source": [
    "#visualizing decision boundary\n",
    "from matplotlib.colors import ListedColormap\n",
    "\n",
    "X_set, y_set = x_train.iloc[:,[2,3]], y_train.iloc[:]\n",
    "X1, X2 = np.meshgrid(np.arange(start = X_set.iloc[:, 0].min() - 1, stop = X_set.iloc[:, 0].max() + 1, step = 0.01),\n",
    "                     np.arange(start = X_set.iloc[:, 1].min() - 1, stop = X_set.iloc[:, 1].max() + 1, step = 0.01))\n",
    "plt.contourf(X1, X2, lr1.predict(np.array([X1.ravel(), X2.ravel()]).T).reshape(X1.shape),\n",
    "             alpha = 0.75, cmap = ListedColormap(('red', 'green')))\n",
    "plt.xlim(X1.min(), X1.max())\n",
    "plt.ylim(X2.min(), X2.max())"
   ]
  },
  {
   "cell_type": "code",
   "execution_count": 262,
   "metadata": {},
   "outputs": [
    {
     "name": "stderr",
     "output_type": "stream",
     "text": [
      "'c' argument looks like a single numeric RGB or RGBA sequence, which should be avoided as value-mapping will have precedence in case its length matches with 'x' & 'y'.  Please use a 2-D array with a single row if you really want to specify the same RGB or RGBA value for all points.\n",
      "'c' argument looks like a single numeric RGB or RGBA sequence, which should be avoided as value-mapping will have precedence in case its length matches with 'x' & 'y'.  Please use a 2-D array with a single row if you really want to specify the same RGB or RGBA value for all points.\n",
      "'c' argument looks like a single numeric RGB or RGBA sequence, which should be avoided as value-mapping will have precedence in case its length matches with 'x' & 'y'.  Please use a 2-D array with a single row if you really want to specify the same RGB or RGBA value for all points.\n",
      "'c' argument looks like a single numeric RGB or RGBA sequence, which should be avoided as value-mapping will have precedence in case its length matches with 'x' & 'y'.  Please use a 2-D array with a single row if you really want to specify the same RGB or RGBA value for all points.\n"
     ]
    },
    {
     "data": {
      "image/png": "[encoded data removed]",
      "text/plain": [
       "<Figure size 432x288 with 1 Axes>"
      ]
     },
     "metadata": {
      "needs_background": "light"
     },
     "output_type": "display_data"
    }
   ],
   "source": [
    "#visualizing decision boundary\n",
    "from matplotlib.colors import ListedColormap\n",
    "\n",
    "X_set, y_set = x_train.iloc[:,[2,3]].values, y_train.iloc[:].values\n",
    "X1, X2 = np.meshgrid(np.arange(start = X_set[:, 0].min() - 1, stop = X_set[:, 0].max() + 1, step = 0.01),\n",
    "                     np.arange(start = X_set[:, 1].min() - 1, stop = X_set[:, 1].max() + 1, step = 0.01))\n",
    "plt.contourf(X1, X2, lr1.predict(np.array([X1.ravel(), X2.ravel()]).T).reshape(X1.shape),\n",
    "             alpha = 0.75, cmap = ListedColormap(('red', 'green')))\n",
    "#plt.xlim(X1.min(), X1.max())\n",
    "#plt.ylim(X2.min(), X2.max())\n",
    "\n",
    "for i, j in enumerate(np.unique(y_set)):\n",
    "    plt.scatter(X_set[y_set == j, 0], X_set[y_set == j, 1],\n",
    "                c = ListedColormap(('red', 'green'))(i), label = j)\n",
    "plt.title('Logistic Regression (Training set)')\n",
    "plt.xlabel('Doors')\n",
    "plt.ylabel('Persons')\n",
    "plt.legend()\n",
    "plt.show()"
   ]
  },
  {
   "cell_type": "markdown",
   "metadata": {},
   "source": [
    "#### Predicting a TEST sample:"
   ]
  },
  {
   "cell_type": "code",
   "execution_count": 263,
   "metadata": {},
   "outputs": [],
   "source": [
    "#Predicting a TEST sample\n",
    "\n",
    "dictVar = {'cost' : 'vhigh', 'maint' : 'low', 'doors' : 4,'persons':'more','lug_boot':'small','safety':'med'}\n",
    "dataTest = pd.DataFrame(dictVar, index=[0])\n",
    "\n",
    "dictTarget = {'0' : 'unacc', '1' : 'acc', '2' : 'good','3':'vgood'}"
   ]
  },
  {
   "cell_type": "code",
   "execution_count": 264,
   "metadata": {},
   "outputs": [],
   "source": [
    "#Applying the same data transformations on the test sample\n",
    "\n",
    "dataTest['cost'].replace(('vhigh','high', 'med', 'low'),(3,2,1,0),inplace=True)\n",
    "dataTest['maint'].replace(('vhigh','high', 'med', 'low'),(3,2,1,0),inplace=True)\n",
    "dataTest['lug_boot'].replace(('small', 'med', 'big'),(2,1,0),inplace=True)\n",
    "dataTest['safety'].replace(('high', 'med', 'low'),(2,1,0),inplace=True)\n",
    "dataTest['doors'].replace('5more', 5, inplace = True)\n",
    "dataTest['persons'].replace('more', 5, inplace = True)\n",
    "dataTest['doors'] = pd.to_numeric(data['doors'])\n",
    "dataTest['persons'] = pd.to_numeric(data['persons'])"
   ]
  },
  {
   "cell_type": "code",
   "execution_count": 270,
   "metadata": {},
   "outputs": [
    {
     "name": "stdout",
     "output_type": "stream",
     "text": [
      "Predicted value for the test sample using Random Forest -->  unacc\n"
     ]
    }
   ],
   "source": [
    "print(\"Predicted value for the test sample using Random Forest --> \", dictTarget[str(rf.predict(dataTest)[0])])"
   ]
  },
  {
   "cell_type": "code",
   "execution_count": 269,
   "metadata": {},
   "outputs": [
    {
     "name": "stdout",
     "output_type": "stream",
     "text": [
      "Predicted value for the test sample using Random Forest -->  unacc\n"
     ]
    }
   ],
   "source": [
    "print(\"Predicted value for the test sample using Logistic Regression --> \", dictTarget[str(lr.predict(dataTest)[0])])"
   ]
  },
  {
   "cell_type": "code",
   "execution_count": null,
   "metadata": {},
   "outputs": [],
   "source": []
  }
 ],
 "metadata": {
  "kernelspec": {
   "display_name": "Python 3",
   "language": "python",
   "name": "python3"
  },
  "language_info": {
   "codemirror_mode": {
    "name": "ipython",
    "version": 3
   },
   "file_extension": ".py",
   "mimetype": "text/x-python",
   "name": "python",
   "nbconvert_exporter": "python",
   "pygments_lexer": "ipython3",
   "version": "3.6.7"
  }
 },
 "nbformat": 4,
 "nbformat_minor": 2
}
